{
 "cells": [
  {
   "cell_type": "markdown",
   "metadata": {},
   "source": [
    "**欧式距离：(Euclidean distance)**\n",
    "\n",
    "$$d(X,Y) = \\sqrt{\\sum_{i=1}^n(x_i-y_i)^2}$$\n",
    "<ul>\n",
    "    <li>对称性</li>\n",
    "    <li>非负性</li>\n",
    "    <li>三角不等式</li>\n",
    "</ul>\n",
    "\n",
    "**闵可夫斯基距离：（Minkowski distance）**\n",
    "$$d(X,Y) = \\left( \\sum_{i=1}^n|x_i-y_i|^r \\right)^{1/r} $$\n",
    "*作为闵可夫斯基距离的推广得到 欧几里得距离*\n"
   ]
  },
  {
   "cell_type": "code",
   "execution_count": 66,
   "metadata": {},
   "outputs": [
    {
     "data": {
      "text/plain": [
       "array([[1, 2, 1, 2],\n",
       "       [1, 2, 1, 2]])"
      ]
     },
     "metadata": {},
     "output_type": "display_data"
    },
    {
     "data": {
      "text/plain": [
       "[('c', 1), ('b', 2), ('a', 4)]"
      ]
     },
     "metadata": {},
     "output_type": "display_data"
    }
   ],
   "source": [
    "'''\n",
    "k-邻近算法\n",
    "'''\n",
    "import numpy as np\n",
    "import matplotlib as plt\n",
    "import operator\n",
    "\n",
    "def createDataSet():\n",
    "    group = np.array([[1,1.1],[1,1],[0,0],[0,1.1]])\n",
    "    labels = ['A','A','B','B']\n",
    "    return group,labels\n",
    "group,labels = createDataSet()\n",
    "test = np.tile([1,2],(2,2))\n",
    "display(test)\n",
    "#test.sum(axis=1)\n",
    "#test.argsort()\n",
    "xx = {\"a\":4,\"c\":1,\"b\":2}\n",
    "#sorted(xx.iteritems(),key=operator.itemgetter(1),reverse=True)\n",
    "display(sorted(xx.iteritems(),key=operator.itemgetter(1),reverse=False))\n"
   ]
  },
  {
   "cell_type": "code",
   "execution_count": 72,
   "metadata": {},
   "outputs": [
    {
     "data": {
      "text/plain": [
       "array([[-1. , -1.1],\n",
       "       [-1. , -1. ],\n",
       "       [ 0. ,  0. ],\n",
       "       [ 0. , -1.1]])"
      ]
     },
     "metadata": {},
     "output_type": "display_data"
    },
    {
     "data": {
      "text/plain": [
       "array([ 1.48660687,  1.41421356,  0.        ,  1.1       ])"
      ]
     },
     "metadata": {},
     "output_type": "display_data"
    },
    {
     "data": {
      "text/plain": [
       "array([2, 3, 1, 0], dtype=int64)"
      ]
     },
     "metadata": {},
     "output_type": "display_data"
    },
    {
     "data": {
      "text/plain": [
       "[('B', 2), ('A', 1)]"
      ]
     },
     "metadata": {},
     "output_type": "display_data"
    },
    {
     "data": {
      "text/plain": [
       "'B'"
      ]
     },
     "execution_count": 72,
     "metadata": {},
     "output_type": "execute_result"
    }
   ],
   "source": [
    "def classify(inX,dataSet,labels,k):\n",
    "    dataSetSize =dataSet.shape[0] # 数据的维度\n",
    "    diffMat = np.tile(inX,(dataSetSize,1))-dataSet  #向量差   # np.tile 复制一个矩阵  \n",
    "    #display(diffMat)\n",
    "    sqDiffMat = diffMat**2\n",
    "    sqDisances = sqDiffMat.sum(axis=1) # 向量距离 \n",
    "    distances = np.sqrt(sqDisances)\n",
    "    #display(distances)\n",
    "    sortedDistIndicies = distances.argsort() #返回排序后的索引默认真正序\n",
    "    #display(sortedDistIndicies)\n",
    "    classCount = {}\n",
    "    for i in range(k):\n",
    "        votelabel = labels[sortedDistIndicies[i]]\n",
    "        classCount[votelabel] = classCount.get(votelabel,0)+1 #get(key,default)\n",
    "    sortedClassCount = sorted(classCount.iteritems(),key=operator.itemgetter(1),reverse=True)  \n",
    "    '''\n",
    "    sorted iteritems()以元组的方式迭代每队值  reverse 排序 True 倒序  False  正序\n",
    "    ''' \n",
    "    #display(sortedClassCount)\n",
    "    return sortedClassCount[0][0]\n",
    "\n",
    "classify([0,0],group,labels,3)\n",
    "    \n",
    "    "
   ]
  },
  {
   "cell_type": "code",
   "execution_count": null,
   "metadata": {},
   "outputs": [],
   "source": []
  }
 ],
 "metadata": {
  "kernelspec": {
   "display_name": "Python 2",
   "language": "python",
   "name": "python2"
  },
  "language_info": {
   "codemirror_mode": {
    "name": "ipython",
    "version": 2
   },
   "file_extension": ".py",
   "mimetype": "text/x-python",
   "name": "python",
   "nbconvert_exporter": "python",
   "pygments_lexer": "ipython2",
   "version": "2.7.14"
  }
 },
 "nbformat": 4,
 "nbformat_minor": 2
}

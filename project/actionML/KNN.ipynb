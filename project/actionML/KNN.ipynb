{
 "cells": [
  {
   "cell_type": "markdown",
   "metadata": {},
   "source": [
    "**欧式距离：(Euclidean distance)**\n",
    "\n",
    "$$d(X,Y) = \\sqrt{\\sum_{i=1}^n(x_i-y_i)^2}$$\n",
    "<ul>\n",
    "    <li>对称性</li>\n",
    "    <li>非负性</li>\n",
    "    <li>三角不等式</li>\n",
    "</ul>\n",
    "\n",
    "**闵可夫斯基距离：（Minkowski distance）**\n",
    "$$d(X,Y) = \\left( \\sum_{i=1}^n|x_i-y_i|^r \\right)^{1/r} $$\n",
    "*作为闵可夫斯基距离的推广得到 欧几里得距离*\n"
   ]
  },
  {
   "cell_type": "code",
   "execution_count": 20,
   "metadata": {},
   "outputs": [
    {
     "data": {
      "text/plain": [
       "array([[[0, 0, 0, 0],\n",
       "        [0, 0, 0, 0],\n",
       "        [0, 0, 0, 0]],\n",
       "\n",
       "       [[0, 0, 0, 0],\n",
       "        [0, 0, 0, 0],\n",
       "        [0, 0, 0, 0]],\n",
       "\n",
       "       [[0, 0, 0, 0],\n",
       "        [0, 0, 0, 0],\n",
       "        [0, 0, 0, 0]]])"
      ]
     },
     "execution_count": 20,
     "metadata": {},
     "output_type": "execute_result"
    }
   ],
   "source": [
    "'''\n",
    "k-邻近算法\n",
    "'''\n",
    "import numpy as np\n",
    "import matplotlib as plt\n",
    "\n",
    "np.tile([0,0],(3,3,2))"
   ]
  },
  {
   "cell_type": "code",
   "execution_count": 21,
   "metadata": {},
   "outputs": [],
   "source": [
    "def classify(inX,dataSet,labels,k):\n",
    "    dataSetSize =dataSet.shape[0] # 数据的维度\n",
    "    diffMat = np.tile(inX,(dataSetSize,1))-dataSet     # np.tile 复制一个矩阵  "
   ]
  },
  {
   "cell_type": "code",
   "execution_count": null,
   "metadata": {},
   "outputs": [],
   "source": []
  }
 ],
 "metadata": {
  "kernelspec": {
   "display_name": "Python 2",
   "language": "python",
   "name": "python2"
  },
  "language_info": {
   "codemirror_mode": {
    "name": "ipython",
    "version": 2
   },
   "file_extension": ".py",
   "mimetype": "text/x-python",
   "name": "python",
   "nbconvert_exporter": "python",
   "pygments_lexer": "ipython2",
   "version": "2.7.14"
  }
 },
 "nbformat": 4,
 "nbformat_minor": 2
}

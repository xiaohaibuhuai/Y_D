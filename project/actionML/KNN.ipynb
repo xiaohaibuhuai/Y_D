{
 "cells": [
  {
   "cell_type": "markdown",
   "metadata": {},
   "source": [
    "**什么是数据挖掘**\n",
    "<p>    *数据挖掘实在大型数据库中，自动发现有用信息的过程。数据挖掘技术用来探查大型数据库，发现先前未知的有用模式。\n",
    "      *\n",
    "</p>\n",
    "**数据挖掘要解决的问题**\n",
    "<p>\n",
    "新数据集带来的问题时，传统的数据分析技术常常遇到时间困难。\n",
    "   <ol>\n",
    "       <li>**可伸缩性**  *数据产生和收集技术的进步，形成海量数据，那么算法就必须是可伸缩的，以支持不同的搜索策略。例如当处理的数据不能放入内存时，可能需要非内存的算法。*</li>\n",
    "       <li>**高纬性** *程程遇到具有成百上千的属性的数据集，而不是以前常见的只有少量属性的数据集。在生物、天气、具有时间或空间分量的数据集都会有高维。传统的低纬数据分析通常不能处理高维数据集，此外对于这些算法，随着维度的增加，计算复杂性也迅速增加*</li>\n",
    "       <li>**异种数据和复杂数据** *传统的数据分析只处理包含形同类型的属性的数据集，或者是连续的，在或者是分类的。现在的数据结构对象已经非常复杂，为挖掘这些复杂对象而开发的技术应当考虑数据中的联系。如：时间和空间的自行相关，图的连通性、半结构化的文本和XML文档中父子间的联系*</li>\n",
    "       <li>**非传统的分析** *传统的统计方法基于一种“假设—检验模式”，即提出一种假设，设计实验来收集数据，然后针对假设分析数据。但是这一过程劳力费神。当前的分析任务常常需要产生和评估数据千中假设，因此需要自动的产生和评估假设。这就催生新技术的产生。数据挖掘分析的数据集通常不是机芯设计的实验的结果。并且他们通常代表数据的时机性样本，而非随机样本，这些数据通常还设计非传统的数据类型或数据分布*</li>\n",
    "   </ol>\n",
    "</p>\n",
    "**数据挖掘任务**\n",
    "   <ol>\n",
    "       <li>**预测任务** *这些任务的目标是根据其他属性的值，预测特定的属性的值。别预测的属性值称“因变量”，而用来预测的属性值称“自变量”*</li>\n",
    "       <li>**描述任务** *其目标是导出概括数据中潜在的联系的模式（相关、趋势、聚类、轨迹和异常）*</li>\n",
    "   </ol>\n",
    "   <ul>\n",
    "    <li>**关联分析** *用来发现描述数据中强关联特征模式。所发现的模式常蕴含着规则或者特征子集的形式表示。由于搜索空间是指数规模的，关联分析的目标是以有效的方式提取最有趣的模式。关联分析的应用一般包括，相关功能的基因组，识别用户一期访问的WEB页面等。应用实例如下图*<img src=\"img/guan_lian_fen_xi.jpg\"></li>\n",
    "    <li>**聚类分析** *发现紧密关系的观测值组群，使得与属于不同簇的观测值相比，数据同一簇的观测值相互间能可能类似。聚类可以用来对相关顾客分组，找出显著性影响。应用实例如下图*<img src=\"img/ju_lei_fen_xi.jpg\"></li>\n",
    "    <li>**异常检测** *识别其特征不同于其他数据的观测值，这样的观测值成为“异常点”或者是“离群点”。异常检测算法的目标是发现真正的异常点，而避免错误的将正确的对象标注为异常点。一个好的异常检测器必须具有高检测率和低误报率。异常检测的应用包括检测欺诈软件、网络攻击、疾病的不寻常模式，生态系统扰动等。应用实例，信用卡公司记录每个持卡人所做的交易，同时也会记录信用卡的信用额度、年龄、年薪和地址等个人信息。由于合法交易额相较于欺诈一般较少，因此该交易的特性与先前所构造的轮廓很不相同时，就把交易标记为可能是欺诈*</li>\n",
    "   </ul>\n",
    "  <ul>\n",
    "    <li>\n",
    "       **数据类型** 通常数据集可以看坐是数据对象的集合。数据对象有时也叫做”记录、点、向量、模式、事件、案例、样本、观测、实体“，数据对象用一组刻画对象的基本特性的属性描述。如：变量、特性、字段、特征、维。\n",
    "         <p>\n",
    "       **属性与度量** 1、属性，对象的性质或者是特征，它引对象而异，随时间变化。2、测量标度，将数值货符号值与对象的属性相关联的规则即函数。3、属性的不同类型 ，根据属性值个数表述，可分为”离散的，连续的“。4、非对称的属性，出现非零属性值才是重要的。有这样的一个数据集，其中每个对象是学生，而每个属性是记录学生是否选修大学课程。对于某个学生如果他选修了对应某个属性的课程取值 1 否则取值 0  .由于学生只选修所有课选修的课程中的一小部分，这种数据集大部分是 0.因此关注非零值将更有意义、更有效。否则如果在学生不选修的课程上比较，则大部分学生都非常相似。\n",
    "       </p>\n",
    "    </li>\n",
    "</ul>\n",
    "<p>\n",
    "\t数据集的一般特性\n",
    "   <ol>\n",
    "        <li>维度：\t数据集的维度是数据集中对象具有的属性条目。低纬度数据往往与中、高维度数据有质的不同。分析高纬度数据集会陷入为灾难。\n",
    "\t\t\t\t正是因为如此，数据预处理的一个重要动机就是减少维数，称为“维规约”。\n",
    "        </li>\n",
    "        <li>稀疏性：有些数据集，具有非对称特征的数据集，一个对象大部分属性伤的值为零，在许多情况下非零项不到1%。实际上，稀疏性是一\n",
    "\t\t\t\t个有点，因为只有非零值才需要存储，这将大量节省空间，此外有些数据挖掘算法仅适合处理稀疏数据。\n",
    "        </li>\n",
    "        <li>分辨率：常常可以在不同的分辨率下的到数据，并且在不同分辨率下得到数据性质不同，例如，在几米的分辨率下地球表面很不平坦，但是数十公里的分辨率下却相对平淡。\n",
    "        </li>\n",
    "  </ol>\n",
    "</p>\n",
    "<p>\n",
    "\t**数据集的类型**\n",
    "     <br></br>\n",
    "\t\t记录数据，许多数据挖掘任务都是假设数据集是记录的汇集，每个记录包含固定的数据字段。\n",
    "     <ol>\n",
    "        <li>\n",
    "\t\t事物数据或购物篮数据：事务数据，是一种特殊类型的记录数据，其中每个记录涉及一系列的项。如：一个杂货店。顾客一次购物所购\n",
    "\t\t买的商品的集合就构成一个事务，而购买的商品是“项”。这种类型的数据称“购物篮数据”，事务数据是项的集合的集族，但是也能将它\n",
    "\t\t视为记录集合，其中记录的字段是非对称的属性。这些属性常常是二元的，指出商品是否已买，也可以是离散的或者是连续的，\n",
    "        </li>\n",
    "        <li>\n",
    "\t\t矩阵数据，如果一个数据集族中所有数据对象都具有相同的数据值属性，则数据对象可以看作是多维空间中的点（向量），其中每个维\n",
    "\t\t代表对象的一个不同属性。这样的数据对象集可以用一个 m * n 的矩阵表示。\n",
    "         </li>\n",
    "       <li>\n",
    "\t\t稀疏数据矩阵，稀疏数据矩阵是数据矩阵的一种特殊情况，其中属性的类型相同并且是非对称的，即只有非零值才重\n",
    "       </li>\n",
    "     </ol>\n",
    "\t\t基于图形的数据，图形可以方便而有效的表示数据。<br>\n",
    "\t\t有序数据，对于有些数据属性涉及时间空间的联系。<br>\n",
    "\t\t1、时序数据，时序数据也称“时间数据”，可以看作记录数据的扩充，其中每个记录包含一个与之相关联的时间。考虑存储事务发生时间的零售事务<br>\n",
    "\t\t数据。时间信息可以帮助我们发现“万圣节前夕糖果销售到达高峰”之类的模式。时间也可以与每个属性信息相关联。例如，每个记录可以是一位顾客<br>\n",
    "\t\t的购物历史，包含不同时间购买的商量列表，使用这些信息，就有发现“购买apple watch 的之后很快买了apple”之类的模式<br>\n",
    "\t\t2、序列数据 序列数据是一个数据集合，它是各个实体的序列，如词或者字母的序列，除没有时间戳外，它跟时序数据非常相似，只是有序序列。例如<br>\n",
    "\t数据预处理<br>\n",
    "\t\t1、聚集，就是将两个或者两个以上的对象合并成单个对象，如：事务数据<br>\n",
    "\t\t2、抽样，是一种选择数据对象子集常用的方法降低费用和时间。<br>\n",
    "\t\t3、维归约，如果维度较低，许多挖掘算法效果会更好，避免维灾难，因为随着维度的增加许多数据分析变得非常困难，对于很多分类聚类算法据准率降低。<br>\n",
    "\t\t维归约的一些常用方法是使用线性代数技术，将高维数据投射到低维空间。<br>\n",
    "\t\t4、特征子集的选择，<br>\n",
    "\t\t5、特征创建，有原来属性创建新的属性  如:原始数据映射到新的空间上，有傅里叶变换<br>\n",
    "\t\t6、特征构造，原始数据的特征都是必要的，但不适合挖掘，需要原始数据的一个或者多个属性构造出新的属性 密度 = 质量/体积<br>\n",
    "</p>\n",
    "**简单函数变量变换**\n",
    "<ul>\n",
    "    <li>\n",
    "        改变换，是使用一个简单的数据函数分别作用于每个值，如果x是变量这种变换的例子包括 $x^k 、e^x 、\\sqrt{x} 、\\frac{1}{x}、\\sin x 、vert x 、log x$ 。在统计学中变量变换（特别是平方根和倒数）常用来经不具备高斯分布的变换成高斯分布。使用变量变换时需要小心：因为这样操作改变了数据的特性。尽管有时候需要这么做，但是如果在没有深入理解被转换的特性，则可能出现问题。例如：变换$\\frac{1}{x}$虽然压缩了大于1的值，但是却放大了 [0,1]之间的值，如果{1,2,3}变为{$1、\\frac{1}{2}、\\frac{1}{3}$ }一个转变，数据的顺序就逆转了，这时候就要问，我们分析的问题是否需要保序\n",
    "    </li>\n",
    "</ul>    \n",
    "**规范化或标准化**\n",
    "<ul>\n",
    "    <li>\n",
    "        变量变换是变量的标准化或者是规范化，规范化或者标准化的目标是整个值得集合具有特定的性质。一个传统的例子就是统计学中“对变量标准化”。如果 $\\overline{x}$是属性的平均值，而$s_x$是他们的标准差，则$ x' = \\frac{x-\\overline{x}}{s_x}$,它具有均值为0 标准差为1。如果要以某种方法组合不同的变量，为了避免较大值域变量左右计算结果，这种变化就是必须的。\n",
    "    </li>\n",
    "</ul>"
   ]
  },
  {
   "cell_type": "markdown",
   "metadata": {},
   "source": [
    "**k-近邻算法**\n",
    "<p>\n",
    "      k-近邻算法是分类数据中最简单有效的算法，它是基于实例学习的，使用算法时我们必须有接近实际数据的训练样本数据；k-近邻算法必须保存全部数据，如果训练数据集很大，必须使用大量的存储空间。此外由于必须对数据集中的每个数据计算距离，实际，使用时间可能非常耗时\n",
    "</p><p>\n",
    "    k-近邻算法的缺陷就是，它无法给出任何数据的基础结构信息，因此我们也无法知晓平均实例样本和典型实例样本具有什么特征\n",
    "</p>"
   ]
  },
  {
   "cell_type": "markdown",
   "metadata": {},
   "source": [
    "**欧式距离：(Euclidean distance)**\n",
    "\n",
    "$$d(X,Y) = \\sqrt{\\sum_{i=1}^n(x_i-y_i)^2}$$\n",
    "<ul>\n",
    "    <li>对称性</li>\n",
    "    <li>非负性</li>\n",
    "    <li>三角不等式</li>\n",
    "</ul>\n",
    "\n",
    "**闵可夫斯基距离：（Minkowski distance）**\n",
    "$$d(X,Y) = \\left( \\sum_{i=1}^n|x_i-y_i|^r \\right)^{1/r} $$\n",
    "*作为闵可夫斯基距离的推广得到 欧几里得距离*\n",
    "\n",
    "**相似性与相异性度量**\n",
    "<p>\n",
    "    相似性和相异性是重要的概念，因为它在许多数据挖掘技术中被应用。他们使用来描述对象间的邻近程度，他们邻近度的度量函数有 相关（也称皮尔逊距离）、欧几里得距离、Jaccard 、余弦相似性度量。 前两者使用于像时间序列这样的稠密数据，后俩适用于文档这样的稀疏数据\n",
    "   \n",
    "<ul>\n",
    "    <li>\n",
    "       相似度定义两个对象的相似程度，值越高越相似、相异度定义两个对象的相异度，值越低越相似。他们通常为正值在区间[0,1]取值\n",
    "    </li>\n",
    "    <li>\n",
    "       为了迎合框架，需要相似性和向异性间互转，或约定值域我们需要把元数据归一[0,1]内，更为重要的是做线性分析或者非线性分析的时候对对象实施降维，这个时候就需要数据归一（例如：年龄+收入的时候，年龄会被淹没）。通常邻近度度量被定义为区间[0,1]中的值。这样做是使用一种适当的尺度，由邻近度值标示两对象间的相似性或相异性。如果两对象间的相似度在[1,10] 之间变化，则我们可以使用 $s' = \\frac{s-1}{9}$ 来映射到 [0,1]之间，其中 s 和 s' 是相似度的原始值和新值。来办来说映射相似度到区间[0,1] 有如下公式给出 $s' = \\frac{(s-min_s)}{max_s-min_s}$其中 min_s 和max_s 分别是相似度的最小值和最大值。类似的具有有限值域的相异度也能用 $d' = \\frac{(d-min_d)}{max_d-min_d}$ 映射到区间[0,1].<br>\n",
    "    </li>\n",
    "</ul>\n",
    "  **数据对象间的相异度** *使用欧几里得距离*\n",
    "  <p>\n",
    "        非度量的相异度，集合差：基于集合论中定义的两个集合差的概念举例：设集合A和B\n",
    "  </p>\n",
    "  **数据对象间的相似度** *对于相似度，三角不等式通常不成立，对称和非负性成立。*\n",
    "  <p>\n",
    "    如果s(x,y)是数据点x,y之间的相似度。\n",
    "     1、仅当x=y s(x,y)=1<br>\n",
    "     2、对所有的x和y s(x,y)=s(y,x)<br>\n",
    "     非对称相似性度量：\n",
    "  </p>\n",
    "<p>\n",
    "**二元数据的相似性度量**<br>\n",
    "    两个仅包含二元属性的相似性度量也称之为 “相似系数” 并且通常在 0和1之间取值，值1标示完全相似，值0表示一点也不相似。\n",
    "    设有x和y两个对象，都有n个二元属性组成。两个对象的比较会生一个比较矩阵<br>\n",
    "    $f_{00}$=x 取0并且y取0的属性个数 <br>\n",
    "    $f_{01}$=x 取0并且y取1的属性个数 <br>\n",
    "    $f_{10}$=x 取1并且y取0的属性个数 <br>\n",
    "    $f_{11}$=x 取1并且y取1的属性个数 <br>\n",
    "    由简单匹配系数 SMC 一种常用的相似性系数 $SMC = \\frac{值匹配的属性个数}{属性个数}=\\frac{f_{00}+f_{11}}{f_{01}+f_{00}+f_{11}+f_{10}}$<br>\n",
    "    Jaccard系数，假定x,y两个对象，代表一个事务矩阵两行，如果每个非对称的二元属性对应于一个商店商品，0标示未被购买，1标示购买。由于顾客购买的商品远小于商店商品的类目，因而像SMC 这种简单匹配系数将会判断所有的事务都是相似的。这样尝尝用Jacard 系数来处理非对称二元属性的对象。<br>\n",
    "    $$J= \\frac{匹配的个数}{不涉及0-0匹配的属性个数}=\\frac{f_{11}}{f_{11}+f_{01}+f_{10}}$$<br>\n",
    "     x(1,0,0,0,0,0,0,0,0,0)<br>\n",
    "     y(1,0,0,0,0,0,1,0,0,1)<br>\n",
    "     $f_{00}$=7 取0并且y取0的属性个数 <br>\n",
    "     $f_{01}$=2 取0并且y取1的属性个数 <br>\n",
    "     $f_{10}$=1 取1并且y取0的属性个数 <br>\n",
    "     $f_{11}$=0 取1并且y取1的属性个数 <br>\n",
    "     $$SMC =\\frac{f_{00}+f_{11}}{f_{01}+f_{00}+f_{11}+f_{10}}=\\frac{0+7}{2+1+0+7}=0.7$$<br>\n",
    "     $$J =\\frac{f_{11}}{f_{01}+f_{11}+f_{10}}=\\frac{7}{2+1+0}=0.0$$<br>\n",
    "     这就是SMC 和 Jaccard 系数的差别\n",
    "</p>\n",
    "<p>\n",
    "**余弦相似度量** *通常文档用向量标示，向量的每个属性代表一个特定的词在文档中出现的频率，实际情况比较复杂，要忽略常用词等各种词，尽管文档具有数以千计的词但是文档中关键词构造的向量非零值还是比较少的。这样以事务数据一样，相似不能依赖共享的0的个数，因此两个文档多半不含许多相同的词。从而如果统计 0-0匹配则大多数文档都与其他文档非常相似。因此文档的度量不仅要考虑Jaccard 度量忽略0-0匹配，还要必须处理非二元向量。*<br>\n",
    "    $$cos(x,y) =\\frac{x.y}{||x|| ||y||}$$<br>\n",
    "     x(3,2,0,5,0,0,0,2,0,0)<br>\n",
    "     y(1,0,0,0,0,0,0,1,0,2)<br>\n",
    "     x.y=3*1 +2*0 +0*0 + 5*0 +0*0 +0*0 +0*0 +2*1 + 0*0 +0*2 = 5<br>\n",
    "     $$||x||=\\sqrt{3*3+2*2+0*0 +5*5+0*0 +0*0 +0*0 +2*2+0*0 +0*0 +}=6.48$$\n",
    "     $$||y||=\\sqrt{1*1+0*0 +0*0 +0*0 +0*0 +0*0 +0*0 +1*1 +0*0 +2*2 +}= 2.45$$\n",
    "     $$cos(x,y) =\\frac{5}{6.48 * 2.45} = 0.31$$<br>\n",
    "     $$cos(x,y) =\\frac{x.y}{||x|| ||y||}=\\frac{x}{||x||}*\\frac{y}{||y||}$$<br>\n",
    "     余弦相似度不需要考虑两个数据的量值，不过当量值重要的时候欧几里得距离就是一个更好的选择了\n",
    "</p>\n",
    "<p>\n",
    "**广义Jaccard系数** *广义jaccard 系数也可以用于文档数据，并在二元属性下归约Jaccard系数。广义Jaccard系数又称 Tanimoto 系数*<br>\n",
    "    $$EJ = \\frac{x.y}{||x||^2+||y||^2 -x.y}$$\n",
    "</p>\n",
    "<p>\n",
    "**相关性**  *两个具有二元变量或者连续变量的数据对象之间的相关性是对象属性之间线性关系的度量，更准去的说两个对象x和y之间的皮尔森相关系数有：*<br>\n",
    "        $$总体样本：p_{xy} =\\frac{ Cov = E\\{[X-E(X)][Y-E(Y)]\\}}{  \\sqrt{D(X)}\\sqrt{D(Y)}}$$\n",
    "        $$抽样样本：p_{xy} =\\frac{\\frac{1}{n-1}\\sum_{i=1}^n(x_i-\\overline x)(y_i - \\overline y)}{\\sqrt{\\frac{1}{n-1}\\sum_{i=1}^n(x_i-\\overline x)}*\\sqrt{\\frac{1}{n-1}\\sum_{i=1}^n(y_i-\\overline y)}}$$<br>\n",
    "  相关度总是在[-1，1]之间取值。-1说明负完全相关 1说明正完全相关，从负相关到正相关图例：<img src=\"img/xiang_guan.jpg\">\n",
    "  还有很多相关算法 Bregman（布雷格曼）散度、Mahalanobis(马哈拉诺比斯)距离\n",
    "  \n",
    "</p>"
   ]
  },
  {
   "cell_type": "code",
   "execution_count": 12,
   "metadata": {},
   "outputs": [],
   "source": [
    "'''\n",
    "k-邻近算法\n",
    "'''\n",
    "#encoding:utf-8\n",
    "import numpy as np\n",
    "import matplotlib as plt\n",
    "import operator \n",
    "import matplotlib.pyplot as plt\n",
    "import pandas as pd\n",
    "def createDataSet():\n",
    "    group = np.array([[1.0,1.1],[1.0,1.0],[0,0],[0,0.1]])\n",
    "    labels = ['A','A','B','B']\n",
    "    return group, labels"
   ]
  },
  {
   "cell_type": "code",
   "execution_count": 13,
   "metadata": {},
   "outputs": [],
   "source": [
    "'''\n",
    "KNN 算法核心\n",
    "'''\n",
    "def classify(inX,dataSet,labels,k):\n",
    "    dataSetSize =dataSet.shape[0] # 数据的维度\n",
    "    diffMat = np.tile(inX,(dataSetSize,1))-dataSet     # np.tile 复制一个矩阵  \n",
    "    sqDiffMat = diffMat ** 2\n",
    "    sqDistances = sqDiffMat.sum(axis=1) # sum 两向量间分量的距离平方和\n",
    "    distances = np.sqrt(sqDistances)\n",
    "    sortedDistancesIndicies = distances.argsort()\n",
    "    classCount = {}\n",
    "    for i in range(k):\n",
    "        voteLabel = labels[sortedDistancesIndicies[i]]\n",
    "        classCount[voteLabel] = classCount.get(voteLabel,0)+1 #get(key,default) \n",
    "    sortedClassCount = sorted(classCount.iteritems(),\n",
    "                              key=operator.itemgetter(1),reverse=True)\n",
    "    return sortedClassCount[0][0]\n",
    "\n",
    "    "
   ]
  },
  {
   "cell_type": "code",
   "execution_count": 14,
   "metadata": {},
   "outputs": [],
   "source": [
    "group,labels = createDataSet()\n",
    "#display(group)\n",
    "#display(labels)\n",
    "#classify([0,0],group,labels,3)\n",
    "#np.zeros((3,2))\n",
    "#data = pd.read_table('../Ch02/datingTestSet.txt',header=None,encoding='gb2312',delim_whitespace='\\t',index_col=0)\n",
    "#header=None:没有每列的column name，可以自己设定\n",
    "#encoding='gb2312':其他编码中文显示错误\n",
    "#delim_whitespace=True:用空格来分隔每行的数据\n",
    "#index_col=0:设置第1列数据作为index\n",
    "#np.ones(20)\n"
   ]
  },
  {
   "cell_type": "code",
   "execution_count": 15,
   "metadata": {},
   "outputs": [],
   "source": [
    "def file2matrix(filename):\n",
    "    fr = open(filename)\n",
    "    #display(fr)\n",
    "    arrayOfLines = fr.readlines()\n",
    "    #display(arrayOfLines)\n",
    "    numbersOfLlines = len(arrayOfLines)\n",
    "    returnMat = np.zeros((numbersOfLlines,3)) #zeros(row,column)\n",
    "    classLabelVector = [] \n",
    "    index = 0 \n",
    "    for line in arrayOfLines:\n",
    "        line = line.strip() # 去除两段的字符 如果味None 则去除两端的额空\n",
    "        listFromLine = line.split('\\t')\n",
    "        #display(listFromLine[0:3])\n",
    "        returnMat[index,:] = listFromLine[0:3] #这里写死是因为只有三个特征\n",
    "        if listFromLine[-1] == 'largeDoses':\n",
    "            classLabelVector.append(3)\n",
    "        elif listFromLine[-1] == 'smallDoses':\n",
    "            classLabelVector.append(2)\n",
    "        else:\n",
    "            classLabelVector.append(1)\n",
    "        index += 1\n",
    "    return returnMat,classLabelVector"
   ]
  },
  {
   "cell_type": "code",
   "execution_count": 16,
   "metadata": {
    "scrolled": true
   },
   "outputs": [
    {
     "data": {
      "text/html": [
       "<div>\n",
       "<style>\n",
       "    .dataframe thead tr:only-child th {\n",
       "        text-align: right;\n",
       "    }\n",
       "\n",
       "    .dataframe thead th {\n",
       "        text-align: left;\n",
       "    }\n",
       "\n",
       "    .dataframe tbody tr th {\n",
       "        vertical-align: top;\n",
       "    }\n",
       "</style>\n",
       "<table border=\"1\" class=\"dataframe\">\n",
       "  <thead>\n",
       "    <tr style=\"text-align: right;\">\n",
       "      <th></th>\n",
       "      <th>飞行里程</th>\n",
       "      <th>玩游戏时间rate</th>\n",
       "      <th>每周消耗的冰淇淋（公升）</th>\n",
       "      <th>喜欢程度</th>\n",
       "    </tr>\n",
       "  </thead>\n",
       "  <tbody>\n",
       "    <tr>\n",
       "      <th>0</th>\n",
       "      <td>40920.0</td>\n",
       "      <td>8.326976</td>\n",
       "      <td>0.953952</td>\n",
       "      <td>3.0</td>\n",
       "    </tr>\n",
       "    <tr>\n",
       "      <th>1</th>\n",
       "      <td>14488.0</td>\n",
       "      <td>7.153469</td>\n",
       "      <td>1.673904</td>\n",
       "      <td>2.0</td>\n",
       "    </tr>\n",
       "    <tr>\n",
       "      <th>2</th>\n",
       "      <td>26052.0</td>\n",
       "      <td>1.441871</td>\n",
       "      <td>0.805124</td>\n",
       "      <td>1.0</td>\n",
       "    </tr>\n",
       "    <tr>\n",
       "      <th>3</th>\n",
       "      <td>75136.0</td>\n",
       "      <td>13.147394</td>\n",
       "      <td>0.428964</td>\n",
       "      <td>1.0</td>\n",
       "    </tr>\n",
       "    <tr>\n",
       "      <th>4</th>\n",
       "      <td>38344.0</td>\n",
       "      <td>1.669788</td>\n",
       "      <td>0.134296</td>\n",
       "      <td>1.0</td>\n",
       "    </tr>\n",
       "    <tr>\n",
       "      <th>5</th>\n",
       "      <td>72993.0</td>\n",
       "      <td>10.141740</td>\n",
       "      <td>1.032955</td>\n",
       "      <td>1.0</td>\n",
       "    </tr>\n",
       "    <tr>\n",
       "      <th>6</th>\n",
       "      <td>35948.0</td>\n",
       "      <td>6.830792</td>\n",
       "      <td>1.213192</td>\n",
       "      <td>3.0</td>\n",
       "    </tr>\n",
       "    <tr>\n",
       "      <th>7</th>\n",
       "      <td>42666.0</td>\n",
       "      <td>13.276369</td>\n",
       "      <td>0.543880</td>\n",
       "      <td>3.0</td>\n",
       "    </tr>\n",
       "    <tr>\n",
       "      <th>8</th>\n",
       "      <td>67497.0</td>\n",
       "      <td>8.631577</td>\n",
       "      <td>0.749278</td>\n",
       "      <td>1.0</td>\n",
       "    </tr>\n",
       "    <tr>\n",
       "      <th>9</th>\n",
       "      <td>35483.0</td>\n",
       "      <td>12.273169</td>\n",
       "      <td>1.508053</td>\n",
       "      <td>3.0</td>\n",
       "    </tr>\n",
       "  </tbody>\n",
       "</table>\n",
       "</div>"
      ],
      "text/plain": [
       "      飞行里程  玩游戏时间rate  每周消耗的冰淇淋（公升）  喜欢程度\n",
       "0  40920.0   8.326976      0.953952   3.0\n",
       "1  14488.0   7.153469      1.673904   2.0\n",
       "2  26052.0   1.441871      0.805124   1.0\n",
       "3  75136.0  13.147394      0.428964   1.0\n",
       "4  38344.0   1.669788      0.134296   1.0\n",
       "5  72993.0  10.141740      1.032955   1.0\n",
       "6  35948.0   6.830792      1.213192   3.0\n",
       "7  42666.0  13.276369      0.543880   3.0\n",
       "8  67497.0   8.631577      0.749278   1.0\n",
       "9  35483.0  12.273169      1.508053   3.0"
      ]
     },
     "metadata": {},
     "output_type": "display_data"
    },
    {
     "data": {
      "image/png": "[encoded data removed]",
      "text/plain": [
       "<matplotlib.figure.Figure at 0xf058ba8>"
      ]
     },
     "metadata": {},
     "output_type": "display_data"
    }
   ],
   "source": [
    "from matplotlib.font_manager import fontManager\n",
    "import matplotlib.pyplot as plt\n",
    "import os\n",
    "import os.path\n",
    "'''\n",
    "查看一下字体，解决中文乱码\n",
    "fig = plt.figure(figsize=(12,6))\n",
    "ax = fig.add_subplot(111)\n",
    "plt.subplots_adjust(0, 0, 1, 1, 0, 0)\n",
    "plt.xticks([])\n",
    "plt.yticks([])\n",
    "x, y = 0.05, 0.08\n",
    "fonts = [font.name for font in fontManager.ttflist if\n",
    "    os.path.exists(font.fname) and os.stat(font.fname).st_size>1e6]\n",
    "font = set(fonts)\n",
    "dy = (1.0-y)/(len(fonts)/4 + (len(fonts)%4!=0))\n",
    "for font in fonts:\n",
    "    t = ax.text(x, y, u\"中文字体\", {'fontname':font, 'fontsize':14}, transform=ax.transAxes)\n",
    "    ax.text(x, y-dy/2, font, transform=ax.transAxes)\n",
    "    x += 0.25\n",
    "    if x >= 1.0:\n",
    "        y += dy\n",
    "        x = 0.05\n",
    "plt.show()\n",
    "'''\n",
    "plt.rcParams[\"font.family\"] = \"SimHei\"\n",
    "\n",
    "'''\n",
    "获取数据集，该数据集为一个约会网站数据集\n",
    "'''\n",
    "datingDataMat,datingLabels = file2matrix('../Ch02/datingTestSet.txt')\n",
    "#display(datingLabels)\n",
    "df = [np.append(datingDataMat[index],datingLabels[index]) for index in range(len(datingDataMat))]\n",
    "#display(df)\n",
    "testDf = pd.DataFrame(df,columns=[\"飞行里程\",\"玩游戏时间rate\",\"每周消耗的冰淇淋（公升）\",\"喜欢程度\"])\n",
    "display(testDf.head(10))\n",
    "\n",
    "'''\n",
    "使用matplotlib 画图\n",
    "\n",
    "解释，数据是三维数据，在没做惯性性分析的情况下去猜测相关度\n",
    "第一次用飞行里程和玩游戏时间做作图\n",
    "\n",
    "'''\n",
    "fig = plt.figure()\n",
    "ax = fig.add_subplot(111)\n",
    "ax.scatter(datingDataMat[:,0],datingDataMat[:,1]\n",
    "           ,15*np.array(datingLabels),15*np.array(datingLabels))\n",
    "'''\n",
    "ax.scatter(datingDataMat[:,0],datingDataMat[:,1]\n",
    "           ,15*np.array(datingLabels),15*np.array(datingLabels),marker='x',label='C2')\n",
    "'''\n",
    "label = np.array(datingLabels);\n",
    "idx_1 = np.where(label == 1)      #找label中为1的位置\n",
    "p1 = plt.scatter(datingDataMat[idx_1,0], datingDataMat[idx_1,1]\n",
    "                 , marker = 'o', color = 'm', label=U'不喜欢', s = 30)\n",
    "idx_2 = np.where(label == 2)\n",
    "p2 = plt.scatter(datingDataMat[idx_2,0],datingDataMat[idx_2,1],\n",
    "                 marker='o',color='c',label=U'魅力一般',s=50)\n",
    "idx_3 = np.where(label == 3)\n",
    "p3 =  plt.scatter(datingDataMat[idx_3,0],datingDataMat[idx_3,1]\n",
    "                 ,marker='o',color='r',label=U'极具魅力',s=15)\n",
    "\n",
    "plt.ylabel(U\"游戏消耗时间百分比\")\n",
    "plt.xlabel(U\"飞行里程\")\n",
    "plt.legend(loc='upper left')\n",
    "plt.show()"
   ]
  },
  {
   "cell_type": "code",
   "execution_count": 17,
   "metadata": {},
   "outputs": [
    {
     "data": {
      "image/png": "[encoded data removed]",
      "text/plain": [
       "<matplotlib.figure.Figure at 0xf0a0ac8>"
      ]
     },
     "metadata": {},
     "output_type": "display_data"
    }
   ],
   "source": [
    "datingDataMat,datingLabels = file2matrix('../Ch02/datingTestSet.txt')\n",
    "'''\n",
    "使用matplotlib 画图\n",
    "\n",
    "解释，数据是三维数据，在没做惯性性分析的情况下去猜测相关度\n",
    "第二次用玩游戏时间和每周吃的冰淇淋做作图\n",
    "'''\n",
    "fig = plt.figure()\n",
    "ax = fig.add_subplot(111)\n",
    "ax.scatter(datingDataMat[:,1],datingDataMat[:,2]\n",
    "           ,15*np.array(datingLabels),15*np.array(datingLabels))\n",
    "label = np.array(datingLabels);\n",
    "idx_1 = np.where(label == 1)      #找label中为1的位置\n",
    "p1 = plt.scatter(datingDataMat[idx_1,1], datingDataMat[idx_1,2]\n",
    "                 , marker = 'o', color = 'm', label=U'不喜欢', s = 30)\n",
    "idx_2 = np.where(label == 2)\n",
    "p2 = plt.scatter(datingDataMat[idx_2,1],datingDataMat[idx_2,2],\n",
    "                 marker='o',color='c',label=U'魅力一般',s=50)\n",
    "idx_3 = np.where(label == 3)\n",
    "p3 =  plt.scatter(datingDataMat[idx_3,1],datingDataMat[idx_3,2]\n",
    "                 ,marker='o',color='r',label=U'极具魅力',s=15)\n",
    "\n",
    "plt.ylabel(U\"冰激凌（升）\")\n",
    "plt.xlabel(U\"游戏消耗时间百分比\")\n",
    "plt.legend(loc='upper right')\n",
    "plt.show()"
   ]
  },
  {
   "cell_type": "code",
   "execution_count": 23,
   "metadata": {},
   "outputs": [],
   "source": [
    "#数据归一特征值  归一到 [0,1)\n",
    "def autoNorm(dataSet):\n",
    "    minVals = dataSet.min(0)\n",
    "    maxVals = dataSet.max(0)\n",
    "    ranges = maxVals - minVals\n",
    "    normDataSet = np.zeros(np.shape(dataSet))\n",
    "    m = dataSet.shape[0]\n",
    "    normDataSet = dataSet - np.tile(minVals,(m,1))\n",
    "    normDataSet = normDataSet/np.tile(ranges,(m,1))\n",
    "    return normDataSet,ranges,minVals"
   ]
  },
  {
   "cell_type": "code",
   "execution_count": 38,
   "metadata": {},
   "outputs": [],
   "source": [
    "# 测试function\n",
    "def dataClassTest():\n",
    "    hoRatio = 0.1\n",
    "    datingDataMat,datingLabels = file2matrix(\"../Ch02/datingTestSet.txt\")\n",
    "    normMat,ranges,minVals = autoNorm(datingDataMat)\n",
    "    m = normMat.shape[0]  #m=1000 共有以千跳数据\n",
    "    numTestVecs = int(m*hoRatio)\n",
    "    print \"测试集共%d \\n\"% numTestVecs\n",
    "    print \"训练集共%d \\n\"% (int(m)-numTestVecs)\n",
    "    errorCount = 0.0\n",
    "    for i in range(numTestVecs):\n",
    "        '''\n",
    "            取(100,m]跳数据作为训练集\n",
    "        '''\n",
    "        classifierResult = classify(normMat[i,:],normMat[numTestVecs:m,:]\n",
    "                                    ,datingLabels[numTestVecs:m],3)#进行识别选取最优的前三个\n",
    "        print \"预测数据类型 : %d,原始数据类型: %d\"%(classifierResult,datingLabels[i])\n",
    "        if(classifierResult != datingLabels[i]):\n",
    "            errorCount +=1\n",
    "        print \"总错误率 %f \" %(errorCount/float(numTestVecs))\n"
   ]
  },
  {
   "cell_type": "code",
   "execution_count": 46,
   "metadata": {},
   "outputs": [
    {
     "name": "stdout",
     "output_type": "stream",
     "text": [
      "测试集共100 \n",
      "\n",
      "训练集共900 \n",
      "\n"
     ]
    },
    {
     "data": {
      "text/plain": [
       "100"
      ]
     },
     "metadata": {},
     "output_type": "display_data"
    },
    {
     "name": "stdout",
     "output_type": "stream",
     "text": [
      "预测数据类型 : 3,原始数据类型: 3\n",
      "总错误率 0.000000 \n",
      "预测数据类型 : 2,原始数据类型: 2\n",
      "总错误率 0.000000 \n",
      "预测数据类型 : 1,原始数据类型: 1\n",
      "总错误率 0.000000 \n",
      "预测数据类型 : 1,原始数据类型: 1\n",
      "总错误率 0.000000 \n",
      "预测数据类型 : 1,原始数据类型: 1\n",
      "总错误率 0.000000 \n",
      "预测数据类型 : 1,原始数据类型: 1\n",
      "总错误率 0.000000 \n",
      "预测数据类型 : 3,原始数据类型: 3\n",
      "总错误率 0.000000 \n",
      "预测数据类型 : 3,原始数据类型: 3\n",
      "总错误率 0.000000 \n",
      "预测数据类型 : 1,原始数据类型: 1\n",
      "总错误率 0.000000 \n",
      "预测数据类型 : 3,原始数据类型: 3\n",
      "总错误率 0.000000 \n",
      "预测数据类型 : 1,原始数据类型: 1\n",
      "总错误率 0.000000 \n",
      "预测数据类型 : 1,原始数据类型: 1\n",
      "总错误率 0.000000 \n",
      "预测数据类型 : 2,原始数据类型: 2\n",
      "总错误率 0.000000 \n",
      "预测数据类型 : 1,原始数据类型: 1\n",
      "总错误率 0.000000 \n",
      "预测数据类型 : 1,原始数据类型: 1\n",
      "总错误率 0.000000 \n",
      "预测数据类型 : 1,原始数据类型: 1\n",
      "总错误率 0.000000 \n",
      "预测数据类型 : 1,原始数据类型: 1\n",
      "总错误率 0.000000 \n",
      "预测数据类型 : 1,原始数据类型: 1\n",
      "总错误率 0.000000 \n",
      "预测数据类型 : 2,原始数据类型: 2\n",
      "总错误率 0.000000 \n",
      "预测数据类型 : 3,原始数据类型: 3\n",
      "总错误率 0.000000 \n",
      "预测数据类型 : 2,原始数据类型: 2\n",
      "总错误率 0.000000 \n",
      "预测数据类型 : 1,原始数据类型: 1\n",
      "总错误率 0.000000 \n",
      "预测数据类型 : 1,原始数据类型: 2\n",
      "总错误率 0.010000 \n",
      "预测数据类型 : 3,原始数据类型: 3\n",
      "总错误率 0.010000 \n",
      "预测数据类型 : 2,原始数据类型: 2\n",
      "总错误率 0.010000 \n",
      "预测数据类型 : 3,原始数据类型: 3\n",
      "总错误率 0.010000 \n",
      "预测数据类型 : 2,原始数据类型: 2\n",
      "总错误率 0.010000 \n",
      "预测数据类型 : 3,原始数据类型: 3\n",
      "总错误率 0.010000 \n",
      "预测数据类型 : 2,原始数据类型: 2\n",
      "总错误率 0.010000 \n",
      "预测数据类型 : 1,原始数据类型: 1\n",
      "总错误率 0.010000 \n",
      "预测数据类型 : 3,原始数据类型: 3\n",
      "总错误率 0.010000 \n",
      "预测数据类型 : 1,原始数据类型: 1\n",
      "总错误率 0.010000 \n",
      "预测数据类型 : 3,原始数据类型: 3\n",
      "总错误率 0.010000 \n",
      "预测数据类型 : 1,原始数据类型: 1\n",
      "总错误率 0.010000 \n",
      "预测数据类型 : 2,原始数据类型: 2\n",
      "总错误率 0.010000 \n",
      "预测数据类型 : 1,原始数据类型: 1\n",
      "总错误率 0.010000 \n",
      "预测数据类型 : 1,原始数据类型: 1\n",
      "总错误率 0.010000 \n",
      "预测数据类型 : 2,原始数据类型: 2\n",
      "总错误率 0.010000 \n",
      "预测数据类型 : 3,原始数据类型: 3\n",
      "总错误率 0.010000 \n",
      "预测数据类型 : 3,原始数据类型: 3\n",
      "总错误率 0.010000 \n",
      "预测数据类型 : 1,原始数据类型: 1\n",
      "总错误率 0.010000 \n",
      "预测数据类型 : 2,原始数据类型: 2\n",
      "总错误率 0.010000 \n",
      "预测数据类型 : 3,原始数据类型: 3\n",
      "总错误率 0.010000 \n",
      "预测数据类型 : 3,原始数据类型: 3\n",
      "总错误率 0.010000 \n",
      "预测数据类型 : 3,原始数据类型: 3\n",
      "总错误率 0.010000 \n",
      "预测数据类型 : 1,原始数据类型: 1\n",
      "总错误率 0.010000 \n",
      "预测数据类型 : 1,原始数据类型: 1\n",
      "总错误率 0.010000 \n",
      "预测数据类型 : 1,原始数据类型: 1\n",
      "总错误率 0.010000 \n",
      "预测数据类型 : 1,原始数据类型: 1\n",
      "总错误率 0.010000 \n",
      "预测数据类型 : 2,原始数据类型: 2\n",
      "总错误率 0.010000 \n",
      "预测数据类型 : 2,原始数据类型: 2\n",
      "总错误率 0.010000 \n",
      "预测数据类型 : 1,原始数据类型: 1\n",
      "总错误率 0.010000 \n",
      "预测数据类型 : 3,原始数据类型: 3\n",
      "总错误率 0.010000 \n",
      "预测数据类型 : 2,原始数据类型: 2\n",
      "总错误率 0.010000 \n",
      "预测数据类型 : 2,原始数据类型: 2\n",
      "总错误率 0.010000 \n",
      "预测数据类型 : 2,原始数据类型: 2\n",
      "总错误率 0.010000 \n",
      "预测数据类型 : 2,原始数据类型: 2\n",
      "总错误率 0.010000 \n",
      "预测数据类型 : 3,原始数据类型: 3\n",
      "总错误率 0.010000 \n",
      "预测数据类型 : 1,原始数据类型: 1\n",
      "总错误率 0.010000 \n",
      "预测数据类型 : 2,原始数据类型: 2\n",
      "总错误率 0.010000 \n",
      "预测数据类型 : 1,原始数据类型: 1\n",
      "总错误率 0.010000 \n",
      "预测数据类型 : 2,原始数据类型: 2\n",
      "总错误率 0.010000 \n",
      "预测数据类型 : 2,原始数据类型: 2\n",
      "总错误率 0.010000 \n",
      "预测数据类型 : 2,原始数据类型: 2\n",
      "总错误率 0.010000 \n",
      "预测数据类型 : 2,原始数据类型: 2\n",
      "总错误率 0.010000 \n",
      "预测数据类型 : 2,原始数据类型: 2\n",
      "总错误率 0.010000 \n",
      "预测数据类型 : 3,原始数据类型: 3\n",
      "总错误率 0.010000 \n",
      "预测数据类型 : 2,原始数据类型: 2\n",
      "总错误率 0.010000 \n",
      "预测数据类型 : 3,原始数据类型: 3\n",
      "总错误率 0.010000 \n",
      "预测数据类型 : 1,原始数据类型: 1\n",
      "总错误率 0.010000 \n",
      "预测数据类型 : 2,原始数据类型: 2\n",
      "总错误率 0.010000 \n",
      "预测数据类型 : 3,原始数据类型: 3\n",
      "总错误率 0.010000 \n",
      "预测数据类型 : 2,原始数据类型: 2\n",
      "总错误率 0.010000 \n",
      "预测数据类型 : 2,原始数据类型: 2\n",
      "总错误率 0.010000 \n",
      "预测数据类型 : 3,原始数据类型: 1\n",
      "总错误率 0.020000 \n",
      "预测数据类型 : 3,原始数据类型: 3\n",
      "总错误率 0.020000 \n",
      "预测数据类型 : 1,原始数据类型: 1\n",
      "总错误率 0.020000 \n",
      "预测数据类型 : 1,原始数据类型: 1\n",
      "总错误率 0.020000 \n",
      "预测数据类型 : 3,原始数据类型: 3\n",
      "总错误率 0.020000 \n",
      "预测数据类型 : 3,原始数据类型: 3\n",
      "总错误率 0.020000 \n",
      "预测数据类型 : 1,原始数据类型: 1\n",
      "总错误率 0.020000 \n",
      "预测数据类型 : 2,原始数据类型: 2\n",
      "总错误率 0.020000 \n",
      "预测数据类型 : 3,原始数据类型: 3\n",
      "总错误率 0.020000 \n",
      "预测数据类型 : 3,原始数据类型: 1\n",
      "总错误率 0.030000 \n",
      "预测数据类型 : 3,原始数据类型: 3\n",
      "总错误率 0.030000 \n",
      "预测数据类型 : 1,原始数据类型: 1\n",
      "总错误率 0.030000 \n",
      "预测数据类型 : 2,原始数据类型: 2\n",
      "总错误率 0.030000 \n",
      "预测数据类型 : 2,原始数据类型: 2\n",
      "总错误率 0.030000 \n",
      "预测数据类型 : 1,原始数据类型: 1\n",
      "总错误率 0.030000 \n",
      "预测数据类型 : 1,原始数据类型: 1\n",
      "总错误率 0.030000 \n",
      "预测数据类型 : 3,原始数据类型: 3\n",
      "总错误率 0.030000 \n",
      "预测数据类型 : 2,原始数据类型: 3\n",
      "总错误率 0.040000 \n",
      "预测数据类型 : 1,原始数据类型: 1\n",
      "总错误率 0.040000 \n",
      "预测数据类型 : 2,原始数据类型: 2\n",
      "总错误率 0.040000 \n",
      "预测数据类型 : 1,原始数据类型: 1\n",
      "总错误率 0.040000 \n",
      "预测数据类型 : 3,原始数据类型: 3\n",
      "总错误率 0.040000 \n",
      "预测数据类型 : 3,原始数据类型: 3\n",
      "总错误率 0.040000 \n",
      "预测数据类型 : 2,原始数据类型: 2\n",
      "总错误率 0.040000 \n",
      "预测数据类型 : 1,原始数据类型: 1\n",
      "总错误率 0.040000 \n",
      "预测数据类型 : 3,原始数据类型: 1\n",
      "总错误率 0.050000 \n"
     ]
    }
   ],
   "source": [
    "dataClassTest()"
   ]
  },
  {
   "cell_type": "code",
   "execution_count": 47,
   "metadata": {},
   "outputs": [],
   "source": [
    "# 根据KNN的手写识别系统\n",
    "from os import  listdir\n",
    "'''\n",
    "把图片矩阵转换为1024维向量\n",
    "'''\n",
    "def img2Vector(filename):\n",
    "    returnVect = np.zeros((1,1024))\n",
    "    fr = open(filename)\n",
    "    for i in range(32):\n",
    "        lineStr = fr.readline()\n",
    "        for j in range(32):\n",
    "             returnVect[0,32*i+j] = int(lineStr[j])\n",
    "    return returnVect\n",
    "'''\n",
    "简单的数字识别\n",
    "'''\n",
    "def handwritingClassTest():\n",
    "    hwLabels = [] \n",
    "    trainingFileList =listdir('../Ch02/digits/trainingDigits') #训练集\n",
    "    m = len(trainingFileList)\n",
    "    print \"训练集总条数%d\"%m\n",
    "    trainingMat = np.zeros((m,1024))  #创建 m * 1024矩阵\n",
    "    for i in range(m):\n",
    "        fileNameStr = trainingFileList[i]  #文件名字\n",
    "        fileStr = fileNameStr.split('.')[0] \n",
    "        classNumStr = int(fileStr.split('_')[0]) #获取该文件代表的真是数字\n",
    "        hwLabels.append(classNumStr)\n",
    "        trainingMat[i,:] = img2Vector('../Ch02/digits/trainingDigits/%s'% fileNameStr) # 对第I行填充对应矩阵\n",
    "    testFileList = listdir('../Ch02/digits/testDigits')\n",
    "    errorCount = 0\n",
    "    mTest = len(testFileList) #测试集\n",
    "    print \"训练集总条数%d\"%mTest\n",
    "    count = 0\n",
    "    for i in range(mTest):\n",
    "        fileNameStr = testFileList[i]\n",
    "        fileStr = fileNameStr.split('.')[0]\n",
    "        classNumStr = fileStr.split('_')[0]\n",
    "        vectorUnderTest = img2Vector('../Ch02/digits/testDigits/%s' % fileNameStr)\n",
    "        classifierResult = classify(vectorUnderTest,trainingMat,hwLabels,3) #进行识别选取最优的前三个\n",
    "        if count <20:\n",
    "            print \"分类数据的原始值 : %d, 预测值： %s\\\n",
    "              \" % (classifierResult,classNumStr)\n",
    "            count+=1\n",
    "        if(int(classifierResult) != int(classNumStr)):\n",
    "            errorCount +=1\n",
    "    print \"\\n测试后，预测错误个数: %d\" % errorCount\n",
    "    print \"\\n:总错误率 %f\" %(errorCount/float(mTest))\n",
    "    "
   ]
  },
  {
   "cell_type": "code",
   "execution_count": 48,
   "metadata": {
    "scrolled": false
   },
   "outputs": [
    {
     "name": "stdout",
     "output_type": "stream",
     "text": [
      "训练集总条数1934\n",
      "训练集总条数946\n",
      "分类数据的原始值 : 0, 预测值： 0              \n",
      "分类数据的原始值 : 0, 预测值： 0              \n",
      "分类数据的原始值 : 0, 预测值： 0              \n",
      "分类数据的原始值 : 0, 预测值： 0              \n",
      "分类数据的原始值 : 0, 预测值： 0              \n",
      "分类数据的原始值 : 0, 预测值： 0              \n",
      "分类数据的原始值 : 0, 预测值： 0              \n",
      "分类数据的原始值 : 0, 预测值： 0              \n",
      "分类数据的原始值 : 0, 预测值： 0              \n",
      "分类数据的原始值 : 0, 预测值： 0              \n",
      "分类数据的原始值 : 0, 预测值： 0              \n",
      "分类数据的原始值 : 0, 预测值： 0              \n",
      "分类数据的原始值 : 0, 预测值： 0              \n",
      "分类数据的原始值 : 0, 预测值： 0              \n",
      "分类数据的原始值 : 0, 预测值： 0              \n",
      "分类数据的原始值 : 0, 预测值： 0              \n",
      "分类数据的原始值 : 0, 预测值： 0              \n",
      "分类数据的原始值 : 0, 预测值： 0              \n",
      "分类数据的原始值 : 0, 预测值： 0              \n",
      "分类数据的原始值 : 0, 预测值： 0              \n",
      "\n",
      "测试后，预测错误个数: 11\n",
      "\n",
      ":总错误率 0.011628\n"
     ]
    }
   ],
   "source": [
    "handwritingClassTest()"
   ]
  },
  {
   "cell_type": "markdown",
   "metadata": {},
   "source": [
    "**决策树**\n",
    "    <p>\n",
    "        　　基于信息熵的决策树，信息熵是有20世纪 克劳德.香农创造。\n",
    "    </p>\n",
    "     <p>  　　基于熵的方法是最有前途的离散化方法之一，设在R(x,y) 在 $R^2$ 上有一堆散乱的数据有K中类别 $m_i$ 是某个划分的第i个区间中值的个数，而 $m_{ij}$ 是区间i中类j的值个数。则第i个区间的熵 $e_i$ 有一下等式给出\n",
    "    $$e_i = -\\sum_{j=1}^kp_{ij}log_2^{p_{ij}}$$\n",
    "其中 $p_{ij}= m_{ij}/m_i$ 是第i个区间中类j的概率。该划分的总熵e 是每个区间的熵的加权平均，即\n",
    "    $$ e = \\sum_{i=1}^n w_ie_i$$\n",
    "其中，m是值的个数，$w_i = m_i / m$ 是第i个区间的比值,而n 是区间的个数。直观上，区间的熵是区间纯度的度量。如果一个区间只包含一个类的值（该区间非常纯），则其熵为0 并且不影响总熵。去过一个区间中的值类出现的频率相等（该区间尽可能不纯）则其熵最大。   \n",
    "</p>\n",
    "<p>\n",
    "    一种划分连续性属性的简单方法：开始，将初始值切分为两个部分，让两个结果区间产生最小熵。该技术只要把每个值看作可能的分割点即可，因为假定区间包含有序值的集合。然后取以区间通常选取具有最大熵的区间，重复此过程，直到区间的个数达到用户指定的个数，或满足总之条件为止\n",
    "</p>\n",
    "<ul>\n",
    "    <li>\n",
    "        **分类任务：** 输入数据是记录的集合。每条记录也称实例或者样例，用元组（x,y）表示，其中x 是属性集合，而y是一个特殊的属性，指出样例的类标号（也称为分类属性或目标属性）用来将脊椎动物分位：哺乳类、鸟类、鱼类、爬行类和两栖类。属性集指明脊椎动物的性质如：体温、表皮覆盖等。尽管表中数据都是离散的，但属性集也可以是连续的特征值。但是类标号必须是离散的。这真是区分分类与回归的关键特征。*回归是一种预测建模任务，其目标y是连续的*\n",
    "    </li>\n",
    "    <li>\n",
    "           **分类：**分类任务就是通过学习得到一个**目标函数** f,把每个属性集x 映射到一个预定义的类标号 y。目标函数也称之为 **分类模型**\n",
    "          <br></br>\n",
    "          **描述性建模：** 分类模型可以作为解释性工具，用于区分不同的对象。\n",
    "          <br></br>\n",
    "          **预测性建模：** 分类模型可以预测未知记录的类标号。\n",
    "    </li>\n",
    "    <li>\n",
    "       **解决分类问题：**根据输入数据，建立分类模型的系统方法。分类的方法包括 *决策树分类法、基于规则分类法、神经网络、支持向量机和朴素贝叶斯分类法* ，使用一种学习算法，确定一种分类模型，该模型能够很好的拟合输入数据中类标号和属性集之间的关系。学习算法得到的模型不仅能都很好的拟合输入数据，还要能够正确的预测未知样本类标号。因此训练算法的主要目的就是建立具有很好的泛化能力模型，即建立能够准确的预测未知样本类标号的模型.\n",
    "        <img src = 'img/img_1.png'> \n",
    "        <br></br>\n",
    "        分类模型的性能是根据模型正确和错误预测的检验记录进行评估,性能度量如下\n",
    "        $$  准确率 = \\frac{正确预测数}{预测总数}    $$\n",
    "        $$  错误率 = \\frac{错误预测数}{预测总数}    $$\n",
    "        \n",
    "    </li>\n",
    "\n",
    "</ul>\n",
    "\n",
    "<table border=\"black\">\n",
    "    <tr><td align=\"center\" colspan=\"9\">表-1</td></tr>\n",
    "    <tr scope=\"col\">\n",
    "        <th>名字</th>\n",
    "        <th>体温</th>\n",
    "        <th>表皮覆盖</th>\n",
    "        <th>胎生</th>\n",
    "        <th>水生生物</th>\n",
    "        <th>飞行动物</th>\n",
    "        <th>有腿</th>\n",
    "        <th>冬眠</th>\n",
    "        <th>类标号</th>\n",
    "    <tr>\n",
    "    <tr>\n",
    "        <td>人类</td>\n",
    "        <td>恒温</td>\n",
    "        <td>毛发</td>\n",
    "        <td>是</td>\n",
    "        <td>否</td>\n",
    "        <td>否</td>\n",
    "        <td>是</td>\n",
    "        <td>否</td>\n",
    "        <td>哺乳动物</td>\n",
    "    <tr>\n",
    "    <tr>\n",
    "        <td>蟒蛇</td>\n",
    "        <td>冷血</td>\n",
    "        <td>鳞片</td>\n",
    "        <td>否</td>\n",
    "        <td>否</td>\n",
    "        <td>否</td>\n",
    "        <td>否</td>\n",
    "        <td>是</td>\n",
    "        <td>爬行类</td>\n",
    "    <tr>\n",
    "        <tr>\n",
    "        <td>鲑鱼</td>\n",
    "        <td>冷血</td>\n",
    "        <td>鳞片</td>\n",
    "        <td>否</td>\n",
    "        <td>是</td>\n",
    "        <td>否</td>\n",
    "        <td>是</td>\n",
    "        <td>是</td>\n",
    "        <td>鱼类</td>\n",
    "    <tr>\n",
    "        <tr>\n",
    "        <td>鲸</td>\n",
    "        <td>恒温</td>\n",
    "        <td>毛发</td>\n",
    "        <td>是</td>\n",
    "        <td>是</td>\n",
    "        <td>否</td>\n",
    "        <td>否</td>\n",
    "        <td>否</td>\n",
    "        <td>哺乳类</td>\n",
    "    <tr>\n",
    "        <tr>\n",
    "        <td>青蛙</td>\n",
    "        <td>冷血</td>\n",
    "        <td>无</td>\n",
    "        <td>否</td>\n",
    "        <td>半</td>\n",
    "        <td>否</td>\n",
    "        <td>是</td>\n",
    "        <td>是</td>\n",
    "        <td>两栖类</td>\n",
    "    <tr>\n",
    "        <tr>\n",
    "        <td>巨蜥</td>\n",
    "        <td>冷血</td>\n",
    "        <td>鳞片</td>\n",
    "        <td>否</td>\n",
    "        <td>否</td>\n",
    "        <td>否</td>\n",
    "        <td>是</td>\n",
    "        <td>否</td>\n",
    "        <td>爬行类</td>\n",
    "    <tr>\n",
    "        <tr>\n",
    "        <td>蝙蝠</td>\n",
    "        <td>恒温</td>\n",
    "        <td>毛发</td>\n",
    "        <td>是</td>\n",
    "        <td>否</td>\n",
    "        <td>是</td>\n",
    "        <td>是</td>\n",
    "        <td>是</td>\n",
    "        <td>哺乳类</td>\n",
    "    <tr>\n",
    "        <tr>\n",
    "        <td>鸽子</td>\n",
    "        <td>恒温</td>\n",
    "        <td>羽毛</td>\n",
    "        <td>否</td>\n",
    "        <td>否</td>\n",
    "        <td>是</td>\n",
    "        <td>是</td>\n",
    "        <td>否</td>\n",
    "        <td>鸟类</td>\n",
    "    <tr>\n",
    "         <tr>\n",
    "        <td>猫</td>\n",
    "        <td>恒温</td>\n",
    "        <td>软毛</td>\n",
    "        <td>是</td>\n",
    "        <td>否</td>\n",
    "        <td>否</td>\n",
    "        <td>是</td>\n",
    "        <td>否</td>\n",
    "        <td>鸟类</td>\n",
    "    <tr>\n",
    "         <tr>\n",
    "        <td>豹纹鲨</td>\n",
    "        <td>冷血</td>\n",
    "        <td>鳞片</td>\n",
    "        <td>是</td>\n",
    "        <td>是</td>\n",
    "        <td>否</td>\n",
    "        <td>否</td>\n",
    "        <td>否</td>\n",
    "        <td>鱼类</td>\n",
    "    <tr>\n",
    "         <tr>\n",
    "        <td>海龟</td>\n",
    "        <td>冷血</td>\n",
    "        <td>鳞片</td>\n",
    "        <td>否</td>\n",
    "        <td>半</td>\n",
    "        <td>否</td>\n",
    "        <td>是</td>\n",
    "        <td>是</td>\n",
    "        <td>爬行类</td>\n",
    "    <tr>\n",
    "         <tr>\n",
    "        <td>企鹅</td>\n",
    "        <td>恒温</td>\n",
    "        <td>羽毛</td>\n",
    "        <td>否</td>\n",
    "        <td>半</td>\n",
    "        <td>否</td>\n",
    "        <td>是</td>\n",
    "        <td>否</td>\n",
    "        <td>鸟类</td>\n",
    "    <tr>\n",
    "         <tr>\n",
    "        <td>豪猪</td>\n",
    "        <td>恒温</td>\n",
    "        <td>刚毛</td>\n",
    "        <td>是</td>\n",
    "        <td>否</td>\n",
    "        <td>否</td>\n",
    "        <td>是</td>\n",
    "        <td>否</td>\n",
    "        <td>哺乳类</td>\n",
    "    <tr>\n",
    "         <tr>\n",
    "        <td>鳗鱼</td>\n",
    "        <td>冷血</td>\n",
    "        <td>鳞片</td>\n",
    "        <td>否</td>\n",
    "        <td>是</td>\n",
    "        <td>否</td>\n",
    "        <td>否</td>\n",
    "        <td>否</td>\n",
    "        <td>鱼类</td>\n",
    "    <tr>\n",
    "         <tr>\n",
    "        <td>蝾螈</td>\n",
    "        <td>冷血</td>\n",
    "        <td>无</td>\n",
    "        <td>否</td>\n",
    "        <td>半</td>\n",
    "        <td>否</td>\n",
    "        <td>是</td>\n",
    "        <td>是</td>\n",
    "        <td>两栖类</td>\n",
    "    <tr>\n",
    "</table>\n",
    "<p>\n",
    "**如何建立决策树** <br> \n",
    "    　　*采取一系列局部最优决策来构造决策树，Hunt 算法就是一种这样的算法。Hunt算法是许多决策树算法的基础，包括ID3、C4.5和CART*<br>\n",
    "在Hunt算法中通过将训练集相继划分成纯度较高的子集，以递归的方式建立决策树。设$D_t$是与接点t相关联的训练记录集，而$y={y_1,y_2,y_3....y_n}$是类标号，Hunt的算法递归定义是<br>\n",
    "    <ol>\n",
    "        <li>如果$D_t$中的所有记录都属于同一个类$y_t$则t是叶子接点，用$y_t$标记</li>\n",
    "        <li>如果$D_t$中包含属于过多类的记录，则选择一个属性测试条件，将记录划分成较小的子集。对于测试条件的每个输出，创建一个子女节点，并根据测试结果将$D_t$中的记录划到子女节点中，然后对每个子女接点递归调用该算法\n",
    "        <img src=\"img/jue_ce_shu_1.jpg\"><br>\n",
    "            <img src=\"img/jue_ce_shu_2.jpg\">\n",
    "        </li>\n",
    "        <li></li>\n",
    "    </ol>\n",
    "</p>\n",
    "<p>\n",
    "**选择最佳划分** *有很多方法用来确定最佳划分记录的最佳方法，这些度量用划分前和划分后记录的类分布做定义，选择最佳划分的度量通常根据划分后子女节点的不纯度。不纯度越低，类分布就越倾斜。不纯度的度量包括：*<br>\n",
    "    $$(克劳德.香浓) Entropy = -\\sum_{i=i}^c p(i|t)log_2p(i|t)。其中 p(i|t)标示给定节点t中数据类i的记录所占的比例$$\n",
    "    $$(基尼系数) Gini = 1-\\sum_{i=i}^c [p(i|t)]^2 。其中p(i|t)标示给定节点t中数据类i的记录所占的比例$$\n",
    "    $$（分类误差）Classification error = 1-max[p(i|t)]$$<br>\n",
    "    为了确定测试条件效果，我们需要比较父节点（划分前）的不纯度和子女节点（划分后）的不纯度，他们的差越大，测试条件就越好。增益 $$\\nabla = I(parent) - \\sum_{j=i}^k \\frac{N(v_j)}{N}I(v_j)。$$\n",
    "    $$其中I(.)是给定节点的不纯性度量，N是父节点上的记录总数，k是属性值得个数，N(v_j)是与子女节点 v_j 相关的记录个数$$<br>\n",
    "    决策树归纳算法通常选择最大化增益测试条件，因为对所有的测试条件来说，I(parent)是一个不变值，所以最大化增益等价于最小化子女节点的不纯性度量的加权平均值。\n",
    "</p>\n",
    "<p>\n",
    "    **标称属性划分**<br>\n",
    "    　　*标称属性可以是二元划分的也可是多路划分的。如图，二元划分的Gini指标与二元属性类似。对车型属性第一种二元分组{“运动”，“豪华”}的Gini指标是0.49922，而{“家用”}的Gini指标是0.3750。改分组的Gini指标的加权平均是$$（16/20）* 0.4922 + （4/20）*0.3750 = 0.486$$类似的对第二种分组{“运动”}和{“家用”，“豪华”}的Gini加权平均是 0.167 第二种分钟的Gini指标相对较低，因为对应的子集纯度高得多。对于多路划分，需要计算每个属性值得Gini指标。Gini({“家用”})=0.375、Gini({“运动”})=0，Gini({“豪华”})=0.219，多路划分的总Gini指标等于：$$4/10 * 0.375 + 8/20 * 0 + 8/20 * 0.219 = 0.163$$多路划分的Gini指标比两个二元划分都小。这一结果并不奇怪，因为二元划分实际上合并了多路划分的某些输出，自然降低了子集纯度\n",
    "    <img src=\"img/biao_cheng_shu_xing_hua_fen.jpg\">*\n",
    "</p>\n",
    "<p>\n",
    "**增益率：**<br> \n",
    "　　*熵和Gini 指标等不纯性度量趋向有利于大量不同值的属性。如下图显示三种可供选择的测试条件。第一个测试条件“性别”与第二个测试条件“车型”相比容易看出车型似乎提供更好的划分，因为他产生更纯的派生节点。然而，如果将这两个条件和用户ID相比，后者看来产生更纯的划分，但客户ID去不是一个预测性的属性，因为每个该样本在该属性上都是值唯一的，及时在不太极端的情况下，也不会希望产生大量输出测试条件，因为与每个划分相关的记录太少，以至于不能做出可靠的预测。*<br>\n",
    "　　*解决该问题的策略有两种。第一种策略就是限制测试条件只能是二元分化，CART这样的树算法就是采用这种策略；另一种策略就是修改评估划分标准，把属性测试条件产生的输出也考虑进去，例如:决策树算法C4.5采用 **增益率** 的划分标准来评估划分，曾义的定义如下：$$Cain rate = \\frac{\\nabla_{info}= I（parent）-\\sum_{i=0}^{k_x}\\frac{N(v_i)}{N}I(v_i)}{Split Info = -\\sum_{i=1}^{k_y} P(v_i)log_2P(v_i)}。 k_y 是划分总数,k_x 属性个数 $$.例如：如果每个属性值具有相同记录书，则存在$P(v_i)=\\frac{1}{k}$，而划分信息等于$log_2k$*\n",
    "    <img src=\"img/zeng_yi_lv.jpg\">\n",
    "</p>\n",
    "<p>\n",
    "**决策树归纳特点**<br>\n",
    "　　１、决策树是构建一种分类模型的非参数方法。换句话说它不需要任何先验假设，不假定类和其他属性服从一定的概率分布\n",
    "</p>"
   ]
  },
  {
   "cell_type": "code",
   "execution_count": 40,
   "metadata": {},
   "outputs": [],
   "source": [
    "from math import log\n",
    "def calcShannonEnt(dataSet):\n",
    "    #display(dataSet)\n",
    "    numEntries = len(dataSet)\n",
    "    labelCounts = {}\n",
    "    for featVec in dataSet:\n",
    "        #display(featVec)\n",
    "        currentLabel = featVec[-1]\n",
    "        '''类别统计'''\n",
    "        if currentLabel not in labelCounts.keys():\n",
    "            labelCounts[currentLabel] = 1\n",
    "        else:\n",
    "            labelCounts[currentLabel] += 1\n",
    "    shannonEnt = 0.0 #不纯度\n",
    "    #display(labelCounts)\n",
    "    for key in labelCounts:\n",
    "        display(key)\n",
    "        prob = float(labelCounts[key])/numEntries #每个类别的比值\n",
    "        display(prob)\n",
    "        shannonEnt =shannonEnt- prob * log(prob,2) #分步计算不纯度\n",
    "    return shannonEnt\n",
    "'''\n",
    "    简单测试数据\n",
    "'''\n",
    "def createDataSet():\n",
    "    dataSet=[[1,1,'yes'],[1,1,'yes'],[1,0,'no'],[0,1,'no'],[0,1,'no']]\n",
    "    dataFrame={'能否浮处水面':[1,1,1,0,0],\n",
    "               '是否有脚蹼':[1,1,0,1,1],'结果':['yes','yes','no','no','no']}\n",
    "    labels = ['no surfacing','flippers']\n",
    "    return dataSet,labels,dataFrame\n",
    "\n",
    "'''\n",
    "获取数据集的特征值\n",
    "'''\n",
    "def splitDataSet(dataSet,axis,value):\n",
    "    retDataSet = [] \n",
    "    for featVec   in  dataSet :\n",
    "        if featVec[axis] == value :\n",
    "            reducedFeatVec = featVec[:axis] # axis = 0 、1  \n",
    "            reducedFeatVec.extend(featVec[axis+1 :])\n",
    "            retDataSet.append(reducedFeatVec)\n",
    "    return retDataSet\n",
    "'''\n",
    "计算最大信息熵\n",
    "'''\n",
    "def chooseBestFeatureToSplit(dataSet):\n",
    "    numFeature = len(dataSet[0]) -1 # 去除结果\n",
    "    bastEntropy = calcShannonEnt(dataSet) #父节点不纯度\n",
    "    bestInfoGain = 0.0  #最好的信息增益\n",
    "    bestFeature = -1 # 最好的特征分类\n",
    "    for i in range(numFeature):\n",
    "        featList = [example[i] for example in dataSet]  #每个属性的特征集\n",
    "        #display(featList)\n",
    "        uniqueVals = set(featList)  #对特征集进行去重\n",
    "        newEntropy = 0.0  #当前划分的不纯度\n",
    "        for value in uniqueVals: # 属性个数\n",
    "            subDataSet = splitDataSet(dataSet,i,value) # 属性划分\n",
    "            prob = len(subDataSet)/float(len(dataSet)) # 计算划分子女节点比值\n",
    "            newEntropy = newEntropy + prob* calcShannonEnt(subDataSet) # 分步计算子女不纯度值\n",
    "        infGain = bastEntropy -newEntropy  #熵差即为信息增益\n",
    "        if(infGain > bestInfoGain): #不纯度越小则最优作为子女节点\n",
    "            bestInfoGain = infGain\n",
    "            bestFeature = i\n",
    "    return bestFeature #最优属性划分\n",
    "'''\n",
    "C4.5\n",
    "'''\n",
    "def chooseBestFeatureToSplitOfC4_5(dataSet):\n",
    "    numFeature = len(dataSet[0]) -1 # 去除结果\n",
    "    bastEntropy = calcShannonEnt(dataSet) #父节点不纯度\n",
    "    bestInfoGain = 0.0  #最好的信息增益\n",
    "    bestFeature = -1 # 最好的特征分类\n",
    "    bestCainRatio=0.0\n",
    "    for i in range(numFeature):\n",
    "        featList = [example[i] for example in dataSet]  #每个属性的特征集\n",
    "        #display(featList)\n",
    "        uniqueVals = set(featList)  #对特征集进行去重\n",
    "        newEntropy = 0.0  #当前划分的不纯度\n",
    "        for value in uniqueVals: # 属性个数\n",
    "            subDataSet = splitDataSet(dataSet,i,value) # 属性划分\n",
    "            prob = len(subDataSet)/float(len(dataSet)) # 计算划分子女节点比值\n",
    "        infGain = bastEntropy -newEntropy  #熵差即为信息增益\n",
    "        if newEntropy != 0:\n",
    "            cainRatio = infGain/float(newEntropy)\n",
    "        else :\n",
    "            cainRatio=1.0\n",
    "        if(cainRatio > bestCainRatio): #不纯度越小则最优作为子女节点\n",
    "            bestCainRatio = cainRatio\n",
    "            bestFeature = i\n",
    "    return bestFeature #最优属性划分\n",
    "'''\n",
    "获取最优标志分类\n",
    "'''\n",
    "def majorityCnt(classList):\n",
    "    classCount={}\n",
    "    for vote in classList:\n",
    "        if vote not in classCount.keys():\n",
    "            classCount[vote] =1\n",
    "        else:\n",
    "            classCount[vote] +=1\n",
    "    sortedClassCount = sorted(classCount.iteritems(),\n",
    "                             key=operator.itemgetter(1),reverse=True)\n",
    "    return sortedClassCount[0][0]\n",
    "'''\n",
    "构造树数据结构\n",
    "'''\n",
    "def createTree(dataSet,labels):\n",
    "    classList = [example[-1] for example in dataSet] # 获得数据集，结果\n",
    "    #display(classList)\n",
    "    if (classList.count(classList[0])== len(classList)) :  # 类别完全相同则停止划分\n",
    "        return classList[0]\n",
    "    if (len(dataSet[0]) ==1):\n",
    "        #print \"dataSet.length %d\" %len(dataSet[0])\n",
    "        #display(dataSet)\n",
    "        return majorityCnt(classList=classList)\n",
    "    \n",
    "    #获取具有最大信息熵特征值虽在列索引\n",
    "    bestFeat = chooseBestFeatureToSplit(dataSet=dataSet) \n",
    "    #bestFeat = chooseBestFeatureToSplitOfC4_5(dataSet=dataSet) \n",
    "    #print bestFeat\n",
    "    #print labels\n",
    "    bestFeatLabel = labels[bestFeat] #最优属性名\n",
    "    myTree = {bestFeatLabel:{}}\n",
    "    del(labels[bestFeat])\n",
    "    \n",
    "    #获取当前数据集最大信息熵特征列集合\n",
    "    featValues = [example[bestFeat] for example in dataSet] \n",
    "    uniqueVals = set(featValues) #当前特征值列的不重复特征\n",
    "    for value in uniqueVals:\n",
    "        subLabels = labels[:]\n",
    "        #splitDataSet(dataSet,bestFeat,value) 计算当前特征列 值为value的 数据集\n",
    "        #display(splitDataSet(dataSet,bestFeat,value))\n",
    "        myTree[bestFeatLabel][value] = createTree(\n",
    "            splitDataSet(dataSet,bestFeat,value),subLabels)\n",
    "    return myTree\n",
    "                       \n",
    "        \n",
    "                       "
   ]
  },
  {
   "cell_type": "code",
   "execution_count": 20,
   "metadata": {},
   "outputs": [
    {
     "data": {
      "text/html": [
       "<div>\n",
       "<style>\n",
       "    .dataframe thead tr:only-child th {\n",
       "        text-align: right;\n",
       "    }\n",
       "\n",
       "    .dataframe thead th {\n",
       "        text-align: left;\n",
       "    }\n",
       "\n",
       "    .dataframe tbody tr th {\n",
       "        vertical-align: top;\n",
       "    }\n",
       "</style>\n",
       "<table border=\"1\" class=\"dataframe\">\n",
       "  <thead>\n",
       "    <tr style=\"text-align: right;\">\n",
       "      <th></th>\n",
       "      <th>是否有脚蹼</th>\n",
       "      <th>结果</th>\n",
       "      <th>能否浮处水面</th>\n",
       "    </tr>\n",
       "  </thead>\n",
       "  <tbody>\n",
       "    <tr>\n",
       "      <th>0</th>\n",
       "      <td>1</td>\n",
       "      <td>yes</td>\n",
       "      <td>1</td>\n",
       "    </tr>\n",
       "    <tr>\n",
       "      <th>1</th>\n",
       "      <td>1</td>\n",
       "      <td>yes</td>\n",
       "      <td>1</td>\n",
       "    </tr>\n",
       "    <tr>\n",
       "      <th>2</th>\n",
       "      <td>0</td>\n",
       "      <td>no</td>\n",
       "      <td>1</td>\n",
       "    </tr>\n",
       "    <tr>\n",
       "      <th>3</th>\n",
       "      <td>1</td>\n",
       "      <td>no</td>\n",
       "      <td>0</td>\n",
       "    </tr>\n",
       "    <tr>\n",
       "      <th>4</th>\n",
       "      <td>1</td>\n",
       "      <td>no</td>\n",
       "      <td>0</td>\n",
       "    </tr>\n",
       "  </tbody>\n",
       "</table>\n",
       "</div>"
      ],
      "text/plain": [
       "   是否有脚蹼   结果  能否浮处水面\n",
       "0      1  yes       1\n",
       "1      1  yes       1\n",
       "2      0   no       1\n",
       "3      1   no       0\n",
       "4      1   no       0"
      ]
     },
     "metadata": {},
     "output_type": "display_data"
    },
    {
     "data": {
      "text/plain": [
       "['no surfacing', 'flippers']"
      ]
     },
     "metadata": {},
     "output_type": "display_data"
    },
    {
     "data": {
      "text/plain": [
       "['yes', 'yes', 'no', 'no', 'no']"
      ]
     },
     "metadata": {},
     "output_type": "display_data"
    },
    {
     "name": "stdout",
     "output_type": "stream",
     "text": [
      "0\n",
      "['no surfacing', 'flippers']\n"
     ]
    },
    {
     "data": {
      "text/plain": [
       "['no', 'no']"
      ]
     },
     "metadata": {},
     "output_type": "display_data"
    },
    {
     "data": {
      "text/plain": [
       "['yes', 'yes', 'no']"
      ]
     },
     "metadata": {},
     "output_type": "display_data"
    },
    {
     "name": "stdout",
     "output_type": "stream",
     "text": [
      "0\n",
      "['flippers']\n"
     ]
    },
    {
     "data": {
      "text/plain": [
       "['no']"
      ]
     },
     "metadata": {},
     "output_type": "display_data"
    },
    {
     "data": {
      "text/plain": [
       "['yes', 'yes']"
      ]
     },
     "metadata": {},
     "output_type": "display_data"
    }
   ],
   "source": [
    "myData,labels,dataFrame = createDataSet()\n",
    "df = pd.DataFrame(dataFrame)\n",
    "display(df)\n",
    "display(labels)\n",
    "#display(createTree(myData,labels=labels))\n",
    "#chooseBestFeatureToSplit(myData)\n",
    "tree  = createTree(myData,labels)\n",
    "myData,labels,dataFrame = createDataSet()"
   ]
  },
  {
   "cell_type": "code",
   "execution_count": 21,
   "metadata": {},
   "outputs": [],
   "source": [
    "decisionNode = dict(boxstyle=\"sawtooth\",fc=\"0.8\")\n",
    "leafNode = dict(boxstyle=\"round4\",fc=\"0.8\")\n",
    "arrow_args = dict(arrowstyle=\"<-\")\n",
    "\n",
    "'''\n",
    "绘制带箭头的注解\n",
    "'''\n",
    "def plotNode(nodeText,centerPt,parentPt,noteType):\n",
    "    createPlot.ax1.annotate(nodeText,xy=parentPt,xycoords=\"axes fraction\"\n",
    "                           ,xytext=centerPt,textcoords='axes fraction'\n",
    "                           ,va =\"center\",ha=\"center\",bbox=noteType,arrowprops=arrow_args)\n",
    "'''\n",
    "获取树的叶子节点\n",
    "'''\n",
    "def getNumLeafs(myTree):\n",
    "    numLeafs = 0\n",
    "    firstStr = myTree.keys()[0]\n",
    "    #display(firstStr)\n",
    "    secondDict = myTree[firstStr]\n",
    "    for key in secondDict.keys():\n",
    "        if type(secondDict[key]).__name__ == 'dict':\n",
    "            numLeafs += getNumLeafs(secondDict[key])\n",
    "        else:\n",
    "            numLeafs +=1\n",
    "    return numLeafs\n",
    "'''\n",
    "    计算树深度\n",
    "'''\n",
    "def getTreeDepth(myTree):\n",
    "    maxDepth = 0\n",
    "    firstStr = myTree.keys()[0]\n",
    "    secondDic = myTree[firstStr]\n",
    "    for key in secondDic.keys():\n",
    "        if type(secondDic[key]).__name__ == \"dict\":\n",
    "            thisDepth = 1 +  getTreeDepth(secondDic[key])\n",
    "        else:\n",
    "            thisDepth =1\n",
    "        #print \"key:%s ,thisDepth:%d ,maxDepth:%s\"%(key,thisDepth,maxDepth)\n",
    "        if thisDepth > maxDepth :\n",
    "            maxDepth = thisDepth\n",
    "    return maxDepth\n",
    "'''\n",
    "计算两节点的中心距离 添加类标号\n",
    "'''      \n",
    "def plotMidText(centerPt,parentPt,textString):\n",
    "    #print \"parentPt:[%d,%d]\" %(parentPt[0],parentPt[1])\n",
    "    #print \"centerPt:[%d,%d]\" %(centerPt[0],centerPt[1])\n",
    "    xMid = (parentPt[0]-centerPt[0])/2.0 + centerPt[0]\n",
    "    yMid = (parentPt[1]-centerPt[1])/2.0 + centerPt[1]\n",
    "    #print xMid\n",
    "    #print yMid\n",
    "    createPlot.ax1.text(xMid,yMid,textString.decode(\"utf-8\"))\n",
    "'''\n",
    "构造树对象\n",
    "'''\n",
    "def plotTree(myTree,parentPt,nodeText):\n",
    "    numLeafs = getNumLeafs(myTree)\n",
    "    depth = getTreeDepth(myTree)\n",
    "    firstStr = myTree.keys()[0]\n",
    "    centerPt =(plotTree.xOff+(1.0+ float(numLeafs))/2.0/plotTree.totalW,plotTree.yOff)\n",
    "    #centerPt =(float(numLeafs)/2.0/plotTree.totalW,plotTree.yOff)\n",
    "    #print centerPt\n",
    "    plotMidText(centerPt,parentPt,nodeText)\n",
    "    plotNode(firstStr,centerPt,parentPt,decisionNode)\n",
    "    secondeDict = myTree[firstStr]\n",
    "    plotTree.yOff = plotTree.yOff- 1.0/plotTree.totalD\n",
    "    for key in secondeDict.keys():\n",
    "        if type(secondeDict[key]).__name__ ==\"dict\":\n",
    "            plotTree(secondeDict[key],centerPt,str(key.encode(\"utf-8\")))\n",
    "        else:\n",
    "            plotTree.xOff =  plotTree.xOff + 1.0 /plotTree.totalW\n",
    "            plotNode(secondeDict[key],(plotTree.xOff,plotTree.yOff),centerPt,leafNode)\n",
    "            plotMidText((plotTree.xOff,plotTree.yOff),centerPt,str(key.encode(\"utf-8\")))\n",
    "    plotTree.yOff =plotTree.yOff + 1.0/plotTree.totalD #画完子树回复坐标\n",
    "def createPlot(inTree):\n",
    "    fig = plt.figure(1,facecolor='white')\n",
    "    fig.clf()\n",
    "    axprops = dict(xticks=[],yticks=[])\n",
    "    createPlot.ax1 = plt.subplot(111,frameon=False,**axprops)\n",
    "    plotTree.totalW = float(getNumLeafs(inTree)) # 宽\n",
    "    plotTree.totalD = float(getTreeDepth(inTree)) # 高\n",
    "    plotTree.xOff = -0.5/plotTree.totalW\n",
    "    #plotTree.xOff = 0\n",
    "    plotTree.yOff = 1.0\n",
    "    plotTree(inTree,(0.5,1.0),'') \n",
    "    plt.show()\n",
    "    \n",
    "'''\n",
    "决策树分类\n",
    "'''\n",
    "def classify(inputTree,featLabels,testVec):\n",
    "    firstStr = inputTree.keys()[0]\n",
    "    secondDict = inputTree[firstStr]\n",
    "    featIndex = featLabels.index(firstStr)\n",
    "    for key in secondDict.keys():\n",
    "        if testVec[featIndex] == key:\n",
    "            if type(secondDict[key]).__name__ == \"dict\":\n",
    "                classLabel=classify(secondDict[key],featLabels,testVec)\n",
    "                print classLabel\n",
    "            else:\n",
    "                classLabel =secondDict[key]\n",
    "                print classLabel\n",
    "    return classLabel\n",
    "def storeTree(inputTree,fileName) :\n",
    "    import pickle\n",
    "    fw = open(fileName,'w')\n",
    "    pickle.dump(inputTree,fw)\n",
    "    fw.close()\n",
    "def grabTree(fileName):\n",
    "    import pickle\n",
    "    fr = open(fileName)\n",
    "    return pickle.load(fr)\n",
    "#tree = createTree(lenses,leneseLabels)\n",
    "#createPlot(tree)"
   ]
  },
  {
   "cell_type": "code",
   "execution_count": 39,
   "metadata": {},
   "outputs": [
    {
     "data": {
      "text/plain": [
       "['no surfacing', 'flippers']"
      ]
     },
     "metadata": {},
     "output_type": "display_data"
    },
    {
     "data": {
      "text/plain": [
       "{u'\\u773c\\u662f\\u5426\\u6e7f\\u6da6': {u'\\u773c\\u5e72': u'\\u4e0d\\u80fd\\u4f69\\u6234',\n",
       "  u'\\u773c\\u6e7f\\u6da6': {u'\\u662f\\u5426\\u6563\\u5149': {u'no': {u'\\u5e74\\u9f84': {u'pre': u'\\u8f6f\\u8d28',\n",
       "      u'presbyopic': {u'\\u662f\\u5426\\u8fd1\\u89c6': {u'hyper': u'\\u8f6f\\u8d28',\n",
       "        u'myope': u'\\u4e0d\\u80fd\\u4f69\\u6234'}},\n",
       "      u'young': u'\\u8f6f\\u8d28'}},\n",
       "    u'yes': {u'\\u662f\\u5426\\u8fd1\\u89c6': {u'hyper': {u'\\u5e74\\u9f84': {u'pre': u'\\u4e0d\\u80fd\\u4f69\\u6234',\n",
       "        u'presbyopic': u'\\u4e0d\\u80fd\\u4f69\\u6234',\n",
       "        u'young': u'\\u786c\\u8d28'}},\n",
       "      u'myope': u'\\u786c\\u8d28'}}}}}}"
      ]
     },
     "metadata": {},
     "output_type": "display_data"
    },
    {
     "data": {
      "text/html": [
       "<div>\n",
       "<style>\n",
       "    .dataframe thead tr:only-child th {\n",
       "        text-align: right;\n",
       "    }\n",
       "\n",
       "    .dataframe thead th {\n",
       "        text-align: left;\n",
       "    }\n",
       "\n",
       "    .dataframe tbody tr th {\n",
       "        vertical-align: top;\n",
       "    }\n",
       "</style>\n",
       "<table border=\"1\" class=\"dataframe\">\n",
       "  <thead>\n",
       "    <tr style=\"text-align: right;\">\n",
       "      <th></th>\n",
       "      <th>年龄</th>\n",
       "      <th>近视</th>\n",
       "      <th>散光</th>\n",
       "      <th>眼是否湿润</th>\n",
       "      <th>类</th>\n",
       "    </tr>\n",
       "  </thead>\n",
       "  <tbody>\n",
       "    <tr>\n",
       "      <th>0</th>\n",
       "      <td>young</td>\n",
       "      <td>myope</td>\n",
       "      <td>no</td>\n",
       "      <td>眼干</td>\n",
       "      <td>不能佩戴</td>\n",
       "    </tr>\n",
       "    <tr>\n",
       "      <th>1</th>\n",
       "      <td>young</td>\n",
       "      <td>myope</td>\n",
       "      <td>no</td>\n",
       "      <td>眼湿润</td>\n",
       "      <td>软质</td>\n",
       "    </tr>\n",
       "    <tr>\n",
       "      <th>2</th>\n",
       "      <td>young</td>\n",
       "      <td>myope</td>\n",
       "      <td>yes</td>\n",
       "      <td>眼干</td>\n",
       "      <td>不能佩戴</td>\n",
       "    </tr>\n",
       "    <tr>\n",
       "      <th>3</th>\n",
       "      <td>young</td>\n",
       "      <td>myope</td>\n",
       "      <td>yes</td>\n",
       "      <td>眼湿润</td>\n",
       "      <td>硬质</td>\n",
       "    </tr>\n",
       "    <tr>\n",
       "      <th>4</th>\n",
       "      <td>young</td>\n",
       "      <td>hyper</td>\n",
       "      <td>no</td>\n",
       "      <td>眼干</td>\n",
       "      <td>不能佩戴</td>\n",
       "    </tr>\n",
       "  </tbody>\n",
       "</table>\n",
       "</div>"
      ],
      "text/plain": [
       "      年龄     近视   散光 眼是否湿润     类\n",
       "0  young  myope   no    眼干  不能佩戴\n",
       "1  young  myope   no   眼湿润    软质\n",
       "2  young  myope  yes    眼干  不能佩戴\n",
       "3  young  myope  yes   眼湿润    硬质\n",
       "4  young  hyper   no    眼干  不能佩戴"
      ]
     },
     "metadata": {},
     "output_type": "display_data"
    },
    {
     "data": {
      "text/plain": [
       "u'\\u4e0d\\u80fd\\u4f69\\u6234'"
      ]
     },
     "metadata": {},
     "output_type": "display_data"
    },
    {
     "data": {
      "text/plain": [
       "0.625"
      ]
     },
     "metadata": {},
     "output_type": "display_data"
    },
    {
     "data": {
      "text/plain": [
       "u'\\u786c\\u8d28'"
      ]
     },
     "metadata": {},
     "output_type": "display_data"
    },
    {
     "data": {
      "text/plain": [
       "0.16666666666666666"
      ]
     },
     "metadata": {},
     "output_type": "display_data"
    },
    {
     "data": {
      "text/plain": [
       "u'\\u8f6f\\u8d28'"
      ]
     },
     "metadata": {},
     "output_type": "display_data"
    },
    {
     "data": {
      "text/plain": [
       "0.20833333333333334"
      ]
     },
     "metadata": {},
     "output_type": "display_data"
    },
    {
     "data": {
      "text/plain": [
       "u'\\u4e0d\\u80fd\\u4f69\\u6234'"
      ]
     },
     "metadata": {},
     "output_type": "display_data"
    },
    {
     "data": {
      "text/plain": [
       "0.625"
      ]
     },
     "metadata": {},
     "output_type": "display_data"
    },
    {
     "data": {
      "text/plain": [
       "u'\\u786c\\u8d28'"
      ]
     },
     "metadata": {},
     "output_type": "display_data"
    },
    {
     "data": {
      "text/plain": [
       "0.125"
      ]
     },
     "metadata": {},
     "output_type": "display_data"
    },
    {
     "data": {
      "text/plain": [
       "u'\\u8f6f\\u8d28'"
      ]
     },
     "metadata": {},
     "output_type": "display_data"
    },
    {
     "data": {
      "text/plain": [
       "0.25"
      ]
     },
     "metadata": {},
     "output_type": "display_data"
    },
    {
     "data": {
      "text/plain": [
       "u'\\u4e0d\\u80fd\\u4f69\\u6234'"
      ]
     },
     "metadata": {},
     "output_type": "display_data"
    },
    {
     "data": {
      "text/plain": [
       "0.75"
      ]
     },
     "metadata": {},
     "output_type": "display_data"
    },
    {
     "data": {
      "text/plain": [
       "u'\\u8f6f\\u8d28'"
      ]
     },
     "metadata": {},
     "output_type": "display_data"
    },
    {
     "data": {
      "text/plain": [
       "0.25"
      ]
     },
     "metadata": {},
     "output_type": "display_data"
    },
    {
     "data": {
      "text/plain": [
       "u'\\u4e0d\\u80fd\\u4f69\\u6234'"
      ]
     },
     "metadata": {},
     "output_type": "display_data"
    },
    {
     "data": {
      "text/plain": [
       "0.5"
      ]
     },
     "metadata": {},
     "output_type": "display_data"
    },
    {
     "data": {
      "text/plain": [
       "u'\\u8f6f\\u8d28'"
      ]
     },
     "metadata": {},
     "output_type": "display_data"
    },
    {
     "data": {
      "text/plain": [
       "0.5"
      ]
     },
     "metadata": {},
     "output_type": "display_data"
    },
    {
     "data": {
      "text/plain": [
       "u'\\u4e0d\\u80fd\\u4f69\\u6234'"
      ]
     },
     "metadata": {},
     "output_type": "display_data"
    },
    {
     "data": {
      "text/plain": [
       "0.5"
      ]
     },
     "metadata": {},
     "output_type": "display_data"
    },
    {
     "data": {
      "text/plain": [
       "u'\\u786c\\u8d28'"
      ]
     },
     "metadata": {},
     "output_type": "display_data"
    },
    {
     "data": {
      "text/plain": [
       "0.25"
      ]
     },
     "metadata": {},
     "output_type": "display_data"
    },
    {
     "data": {
      "text/plain": [
       "u'\\u8f6f\\u8d28'"
      ]
     },
     "metadata": {},
     "output_type": "display_data"
    },
    {
     "data": {
      "text/plain": [
       "0.25"
      ]
     },
     "metadata": {},
     "output_type": "display_data"
    },
    {
     "data": {
      "text/plain": [
       "u'\\u4e0d\\u80fd\\u4f69\\u6234'"
      ]
     },
     "metadata": {},
     "output_type": "display_data"
    },
    {
     "data": {
      "text/plain": [
       "0.5"
      ]
     },
     "metadata": {},
     "output_type": "display_data"
    },
    {
     "data": {
      "text/plain": [
       "u'\\u786c\\u8d28'"
      ]
     },
     "metadata": {},
     "output_type": "display_data"
    },
    {
     "data": {
      "text/plain": [
       "0.5"
      ]
     },
     "metadata": {},
     "output_type": "display_data"
    },
    {
     "data": {
      "text/plain": [
       "u'\\u4e0d\\u80fd\\u4f69\\u6234'"
      ]
     },
     "metadata": {},
     "output_type": "display_data"
    },
    {
     "data": {
      "text/plain": [
       "0.5"
      ]
     },
     "metadata": {},
     "output_type": "display_data"
    },
    {
     "data": {
      "text/plain": [
       "u'\\u8f6f\\u8d28'"
      ]
     },
     "metadata": {},
     "output_type": "display_data"
    },
    {
     "data": {
      "text/plain": [
       "0.5"
      ]
     },
     "metadata": {},
     "output_type": "display_data"
    },
    {
     "data": {
      "text/plain": [
       "u'\\u4e0d\\u80fd\\u4f69\\u6234'"
      ]
     },
     "metadata": {},
     "output_type": "display_data"
    },
    {
     "data": {
      "text/plain": [
       "0.75"
      ]
     },
     "metadata": {},
     "output_type": "display_data"
    },
    {
     "data": {
      "text/plain": [
       "u'\\u786c\\u8d28'"
      ]
     },
     "metadata": {},
     "output_type": "display_data"
    },
    {
     "data": {
      "text/plain": [
       "0.125"
      ]
     },
     "metadata": {},
     "output_type": "display_data"
    },
    {
     "data": {
      "text/plain": [
       "u'\\u8f6f\\u8d28'"
      ]
     },
     "metadata": {},
     "output_type": "display_data"
    },
    {
     "data": {
      "text/plain": [
       "0.125"
      ]
     },
     "metadata": {},
     "output_type": "display_data"
    },
    {
     "data": {
      "text/plain": [
       "u'\\u4e0d\\u80fd\\u4f69\\u6234'"
      ]
     },
     "metadata": {},
     "output_type": "display_data"
    },
    {
     "data": {
      "text/plain": [
       "0.75"
      ]
     },
     "metadata": {},
     "output_type": "display_data"
    },
    {
     "data": {
      "text/plain": [
       "u'\\u8f6f\\u8d28'"
      ]
     },
     "metadata": {},
     "output_type": "display_data"
    },
    {
     "data": {
      "text/plain": [
       "0.25"
      ]
     },
     "metadata": {},
     "output_type": "display_data"
    },
    {
     "data": {
      "text/plain": [
       "u'\\u4e0d\\u80fd\\u4f69\\u6234'"
      ]
     },
     "metadata": {},
     "output_type": "display_data"
    },
    {
     "data": {
      "text/plain": [
       "0.5"
      ]
     },
     "metadata": {},
     "output_type": "display_data"
    },
    {
     "data": {
      "text/plain": [
       "u'\\u8f6f\\u8d28'"
      ]
     },
     "metadata": {},
     "output_type": "display_data"
    },
    {
     "data": {
      "text/plain": [
       "0.5"
      ]
     },
     "metadata": {},
     "output_type": "display_data"
    },
    {
     "data": {
      "text/plain": [
       "u'\\u4e0d\\u80fd\\u4f69\\u6234'"
      ]
     },
     "metadata": {},
     "output_type": "display_data"
    },
    {
     "data": {
      "text/plain": [
       "0.75"
      ]
     },
     "metadata": {},
     "output_type": "display_data"
    },
    {
     "data": {
      "text/plain": [
       "u'\\u786c\\u8d28'"
      ]
     },
     "metadata": {},
     "output_type": "display_data"
    },
    {
     "data": {
      "text/plain": [
       "0.25"
      ]
     },
     "metadata": {},
     "output_type": "display_data"
    },
    {
     "data": {
      "text/plain": [
       "u'\\u4e0d\\u80fd\\u4f69\\u6234'"
      ]
     },
     "metadata": {},
     "output_type": "display_data"
    },
    {
     "data": {
      "text/plain": [
       "0.5"
      ]
     },
     "metadata": {},
     "output_type": "display_data"
    },
    {
     "data": {
      "text/plain": [
       "u'\\u786c\\u8d28'"
      ]
     },
     "metadata": {},
     "output_type": "display_data"
    },
    {
     "data": {
      "text/plain": [
       "0.5"
      ]
     },
     "metadata": {},
     "output_type": "display_data"
    },
    {
     "data": {
      "text/plain": [
       "u'\\u4e0d\\u80fd\\u4f69\\u6234'"
      ]
     },
     "metadata": {},
     "output_type": "display_data"
    },
    {
     "data": {
      "text/plain": [
       "0.5"
      ]
     },
     "metadata": {},
     "output_type": "display_data"
    },
    {
     "data": {
      "text/plain": [
       "u'\\u786c\\u8d28'"
      ]
     },
     "metadata": {},
     "output_type": "display_data"
    },
    {
     "data": {
      "text/plain": [
       "0.25"
      ]
     },
     "metadata": {},
     "output_type": "display_data"
    },
    {
     "data": {
      "text/plain": [
       "u'\\u8f6f\\u8d28'"
      ]
     },
     "metadata": {},
     "output_type": "display_data"
    },
    {
     "data": {
      "text/plain": [
       "0.25"
      ]
     },
     "metadata": {},
     "output_type": "display_data"
    },
    {
     "data": {
      "text/plain": [
       "u'\\u4e0d\\u80fd\\u4f69\\u6234'"
      ]
     },
     "metadata": {},
     "output_type": "display_data"
    },
    {
     "data": {
      "text/plain": [
       "0.5"
      ]
     },
     "metadata": {},
     "output_type": "display_data"
    },
    {
     "data": {
      "text/plain": [
       "u'\\u786c\\u8d28'"
      ]
     },
     "metadata": {},
     "output_type": "display_data"
    },
    {
     "data": {
      "text/plain": [
       "0.25"
      ]
     },
     "metadata": {},
     "output_type": "display_data"
    },
    {
     "data": {
      "text/plain": [
       "u'\\u8f6f\\u8d28'"
      ]
     },
     "metadata": {},
     "output_type": "display_data"
    },
    {
     "data": {
      "text/plain": [
       "0.25"
      ]
     },
     "metadata": {},
     "output_type": "display_data"
    },
    {
     "data": {
      "text/plain": [
       "u'\\u4e0d\\u80fd\\u4f69\\u6234'"
      ]
     },
     "metadata": {},
     "output_type": "display_data"
    },
    {
     "data": {
      "text/plain": [
       "0.5"
      ]
     },
     "metadata": {},
     "output_type": "display_data"
    },
    {
     "data": {
      "text/plain": [
       "u'\\u786c\\u8d28'"
      ]
     },
     "metadata": {},
     "output_type": "display_data"
    },
    {
     "data": {
      "text/plain": [
       "0.5"
      ]
     },
     "metadata": {},
     "output_type": "display_data"
    },
    {
     "data": {
      "text/plain": [
       "u'\\u4e0d\\u80fd\\u4f69\\u6234'"
      ]
     },
     "metadata": {},
     "output_type": "display_data"
    },
    {
     "data": {
      "text/plain": [
       "0.5"
      ]
     },
     "metadata": {},
     "output_type": "display_data"
    },
    {
     "data": {
      "text/plain": [
       "u'\\u8f6f\\u8d28'"
      ]
     },
     "metadata": {},
     "output_type": "display_data"
    },
    {
     "data": {
      "text/plain": [
       "0.5"
      ]
     },
     "metadata": {},
     "output_type": "display_data"
    },
    {
     "data": {
      "text/plain": [
       "u'\\u4e0d\\u80fd\\u4f69\\u6234'"
      ]
     },
     "metadata": {},
     "output_type": "display_data"
    },
    {
     "data": {
      "text/plain": [
       "0.5"
      ]
     },
     "metadata": {},
     "output_type": "display_data"
    },
    {
     "data": {
      "text/plain": [
       "u'\\u786c\\u8d28'"
      ]
     },
     "metadata": {},
     "output_type": "display_data"
    },
    {
     "data": {
      "text/plain": [
       "0.25"
      ]
     },
     "metadata": {},
     "output_type": "display_data"
    },
    {
     "data": {
      "text/plain": [
       "u'\\u8f6f\\u8d28'"
      ]
     },
     "metadata": {},
     "output_type": "display_data"
    },
    {
     "data": {
      "text/plain": [
       "0.25"
      ]
     },
     "metadata": {},
     "output_type": "display_data"
    },
    {
     "data": {
      "text/plain": [
       "u'\\u4e0d\\u80fd\\u4f69\\u6234'"
      ]
     },
     "metadata": {},
     "output_type": "display_data"
    },
    {
     "data": {
      "text/plain": [
       "0.5"
      ]
     },
     "metadata": {},
     "output_type": "display_data"
    },
    {
     "data": {
      "text/plain": [
       "u'\\u786c\\u8d28'"
      ]
     },
     "metadata": {},
     "output_type": "display_data"
    },
    {
     "data": {
      "text/plain": [
       "0.5"
      ]
     },
     "metadata": {},
     "output_type": "display_data"
    },
    {
     "data": {
      "text/plain": [
       "u'\\u4e0d\\u80fd\\u4f69\\u6234'"
      ]
     },
     "metadata": {},
     "output_type": "display_data"
    },
    {
     "data": {
      "text/plain": [
       "0.5"
      ]
     },
     "metadata": {},
     "output_type": "display_data"
    },
    {
     "data": {
      "text/plain": [
       "u'\\u8f6f\\u8d28'"
      ]
     },
     "metadata": {},
     "output_type": "display_data"
    },
    {
     "data": {
      "text/plain": [
       "0.5"
      ]
     },
     "metadata": {},
     "output_type": "display_data"
    },
    {
     "data": {
      "text/plain": [
       "u'\\u5e74\\u9f84'"
      ]
     },
     "metadata": {},
     "output_type": "display_data"
    },
    {
     "data": {
      "text/plain": [
       "u'\\u662f\\u5426\\u8fd1\\u89c6'"
      ]
     },
     "metadata": {},
     "output_type": "display_data"
    },
    {
     "data": {
      "text/plain": [
       "u'\\u662f\\u5426\\u6563\\u5149'"
      ]
     },
     "metadata": {},
     "output_type": "display_data"
    },
    {
     "data": {
      "text/plain": [
       "u'\\u773c\\u662f\\u5426\\u6e7f\\u6da6'"
      ]
     },
     "metadata": {},
     "output_type": "display_data"
    },
    {
     "data": {
      "text/plain": [
       "u'\\u662f\\u5426\\u6563\\u5149'"
      ]
     },
     "metadata": {},
     "output_type": "display_data"
    },
    {
     "data": {
      "text/plain": [
       "u'\\u773c\\u662f\\u5426\\u6e7f\\u6da6'"
      ]
     },
     "metadata": {},
     "output_type": "display_data"
    },
    {
     "data": {
      "text/plain": [
       "u'\\u773c\\u662f\\u5426\\u6e7f\\u6da6'"
      ]
     },
     "metadata": {},
     "output_type": "display_data"
    },
    {
     "data": {
      "text/plain": [
       "u'\\u662f\\u5426\\u8fd1\\u89c6'"
      ]
     },
     "metadata": {},
     "output_type": "display_data"
    },
    {
     "data": {
      "text/plain": [
       "u'\\u662f\\u5426\\u6563\\u5149'"
      ]
     },
     "metadata": {},
     "output_type": "display_data"
    },
    {
     "data": {
      "text/plain": [
       "u'\\u773c\\u662f\\u5426\\u6e7f\\u6da6'"
      ]
     },
     "metadata": {},
     "output_type": "display_data"
    },
    {
     "data": {
      "text/plain": [
       "u'\\u662f\\u5426\\u6563\\u5149'"
      ]
     },
     "metadata": {},
     "output_type": "display_data"
    },
    {
     "data": {
      "text/plain": [
       "u'\\u773c\\u662f\\u5426\\u6e7f\\u6da6'"
      ]
     },
     "metadata": {},
     "output_type": "display_data"
    },
    {
     "data": {
      "text/plain": [
       "u'\\u662f\\u5426\\u8fd1\\u89c6'"
      ]
     },
     "metadata": {},
     "output_type": "display_data"
    },
    {
     "data": {
      "text/plain": [
       "u'\\u662f\\u5426\\u6563\\u5149'"
      ]
     },
     "metadata": {},
     "output_type": "display_data"
    },
    {
     "data": {
      "text/plain": [
       "u'\\u773c\\u662f\\u5426\\u6e7f\\u6da6'"
      ]
     },
     "metadata": {},
     "output_type": "display_data"
    },
    {
     "data": {
      "text/plain": [
       "u'\\u773c\\u662f\\u5426\\u6e7f\\u6da6'"
      ]
     },
     "metadata": {},
     "output_type": "display_data"
    },
    {
     "data": {
      "text/plain": [
       "u'\\u662f\\u5426\\u6563\\u5149'"
      ]
     },
     "metadata": {},
     "output_type": "display_data"
    },
    {
     "data": {
      "text/plain": [
       "u'\\u773c\\u662f\\u5426\\u6e7f\\u6da6'"
      ]
     },
     "metadata": {},
     "output_type": "display_data"
    },
    {
     "data": {
      "text/plain": [
       "u'\\u773c\\u662f\\u5426\\u6e7f\\u6da6'"
      ]
     },
     "metadata": {},
     "output_type": "display_data"
    },
    {
     "data": {
      "text/plain": [
       "u'\\u5e74\\u9f84'"
      ]
     },
     "metadata": {},
     "output_type": "display_data"
    },
    {
     "data": {
      "text/plain": [
       "u'\\u662f\\u5426\\u8fd1\\u89c6'"
      ]
     },
     "metadata": {},
     "output_type": "display_data"
    },
    {
     "data": {
      "text/plain": [
       "u'\\u662f\\u5426\\u6563\\u5149'"
      ]
     },
     "metadata": {},
     "output_type": "display_data"
    },
    {
     "data": {
      "text/plain": [
       "u'\\u773c\\u662f\\u5426\\u6e7f\\u6da6'"
      ]
     },
     "metadata": {},
     "output_type": "display_data"
    },
    {
     "data": {
      "text/plain": [
       "u'\\u662f\\u5426\\u6563\\u5149'"
      ]
     },
     "metadata": {},
     "output_type": "display_data"
    },
    {
     "data": {
      "text/plain": [
       "u'\\u773c\\u662f\\u5426\\u6e7f\\u6da6'"
      ]
     },
     "metadata": {},
     "output_type": "display_data"
    },
    {
     "data": {
      "text/plain": [
       "u'\\u773c\\u662f\\u5426\\u6e7f\\u6da6'"
      ]
     },
     "metadata": {},
     "output_type": "display_data"
    },
    {
     "data": {
      "text/plain": [
       "u'\\u662f\\u5426\\u8fd1\\u89c6'"
      ]
     },
     "metadata": {},
     "output_type": "display_data"
    },
    {
     "data": {
      "text/plain": [
       "u'\\u662f\\u5426\\u6563\\u5149'"
      ]
     },
     "metadata": {},
     "output_type": "display_data"
    },
    {
     "data": {
      "text/plain": [
       "u'\\u773c\\u662f\\u5426\\u6e7f\\u6da6'"
      ]
     },
     "metadata": {},
     "output_type": "display_data"
    },
    {
     "data": {
      "text/plain": [
       "u'\\u662f\\u5426\\u6563\\u5149'"
      ]
     },
     "metadata": {},
     "output_type": "display_data"
    },
    {
     "data": {
      "text/plain": [
       "u'\\u773c\\u662f\\u5426\\u6e7f\\u6da6'"
      ]
     },
     "metadata": {},
     "output_type": "display_data"
    },
    {
     "data": {
      "text/plain": [
       "u'\\u662f\\u5426\\u8fd1\\u89c6'"
      ]
     },
     "metadata": {},
     "output_type": "display_data"
    },
    {
     "data": {
      "text/plain": [
       "u'\\u662f\\u5426\\u6563\\u5149'"
      ]
     },
     "metadata": {},
     "output_type": "display_data"
    },
    {
     "data": {
      "text/plain": [
       "u'\\u773c\\u662f\\u5426\\u6e7f\\u6da6'"
      ]
     },
     "metadata": {},
     "output_type": "display_data"
    },
    {
     "data": {
      "text/plain": [
       "u'\\u773c\\u662f\\u5426\\u6e7f\\u6da6'"
      ]
     },
     "metadata": {},
     "output_type": "display_data"
    },
    {
     "data": {
      "text/plain": [
       "u'\\u662f\\u5426\\u6563\\u5149'"
      ]
     },
     "metadata": {},
     "output_type": "display_data"
    },
    {
     "data": {
      "text/plain": [
       "u'\\u773c\\u662f\\u5426\\u6e7f\\u6da6'"
      ]
     },
     "metadata": {},
     "output_type": "display_data"
    },
    {
     "data": {
      "text/plain": [
       "u'\\u773c\\u662f\\u5426\\u6e7f\\u6da6'"
      ]
     },
     "metadata": {},
     "output_type": "display_data"
    },
    {
     "data": {
      "text/plain": [
       "u'\\u662f\\u5426\\u8fd1\\u89c6'"
      ]
     },
     "metadata": {},
     "output_type": "display_data"
    },
    {
     "data": {
      "text/plain": [
       "u'\\u662f\\u5426\\u6563\\u5149'"
      ]
     },
     "metadata": {},
     "output_type": "display_data"
    },
    {
     "data": {
      "text/plain": [
       "u'\\u773c\\u662f\\u5426\\u6e7f\\u6da6'"
      ]
     },
     "metadata": {},
     "output_type": "display_data"
    },
    {
     "data": {
      "text/plain": [
       "u'\\u662f\\u5426\\u6563\\u5149'"
      ]
     },
     "metadata": {},
     "output_type": "display_data"
    },
    {
     "data": {
      "text/plain": [
       "u'\\u773c\\u662f\\u5426\\u6e7f\\u6da6'"
      ]
     },
     "metadata": {},
     "output_type": "display_data"
    },
    {
     "data": {
      "text/plain": [
       "u'\\u773c\\u662f\\u5426\\u6e7f\\u6da6'"
      ]
     },
     "metadata": {},
     "output_type": "display_data"
    },
    {
     "data": {
      "text/plain": [
       "u'\\u662f\\u5426\\u6563\\u5149'"
      ]
     },
     "metadata": {},
     "output_type": "display_data"
    },
    {
     "data": {
      "text/plain": [
       "u'\\u773c\\u662f\\u5426\\u6e7f\\u6da6'"
      ]
     },
     "metadata": {},
     "output_type": "display_data"
    },
    {
     "data": {
      "text/plain": [
       "u'\\u773c\\u662f\\u5426\\u6e7f\\u6da6'"
      ]
     },
     "metadata": {},
     "output_type": "display_data"
    },
    {
     "data": {
      "text/plain": [
       "u'\\u662f\\u5426\\u6563\\u5149'"
      ]
     },
     "metadata": {},
     "output_type": "display_data"
    },
    {
     "data": {
      "text/plain": [
       "u'\\u773c\\u662f\\u5426\\u6e7f\\u6da6'"
      ]
     },
     "metadata": {},
     "output_type": "display_data"
    },
    {
     "data": {
      "text/plain": [
       "u'\\u773c\\u662f\\u5426\\u6e7f\\u6da6'"
      ]
     },
     "metadata": {},
     "output_type": "display_data"
    },
    {
     "data": {
      "text/plain": [
       "u'\\u773c\\u662f\\u5426\\u6e7f\\u6da6'"
      ]
     },
     "metadata": {},
     "output_type": "display_data"
    },
    {
     "data": {
      "text/plain": [
       "u'\\u773c\\u662f\\u5426\\u6e7f\\u6da6'"
      ]
     },
     "metadata": {},
     "output_type": "display_data"
    },
    {
     "data": {
      "text/plain": [
       "u'\\u662f\\u5426\\u8fd1\\u89c6'"
      ]
     },
     "metadata": {},
     "output_type": "display_data"
    },
    {
     "data": {
      "text/plain": [
       "u'\\u662f\\u5426\\u6563\\u5149'"
      ]
     },
     "metadata": {},
     "output_type": "display_data"
    },
    {
     "data": {
      "text/plain": [
       "u'\\u773c\\u662f\\u5426\\u6e7f\\u6da6'"
      ]
     },
     "metadata": {},
     "output_type": "display_data"
    },
    {
     "data": {
      "text/plain": [
       "u'\\u662f\\u5426\\u6563\\u5149'"
      ]
     },
     "metadata": {},
     "output_type": "display_data"
    },
    {
     "data": {
      "text/plain": [
       "u'\\u773c\\u662f\\u5426\\u6e7f\\u6da6'"
      ]
     },
     "metadata": {},
     "output_type": "display_data"
    },
    {
     "data": {
      "text/plain": [
       "u'\\u662f\\u5426\\u6563\\u5149'"
      ]
     },
     "metadata": {},
     "output_type": "display_data"
    },
    {
     "data": {
      "text/plain": [
       "u'\\u773c\\u662f\\u5426\\u6e7f\\u6da6'"
      ]
     },
     "metadata": {},
     "output_type": "display_data"
    },
    {
     "data": {
      "text/plain": [
       "u'\\u773c\\u662f\\u5426\\u6e7f\\u6da6'"
      ]
     },
     "metadata": {},
     "output_type": "display_data"
    },
    {
     "data": {
      "text/plain": [
       "u'\\u662f\\u5426\\u6563\\u5149'"
      ]
     },
     "metadata": {},
     "output_type": "display_data"
    },
    {
     "data": {
      "text/plain": [
       "u'\\u773c\\u662f\\u5426\\u6e7f\\u6da6'"
      ]
     },
     "metadata": {},
     "output_type": "display_data"
    },
    {
     "data": {
      "text/plain": [
       "u'\\u773c\\u662f\\u5426\\u6e7f\\u6da6'"
      ]
     },
     "metadata": {},
     "output_type": "display_data"
    },
    {
     "data": {
      "text/plain": [
       "u'\\u662f\\u5426\\u8fd1\\u89c6'"
      ]
     },
     "metadata": {},
     "output_type": "display_data"
    },
    {
     "data": {
      "text/plain": [
       "u'\\u662f\\u5426\\u6563\\u5149'"
      ]
     },
     "metadata": {},
     "output_type": "display_data"
    },
    {
     "data": {
      "text/plain": [
       "u'\\u773c\\u662f\\u5426\\u6e7f\\u6da6'"
      ]
     },
     "metadata": {},
     "output_type": "display_data"
    },
    {
     "data": {
      "text/plain": [
       "u'\\u773c\\u662f\\u5426\\u6e7f\\u6da6'"
      ]
     },
     "metadata": {},
     "output_type": "display_data"
    },
    {
     "data": {
      "text/plain": [
       "u'\\u662f\\u5426\\u6563\\u5149'"
      ]
     },
     "metadata": {},
     "output_type": "display_data"
    },
    {
     "data": {
      "text/plain": [
       "u'\\u773c\\u662f\\u5426\\u6e7f\\u6da6'"
      ]
     },
     "metadata": {},
     "output_type": "display_data"
    },
    {
     "data": {
      "text/plain": [
       "u'\\u773c\\u662f\\u5426\\u6e7f\\u6da6'"
      ]
     },
     "metadata": {},
     "output_type": "display_data"
    },
    {
     "data": {
      "text/plain": [
       "u'\\u662f\\u5426\\u6563\\u5149'"
      ]
     },
     "metadata": {},
     "output_type": "display_data"
    },
    {
     "data": {
      "text/plain": [
       "u'\\u773c\\u662f\\u5426\\u6e7f\\u6da6'"
      ]
     },
     "metadata": {},
     "output_type": "display_data"
    },
    {
     "data": {
      "text/plain": [
       "u'\\u773c\\u662f\\u5426\\u6e7f\\u6da6'"
      ]
     },
     "metadata": {},
     "output_type": "display_data"
    },
    {
     "data": {
      "text/plain": [
       "u'\\u773c\\u662f\\u5426\\u6e7f\\u6da6'"
      ]
     },
     "metadata": {},
     "output_type": "display_data"
    },
    {
     "data": {
      "text/plain": [
       "u'\\u773c\\u662f\\u5426\\u6e7f\\u6da6'"
      ]
     },
     "metadata": {},
     "output_type": "display_data"
    },
    {
     "data": {
      "text/plain": [
       "u'\\u662f\\u5426\\u6563\\u5149'"
      ]
     },
     "metadata": {},
     "output_type": "display_data"
    },
    {
     "data": {
      "text/plain": [
       "u'\\u773c\\u662f\\u5426\\u6e7f\\u6da6'"
      ]
     },
     "metadata": {},
     "output_type": "display_data"
    },
    {
     "data": {
      "text/plain": [
       "u'\\u773c\\u662f\\u5426\\u6e7f\\u6da6'"
      ]
     },
     "metadata": {},
     "output_type": "display_data"
    },
    {
     "data": {
      "text/plain": [
       "u'\\u773c\\u662f\\u5426\\u6e7f\\u6da6'"
      ]
     },
     "metadata": {},
     "output_type": "display_data"
    },
    {
     "data": {
      "text/plain": [
       "u'\\u773c\\u662f\\u5426\\u6e7f\\u6da6'"
      ]
     },
     "metadata": {},
     "output_type": "display_data"
    },
    {
     "data": {
      "image/png": "[encoded data removed]",
      "text/plain": [
       "<matplotlib.figure.Figure at 0x127ef160>"
      ]
     },
     "metadata": {},
     "output_type": "display_data"
    }
   ],
   "source": [
    "'''\n",
    "预测患者需要佩戴隐形眼镜的类型\n",
    "'''\n",
    "# -*- coding:utf-8-*-\n",
    "display(labels)\n",
    "display(tree)\n",
    "#storeTree(tree,\"classifierStoreage.txt\")\n",
    "#getNumLeafs(tree)\n",
    "#getTreeDepth(tree)\n",
    "#createPlot(tree)\n",
    "#display(labels)\n",
    "#classify(tree,labels,[1,0])\n",
    "#fr = open('../Ch03/lenses.txt')\n",
    "#lenses = [line.strip().split(\"\\t\") for line in fr.readlines()]\n",
    "#display(type(lenses).__name__)\n",
    "leneseLabels= [U'年龄',U'是否近视',U'是否散光',U'眼是否湿润']\n",
    "df = pd.read_table('../Ch03/lenses.txt',sep=\"\\t\",encoding='utf-8')\n",
    "display(df.head(5))\n",
    "tree = createTree(np.array(df).tolist(),leneseLabels)\n",
    "createPlot(tree)\n"
   ]
  },
  {
   "cell_type": "markdown",
   "metadata": {},
   "source": [
    "*医生最多需要问四个问题就可以知道患者带那种眼睛，如图：决策树非常好的匹配了试验数据，然而这些数据选项可能太多，我们成这种问题为过度匹配，为了减少过度匹配，我们需要进行裁枝*"
   ]
  },
  {
   "cell_type": "code",
   "execution_count": 41,
   "metadata": {},
   "outputs": [
    {
     "data": {
      "text/html": [
       "<div>\n",
       "<style>\n",
       "    .dataframe thead tr:only-child th {\n",
       "        text-align: right;\n",
       "    }\n",
       "\n",
       "    .dataframe thead th {\n",
       "        text-align: left;\n",
       "    }\n",
       "\n",
       "    .dataframe tbody tr th {\n",
       "        vertical-align: top;\n",
       "    }\n",
       "</style>\n",
       "<table border=\"1\" class=\"dataframe\">\n",
       "  <thead>\n",
       "    <tr style=\"text-align: right;\">\n",
       "      <th></th>\n",
       "      <th>名字</th>\n",
       "      <th>体温</th>\n",
       "      <th>表皮覆盖</th>\n",
       "      <th>胎生</th>\n",
       "      <th>水生生物</th>\n",
       "      <th>飞行动物</th>\n",
       "      <th>有腿</th>\n",
       "      <th>冬眠</th>\n",
       "      <th>类标号</th>\n",
       "    </tr>\n",
       "  </thead>\n",
       "  <tbody>\n",
       "    <tr>\n",
       "      <th>0</th>\n",
       "      <td>人类</td>\n",
       "      <td>恒温</td>\n",
       "      <td>毛发</td>\n",
       "      <td>是</td>\n",
       "      <td>否</td>\n",
       "      <td>否</td>\n",
       "      <td>是</td>\n",
       "      <td>否</td>\n",
       "      <td>哺乳类</td>\n",
       "    </tr>\n",
       "    <tr>\n",
       "      <th>1</th>\n",
       "      <td>蟒蛇</td>\n",
       "      <td>冷血</td>\n",
       "      <td>鳞片</td>\n",
       "      <td>否</td>\n",
       "      <td>否</td>\n",
       "      <td>否</td>\n",
       "      <td>否</td>\n",
       "      <td>是</td>\n",
       "      <td>爬行类</td>\n",
       "    </tr>\n",
       "    <tr>\n",
       "      <th>2</th>\n",
       "      <td>鲑鱼</td>\n",
       "      <td>冷血</td>\n",
       "      <td>鳞片</td>\n",
       "      <td>否</td>\n",
       "      <td>是</td>\n",
       "      <td>否</td>\n",
       "      <td>否</td>\n",
       "      <td>否</td>\n",
       "      <td>鱼类</td>\n",
       "    </tr>\n",
       "    <tr>\n",
       "      <th>3</th>\n",
       "      <td>鲸</td>\n",
       "      <td>恒温</td>\n",
       "      <td>毛发</td>\n",
       "      <td>是</td>\n",
       "      <td>是</td>\n",
       "      <td>否</td>\n",
       "      <td>否</td>\n",
       "      <td>否</td>\n",
       "      <td>哺乳类</td>\n",
       "    </tr>\n",
       "    <tr>\n",
       "      <th>4</th>\n",
       "      <td>青蛙</td>\n",
       "      <td>冷血</td>\n",
       "      <td>无</td>\n",
       "      <td>否</td>\n",
       "      <td>半</td>\n",
       "      <td>否</td>\n",
       "      <td>是</td>\n",
       "      <td>是</td>\n",
       "      <td>两栖类</td>\n",
       "    </tr>\n",
       "  </tbody>\n",
       "</table>\n",
       "</div>"
      ],
      "text/plain": [
       "   名字  体温 表皮覆盖 胎生 水生生物 飞行动物 有腿 冬眠 类标号    \n",
       "0  人类  恒温   毛发  是    否    否  是  否     哺乳类\n",
       "1  蟒蛇  冷血   鳞片  否    否    否  否  是     爬行类\n",
       "2  鲑鱼  冷血   鳞片  否    是    否  否  否      鱼类\n",
       "3   鲸  恒温   毛发  是    是    否  否  否     哺乳类\n",
       "4  青蛙  冷血    无  否    半    否  是  是     两栖类"
      ]
     },
     "metadata": {},
     "output_type": "display_data"
    },
    {
     "data": {
      "text/plain": [
       "u'\\u722c\\u884c\\u7c7b'"
      ]
     },
     "metadata": {},
     "output_type": "display_data"
    },
    {
     "data": {
      "text/plain": [
       "0.2"
      ]
     },
     "metadata": {},
     "output_type": "display_data"
    },
    {
     "data": {
      "text/plain": [
       "u'\\u9e1f\\u7c7b'"
      ]
     },
     "metadata": {},
     "output_type": "display_data"
    },
    {
     "data": {
      "text/plain": [
       "0.13333333333333333"
      ]
     },
     "metadata": {},
     "output_type": "display_data"
    },
    {
     "data": {
      "text/plain": [
       "u'\\u9c7c\\u7c7b'"
      ]
     },
     "metadata": {},
     "output_type": "display_data"
    },
    {
     "data": {
      "text/plain": [
       "0.2"
      ]
     },
     "metadata": {},
     "output_type": "display_data"
    },
    {
     "data": {
      "text/plain": [
       "u'\\u4e24\\u6816\\u7c7b'"
      ]
     },
     "metadata": {},
     "output_type": "display_data"
    },
    {
     "data": {
      "text/plain": [
       "0.13333333333333333"
      ]
     },
     "metadata": {},
     "output_type": "display_data"
    },
    {
     "data": {
      "text/plain": [
       "u'\\u54fa\\u4e73\\u7c7b'"
      ]
     },
     "metadata": {},
     "output_type": "display_data"
    },
    {
     "data": {
      "text/plain": [
       "0.3333333333333333"
      ]
     },
     "metadata": {},
     "output_type": "display_data"
    },
    {
     "data": {
      "text/plain": [
       "u'\\u9e1f\\u7c7b'"
      ]
     },
     "metadata": {},
     "output_type": "display_data"
    },
    {
     "data": {
      "text/plain": [
       "0.2857142857142857"
      ]
     },
     "metadata": {},
     "output_type": "display_data"
    },
    {
     "data": {
      "text/plain": [
       "u'\\u54fa\\u4e73\\u7c7b'"
      ]
     },
     "metadata": {},
     "output_type": "display_data"
    },
    {
     "data": {
      "text/plain": [
       "0.7142857142857143"
      ]
     },
     "metadata": {},
     "output_type": "display_data"
    },
    {
     "data": {
      "text/plain": [
       "u'\\u722c\\u884c\\u7c7b'"
      ]
     },
     "metadata": {},
     "output_type": "display_data"
    },
    {
     "data": {
      "text/plain": [
       "0.375"
      ]
     },
     "metadata": {},
     "output_type": "display_data"
    },
    {
     "data": {
      "text/plain": [
       "u'\\u9c7c\\u7c7b'"
      ]
     },
     "metadata": {},
     "output_type": "display_data"
    },
    {
     "data": {
      "text/plain": [
       "0.375"
      ]
     },
     "metadata": {},
     "output_type": "display_data"
    },
    {
     "data": {
      "text/plain": [
       "u'\\u4e24\\u6816\\u7c7b'"
      ]
     },
     "metadata": {},
     "output_type": "display_data"
    },
    {
     "data": {
      "text/plain": [
       "0.25"
      ]
     },
     "metadata": {},
     "output_type": "display_data"
    },
    {
     "data": {
      "text/plain": [
       "u'\\u4e24\\u6816\\u7c7b'"
      ]
     },
     "metadata": {},
     "output_type": "display_data"
    },
    {
     "data": {
      "text/plain": [
       "1.0"
      ]
     },
     "metadata": {},
     "output_type": "display_data"
    },
    {
     "data": {
      "text/plain": [
       "u'\\u54fa\\u4e73\\u7c7b'"
      ]
     },
     "metadata": {},
     "output_type": "display_data"
    },
    {
     "data": {
      "text/plain": [
       "1.0"
      ]
     },
     "metadata": {},
     "output_type": "display_data"
    },
    {
     "data": {
      "text/plain": [
       "u'\\u9e1f\\u7c7b'"
      ]
     },
     "metadata": {},
     "output_type": "display_data"
    },
    {
     "data": {
      "text/plain": [
       "1.0"
      ]
     },
     "metadata": {},
     "output_type": "display_data"
    },
    {
     "data": {
      "text/plain": [
       "u'\\u54fa\\u4e73\\u7c7b'"
      ]
     },
     "metadata": {},
     "output_type": "display_data"
    },
    {
     "data": {
      "text/plain": [
       "1.0"
      ]
     },
     "metadata": {},
     "output_type": "display_data"
    },
    {
     "data": {
      "text/plain": [
       "u'\\u54fa\\u4e73\\u7c7b'"
      ]
     },
     "metadata": {},
     "output_type": "display_data"
    },
    {
     "data": {
      "text/plain": [
       "1.0"
      ]
     },
     "metadata": {},
     "output_type": "display_data"
    },
    {
     "data": {
      "text/plain": [
       "u'\\u722c\\u884c\\u7c7b'"
      ]
     },
     "metadata": {},
     "output_type": "display_data"
    },
    {
     "data": {
      "text/plain": [
       "0.5"
      ]
     },
     "metadata": {},
     "output_type": "display_data"
    },
    {
     "data": {
      "text/plain": [
       "u'\\u9c7c\\u7c7b'"
      ]
     },
     "metadata": {},
     "output_type": "display_data"
    },
    {
     "data": {
      "text/plain": [
       "0.5"
      ]
     },
     "metadata": {},
     "output_type": "display_data"
    },
    {
     "data": {
      "text/plain": [
       "u'\\u9c7c\\u7c7b'"
      ]
     },
     "metadata": {},
     "output_type": "display_data"
    },
    {
     "data": {
      "text/plain": [
       "0.16666666666666666"
      ]
     },
     "metadata": {},
     "output_type": "display_data"
    },
    {
     "data": {
      "text/plain": [
       "u'\\u54fa\\u4e73\\u7c7b'"
      ]
     },
     "metadata": {},
     "output_type": "display_data"
    },
    {
     "data": {
      "text/plain": [
       "0.8333333333333334"
      ]
     },
     "metadata": {},
     "output_type": "display_data"
    },
    {
     "data": {
      "text/plain": [
       "u'\\u722c\\u884c\\u7c7b'"
      ]
     },
     "metadata": {},
     "output_type": "display_data"
    },
    {
     "data": {
      "text/plain": [
       "0.3333333333333333"
      ]
     },
     "metadata": {},
     "output_type": "display_data"
    },
    {
     "data": {
      "text/plain": [
       "u'\\u9e1f\\u7c7b'"
      ]
     },
     "metadata": {},
     "output_type": "display_data"
    },
    {
     "data": {
      "text/plain": [
       "0.2222222222222222"
      ]
     },
     "metadata": {},
     "output_type": "display_data"
    },
    {
     "data": {
      "text/plain": [
       "u'\\u9c7c\\u7c7b'"
      ]
     },
     "metadata": {},
     "output_type": "display_data"
    },
    {
     "data": {
      "text/plain": [
       "0.2222222222222222"
      ]
     },
     "metadata": {},
     "output_type": "display_data"
    },
    {
     "data": {
      "text/plain": [
       "u'\\u4e24\\u6816\\u7c7b'"
      ]
     },
     "metadata": {},
     "output_type": "display_data"
    },
    {
     "data": {
      "text/plain": [
       "0.2222222222222222"
      ]
     },
     "metadata": {},
     "output_type": "display_data"
    },
    {
     "data": {
      "text/plain": [
       "u'\\u722c\\u884c\\u7c7b'"
      ]
     },
     "metadata": {},
     "output_type": "display_data"
    },
    {
     "data": {
      "text/plain": [
       "0.25"
      ]
     },
     "metadata": {},
     "output_type": "display_data"
    },
    {
     "data": {
      "text/plain": [
       "u'\\u9e1f\\u7c7b'"
      ]
     },
     "metadata": {},
     "output_type": "display_data"
    },
    {
     "data": {
      "text/plain": [
       "0.25"
      ]
     },
     "metadata": {},
     "output_type": "display_data"
    },
    {
     "data": {
      "text/plain": [
       "u'\\u4e24\\u6816\\u7c7b'"
      ]
     },
     "metadata": {},
     "output_type": "display_data"
    },
    {
     "data": {
      "text/plain": [
       "0.5"
      ]
     },
     "metadata": {},
     "output_type": "display_data"
    },
    {
     "data": {
      "text/plain": [
       "u'\\u9c7c\\u7c7b'"
      ]
     },
     "metadata": {},
     "output_type": "display_data"
    },
    {
     "data": {
      "text/plain": [
       "0.75"
      ]
     },
     "metadata": {},
     "output_type": "display_data"
    },
    {
     "data": {
      "text/plain": [
       "u'\\u54fa\\u4e73\\u7c7b'"
      ]
     },
     "metadata": {},
     "output_type": "display_data"
    },
    {
     "data": {
      "text/plain": [
       "0.25"
      ]
     },
     "metadata": {},
     "output_type": "display_data"
    },
    {
     "data": {
      "text/plain": [
       "u'\\u722c\\u884c\\u7c7b'"
      ]
     },
     "metadata": {},
     "output_type": "display_data"
    },
    {
     "data": {
      "text/plain": [
       "0.2857142857142857"
      ]
     },
     "metadata": {},
     "output_type": "display_data"
    },
    {
     "data": {
      "text/plain": [
       "u'\\u9e1f\\u7c7b'"
      ]
     },
     "metadata": {},
     "output_type": "display_data"
    },
    {
     "data": {
      "text/plain": [
       "0.14285714285714285"
      ]
     },
     "metadata": {},
     "output_type": "display_data"
    },
    {
     "data": {
      "text/plain": [
       "u'\\u54fa\\u4e73\\u7c7b'"
      ]
     },
     "metadata": {},
     "output_type": "display_data"
    },
    {
     "data": {
      "text/plain": [
       "0.5714285714285714"
      ]
     },
     "metadata": {},
     "output_type": "display_data"
    },
    {
     "data": {
      "text/plain": [
       "u'\\u9e1f\\u7c7b'"
      ]
     },
     "metadata": {},
     "output_type": "display_data"
    },
    {
     "data": {
      "text/plain": [
       "0.5"
      ]
     },
     "metadata": {},
     "output_type": "display_data"
    },
    {
     "data": {
      "text/plain": [
       "u'\\u54fa\\u4e73\\u7c7b'"
      ]
     },
     "metadata": {},
     "output_type": "display_data"
    },
    {
     "data": {
      "text/plain": [
       "0.5"
      ]
     },
     "metadata": {},
     "output_type": "display_data"
    },
    {
     "data": {
      "text/plain": [
       "u'\\u722c\\u884c\\u7c7b'"
      ]
     },
     "metadata": {},
     "output_type": "display_data"
    },
    {
     "data": {
      "text/plain": [
       "0.23076923076923078"
      ]
     },
     "metadata": {},
     "output_type": "display_data"
    },
    {
     "data": {
      "text/plain": [
       "u'\\u9e1f\\u7c7b'"
      ]
     },
     "metadata": {},
     "output_type": "display_data"
    },
    {
     "data": {
      "text/plain": [
       "0.07692307692307693"
      ]
     },
     "metadata": {},
     "output_type": "display_data"
    },
    {
     "data": {
      "text/plain": [
       "u'\\u9c7c\\u7c7b'"
      ]
     },
     "metadata": {},
     "output_type": "display_data"
    },
    {
     "data": {
      "text/plain": [
       "0.23076923076923078"
      ]
     },
     "metadata": {},
     "output_type": "display_data"
    },
    {
     "data": {
      "text/plain": [
       "u'\\u4e24\\u6816\\u7c7b'"
      ]
     },
     "metadata": {},
     "output_type": "display_data"
    },
    {
     "data": {
      "text/plain": [
       "0.15384615384615385"
      ]
     },
     "metadata": {},
     "output_type": "display_data"
    },
    {
     "data": {
      "text/plain": [
       "u'\\u54fa\\u4e73\\u7c7b'"
      ]
     },
     "metadata": {},
     "output_type": "display_data"
    },
    {
     "data": {
      "text/plain": [
       "0.3076923076923077"
      ]
     },
     "metadata": {},
     "output_type": "display_data"
    },
    {
     "data": {
      "text/plain": [
       "u'\\u722c\\u884c\\u7c7b'"
      ]
     },
     "metadata": {},
     "output_type": "display_data"
    },
    {
     "data": {
      "text/plain": [
       "0.2"
      ]
     },
     "metadata": {},
     "output_type": "display_data"
    },
    {
     "data": {
      "text/plain": [
       "u'\\u9e1f\\u7c7b'"
      ]
     },
     "metadata": {},
     "output_type": "display_data"
    },
    {
     "data": {
      "text/plain": [
       "0.2"
      ]
     },
     "metadata": {},
     "output_type": "display_data"
    },
    {
     "data": {
      "text/plain": [
       "u'\\u4e24\\u6816\\u7c7b'"
      ]
     },
     "metadata": {},
     "output_type": "display_data"
    },
    {
     "data": {
      "text/plain": [
       "0.2"
      ]
     },
     "metadata": {},
     "output_type": "display_data"
    },
    {
     "data": {
      "text/plain": [
       "u'\\u54fa\\u4e73\\u7c7b'"
      ]
     },
     "metadata": {},
     "output_type": "display_data"
    },
    {
     "data": {
      "text/plain": [
       "0.4"
      ]
     },
     "metadata": {},
     "output_type": "display_data"
    },
    {
     "data": {
      "text/plain": [
       "u'\\u722c\\u884c\\u7c7b'"
      ]
     },
     "metadata": {},
     "output_type": "display_data"
    },
    {
     "data": {
      "text/plain": [
       "0.2"
      ]
     },
     "metadata": {},
     "output_type": "display_data"
    },
    {
     "data": {
      "text/plain": [
       "u'\\u9c7c\\u7c7b'"
      ]
     },
     "metadata": {},
     "output_type": "display_data"
    },
    {
     "data": {
      "text/plain": [
       "0.6"
      ]
     },
     "metadata": {},
     "output_type": "display_data"
    },
    {
     "data": {
      "text/plain": [
       "u'\\u54fa\\u4e73\\u7c7b'"
      ]
     },
     "metadata": {},
     "output_type": "display_data"
    },
    {
     "data": {
      "text/plain": [
       "0.2"
      ]
     },
     "metadata": {},
     "output_type": "display_data"
    },
    {
     "data": {
      "text/plain": [
       "u'\\u722c\\u884c\\u7c7b'"
      ]
     },
     "metadata": {},
     "output_type": "display_data"
    },
    {
     "data": {
      "text/plain": [
       "0.3333333333333333"
      ]
     },
     "metadata": {},
     "output_type": "display_data"
    },
    {
     "data": {
      "text/plain": [
       "u'\\u4e24\\u6816\\u7c7b'"
      ]
     },
     "metadata": {},
     "output_type": "display_data"
    },
    {
     "data": {
      "text/plain": [
       "0.3333333333333333"
      ]
     },
     "metadata": {},
     "output_type": "display_data"
    },
    {
     "data": {
      "text/plain": [
       "u'\\u54fa\\u4e73\\u7c7b'"
      ]
     },
     "metadata": {},
     "output_type": "display_data"
    },
    {
     "data": {
      "text/plain": [
       "0.3333333333333333"
      ]
     },
     "metadata": {},
     "output_type": "display_data"
    },
    {
     "data": {
      "text/plain": [
       "u'\\u722c\\u884c\\u7c7b'"
      ]
     },
     "metadata": {},
     "output_type": "display_data"
    },
    {
     "data": {
      "text/plain": [
       "0.1111111111111111"
      ]
     },
     "metadata": {},
     "output_type": "display_data"
    },
    {
     "data": {
      "text/plain": [
       "u'\\u9e1f\\u7c7b'"
      ]
     },
     "metadata": {},
     "output_type": "display_data"
    },
    {
     "data": {
      "text/plain": [
       "0.2222222222222222"
      ]
     },
     "metadata": {},
     "output_type": "display_data"
    },
    {
     "data": {
      "text/plain": [
       "u'\\u9c7c\\u7c7b'"
      ]
     },
     "metadata": {},
     "output_type": "display_data"
    },
    {
     "data": {
      "text/plain": [
       "0.3333333333333333"
      ]
     },
     "metadata": {},
     "output_type": "display_data"
    },
    {
     "data": {
      "text/plain": [
       "u'\\u54fa\\u4e73\\u7c7b'"
      ]
     },
     "metadata": {},
     "output_type": "display_data"
    },
    {
     "data": {
      "text/plain": [
       "0.3333333333333333"
      ]
     },
     "metadata": {},
     "output_type": "display_data"
    },
    {
     "data": {
      "text/plain": [
       "u'\\u722c\\u884c\\u7c7b'"
      ]
     },
     "metadata": {},
     "output_type": "display_data"
    },
    {
     "data": {
      "text/plain": [
       "0.5"
      ]
     },
     "metadata": {},
     "output_type": "display_data"
    },
    {
     "data": {
      "text/plain": [
       "u'\\u9c7c\\u7c7b'"
      ]
     },
     "metadata": {},
     "output_type": "display_data"
    },
    {
     "data": {
      "text/plain": [
       "0.5"
      ]
     },
     "metadata": {},
     "output_type": "display_data"
    },
    {
     "data": {
      "text/plain": [
       "u'\\u722c\\u884c\\u7c7b'"
      ]
     },
     "metadata": {},
     "output_type": "display_data"
    },
    {
     "data": {
      "text/plain": [
       "0.5"
      ]
     },
     "metadata": {},
     "output_type": "display_data"
    },
    {
     "data": {
      "text/plain": [
       "u'\\u9c7c\\u7c7b'"
      ]
     },
     "metadata": {},
     "output_type": "display_data"
    },
    {
     "data": {
      "text/plain": [
       "0.5"
      ]
     },
     "metadata": {},
     "output_type": "display_data"
    },
    {
     "data": {
      "text/plain": [
       "u'\\u9c7c\\u7c7b'"
      ]
     },
     "metadata": {},
     "output_type": "display_data"
    },
    {
     "data": {
      "text/plain": [
       "1.0"
      ]
     },
     "metadata": {},
     "output_type": "display_data"
    },
    {
     "data": {
      "text/plain": [
       "u'\\u722c\\u884c\\u7c7b'"
      ]
     },
     "metadata": {},
     "output_type": "display_data"
    },
    {
     "data": {
      "text/plain": [
       "0.6"
      ]
     },
     "metadata": {},
     "output_type": "display_data"
    },
    {
     "data": {
      "text/plain": [
       "u'\\u9c7c\\u7c7b'"
      ]
     },
     "metadata": {},
     "output_type": "display_data"
    },
    {
     "data": {
      "text/plain": [
       "0.4"
      ]
     },
     "metadata": {},
     "output_type": "display_data"
    },
    {
     "data": {
      "text/plain": [
       "u'\\u722c\\u884c\\u7c7b'"
      ]
     },
     "metadata": {},
     "output_type": "display_data"
    },
    {
     "data": {
      "text/plain": [
       "1.0"
      ]
     },
     "metadata": {},
     "output_type": "display_data"
    },
    {
     "data": {
      "text/plain": [
       "u'\\u9c7c\\u7c7b'"
      ]
     },
     "metadata": {},
     "output_type": "display_data"
    },
    {
     "data": {
      "text/plain": [
       "1.0"
      ]
     },
     "metadata": {},
     "output_type": "display_data"
    },
    {
     "data": {
      "text/plain": [
       "u'\\u722c\\u884c\\u7c7b'"
      ]
     },
     "metadata": {},
     "output_type": "display_data"
    },
    {
     "data": {
      "text/plain": [
       "1.0"
      ]
     },
     "metadata": {},
     "output_type": "display_data"
    },
    {
     "data": {
      "text/plain": [
       "u'\\u722c\\u884c\\u7c7b'"
      ]
     },
     "metadata": {},
     "output_type": "display_data"
    },
    {
     "data": {
      "text/plain": [
       "0.5"
      ]
     },
     "metadata": {},
     "output_type": "display_data"
    },
    {
     "data": {
      "text/plain": [
       "u'\\u9c7c\\u7c7b'"
      ]
     },
     "metadata": {},
     "output_type": "display_data"
    },
    {
     "data": {
      "text/plain": [
       "0.5"
      ]
     },
     "metadata": {},
     "output_type": "display_data"
    },
    {
     "data": {
      "text/plain": [
       "u'\\u722c\\u884c\\u7c7b'"
      ]
     },
     "metadata": {},
     "output_type": "display_data"
    },
    {
     "data": {
      "text/plain": [
       "1.0"
      ]
     },
     "metadata": {},
     "output_type": "display_data"
    },
    {
     "data": {
      "text/plain": [
       "u'\\u722c\\u884c\\u7c7b'"
      ]
     },
     "metadata": {},
     "output_type": "display_data"
    },
    {
     "data": {
      "text/plain": [
       "0.25"
      ]
     },
     "metadata": {},
     "output_type": "display_data"
    },
    {
     "data": {
      "text/plain": [
       "u'\\u9c7c\\u7c7b'"
      ]
     },
     "metadata": {},
     "output_type": "display_data"
    },
    {
     "data": {
      "text/plain": [
       "0.75"
      ]
     },
     "metadata": {},
     "output_type": "display_data"
    },
    {
     "data": {
      "text/plain": [
       "u'\\u722c\\u884c\\u7c7b'"
      ]
     },
     "metadata": {},
     "output_type": "display_data"
    },
    {
     "data": {
      "text/plain": [
       "1.0"
      ]
     },
     "metadata": {},
     "output_type": "display_data"
    },
    {
     "data": {
      "text/plain": [
       "u'\\u722c\\u884c\\u7c7b'"
      ]
     },
     "metadata": {},
     "output_type": "display_data"
    },
    {
     "data": {
      "text/plain": [
       "0.25"
      ]
     },
     "metadata": {},
     "output_type": "display_data"
    },
    {
     "data": {
      "text/plain": [
       "u'\\u9c7c\\u7c7b'"
      ]
     },
     "metadata": {},
     "output_type": "display_data"
    },
    {
     "data": {
      "text/plain": [
       "0.75"
      ]
     },
     "metadata": {},
     "output_type": "display_data"
    },
    {
     "data": {
      "text/plain": [
       "u'\\u8868\\u76ae\\u8986\\u76d6'"
      ]
     },
     "metadata": {},
     "output_type": "display_data"
    },
    {
     "data": {
      "text/plain": [
       "u'\\u6c34\\u751f\\u751f\\u7269'"
      ]
     },
     "metadata": {},
     "output_type": "display_data"
    },
    {
     "data": {
      "text/plain": [
       "u'\\u8868\\u76ae\\u8986\\u76d6'"
      ]
     },
     "metadata": {},
     "output_type": "display_data"
    },
    {
     "data": {
      "text/plain": [
       "u'\\u6c34\\u751f\\u751f\\u7269'"
      ]
     },
     "metadata": {},
     "output_type": "display_data"
    },
    {
     "data": {
      "text/plain": [
       "u'\\u6c34\\u751f\\u751f\\u7269'"
      ]
     },
     "metadata": {},
     "output_type": "display_data"
    },
    {
     "data": {
      "image/png": "[encoded data removed]",
      "text/plain": [
       "<matplotlib.figure.Figure at 0x12a005c0>"
      ]
     },
     "metadata": {},
     "output_type": "display_data"
    }
   ],
   "source": [
    "# -*- coding:utf-8-*-\n",
    "test_df = pd.read_table('purudongwu.txt',sep=\"\\t\",encoding='utf-8')\n",
    "display(test_df.head(5))\n",
    "test_labels = [U'体温',U'表皮覆盖',U'胎生'\n",
    "               ,U'水生生物',U'飞行动物',U'有腿',U'冬眠']\n",
    "#display(np.delete(np.array(test_df),1,1))\n",
    "test_tree = createTree(np.delete(np.array(test_df),0,1).tolist(),test_labels)\n",
    "createPlot(test_tree)"
   ]
  },
  {
   "cell_type": "markdown",
   "metadata": {},
   "source": [
    "**贝叶斯分类**\n",
    "$$P(B_i\\mid A) = \\frac{P(A \\mid B_i)}{全概率 =  \\sum_{i=1}^n P(A \\mid B_i)P(B_i)}$$\n",
    "<p>\n",
    "    **条件概率** <br>\n",
    "    例：降一枚金币投掷两次，观察正反面，这A事件“至少有一次H”，事件B为“两次投掷同一面”现在求已知时间A发生下事件B发生的概率。\n",
    "    针对投币有一个样本空间$S=\\{HH,HT,TH,TT\\} ,A=\\{HH,HT,TH\\}, B=\\{HH,TT\\}$易知此为古典型概率问题，已知事件A已发生，有了这一信息我们知道TT不可能发生，其中只有 HH属于B。于是在事件A中发生B的概率就记做$P(B \\mid a)$为<br>\n",
    "    $P(B \\mid a) = \\frac{1}{3}$<br>\n",
    "    在这里我们看到$P(B)=\\frac{2}{4} \\neq P(B \\mid a) $这很容易理解，因为我们在求B的时候是限制在A下面的。另外已知\n",
    "    $$P(A) = \\frac{3}{4} 、P(AB) = \\frac{1}{4}、 P(B \\mid a) = \\frac{1}{3}=\\frac{\\frac{1}{4}}{\\frac{3}{4}} $$<br>\n",
    "    $$因此 P(B \\mid A) = \\frac{P(AB)}{P(A)} $$<br>\n",
    "    <ol>\n",
    "        <li>非负性:对于每一个事件B $P(B \\mid A) \\geq 0$</li>\n",
    "        <li>规范性:对于必然时间S 有$P(S) =  1$ </li>\n",
    "        <li>可列可加性:设$B_1、B_2、B_3、....$是两两互补相容事件则有 $P(\\cup_{i=1}^n B\\mid A) = \\sum_{i=1}^nP(B \\mid A)$</li>\n",
    "    </ol>\n",
    "    \n",
    "</p>\n",
    "**朴素贝叶斯分类**\n",
    "$$P(B,A) = \\frac{P(B) \\overline{||}_{i=1}^n(P(A_i)P(B))}{P(A)}$$"
   ]
  },
  {
   "cell_type": "code",
   "execution_count": 12,
   "metadata": {},
   "outputs": [],
   "source": [
    "'''\n",
    "根据贝叶斯定理，需要计算多个概率的乘机，以获得的文档数据某个类别 \n",
    "所以没个条件概率不能出现零数值，如果一个为零没个其结果也为零了，措施就是就是付初始值\n",
    "没个词的概率为1/2\n",
    "数值下溢问题，由于很多太少的数相乘，导致下益，造成结果不正确\n",
    "（特别提出是在Python中在四舍五入得情况下就是0）解决途径就是自然对数。在代数中\n",
    "ln(a*b)=ln(a)+ln(b),因此呢在处理这类问题时可以使用自然对数来避免四舍五入和下益问题\n",
    "f(x)和ln(f(x))在同一定义域内具有相同的极值点和单调性，所以不会影响最终结果\n",
    "'''\n",
    "\n",
    "def trainNB(trainMatrix,trainCategory):\n",
    "    numTrainDocs = len(trainMatrix)\n",
    "    numWords = len(trainMatrix[0])\n",
    "    pAbusive = sum(trainCategory)/float(numTrainDocs)  #辱骂率\n",
    "    #p0Num = np.zeros(numWords)\n",
    "    #p1Num = np.zeros(numWords)\n",
    "    p0Num = np.ones(numWords)\n",
    "    p1Num = np.ones(numWords)\n",
    "    p0Denom = 2.0\n",
    "    p1Denom = 2.0 \n",
    "    for i in range(numTrainDocs):\n",
    "        if trainCategory[i] == 1: # 侮辱性质的类别\n",
    "            p1Num += trainMatrix[i] # 向量相加\n",
    "            p1Denom += np.sum(trainMatrix[i]) # 弟 i 文档有多少在档词语\n",
    "            display(trainMatrix[i])\n",
    "            display(np.sum(trainMatrix[i]))\n",
    "        else:\n",
    "            p0Num += trainMatrix[i] # 向量相加\n",
    "            p0Denom += np.sum(trainMatrix[i]) # 弟 i 文档有多少在档词语\n",
    "    p1Vect = np.log(p1Num/p1Denom) #在侮辱性文档中每个词的词频\n",
    "    p0Vect = np.log(p0Num/p0Denom)  #在非侮辱性文档中每个词的词频\n",
    "    \n",
    "    return p0Vect,p1Vect,pAbusive\n",
    "'''\n",
    "分类函数\n",
    "'''\n",
    "def classifyNB(vect2Classify,p0V,p1V,pclass1):\n",
    "    p1= sum(vect2Classify*p1V)+np.log(pclass1)\n",
    "    p0 = sum(vect2Classify*p0V)+np.log(1.0-pclass1)\n",
    "    #print \"p1>\",p1\n",
    "    #print \"p0>\",p0\n",
    "    if p1 > p0:\n",
    "        return 1\n",
    "    else:\n",
    "        return 0\n",
    "def loadDataSet():\n",
    "    postingList=[['my', 'dog', 'has', 'flea', 'problems', 'help', 'please'],\n",
    "                 ['maybe', 'not', 'take', 'him', 'to', 'dog', 'park', 'stupid'],\n",
    "                 ['my', 'dalmation', 'is', 'so', 'cute', 'I', 'love', 'him'],\n",
    "                 ['stop', 'posting', 'stupid', 'worthless', 'garbage'],\n",
    "                 ['mr', 'licks', 'ate', 'my', 'steak', 'how', 'to', 'stop', 'him'],\n",
    "                 ['quit', 'buying', 'worthless', 'dog', 'food', 'stupid']]\n",
    "    classVec = [0,1,0,1,0,1]\n",
    "    return postingList,classVec\n",
    "'''\n",
    "提取向量集\n",
    "'''\n",
    "def createVocabList(dataSet):\n",
    "    vocabSet =set([])\n",
    "    for document in dataSet:\n",
    "        vocabSet = vocabSet | set(document)\n",
    "    #print vocabSet\n",
    "    return list(vocabSet)\n",
    "def setOfWords2Vec(vocabList,inputSet):\n",
    "    returnVec = [0]*len(vocabList)\n",
    "    for word in inputSet:\n",
    "        if word in vocabList:\n",
    "                returnVec[vocabList.index(word)] =1\n",
    "        else:\n",
    "            print \"the word: <%s> is not in my Vocabulary!\"% word\n",
    "    return returnVec\n",
    "'''\n",
    "生成文档的词频向量\n",
    "'''\n",
    "def bagOfWords2VecMN(vocabList, inputSet):\n",
    "    returnVec = [0]*len(vocabList)\n",
    "    for word in inputSet:\n",
    "        if word in vocabList:\n",
    "            returnVec[vocabList.index(word)] += 1\n",
    "    return returnVec\n",
    "   \n",
    "def testingNB():\n",
    "    listOPosts,listClasses = loadDataSet()\n",
    "    myVocabList = createVocabList(listOPosts)\n",
    "    trainMat=[]\n",
    "    for postinDoc in listOPosts:\n",
    "        trainMat.append(setOfWords2Vec(myVocabList, postinDoc))\n",
    "    p0V,p1V,pAb = trainNB(np.array(trainMat),np.array(listClasses))\n",
    "    testEntry = ['love', 'my', 'dalmation']\n",
    "    thisDoc = np.array(setOfWords2Vec(myVocabList, testEntry))\n",
    "    print testEntry,'classified as: ',classifyNB(thisDoc,p0V,p1V,pAb)\n",
    "    testEntry = ['stupid', 'garbage']\n",
    "    thisDoc = np.array(setOfWords2Vec(myVocabList, testEntry))\n",
    "    print testEntry,'classified as: ',classifyNB(thisDoc,p0V,p1V,pAb)\n"
   ]
  },
  {
   "cell_type": "code",
   "execution_count": 13,
   "metadata": {},
   "outputs": [
    {
     "data": {
      "text/plain": [
       "array([0, 0, 0, 0, 0, 0, 0, 0, 1, 0, 0, 0, 0, 0, 1, 1, 0, 0, 0, 0, 0, 1, 1,\n",
       "       0, 1, 0, 1, 0, 1, 0, 0, 0])"
      ]
     },
     "metadata": {},
     "output_type": "display_data"
    },
    {
     "data": {
      "text/plain": [
       "8"
      ]
     },
     "metadata": {},
     "output_type": "display_data"
    },
    {
     "data": {
      "text/plain": [
       "array([0, 0, 0, 1, 0, 0, 0, 0, 0, 1, 0, 0, 0, 0, 0, 0, 0, 1, 0, 1, 0, 0, 0,\n",
       "       0, 0, 0, 1, 0, 0, 0, 0, 0])"
      ]
     },
     "metadata": {},
     "output_type": "display_data"
    },
    {
     "data": {
      "text/plain": [
       "5"
      ]
     },
     "metadata": {},
     "output_type": "display_data"
    },
    {
     "data": {
      "text/plain": [
       "array([0, 0, 0, 0, 1, 0, 0, 0, 0, 0, 0, 0, 0, 1, 0, 0, 1, 0, 0, 1, 0, 0, 0,\n",
       "       0, 1, 0, 1, 0, 0, 0, 0, 0])"
      ]
     },
     "metadata": {},
     "output_type": "display_data"
    },
    {
     "data": {
      "text/plain": [
       "6"
      ]
     },
     "metadata": {},
     "output_type": "display_data"
    },
    {
     "name": "stdout",
     "output_type": "stream",
     "text": [
      "['love', 'my', 'dalmation'] classified as:  0\n",
      "['stupid', 'garbage'] classified as:  1\n"
     ]
    }
   ],
   "source": [
    "testingNB()"
   ]
  },
  {
   "cell_type": "code",
   "execution_count": 27,
   "metadata": {},
   "outputs": [],
   "source": [
    "'''\n",
    "获取邮件信息过滤垃圾邮件\n",
    "'''\n",
    "def textParse(bigString):\n",
    "    import re \n",
    "    listOfTokens = re.split(r'\\W*',bigString)\n",
    "    return [tok.lower() for tok in listOfTokens if len(tok) > 2]\n",
    "def spamTest():\n",
    "    docList=[] #文档集\n",
    "    classList = [] #类标号集\n",
    "    fullText =[] #所有词集（并包含重复词）\n",
    "    for i in range(1,26):\n",
    "        wordList = textParse(open('../Ch04/email/spam/%d.txt' % i).read()) #垃圾邮件\n",
    "        docList.append(wordList)\n",
    "        fullText.extend(wordList)\n",
    "        classList.append(1)\n",
    "        wordList = textParse(open('../Ch04/email/ham/%d.txt' % i).read())  #通过的费垃圾邮寄\n",
    "        docList.append(wordList)\n",
    "        fullText.extend(wordList)\n",
    "        classList.append(0)\n",
    "    vocabList = createVocabList(docList)#创建词集（不重复）\n",
    "    trainingSet = range(50); testSet=[]           #创建测试集\n",
    "    for i in range(10):\n",
    "        randIndex = int(random.uniform(0,len(trainingSet))) #生成[0,50)间的随机数\n",
    "        testSet.append(trainingSet[randIndex])\n",
    "        del(trainingSet[randIndex])  \n",
    "    trainMat=[]; trainClasses = []  #训练集\n",
    "    for docIndex in trainingSet:#train the classifier (get probs) trainNB0\n",
    "        trainMat.append(bagOfWords2VecMN(vocabList, docList[docIndex]))  #文档词频向量\n",
    "        trainClasses.append(classList[docIndex])   #文档所属类别\n",
    "    p0V,p1V,pSpam = trainNB(array(trainMat),array(trainClasses))\n",
    "    errorCount = 0\n",
    "    for docIndex in testSet:        #对每个文档集分类\n",
    "        wordVector = bagOfWords2VecMN(vocabList, docList[docIndex])\n",
    "        if classifyNB(array(wordVector),p0V,p1V,pSpam) != classList[docIndex]:\n",
    "            errorCount += 1\n",
    "            print \"classification error\",docList[docIndex]\n",
    "    print 'the error rate is: ',float(errorCount)/len(testSet)\n"
   ]
  },
  {
   "cell_type": "code",
   "execution_count": 211,
   "metadata": {},
   "outputs": [
    {
     "name": "stdout",
     "output_type": "stream",
     "text": [
      "the error rate is:  0.0\n",
      "classification error ['home', 'based', 'business', 'opportunity', 'knocking', 'your', 'door', 'don', 'rude', 'and', 'let', 'this', 'chance', 'you', 'can', 'earn', 'great', 'income', 'and', 'find', 'your', 'financial', 'life', 'transformed', 'learn', 'more', 'here', 'your', 'success', 'work', 'from', 'home', 'finder', 'experts']\n",
      "the error rate is:  0.1\n",
      "the error rate is:  0.0\n",
      "classification error ['benoit', 'mandelbrot', '1924', '2010', 'benoit', 'mandelbrot', '1924', '2010', 'wilmott', 'team', 'benoit', 'mandelbrot', 'the', 'mathematician', 'the', 'father', 'fractal', 'mathematics', 'and', 'advocate', 'more', 'sophisticated', 'modelling', 'quantitative', 'finance', 'died', '14th', 'october', '2010', 'aged', 'wilmott', 'magazine', 'has', 'often', 'featured', 'mandelbrot', 'his', 'ideas', 'and', 'the', 'work', 'others', 'inspired', 'his', 'fundamental', 'insights', 'you', 'must', 'logged', 'view', 'these', 'articles', 'from', 'past', 'issues', 'wilmott', 'magazine']\n",
      "the error rate is:  0.1\n",
      "the error rate is:  0.0\n",
      "classification error ['yay', 'you', 'both', 'doing', 'fine', 'working', 'mba', 'design', 'strategy', 'cca', 'top', 'art', 'school', 'new', 'program', 'focusing', 'more', 'right', 'brained', 'creative', 'and', 'strategic', 'approach', 'management', 'the', 'way', 'done', 'today']\n",
      "classification error ['home', 'based', 'business', 'opportunity', 'knocking', 'your', 'door', 'don', 'rude', 'and', 'let', 'this', 'chance', 'you', 'can', 'earn', 'great', 'income', 'and', 'find', 'your', 'financial', 'life', 'transformed', 'learn', 'more', 'here', 'your', 'success', 'work', 'from', 'home', 'finder', 'experts']\n",
      "the error rate is:  0.2\n",
      "the error rate is:  0.0\n",
      "the error rate is:  0.0\n",
      "classification error ['oem', 'adobe', 'microsoft', 'softwares', 'fast', 'order', 'and', 'download', 'microsoft', 'office', 'professional', 'plus', '2007', '2010', '129', 'microsoft', 'windows', 'ultimate', '119', 'adobe', 'photoshop', 'cs5', 'extended', 'adobe', 'acrobat', 'pro', 'extended', 'windows', 'professional', 'thousand', 'more', 'titles']\n",
      "the error rate is:  0.1\n",
      "classification error ['home', 'based', 'business', 'opportunity', 'knocking', 'your', 'door', 'don', 'rude', 'and', 'let', 'this', 'chance', 'you', 'can', 'earn', 'great', 'income', 'and', 'find', 'your', 'financial', 'life', 'transformed', 'learn', 'more', 'here', 'your', 'success', 'work', 'from', 'home', 'finder', 'experts']\n",
      "the error rate is:  0.1\n",
      "classification error ['linkedin', 'kerry', 'haloney', 'requested', 'add', 'you', 'connection', 'linkedin', 'peter', 'like', 'add', 'you', 'professional', 'network', 'linkedin', 'kerry', 'haloney']\n",
      "classification error ['yeah', 'ready', 'may', 'not', 'here', 'because', 'jar', 'jar', 'has', 'plane', 'tickets', 'germany', 'for']\n",
      "the error rate is:  0.2\n",
      "the error rate is:  0.0\n",
      "the error rate is:  0.0\n",
      "classification error ['yeah', 'ready', 'may', 'not', 'here', 'because', 'jar', 'jar', 'has', 'plane', 'tickets', 'germany', 'for']\n",
      "the error rate is:  0.1\n",
      "the error rate is:  0.0\n",
      "classification error ['home', 'based', 'business', 'opportunity', 'knocking', 'your', 'door', 'don', 'rude', 'and', 'let', 'this', 'chance', 'you', 'can', 'earn', 'great', 'income', 'and', 'find', 'your', 'financial', 'life', 'transformed', 'learn', 'more', 'here', 'your', 'success', 'work', 'from', 'home', 'finder', 'experts']\n",
      "the error rate is:  0.1\n",
      "the error rate is:  0.0\n",
      "the error rate is:  0.0\n",
      "classification error ['oem', 'adobe', 'microsoft', 'softwares', 'fast', 'order', 'and', 'download', 'microsoft', 'office', 'professional', 'plus', '2007', '2010', '129', 'microsoft', 'windows', 'ultimate', '119', 'adobe', 'photoshop', 'cs5', 'extended', 'adobe', 'acrobat', 'pro', 'extended', 'windows', 'professional', 'thousand', 'more', 'titles']\n",
      "the error rate is:  0.1\n",
      "classification error ['home', 'based', 'business', 'opportunity', 'knocking', 'your', 'door', 'don', 'rude', 'and', 'let', 'this', 'chance', 'you', 'can', 'earn', 'great', 'income', 'and', 'find', 'your', 'financial', 'life', 'transformed', 'learn', 'more', 'here', 'your', 'success', 'work', 'from', 'home', 'finder', 'experts']\n",
      "classification error ['experience', 'with', 'biggerpenis', 'today', 'grow', 'inches', 'more', 'the', 'safest', 'most', 'effective', 'methods', 'of_penisen1argement', 'save', 'your', 'time', 'and', 'money', 'bettererections', 'with', 'effective', 'ma1eenhancement', 'products', 'ma1eenhancement', 'supplement', 'trusted', 'millions', 'buy', 'today']\n",
      "the error rate is:  0.2\n",
      "the error rate is:  0.0\n",
      "classification error ['yay', 'you', 'both', 'doing', 'fine', 'working', 'mba', 'design', 'strategy', 'cca', 'top', 'art', 'school', 'new', 'program', 'focusing', 'more', 'right', 'brained', 'creative', 'and', 'strategic', 'approach', 'management', 'the', 'way', 'done', 'today']\n",
      "classification error ['linkedin', 'kerry', 'haloney', 'requested', 'add', 'you', 'connection', 'linkedin', 'peter', 'like', 'add', 'you', 'professional', 'network', 'linkedin', 'kerry', 'haloney']\n",
      "classification error ['benoit', 'mandelbrot', '1924', '2010', 'benoit', 'mandelbrot', '1924', '2010', 'wilmott', 'team', 'benoit', 'mandelbrot', 'the', 'mathematician', 'the', 'father', 'fractal', 'mathematics', 'and', 'advocate', 'more', 'sophisticated', 'modelling', 'quantitative', 'finance', 'died', '14th', 'october', '2010', 'aged', 'wilmott', 'magazine', 'has', 'often', 'featured', 'mandelbrot', 'his', 'ideas', 'and', 'the', 'work', 'others', 'inspired', 'his', 'fundamental', 'insights', 'you', 'must', 'logged', 'view', 'these', 'articles', 'from', 'past', 'issues', 'wilmott', 'magazine']\n",
      "the error rate is:  0.3\n",
      "the error rate is:  0.0\n",
      "the error rate is:  0.0\n",
      "the error rate is:  0.0\n",
      "classification error ['home', 'based', 'business', 'opportunity', 'knocking', 'your', 'door', 'don', 'rude', 'and', 'let', 'this', 'chance', 'you', 'can', 'earn', 'great', 'income', 'and', 'find', 'your', 'financial', 'life', 'transformed', 'learn', 'more', 'here', 'your', 'success', 'work', 'from', 'home', 'finder', 'experts']\n",
      "the error rate is:  0.1\n",
      "classification error ['benoit', 'mandelbrot', '1924', '2010', 'benoit', 'mandelbrot', '1924', '2010', 'wilmott', 'team', 'benoit', 'mandelbrot', 'the', 'mathematician', 'the', 'father', 'fractal', 'mathematics', 'and', 'advocate', 'more', 'sophisticated', 'modelling', 'quantitative', 'finance', 'died', '14th', 'october', '2010', 'aged', 'wilmott', 'magazine', 'has', 'often', 'featured', 'mandelbrot', 'his', 'ideas', 'and', 'the', 'work', 'others', 'inspired', 'his', 'fundamental', 'insights', 'you', 'must', 'logged', 'view', 'these', 'articles', 'from', 'past', 'issues', 'wilmott', 'magazine']\n",
      "the error rate is:  0.1\n",
      "classification error ['home', 'based', 'business', 'opportunity', 'knocking', 'your', 'door', 'don', 'rude', 'and', 'let', 'this', 'chance', 'you', 'can', 'earn', 'great', 'income', 'and', 'find', 'your', 'financial', 'life', 'transformed', 'learn', 'more', 'here', 'your', 'success', 'work', 'from', 'home', 'finder', 'experts']\n",
      "the error rate is:  0.1\n",
      "classification error ['home', 'based', 'business', 'opportunity', 'knocking', 'your', 'door', 'don', 'rude', 'and', 'let', 'this', 'chance', 'you', 'can', 'earn', 'great', 'income', 'and', 'find', 'your', 'financial', 'life', 'transformed', 'learn', 'more', 'here', 'your', 'success', 'work', 'from', 'home', 'finder', 'experts']\n",
      "the error rate is:  0.1\n",
      "the error rate is:  0.0\n",
      "classification error ['yeah', 'ready', 'may', 'not', 'here', 'because', 'jar', 'jar', 'has', 'plane', 'tickets', 'germany', 'for']\n",
      "the error rate is:  0.1\n",
      "classification error ['home', 'based', 'business', 'opportunity', 'knocking', 'your', 'door', 'don', 'rude', 'and', 'let', 'this', 'chance', 'you', 'can', 'earn', 'great', 'income', 'and', 'find', 'your', 'financial', 'life', 'transformed', 'learn', 'more', 'here', 'your', 'success', 'work', 'from', 'home', 'finder', 'experts']\n",
      "the error rate is:  0.1\n",
      "the error rate is:  0.0\n",
      "the error rate is:  0.0\n",
      "the error rate is:  0.0\n",
      "classification error ['oem', 'adobe', 'microsoft', 'softwares', 'fast', 'order', 'and', 'download', 'microsoft', 'office', 'professional', 'plus', '2007', '2010', '129', 'microsoft', 'windows', 'ultimate', '119', 'adobe', 'photoshop', 'cs5', 'extended', 'adobe', 'acrobat', 'pro', 'extended', 'windows', 'professional', 'thousand', 'more', 'titles']\n"
     ]
    },
    {
     "name": "stdout",
     "output_type": "stream",
     "text": [
      "the error rate is:  0.1\n",
      "classification error ['home', 'based', 'business', 'opportunity', 'knocking', 'your', 'door', 'don', 'rude', 'and', 'let', 'this', 'chance', 'you', 'can', 'earn', 'great', 'income', 'and', 'find', 'your', 'financial', 'life', 'transformed', 'learn', 'more', 'here', 'your', 'success', 'work', 'from', 'home', 'finder', 'experts']\n",
      "classification error ['experience', 'with', 'biggerpenis', 'today', 'grow', 'inches', 'more', 'the', 'safest', 'most', 'effective', 'methods', 'of_penisen1argement', 'save', 'your', 'time', 'and', 'money', 'bettererections', 'with', 'effective', 'ma1eenhancement', 'products', 'ma1eenhancement', 'supplement', 'trusted', 'millions', 'buy', 'today']\n",
      "the error rate is:  0.2\n",
      "the error rate is:  0.0\n",
      "classification error ['home', 'based', 'business', 'opportunity', 'knocking', 'your', 'door', 'don', 'rude', 'and', 'let', 'this', 'chance', 'you', 'can', 'earn', 'great', 'income', 'and', 'find', 'your', 'financial', 'life', 'transformed', 'learn', 'more', 'here', 'your', 'success', 'work', 'from', 'home', 'finder', 'experts']\n",
      "the error rate is:  0.1\n",
      "classification error ['benoit', 'mandelbrot', '1924', '2010', 'benoit', 'mandelbrot', '1924', '2010', 'wilmott', 'team', 'benoit', 'mandelbrot', 'the', 'mathematician', 'the', 'father', 'fractal', 'mathematics', 'and', 'advocate', 'more', 'sophisticated', 'modelling', 'quantitative', 'finance', 'died', '14th', 'october', '2010', 'aged', 'wilmott', 'magazine', 'has', 'often', 'featured', 'mandelbrot', 'his', 'ideas', 'and', 'the', 'work', 'others', 'inspired', 'his', 'fundamental', 'insights', 'you', 'must', 'logged', 'view', 'these', 'articles', 'from', 'past', 'issues', 'wilmott', 'magazine']\n",
      "the error rate is:  0.1\n",
      "classification error ['yeah', 'ready', 'may', 'not', 'here', 'because', 'jar', 'jar', 'has', 'plane', 'tickets', 'germany', 'for']\n",
      "the error rate is:  0.1\n",
      "classification error ['benoit', 'mandelbrot', '1924', '2010', 'benoit', 'mandelbrot', '1924', '2010', 'wilmott', 'team', 'benoit', 'mandelbrot', 'the', 'mathematician', 'the', 'father', 'fractal', 'mathematics', 'and', 'advocate', 'more', 'sophisticated', 'modelling', 'quantitative', 'finance', 'died', '14th', 'october', '2010', 'aged', 'wilmott', 'magazine', 'has', 'often', 'featured', 'mandelbrot', 'his', 'ideas', 'and', 'the', 'work', 'others', 'inspired', 'his', 'fundamental', 'insights', 'you', 'must', 'logged', 'view', 'these', 'articles', 'from', 'past', 'issues', 'wilmott', 'magazine']\n",
      "the error rate is:  0.1\n",
      "classification error ['yay', 'you', 'both', 'doing', 'fine', 'working', 'mba', 'design', 'strategy', 'cca', 'top', 'art', 'school', 'new', 'program', 'focusing', 'more', 'right', 'brained', 'creative', 'and', 'strategic', 'approach', 'management', 'the', 'way', 'done', 'today']\n",
      "the error rate is:  0.1\n",
      "classification error ['home', 'based', 'business', 'opportunity', 'knocking', 'your', 'door', 'don', 'rude', 'and', 'let', 'this', 'chance', 'you', 'can', 'earn', 'great', 'income', 'and', 'find', 'your', 'financial', 'life', 'transformed', 'learn', 'more', 'here', 'your', 'success', 'work', 'from', 'home', 'finder', 'experts']\n",
      "classification error ['benoit', 'mandelbrot', '1924', '2010', 'benoit', 'mandelbrot', '1924', '2010', 'wilmott', 'team', 'benoit', 'mandelbrot', 'the', 'mathematician', 'the', 'father', 'fractal', 'mathematics', 'and', 'advocate', 'more', 'sophisticated', 'modelling', 'quantitative', 'finance', 'died', '14th', 'october', '2010', 'aged', 'wilmott', 'magazine', 'has', 'often', 'featured', 'mandelbrot', 'his', 'ideas', 'and', 'the', 'work', 'others', 'inspired', 'his', 'fundamental', 'insights', 'you', 'must', 'logged', 'view', 'these', 'articles', 'from', 'past', 'issues', 'wilmott', 'magazine']\n",
      "classification error ['yeah', 'ready', 'may', 'not', 'here', 'because', 'jar', 'jar', 'has', 'plane', 'tickets', 'germany', 'for']\n",
      "the error rate is:  0.3\n",
      "the error rate is:  0.0\n",
      "the error rate is:  0.0\n",
      "classification error ['benoit', 'mandelbrot', '1924', '2010', 'benoit', 'mandelbrot', '1924', '2010', 'wilmott', 'team', 'benoit', 'mandelbrot', 'the', 'mathematician', 'the', 'father', 'fractal', 'mathematics', 'and', 'advocate', 'more', 'sophisticated', 'modelling', 'quantitative', 'finance', 'died', '14th', 'october', '2010', 'aged', 'wilmott', 'magazine', 'has', 'often', 'featured', 'mandelbrot', 'his', 'ideas', 'and', 'the', 'work', 'others', 'inspired', 'his', 'fundamental', 'insights', 'you', 'must', 'logged', 'view', 'these', 'articles', 'from', 'past', 'issues', 'wilmott', 'magazine']\n",
      "the error rate is:  0.1\n",
      "the error rate is:  0.0\n",
      "classification error ['home', 'based', 'business', 'opportunity', 'knocking', 'your', 'door', 'don', 'rude', 'and', 'let', 'this', 'chance', 'you', 'can', 'earn', 'great', 'income', 'and', 'find', 'your', 'financial', 'life', 'transformed', 'learn', 'more', 'here', 'your', 'success', 'work', 'from', 'home', 'finder', 'experts']\n",
      "the error rate is:  0.1\n",
      "classification error ['benoit', 'mandelbrot', '1924', '2010', 'benoit', 'mandelbrot', '1924', '2010', 'wilmott', 'team', 'benoit', 'mandelbrot', 'the', 'mathematician', 'the', 'father', 'fractal', 'mathematics', 'and', 'advocate', 'more', 'sophisticated', 'modelling', 'quantitative', 'finance', 'died', '14th', 'october', '2010', 'aged', 'wilmott', 'magazine', 'has', 'often', 'featured', 'mandelbrot', 'his', 'ideas', 'and', 'the', 'work', 'others', 'inspired', 'his', 'fundamental', 'insights', 'you', 'must', 'logged', 'view', 'these', 'articles', 'from', 'past', 'issues', 'wilmott', 'magazine']\n",
      "the error rate is:  0.1\n",
      "the error rate is:  0.0\n",
      "classification error ['home', 'based', 'business', 'opportunity', 'knocking', 'your', 'door', 'don', 'rude', 'and', 'let', 'this', 'chance', 'you', 'can', 'earn', 'great', 'income', 'and', 'find', 'your', 'financial', 'life', 'transformed', 'learn', 'more', 'here', 'your', 'success', 'work', 'from', 'home', 'finder', 'experts']\n",
      "the error rate is:  0.1\n",
      "the error rate is:  0.0\n",
      "classification error ['home', 'based', 'business', 'opportunity', 'knocking', 'your', 'door', 'don', 'rude', 'and', 'let', 'this', 'chance', 'you', 'can', 'earn', 'great', 'income', 'and', 'find', 'your', 'financial', 'life', 'transformed', 'learn', 'more', 'here', 'your', 'success', 'work', 'from', 'home', 'finder', 'experts']\n",
      "the error rate is:  0.1\n",
      "the error rate is:  0.0\n",
      "classification error ['benoit', 'mandelbrot', '1924', '2010', 'benoit', 'mandelbrot', '1924', '2010', 'wilmott', 'team', 'benoit', 'mandelbrot', 'the', 'mathematician', 'the', 'father', 'fractal', 'mathematics', 'and', 'advocate', 'more', 'sophisticated', 'modelling', 'quantitative', 'finance', 'died', '14th', 'october', '2010', 'aged', 'wilmott', 'magazine', 'has', 'often', 'featured', 'mandelbrot', 'his', 'ideas', 'and', 'the', 'work', 'others', 'inspired', 'his', 'fundamental', 'insights', 'you', 'must', 'logged', 'view', 'these', 'articles', 'from', 'past', 'issues', 'wilmott', 'magazine']\n",
      "classification error ['home', 'based', 'business', 'opportunity', 'knocking', 'your', 'door', 'don', 'rude', 'and', 'let', 'this', 'chance', 'you', 'can', 'earn', 'great', 'income', 'and', 'find', 'your', 'financial', 'life', 'transformed', 'learn', 'more', 'here', 'your', 'success', 'work', 'from', 'home', 'finder', 'experts']\n",
      "classification error ['scifinance', 'now', 'automatically', 'generates', 'gpu', 'enabled', 'pricing', 'risk', 'model', 'source', 'code', 'that', 'runs', '300x', 'faster', 'than', 'serial', 'code', 'using', 'new', 'nvidia', 'fermi', 'class', 'tesla', 'series', 'gpu', 'scifinance', 'derivatives', 'pricing', 'and', 'risk', 'model', 'development', 'tool', 'that', 'automatically', 'generates', 'and', 'gpu', 'enabled', 'source', 'code', 'from', 'concise', 'high', 'level', 'model', 'specifications', 'parallel', 'computing', 'cuda', 'programming', 'expertise', 'required', 'scifinance', 'automatic', 'gpu', 'enabled', 'monte', 'carlo', 'pricing', 'model', 'source', 'code', 'generation', 'capabilities', 'have', 'been', 'significantly', 'extended', 'the', 'latest', 'release', 'this', 'includes']\n",
      "the error rate is:  0.3\n",
      "classification error ['home', 'based', 'business', 'opportunity', 'knocking', 'your', 'door', 'don', 'rude', 'and', 'let', 'this', 'chance', 'you', 'can', 'earn', 'great', 'income', 'and', 'find', 'your', 'financial', 'life', 'transformed', 'learn', 'more', 'here', 'your', 'success', 'work', 'from', 'home', 'finder', 'experts']\n"
     ]
    },
    {
     "name": "stdout",
     "output_type": "stream",
     "text": [
      "classification error ['scifinance', 'now', 'automatically', 'generates', 'gpu', 'enabled', 'pricing', 'risk', 'model', 'source', 'code', 'that', 'runs', '300x', 'faster', 'than', 'serial', 'code', 'using', 'new', 'nvidia', 'fermi', 'class', 'tesla', 'series', 'gpu', 'scifinance', 'derivatives', 'pricing', 'and', 'risk', 'model', 'development', 'tool', 'that', 'automatically', 'generates', 'and', 'gpu', 'enabled', 'source', 'code', 'from', 'concise', 'high', 'level', 'model', 'specifications', 'parallel', 'computing', 'cuda', 'programming', 'expertise', 'required', 'scifinance', 'automatic', 'gpu', 'enabled', 'monte', 'carlo', 'pricing', 'model', 'source', 'code', 'generation', 'capabilities', 'have', 'been', 'significantly', 'extended', 'the', 'latest', 'release', 'this', 'includes']\n",
      "the error rate is:  0.2\n",
      "classification error ['yeah', 'ready', 'may', 'not', 'here', 'because', 'jar', 'jar', 'has', 'plane', 'tickets', 'germany', 'for']\n",
      "the error rate is:  0.1\n",
      "classification error ['yeah', 'ready', 'may', 'not', 'here', 'because', 'jar', 'jar', 'has', 'plane', 'tickets', 'germany', 'for']\n",
      "the error rate is:  0.1\n",
      "the error rate is:  0.0\n",
      "classification error ['yeah', 'ready', 'may', 'not', 'here', 'because', 'jar', 'jar', 'has', 'plane', 'tickets', 'germany', 'for']\n",
      "classification error ['benoit', 'mandelbrot', '1924', '2010', 'benoit', 'mandelbrot', '1924', '2010', 'wilmott', 'team', 'benoit', 'mandelbrot', 'the', 'mathematician', 'the', 'father', 'fractal', 'mathematics', 'and', 'advocate', 'more', 'sophisticated', 'modelling', 'quantitative', 'finance', 'died', '14th', 'october', '2010', 'aged', 'wilmott', 'magazine', 'has', 'often', 'featured', 'mandelbrot', 'his', 'ideas', 'and', 'the', 'work', 'others', 'inspired', 'his', 'fundamental', 'insights', 'you', 'must', 'logged', 'view', 'these', 'articles', 'from', 'past', 'issues', 'wilmott', 'magazine']\n",
      "the error rate is:  0.2\n",
      "classification error ['benoit', 'mandelbrot', '1924', '2010', 'benoit', 'mandelbrot', '1924', '2010', 'wilmott', 'team', 'benoit', 'mandelbrot', 'the', 'mathematician', 'the', 'father', 'fractal', 'mathematics', 'and', 'advocate', 'more', 'sophisticated', 'modelling', 'quantitative', 'finance', 'died', '14th', 'october', '2010', 'aged', 'wilmott', 'magazine', 'has', 'often', 'featured', 'mandelbrot', 'his', 'ideas', 'and', 'the', 'work', 'others', 'inspired', 'his', 'fundamental', 'insights', 'you', 'must', 'logged', 'view', 'these', 'articles', 'from', 'past', 'issues', 'wilmott', 'magazine']\n",
      "the error rate is:  0.1\n",
      "the error rate is:  0.0\n",
      "the error rate is:  0.0\n",
      "classification error ['yeah', 'ready', 'may', 'not', 'here', 'because', 'jar', 'jar', 'has', 'plane', 'tickets', 'germany', 'for']\n",
      "classification error ['benoit', 'mandelbrot', '1924', '2010', 'benoit', 'mandelbrot', '1924', '2010', 'wilmott', 'team', 'benoit', 'mandelbrot', 'the', 'mathematician', 'the', 'father', 'fractal', 'mathematics', 'and', 'advocate', 'more', 'sophisticated', 'modelling', 'quantitative', 'finance', 'died', '14th', 'october', '2010', 'aged', 'wilmott', 'magazine', 'has', 'often', 'featured', 'mandelbrot', 'his', 'ideas', 'and', 'the', 'work', 'others', 'inspired', 'his', 'fundamental', 'insights', 'you', 'must', 'logged', 'view', 'these', 'articles', 'from', 'past', 'issues', 'wilmott', 'magazine']\n",
      "the error rate is:  0.2\n",
      "the error rate is:  0.0\n",
      "classification error ['scifinance', 'now', 'automatically', 'generates', 'gpu', 'enabled', 'pricing', 'risk', 'model', 'source', 'code', 'that', 'runs', '300x', 'faster', 'than', 'serial', 'code', 'using', 'new', 'nvidia', 'fermi', 'class', 'tesla', 'series', 'gpu', 'scifinance', 'derivatives', 'pricing', 'and', 'risk', 'model', 'development', 'tool', 'that', 'automatically', 'generates', 'and', 'gpu', 'enabled', 'source', 'code', 'from', 'concise', 'high', 'level', 'model', 'specifications', 'parallel', 'computing', 'cuda', 'programming', 'expertise', 'required', 'scifinance', 'automatic', 'gpu', 'enabled', 'monte', 'carlo', 'pricing', 'model', 'source', 'code', 'generation', 'capabilities', 'have', 'been', 'significantly', 'extended', 'the', 'latest', 'release', 'this', 'includes']\n",
      "classification error ['home', 'based', 'business', 'opportunity', 'knocking', 'your', 'door', 'don', 'rude', 'and', 'let', 'this', 'chance', 'you', 'can', 'earn', 'great', 'income', 'and', 'find', 'your', 'financial', 'life', 'transformed', 'learn', 'more', 'here', 'your', 'success', 'work', 'from', 'home', 'finder', 'experts']\n",
      "the error rate is:  0.2\n",
      "classification error ['yeah', 'ready', 'may', 'not', 'here', 'because', 'jar', 'jar', 'has', 'plane', 'tickets', 'germany', 'for']\n",
      "the error rate is:  0.1\n",
      "the error rate is:  0.0\n",
      "classification error ['yay', 'you', 'both', 'doing', 'fine', 'working', 'mba', 'design', 'strategy', 'cca', 'top', 'art', 'school', 'new', 'program', 'focusing', 'more', 'right', 'brained', 'creative', 'and', 'strategic', 'approach', 'management', 'the', 'way', 'done', 'today']\n",
      "the error rate is:  0.1\n",
      "the error rate is:  0.0\n",
      "the error rate is:  0.0\n",
      "the error rate is:  0.0\n",
      "classification error ['yeah', 'ready', 'may', 'not', 'here', 'because', 'jar', 'jar', 'has', 'plane', 'tickets', 'germany', 'for']\n",
      "the error rate is:  0.1\n",
      "classification error ['home', 'based', 'business', 'opportunity', 'knocking', 'your', 'door', 'don', 'rude', 'and', 'let', 'this', 'chance', 'you', 'can', 'earn', 'great', 'income', 'and', 'find', 'your', 'financial', 'life', 'transformed', 'learn', 'more', 'here', 'your', 'success', 'work', 'from', 'home', 'finder', 'experts']\n",
      "the error rate is:  0.1\n",
      "classification error ['scifinance', 'now', 'automatically', 'generates', 'gpu', 'enabled', 'pricing', 'risk', 'model', 'source', 'code', 'that', 'runs', '300x', 'faster', 'than', 'serial', 'code', 'using', 'new', 'nvidia', 'fermi', 'class', 'tesla', 'series', 'gpu', 'scifinance', 'derivatives', 'pricing', 'and', 'risk', 'model', 'development', 'tool', 'that', 'automatically', 'generates', 'and', 'gpu', 'enabled', 'source', 'code', 'from', 'concise', 'high', 'level', 'model', 'specifications', 'parallel', 'computing', 'cuda', 'programming', 'expertise', 'required', 'scifinance', 'automatic', 'gpu', 'enabled', 'monte', 'carlo', 'pricing', 'model', 'source', 'code', 'generation', 'capabilities', 'have', 'been', 'significantly', 'extended', 'the', 'latest', 'release', 'this', 'includes']\n",
      "the error rate is:  0.1\n",
      "classification error ['yeah', 'ready', 'may', 'not', 'here', 'because', 'jar', 'jar', 'has', 'plane', 'tickets', 'germany', 'for']\n",
      "the error rate is:  0.1\n",
      "the error rate is:  0.0\n",
      "classification error ['home', 'based', 'business', 'opportunity', 'knocking', 'your', 'door', 'don', 'rude', 'and', 'let', 'this', 'chance', 'you', 'can', 'earn', 'great', 'income', 'and', 'find', 'your', 'financial', 'life', 'transformed', 'learn', 'more', 'here', 'your', 'success', 'work', 'from', 'home', 'finder', 'experts']\n",
      "the error rate is:  0.1\n",
      "the error rate is:  0.0\n",
      "classification error ['scifinance', 'now', 'automatically', 'generates', 'gpu', 'enabled', 'pricing', 'risk', 'model', 'source', 'code', 'that', 'runs', '300x', 'faster', 'than', 'serial', 'code', 'using', 'new', 'nvidia', 'fermi', 'class', 'tesla', 'series', 'gpu', 'scifinance', 'derivatives', 'pricing', 'and', 'risk', 'model', 'development', 'tool', 'that', 'automatically', 'generates', 'and', 'gpu', 'enabled', 'source', 'code', 'from', 'concise', 'high', 'level', 'model', 'specifications', 'parallel', 'computing', 'cuda', 'programming', 'expertise', 'required', 'scifinance', 'automatic', 'gpu', 'enabled', 'monte', 'carlo', 'pricing', 'model', 'source', 'code', 'generation', 'capabilities', 'have', 'been', 'significantly', 'extended', 'the', 'latest', 'release', 'this', 'includes']\n",
      "classification error ['yay', 'you', 'both', 'doing', 'fine', 'working', 'mba', 'design', 'strategy', 'cca', 'top', 'art', 'school', 'new', 'program', 'focusing', 'more', 'right', 'brained', 'creative', 'and', 'strategic', 'approach', 'management', 'the', 'way', 'done', 'today']\n",
      "the error rate is:  0.2\n",
      "the error rate is:  0.0\n",
      "classification error ['home', 'based', 'business', 'opportunity', 'knocking', 'your', 'door', 'don', 'rude', 'and', 'let', 'this', 'chance', 'you', 'can', 'earn', 'great', 'income', 'and', 'find', 'your', 'financial', 'life', 'transformed', 'learn', 'more', 'here', 'your', 'success', 'work', 'from', 'home', 'finder', 'experts']\n",
      "the error rate is:  0.1\n"
     ]
    },
    {
     "name": "stdout",
     "output_type": "stream",
     "text": [
      "classification error ['yeah', 'ready', 'may', 'not', 'here', 'because', 'jar', 'jar', 'has', 'plane', 'tickets', 'germany', 'for']\n",
      "the error rate is:  0.1\n",
      "classification error ['benoit', 'mandelbrot', '1924', '2010', 'benoit', 'mandelbrot', '1924', '2010', 'wilmott', 'team', 'benoit', 'mandelbrot', 'the', 'mathematician', 'the', 'father', 'fractal', 'mathematics', 'and', 'advocate', 'more', 'sophisticated', 'modelling', 'quantitative', 'finance', 'died', '14th', 'october', '2010', 'aged', 'wilmott', 'magazine', 'has', 'often', 'featured', 'mandelbrot', 'his', 'ideas', 'and', 'the', 'work', 'others', 'inspired', 'his', 'fundamental', 'insights', 'you', 'must', 'logged', 'view', 'these', 'articles', 'from', 'past', 'issues', 'wilmott', 'magazine']\n",
      "the error rate is:  0.1\n",
      "the error rate is:  0.0\n",
      "classification error ['oem', 'adobe', 'microsoft', 'softwares', 'fast', 'order', 'and', 'download', 'microsoft', 'office', 'professional', 'plus', '2007', '2010', '129', 'microsoft', 'windows', 'ultimate', '119', 'adobe', 'photoshop', 'cs5', 'extended', 'adobe', 'acrobat', 'pro', 'extended', 'windows', 'professional', 'thousand', 'more', 'titles']\n",
      "the error rate is:  0.1\n",
      "the error rate is:  0.0\n",
      "classification error ['yeah', 'ready', 'may', 'not', 'here', 'because', 'jar', 'jar', 'has', 'plane', 'tickets', 'germany', 'for']\n",
      "the error rate is:  0.1\n",
      "classification error ['scifinance', 'now', 'automatically', 'generates', 'gpu', 'enabled', 'pricing', 'risk', 'model', 'source', 'code', 'that', 'runs', '300x', 'faster', 'than', 'serial', 'code', 'using', 'new', 'nvidia', 'fermi', 'class', 'tesla', 'series', 'gpu', 'scifinance', 'derivatives', 'pricing', 'and', 'risk', 'model', 'development', 'tool', 'that', 'automatically', 'generates', 'and', 'gpu', 'enabled', 'source', 'code', 'from', 'concise', 'high', 'level', 'model', 'specifications', 'parallel', 'computing', 'cuda', 'programming', 'expertise', 'required', 'scifinance', 'automatic', 'gpu', 'enabled', 'monte', 'carlo', 'pricing', 'model', 'source', 'code', 'generation', 'capabilities', 'have', 'been', 'significantly', 'extended', 'the', 'latest', 'release', 'this', 'includes']\n",
      "classification error ['yeah', 'ready', 'may', 'not', 'here', 'because', 'jar', 'jar', 'has', 'plane', 'tickets', 'germany', 'for']\n",
      "the error rate is:  0.2\n",
      "the error rate is:  0.0\n",
      "classification error ['home', 'based', 'business', 'opportunity', 'knocking', 'your', 'door', 'don', 'rude', 'and', 'let', 'this', 'chance', 'you', 'can', 'earn', 'great', 'income', 'and', 'find', 'your', 'financial', 'life', 'transformed', 'learn', 'more', 'here', 'your', 'success', 'work', 'from', 'home', 'finder', 'experts']\n",
      "classification error ['yeah', 'ready', 'may', 'not', 'here', 'because', 'jar', 'jar', 'has', 'plane', 'tickets', 'germany', 'for']\n",
      "the error rate is:  0.2\n",
      "classification error ['benoit', 'mandelbrot', '1924', '2010', 'benoit', 'mandelbrot', '1924', '2010', 'wilmott', 'team', 'benoit', 'mandelbrot', 'the', 'mathematician', 'the', 'father', 'fractal', 'mathematics', 'and', 'advocate', 'more', 'sophisticated', 'modelling', 'quantitative', 'finance', 'died', '14th', 'october', '2010', 'aged', 'wilmott', 'magazine', 'has', 'often', 'featured', 'mandelbrot', 'his', 'ideas', 'and', 'the', 'work', 'others', 'inspired', 'his', 'fundamental', 'insights', 'you', 'must', 'logged', 'view', 'these', 'articles', 'from', 'past', 'issues', 'wilmott', 'magazine']\n",
      "the error rate is:  0.1\n",
      "classification error ['benoit', 'mandelbrot', '1924', '2010', 'benoit', 'mandelbrot', '1924', '2010', 'wilmott', 'team', 'benoit', 'mandelbrot', 'the', 'mathematician', 'the', 'father', 'fractal', 'mathematics', 'and', 'advocate', 'more', 'sophisticated', 'modelling', 'quantitative', 'finance', 'died', '14th', 'october', '2010', 'aged', 'wilmott', 'magazine', 'has', 'often', 'featured', 'mandelbrot', 'his', 'ideas', 'and', 'the', 'work', 'others', 'inspired', 'his', 'fundamental', 'insights', 'you', 'must', 'logged', 'view', 'these', 'articles', 'from', 'past', 'issues', 'wilmott', 'magazine']\n",
      "the error rate is:  0.1\n",
      "the error rate is:  0.0\n",
      "classification error ['home', 'based', 'business', 'opportunity', 'knocking', 'your', 'door', 'don', 'rude', 'and', 'let', 'this', 'chance', 'you', 'can', 'earn', 'great', 'income', 'and', 'find', 'your', 'financial', 'life', 'transformed', 'learn', 'more', 'here', 'your', 'success', 'work', 'from', 'home', 'finder', 'experts']\n",
      "the error rate is:  0.1\n",
      "classification error ['experience', 'with', 'biggerpenis', 'today', 'grow', 'inches', 'more', 'the', 'safest', 'most', 'effective', 'methods', 'of_penisen1argement', 'save', 'your', 'time', 'and', 'money', 'bettererections', 'with', 'effective', 'ma1eenhancement', 'products', 'ma1eenhancement', 'supplement', 'trusted', 'millions', 'buy', 'today']\n",
      "the error rate is:  0.1\n",
      "the error rate is:  0.0\n",
      "the error rate is:  0.0\n",
      "the error rate is:  0.0\n",
      "classification error ['yeah', 'ready', 'may', 'not', 'here', 'because', 'jar', 'jar', 'has', 'plane', 'tickets', 'germany', 'for']\n",
      "the error rate is:  0.1\n",
      "classification error ['yeah', 'ready', 'may', 'not', 'here', 'because', 'jar', 'jar', 'has', 'plane', 'tickets', 'germany', 'for']\n",
      "classification error ['scifinance', 'now', 'automatically', 'generates', 'gpu', 'enabled', 'pricing', 'risk', 'model', 'source', 'code', 'that', 'runs', '300x', 'faster', 'than', 'serial', 'code', 'using', 'new', 'nvidia', 'fermi', 'class', 'tesla', 'series', 'gpu', 'scifinance', 'derivatives', 'pricing', 'and', 'risk', 'model', 'development', 'tool', 'that', 'automatically', 'generates', 'and', 'gpu', 'enabled', 'source', 'code', 'from', 'concise', 'high', 'level', 'model', 'specifications', 'parallel', 'computing', 'cuda', 'programming', 'expertise', 'required', 'scifinance', 'automatic', 'gpu', 'enabled', 'monte', 'carlo', 'pricing', 'model', 'source', 'code', 'generation', 'capabilities', 'have', 'been', 'significantly', 'extended', 'the', 'latest', 'release', 'this', 'includes']\n",
      "the error rate is:  0.2\n",
      "the error rate is:  0.0\n",
      "the error rate is:  0.0\n",
      "classification error ['yeah', 'ready', 'may', 'not', 'here', 'because', 'jar', 'jar', 'has', 'plane', 'tickets', 'germany', 'for']\n",
      "classification error ['home', 'based', 'business', 'opportunity', 'knocking', 'your', 'door', 'don', 'rude', 'and', 'let', 'this', 'chance', 'you', 'can', 'earn', 'great', 'income', 'and', 'find', 'your', 'financial', 'life', 'transformed', 'learn', 'more', 'here', 'your', 'success', 'work', 'from', 'home', 'finder', 'experts']\n",
      "the error rate is:  0.2\n",
      "classification error ['home', 'based', 'business', 'opportunity', 'knocking', 'your', 'door', 'don', 'rude', 'and', 'let', 'this', 'chance', 'you', 'can', 'earn', 'great', 'income', 'and', 'find', 'your', 'financial', 'life', 'transformed', 'learn', 'more', 'here', 'your', 'success', 'work', 'from', 'home', 'finder', 'experts']\n",
      "the error rate is:  0.1\n",
      "classification error ['yay', 'you', 'both', 'doing', 'fine', 'working', 'mba', 'design', 'strategy', 'cca', 'top', 'art', 'school', 'new', 'program', 'focusing', 'more', 'right', 'brained', 'creative', 'and', 'strategic', 'approach', 'management', 'the', 'way', 'done', 'today']\n",
      "classification error ['home', 'based', 'business', 'opportunity', 'knocking', 'your', 'door', 'don', 'rude', 'and', 'let', 'this', 'chance', 'you', 'can', 'earn', 'great', 'income', 'and', 'find', 'your', 'financial', 'life', 'transformed', 'learn', 'more', 'here', 'your', 'success', 'work', 'from', 'home', 'finder', 'experts']\n",
      "the error rate is:  0.2\n",
      "the error rate is:  0.0\n",
      "classification error ['home', 'based', 'business', 'opportunity', 'knocking', 'your', 'door', 'don', 'rude', 'and', 'let', 'this', 'chance', 'you', 'can', 'earn', 'great', 'income', 'and', 'find', 'your', 'financial', 'life', 'transformed', 'learn', 'more', 'here', 'your', 'success', 'work', 'from', 'home', 'finder', 'experts']\n",
      "classification error ['yeah', 'ready', 'may', 'not', 'here', 'because', 'jar', 'jar', 'has', 'plane', 'tickets', 'germany', 'for']\n",
      "the error rate is:  0.2\n",
      "classification error ['scifinance', 'now', 'automatically', 'generates', 'gpu', 'enabled', 'pricing', 'risk', 'model', 'source', 'code', 'that', 'runs', '300x', 'faster', 'than', 'serial', 'code', 'using', 'new', 'nvidia', 'fermi', 'class', 'tesla', 'series', 'gpu', 'scifinance', 'derivatives', 'pricing', 'and', 'risk', 'model', 'development', 'tool', 'that', 'automatically', 'generates', 'and', 'gpu', 'enabled', 'source', 'code', 'from', 'concise', 'high', 'level', 'model', 'specifications', 'parallel', 'computing', 'cuda', 'programming', 'expertise', 'required', 'scifinance', 'automatic', 'gpu', 'enabled', 'monte', 'carlo', 'pricing', 'model', 'source', 'code', 'generation', 'capabilities', 'have', 'been', 'significantly', 'extended', 'the', 'latest', 'release', 'this', 'includes']\n",
      "the error rate is:  0.1\n",
      "classification error ['yeah', 'ready', 'may', 'not', 'here', 'because', 'jar', 'jar', 'has', 'plane', 'tickets', 'germany', 'for']\n",
      "the error rate is:  0.1\n",
      "classification error ['home', 'based', 'business', 'opportunity', 'knocking', 'your', 'door', 'don', 'rude', 'and', 'let', 'this', 'chance', 'you', 'can', 'earn', 'great', 'income', 'and', 'find', 'your', 'financial', 'life', 'transformed', 'learn', 'more', 'here', 'your', 'success', 'work', 'from', 'home', 'finder', 'experts']\n",
      "the error rate is:  0.1\n",
      "classification error ['home', 'based', 'business', 'opportunity', 'knocking', 'your', 'door', 'don', 'rude', 'and', 'let', 'this', 'chance', 'you', 'can', 'earn', 'great', 'income', 'and', 'find', 'your', 'financial', 'life', 'transformed', 'learn', 'more', 'here', 'your', 'success', 'work', 'from', 'home', 'finder', 'experts']\n"
     ]
    },
    {
     "name": "stdout",
     "output_type": "stream",
     "text": [
      "the error rate is:  0.1\n",
      "the error rate is:  0.0\n",
      "classification error ['home', 'based', 'business', 'opportunity', 'knocking', 'your', 'door', 'don', 'rude', 'and', 'let', 'this', 'chance', 'you', 'can', 'earn', 'great', 'income', 'and', 'find', 'your', 'financial', 'life', 'transformed', 'learn', 'more', 'here', 'your', 'success', 'work', 'from', 'home', 'finder', 'experts']\n",
      "the error rate is:  0.1\n",
      "classification error ['ryan', 'whybrew', 'commented', 'your', 'status', 'ryan', 'wrote', 'turd', 'ferguson', 'butt', 'horn']\n",
      "classification error ['yeah', 'ready', 'may', 'not', 'here', 'because', 'jar', 'jar', 'has', 'plane', 'tickets', 'germany', 'for']\n",
      "the error rate is:  0.2\n",
      "classification error ['home', 'based', 'business', 'opportunity', 'knocking', 'your', 'door', 'don', 'rude', 'and', 'let', 'this', 'chance', 'you', 'can', 'earn', 'great', 'income', 'and', 'find', 'your', 'financial', 'life', 'transformed', 'learn', 'more', 'here', 'your', 'success', 'work', 'from', 'home', 'finder', 'experts']\n",
      "the error rate is:  0.1\n",
      "classification error ['yeah', 'ready', 'may', 'not', 'here', 'because', 'jar', 'jar', 'has', 'plane', 'tickets', 'germany', 'for']\n",
      "the error rate is:  0.1\n",
      "the error rate is:  0.0\n",
      "the error rate is:  0.0\n",
      "the error rate is:  0.0\n",
      "classification error ['yeah', 'ready', 'may', 'not', 'here', 'because', 'jar', 'jar', 'has', 'plane', 'tickets', 'germany', 'for']\n",
      "classification error ['home', 'based', 'business', 'opportunity', 'knocking', 'your', 'door', 'don', 'rude', 'and', 'let', 'this', 'chance', 'you', 'can', 'earn', 'great', 'income', 'and', 'find', 'your', 'financial', 'life', 'transformed', 'learn', 'more', 'here', 'your', 'success', 'work', 'from', 'home', 'finder', 'experts']\n",
      "the error rate is:  0.2\n",
      "classification error ['benoit', 'mandelbrot', '1924', '2010', 'benoit', 'mandelbrot', '1924', '2010', 'wilmott', 'team', 'benoit', 'mandelbrot', 'the', 'mathematician', 'the', 'father', 'fractal', 'mathematics', 'and', 'advocate', 'more', 'sophisticated', 'modelling', 'quantitative', 'finance', 'died', '14th', 'october', '2010', 'aged', 'wilmott', 'magazine', 'has', 'often', 'featured', 'mandelbrot', 'his', 'ideas', 'and', 'the', 'work', 'others', 'inspired', 'his', 'fundamental', 'insights', 'you', 'must', 'logged', 'view', 'these', 'articles', 'from', 'past', 'issues', 'wilmott', 'magazine']\n",
      "the error rate is:  0.1\n",
      "classification error ['scifinance', 'now', 'automatically', 'generates', 'gpu', 'enabled', 'pricing', 'risk', 'model', 'source', 'code', 'that', 'runs', '300x', 'faster', 'than', 'serial', 'code', 'using', 'new', 'nvidia', 'fermi', 'class', 'tesla', 'series', 'gpu', 'scifinance', 'derivatives', 'pricing', 'and', 'risk', 'model', 'development', 'tool', 'that', 'automatically', 'generates', 'and', 'gpu', 'enabled', 'source', 'code', 'from', 'concise', 'high', 'level', 'model', 'specifications', 'parallel', 'computing', 'cuda', 'programming', 'expertise', 'required', 'scifinance', 'automatic', 'gpu', 'enabled', 'monte', 'carlo', 'pricing', 'model', 'source', 'code', 'generation', 'capabilities', 'have', 'been', 'significantly', 'extended', 'the', 'latest', 'release', 'this', 'includes']\n",
      "the error rate is:  0.1\n",
      "classification error ['yeah', 'ready', 'may', 'not', 'here', 'because', 'jar', 'jar', 'has', 'plane', 'tickets', 'germany', 'for']\n",
      "the error rate is:  0.1\n",
      "the error rate is:  0.0\n",
      "the error rate is:  0.0\n",
      "classification error ['scifinance', 'now', 'automatically', 'generates', 'gpu', 'enabled', 'pricing', 'risk', 'model', 'source', 'code', 'that', 'runs', '300x', 'faster', 'than', 'serial', 'code', 'using', 'new', 'nvidia', 'fermi', 'class', 'tesla', 'series', 'gpu', 'scifinance', 'derivatives', 'pricing', 'and', 'risk', 'model', 'development', 'tool', 'that', 'automatically', 'generates', 'and', 'gpu', 'enabled', 'source', 'code', 'from', 'concise', 'high', 'level', 'model', 'specifications', 'parallel', 'computing', 'cuda', 'programming', 'expertise', 'required', 'scifinance', 'automatic', 'gpu', 'enabled', 'monte', 'carlo', 'pricing', 'model', 'source', 'code', 'generation', 'capabilities', 'have', 'been', 'significantly', 'extended', 'the', 'latest', 'release', 'this', 'includes']\n",
      "the error rate is:  0.1\n",
      "classification error ['benoit', 'mandelbrot', '1924', '2010', 'benoit', 'mandelbrot', '1924', '2010', 'wilmott', 'team', 'benoit', 'mandelbrot', 'the', 'mathematician', 'the', 'father', 'fractal', 'mathematics', 'and', 'advocate', 'more', 'sophisticated', 'modelling', 'quantitative', 'finance', 'died', '14th', 'october', '2010', 'aged', 'wilmott', 'magazine', 'has', 'often', 'featured', 'mandelbrot', 'his', 'ideas', 'and', 'the', 'work', 'others', 'inspired', 'his', 'fundamental', 'insights', 'you', 'must', 'logged', 'view', 'these', 'articles', 'from', 'past', 'issues', 'wilmott', 'magazine']\n",
      "the error rate is:  0.1\n",
      "the error rate is:  0.0\n",
      "the error rate is:  0.0\n",
      "classification error ['yeah', 'ready', 'may', 'not', 'here', 'because', 'jar', 'jar', 'has', 'plane', 'tickets', 'germany', 'for']\n",
      "classification error ['home', 'based', 'business', 'opportunity', 'knocking', 'your', 'door', 'don', 'rude', 'and', 'let', 'this', 'chance', 'you', 'can', 'earn', 'great', 'income', 'and', 'find', 'your', 'financial', 'life', 'transformed', 'learn', 'more', 'here', 'your', 'success', 'work', 'from', 'home', 'finder', 'experts']\n",
      "the error rate is:  0.2\n",
      "classification error ['yeah', 'ready', 'may', 'not', 'here', 'because', 'jar', 'jar', 'has', 'plane', 'tickets', 'germany', 'for']\n",
      "classification error ['benoit', 'mandelbrot', '1924', '2010', 'benoit', 'mandelbrot', '1924', '2010', 'wilmott', 'team', 'benoit', 'mandelbrot', 'the', 'mathematician', 'the', 'father', 'fractal', 'mathematics', 'and', 'advocate', 'more', 'sophisticated', 'modelling', 'quantitative', 'finance', 'died', '14th', 'october', '2010', 'aged', 'wilmott', 'magazine', 'has', 'often', 'featured', 'mandelbrot', 'his', 'ideas', 'and', 'the', 'work', 'others', 'inspired', 'his', 'fundamental', 'insights', 'you', 'must', 'logged', 'view', 'these', 'articles', 'from', 'past', 'issues', 'wilmott', 'magazine']\n",
      "the error rate is:  0.2\n",
      "classification error ['ryan', 'whybrew', 'commented', 'your', 'status', 'ryan', 'wrote', 'turd', 'ferguson', 'butt', 'horn']\n",
      "classification error ['yay', 'you', 'both', 'doing', 'fine', 'working', 'mba', 'design', 'strategy', 'cca', 'top', 'art', 'school', 'new', 'program', 'focusing', 'more', 'right', 'brained', 'creative', 'and', 'strategic', 'approach', 'management', 'the', 'way', 'done', 'today']\n",
      "the error rate is:  0.2\n",
      "the error rate is:  0.0\n",
      "classification error ['yeah', 'ready', 'may', 'not', 'here', 'because', 'jar', 'jar', 'has', 'plane', 'tickets', 'germany', 'for']\n",
      "the error rate is:  0.1\n",
      "the error rate is:  0.0\n",
      "classification error ['yay', 'you', 'both', 'doing', 'fine', 'working', 'mba', 'design', 'strategy', 'cca', 'top', 'art', 'school', 'new', 'program', 'focusing', 'more', 'right', 'brained', 'creative', 'and', 'strategic', 'approach', 'management', 'the', 'way', 'done', 'today']\n",
      "the error rate is:  0.1\n",
      "classification error ['benoit', 'mandelbrot', '1924', '2010', 'benoit', 'mandelbrot', '1924', '2010', 'wilmott', 'team', 'benoit', 'mandelbrot', 'the', 'mathematician', 'the', 'father', 'fractal', 'mathematics', 'and', 'advocate', 'more', 'sophisticated', 'modelling', 'quantitative', 'finance', 'died', '14th', 'october', '2010', 'aged', 'wilmott', 'magazine', 'has', 'often', 'featured', 'mandelbrot', 'his', 'ideas', 'and', 'the', 'work', 'others', 'inspired', 'his', 'fundamental', 'insights', 'you', 'must', 'logged', 'view', 'these', 'articles', 'from', 'past', 'issues', 'wilmott', 'magazine']\n",
      "the error rate is:  0.1\n",
      "the error rate is:  0.0\n",
      "the error rate is:  0.0\n",
      "the error rate is:  0.0\n",
      "the error rate is:  0.0\n",
      "the error rate is:  0.0\n",
      "the error rate is:  0.0\n",
      "classification error ['yeah', 'ready', 'may', 'not', 'here', 'because', 'jar', 'jar', 'has', 'plane', 'tickets', 'germany', 'for']\n",
      "the error rate is:  0.1\n",
      "classification error ['yay', 'you', 'both', 'doing', 'fine', 'working', 'mba', 'design', 'strategy', 'cca', 'top', 'art', 'school', 'new', 'program', 'focusing', 'more', 'right', 'brained', 'creative', 'and', 'strategic', 'approach', 'management', 'the', 'way', 'done', 'today']\n",
      "the error rate is:  0.1\n",
      "classification error ['home', 'based', 'business', 'opportunity', 'knocking', 'your', 'door', 'don', 'rude', 'and', 'let', 'this', 'chance', 'you', 'can', 'earn', 'great', 'income', 'and', 'find', 'your', 'financial', 'life', 'transformed', 'learn', 'more', 'here', 'your', 'success', 'work', 'from', 'home', 'finder', 'experts']\n",
      "the error rate is:  0.1\n",
      "classification error ['scifinance', 'now', 'automatically', 'generates', 'gpu', 'enabled', 'pricing', 'risk', 'model', 'source', 'code', 'that', 'runs', '300x', 'faster', 'than', 'serial', 'code', 'using', 'new', 'nvidia', 'fermi', 'class', 'tesla', 'series', 'gpu', 'scifinance', 'derivatives', 'pricing', 'and', 'risk', 'model', 'development', 'tool', 'that', 'automatically', 'generates', 'and', 'gpu', 'enabled', 'source', 'code', 'from', 'concise', 'high', 'level', 'model', 'specifications', 'parallel', 'computing', 'cuda', 'programming', 'expertise', 'required', 'scifinance', 'automatic', 'gpu', 'enabled', 'monte', 'carlo', 'pricing', 'model', 'source', 'code', 'generation', 'capabilities', 'have', 'been', 'significantly', 'extended', 'the', 'latest', 'release', 'this', 'includes']\n",
      "the error rate is:  0.1\n"
     ]
    },
    {
     "name": "stdout",
     "output_type": "stream",
     "text": [
      "the error rate is:  0.0\n",
      "classification error ['oem', 'adobe', 'microsoft', 'softwares', 'fast', 'order', 'and', 'download', 'microsoft', 'office', 'professional', 'plus', '2007', '2010', '129', 'microsoft', 'windows', 'ultimate', '119', 'adobe', 'photoshop', 'cs5', 'extended', 'adobe', 'acrobat', 'pro', 'extended', 'windows', 'professional', 'thousand', 'more', 'titles']\n",
      "the error rate is:  0.1\n",
      "classification error ['scifinance', 'now', 'automatically', 'generates', 'gpu', 'enabled', 'pricing', 'risk', 'model', 'source', 'code', 'that', 'runs', '300x', 'faster', 'than', 'serial', 'code', 'using', 'new', 'nvidia', 'fermi', 'class', 'tesla', 'series', 'gpu', 'scifinance', 'derivatives', 'pricing', 'and', 'risk', 'model', 'development', 'tool', 'that', 'automatically', 'generates', 'and', 'gpu', 'enabled', 'source', 'code', 'from', 'concise', 'high', 'level', 'model', 'specifications', 'parallel', 'computing', 'cuda', 'programming', 'expertise', 'required', 'scifinance', 'automatic', 'gpu', 'enabled', 'monte', 'carlo', 'pricing', 'model', 'source', 'code', 'generation', 'capabilities', 'have', 'been', 'significantly', 'extended', 'the', 'latest', 'release', 'this', 'includes']\n",
      "the error rate is:  0.1\n",
      "the error rate is:  0.0\n",
      "the error rate is:  0.0\n",
      "the error rate is:  0.0\n",
      "the error rate is:  0.0\n",
      "classification error ['home', 'based', 'business', 'opportunity', 'knocking', 'your', 'door', 'don', 'rude', 'and', 'let', 'this', 'chance', 'you', 'can', 'earn', 'great', 'income', 'and', 'find', 'your', 'financial', 'life', 'transformed', 'learn', 'more', 'here', 'your', 'success', 'work', 'from', 'home', 'finder', 'experts']\n",
      "the error rate is:  0.1\n",
      "the error rate is:  0.0\n",
      "classification error ['benoit', 'mandelbrot', '1924', '2010', 'benoit', 'mandelbrot', '1924', '2010', 'wilmott', 'team', 'benoit', 'mandelbrot', 'the', 'mathematician', 'the', 'father', 'fractal', 'mathematics', 'and', 'advocate', 'more', 'sophisticated', 'modelling', 'quantitative', 'finance', 'died', '14th', 'october', '2010', 'aged', 'wilmott', 'magazine', 'has', 'often', 'featured', 'mandelbrot', 'his', 'ideas', 'and', 'the', 'work', 'others', 'inspired', 'his', 'fundamental', 'insights', 'you', 'must', 'logged', 'view', 'these', 'articles', 'from', 'past', 'issues', 'wilmott', 'magazine']\n",
      "the error rate is:  0.1\n",
      "the error rate is:  0.0\n",
      "the error rate is:  0.0\n",
      "classification error ['scifinance', 'now', 'automatically', 'generates', 'gpu', 'enabled', 'pricing', 'risk', 'model', 'source', 'code', 'that', 'runs', '300x', 'faster', 'than', 'serial', 'code', 'using', 'new', 'nvidia', 'fermi', 'class', 'tesla', 'series', 'gpu', 'scifinance', 'derivatives', 'pricing', 'and', 'risk', 'model', 'development', 'tool', 'that', 'automatically', 'generates', 'and', 'gpu', 'enabled', 'source', 'code', 'from', 'concise', 'high', 'level', 'model', 'specifications', 'parallel', 'computing', 'cuda', 'programming', 'expertise', 'required', 'scifinance', 'automatic', 'gpu', 'enabled', 'monte', 'carlo', 'pricing', 'model', 'source', 'code', 'generation', 'capabilities', 'have', 'been', 'significantly', 'extended', 'the', 'latest', 'release', 'this', 'includes']\n",
      "the error rate is:  0.1\n",
      "classification error ['scifinance', 'now', 'automatically', 'generates', 'gpu', 'enabled', 'pricing', 'risk', 'model', 'source', 'code', 'that', 'runs', '300x', 'faster', 'than', 'serial', 'code', 'using', 'new', 'nvidia', 'fermi', 'class', 'tesla', 'series', 'gpu', 'scifinance', 'derivatives', 'pricing', 'and', 'risk', 'model', 'development', 'tool', 'that', 'automatically', 'generates', 'and', 'gpu', 'enabled', 'source', 'code', 'from', 'concise', 'high', 'level', 'model', 'specifications', 'parallel', 'computing', 'cuda', 'programming', 'expertise', 'required', 'scifinance', 'automatic', 'gpu', 'enabled', 'monte', 'carlo', 'pricing', 'model', 'source', 'code', 'generation', 'capabilities', 'have', 'been', 'significantly', 'extended', 'the', 'latest', 'release', 'this', 'includes']\n",
      "the error rate is:  0.1\n",
      "classification error ['home', 'based', 'business', 'opportunity', 'knocking', 'your', 'door', 'don', 'rude', 'and', 'let', 'this', 'chance', 'you', 'can', 'earn', 'great', 'income', 'and', 'find', 'your', 'financial', 'life', 'transformed', 'learn', 'more', 'here', 'your', 'success', 'work', 'from', 'home', 'finder', 'experts']\n",
      "the error rate is:  0.1\n",
      "the error rate is:  0.0\n",
      "the error rate is:  0.0\n",
      "the error rate is:  0.0\n",
      "the error rate is:  0.0\n",
      "classification error ['yeah', 'ready', 'may', 'not', 'here', 'because', 'jar', 'jar', 'has', 'plane', 'tickets', 'germany', 'for']\n",
      "the error rate is:  0.1\n",
      "the error rate is:  0.0\n",
      "classification error ['home', 'based', 'business', 'opportunity', 'knocking', 'your', 'door', 'don', 'rude', 'and', 'let', 'this', 'chance', 'you', 'can', 'earn', 'great', 'income', 'and', 'find', 'your', 'financial', 'life', 'transformed', 'learn', 'more', 'here', 'your', 'success', 'work', 'from', 'home', 'finder', 'experts']\n",
      "classification error ['yeah', 'ready', 'may', 'not', 'here', 'because', 'jar', 'jar', 'has', 'plane', 'tickets', 'germany', 'for']\n",
      "the error rate is:  0.2\n",
      "the error rate is:  0.0\n",
      "classification error ['scifinance', 'now', 'automatically', 'generates', 'gpu', 'enabled', 'pricing', 'risk', 'model', 'source', 'code', 'that', 'runs', '300x', 'faster', 'than', 'serial', 'code', 'using', 'new', 'nvidia', 'fermi', 'class', 'tesla', 'series', 'gpu', 'scifinance', 'derivatives', 'pricing', 'and', 'risk', 'model', 'development', 'tool', 'that', 'automatically', 'generates', 'and', 'gpu', 'enabled', 'source', 'code', 'from', 'concise', 'high', 'level', 'model', 'specifications', 'parallel', 'computing', 'cuda', 'programming', 'expertise', 'required', 'scifinance', 'automatic', 'gpu', 'enabled', 'monte', 'carlo', 'pricing', 'model', 'source', 'code', 'generation', 'capabilities', 'have', 'been', 'significantly', 'extended', 'the', 'latest', 'release', 'this', 'includes']\n",
      "classification error ['home', 'based', 'business', 'opportunity', 'knocking', 'your', 'door', 'don', 'rude', 'and', 'let', 'this', 'chance', 'you', 'can', 'earn', 'great', 'income', 'and', 'find', 'your', 'financial', 'life', 'transformed', 'learn', 'more', 'here', 'your', 'success', 'work', 'from', 'home', 'finder', 'experts']\n",
      "classification error ['yeah', 'ready', 'may', 'not', 'here', 'because', 'jar', 'jar', 'has', 'plane', 'tickets', 'germany', 'for']\n",
      "the error rate is:  0.3\n",
      "classification error ['home', 'based', 'business', 'opportunity', 'knocking', 'your', 'door', 'don', 'rude', 'and', 'let', 'this', 'chance', 'you', 'can', 'earn', 'great', 'income', 'and', 'find', 'your', 'financial', 'life', 'transformed', 'learn', 'more', 'here', 'your', 'success', 'work', 'from', 'home', 'finder', 'experts']\n",
      "the error rate is:  0.1\n",
      "classification error ['benoit', 'mandelbrot', '1924', '2010', 'benoit', 'mandelbrot', '1924', '2010', 'wilmott', 'team', 'benoit', 'mandelbrot', 'the', 'mathematician', 'the', 'father', 'fractal', 'mathematics', 'and', 'advocate', 'more', 'sophisticated', 'modelling', 'quantitative', 'finance', 'died', '14th', 'october', '2010', 'aged', 'wilmott', 'magazine', 'has', 'often', 'featured', 'mandelbrot', 'his', 'ideas', 'and', 'the', 'work', 'others', 'inspired', 'his', 'fundamental', 'insights', 'you', 'must', 'logged', 'view', 'these', 'articles', 'from', 'past', 'issues', 'wilmott', 'magazine']\n",
      "the error rate is:  0.1\n",
      "classification error ['home', 'based', 'business', 'opportunity', 'knocking', 'your', 'door', 'don', 'rude', 'and', 'let', 'this', 'chance', 'you', 'can', 'earn', 'great', 'income', 'and', 'find', 'your', 'financial', 'life', 'transformed', 'learn', 'more', 'here', 'your', 'success', 'work', 'from', 'home', 'finder', 'experts']\n",
      "the error rate is:  0.1\n",
      "the error rate is:  0.0\n",
      "classification error ['oem', 'adobe', 'microsoft', 'softwares', 'fast', 'order', 'and', 'download', 'microsoft', 'office', 'professional', 'plus', '2007', '2010', '129', 'microsoft', 'windows', 'ultimate', '119', 'adobe', 'photoshop', 'cs5', 'extended', 'adobe', 'acrobat', 'pro', 'extended', 'windows', 'professional', 'thousand', 'more', 'titles']\n",
      "the error rate is:  0.1\n",
      "classification error ['benoit', 'mandelbrot', '1924', '2010', 'benoit', 'mandelbrot', '1924', '2010', 'wilmott', 'team', 'benoit', 'mandelbrot', 'the', 'mathematician', 'the', 'father', 'fractal', 'mathematics', 'and', 'advocate', 'more', 'sophisticated', 'modelling', 'quantitative', 'finance', 'died', '14th', 'october', '2010', 'aged', 'wilmott', 'magazine', 'has', 'often', 'featured', 'mandelbrot', 'his', 'ideas', 'and', 'the', 'work', 'others', 'inspired', 'his', 'fundamental', 'insights', 'you', 'must', 'logged', 'view', 'these', 'articles', 'from', 'past', 'issues', 'wilmott', 'magazine']\n",
      "classification error ['home', 'based', 'business', 'opportunity', 'knocking', 'your', 'door', 'don', 'rude', 'and', 'let', 'this', 'chance', 'you', 'can', 'earn', 'great', 'income', 'and', 'find', 'your', 'financial', 'life', 'transformed', 'learn', 'more', 'here', 'your', 'success', 'work', 'from', 'home', 'finder', 'experts']\n",
      "the error rate is:  0.2\n",
      "classification error ['home', 'based', 'business', 'opportunity', 'knocking', 'your', 'door', 'don', 'rude', 'and', 'let', 'this', 'chance', 'you', 'can', 'earn', 'great', 'income', 'and', 'find', 'your', 'financial', 'life', 'transformed', 'learn', 'more', 'here', 'your', 'success', 'work', 'from', 'home', 'finder', 'experts']\n",
      "the error rate is:  0.1\n",
      "classification error ['yay', 'you', 'both', 'doing', 'fine', 'working', 'mba', 'design', 'strategy', 'cca', 'top', 'art', 'school', 'new', 'program', 'focusing', 'more', 'right', 'brained', 'creative', 'and', 'strategic', 'approach', 'management', 'the', 'way', 'done', 'today']\n",
      "the error rate is:  0.1\n"
     ]
    },
    {
     "name": "stdout",
     "output_type": "stream",
     "text": [
      "classification error ['oem', 'adobe', 'microsoft', 'softwares', 'fast', 'order', 'and', 'download', 'microsoft', 'office', 'professional', 'plus', '2007', '2010', '129', 'microsoft', 'windows', 'ultimate', '119', 'adobe', 'photoshop', 'cs5', 'extended', 'adobe', 'acrobat', 'pro', 'extended', 'windows', 'professional', 'thousand', 'more', 'titles']\n",
      "the error rate is:  0.1\n",
      "the error rate is:  0.0\n",
      "classification error ['yay', 'you', 'both', 'doing', 'fine', 'working', 'mba', 'design', 'strategy', 'cca', 'top', 'art', 'school', 'new', 'program', 'focusing', 'more', 'right', 'brained', 'creative', 'and', 'strategic', 'approach', 'management', 'the', 'way', 'done', 'today']\n",
      "the error rate is:  0.1\n",
      "classification error ['linkedin', 'kerry', 'haloney', 'requested', 'add', 'you', 'connection', 'linkedin', 'peter', 'like', 'add', 'you', 'professional', 'network', 'linkedin', 'kerry', 'haloney']\n",
      "the error rate is:  0.1\n",
      "classification error ['yeah', 'ready', 'may', 'not', 'here', 'because', 'jar', 'jar', 'has', 'plane', 'tickets', 'germany', 'for']\n",
      "the error rate is:  0.1\n",
      "the error rate is:  0.0\n",
      "the error rate is:  0.0\n",
      "classification error ['scifinance', 'now', 'automatically', 'generates', 'gpu', 'enabled', 'pricing', 'risk', 'model', 'source', 'code', 'that', 'runs', '300x', 'faster', 'than', 'serial', 'code', 'using', 'new', 'nvidia', 'fermi', 'class', 'tesla', 'series', 'gpu', 'scifinance', 'derivatives', 'pricing', 'and', 'risk', 'model', 'development', 'tool', 'that', 'automatically', 'generates', 'and', 'gpu', 'enabled', 'source', 'code', 'from', 'concise', 'high', 'level', 'model', 'specifications', 'parallel', 'computing', 'cuda', 'programming', 'expertise', 'required', 'scifinance', 'automatic', 'gpu', 'enabled', 'monte', 'carlo', 'pricing', 'model', 'source', 'code', 'generation', 'capabilities', 'have', 'been', 'significantly', 'extended', 'the', 'latest', 'release', 'this', 'includes']\n",
      "classification error ['home', 'based', 'business', 'opportunity', 'knocking', 'your', 'door', 'don', 'rude', 'and', 'let', 'this', 'chance', 'you', 'can', 'earn', 'great', 'income', 'and', 'find', 'your', 'financial', 'life', 'transformed', 'learn', 'more', 'here', 'your', 'success', 'work', 'from', 'home', 'finder', 'experts']\n",
      "the error rate is:  0.2\n",
      "classification error ['benoit', 'mandelbrot', '1924', '2010', 'benoit', 'mandelbrot', '1924', '2010', 'wilmott', 'team', 'benoit', 'mandelbrot', 'the', 'mathematician', 'the', 'father', 'fractal', 'mathematics', 'and', 'advocate', 'more', 'sophisticated', 'modelling', 'quantitative', 'finance', 'died', '14th', 'october', '2010', 'aged', 'wilmott', 'magazine', 'has', 'often', 'featured', 'mandelbrot', 'his', 'ideas', 'and', 'the', 'work', 'others', 'inspired', 'his', 'fundamental', 'insights', 'you', 'must', 'logged', 'view', 'these', 'articles', 'from', 'past', 'issues', 'wilmott', 'magazine']\n",
      "the error rate is:  0.1\n",
      "classification error ['yay', 'you', 'both', 'doing', 'fine', 'working', 'mba', 'design', 'strategy', 'cca', 'top', 'art', 'school', 'new', 'program', 'focusing', 'more', 'right', 'brained', 'creative', 'and', 'strategic', 'approach', 'management', 'the', 'way', 'done', 'today']\n",
      "the error rate is:  0.1\n",
      "the error rate is:  0.0\n",
      "classification error ['yeah', 'ready', 'may', 'not', 'here', 'because', 'jar', 'jar', 'has', 'plane', 'tickets', 'germany', 'for']\n",
      "the error rate is:  0.1\n",
      "the error rate is:  0.0\n",
      "classification error ['scifinance', 'now', 'automatically', 'generates', 'gpu', 'enabled', 'pricing', 'risk', 'model', 'source', 'code', 'that', 'runs', '300x', 'faster', 'than', 'serial', 'code', 'using', 'new', 'nvidia', 'fermi', 'class', 'tesla', 'series', 'gpu', 'scifinance', 'derivatives', 'pricing', 'and', 'risk', 'model', 'development', 'tool', 'that', 'automatically', 'generates', 'and', 'gpu', 'enabled', 'source', 'code', 'from', 'concise', 'high', 'level', 'model', 'specifications', 'parallel', 'computing', 'cuda', 'programming', 'expertise', 'required', 'scifinance', 'automatic', 'gpu', 'enabled', 'monte', 'carlo', 'pricing', 'model', 'source', 'code', 'generation', 'capabilities', 'have', 'been', 'significantly', 'extended', 'the', 'latest', 'release', 'this', 'includes']\n",
      "the error rate is:  0.1\n",
      "the error rate is:  0.0\n",
      "classification error ['yay', 'you', 'both', 'doing', 'fine', 'working', 'mba', 'design', 'strategy', 'cca', 'top', 'art', 'school', 'new', 'program', 'focusing', 'more', 'right', 'brained', 'creative', 'and', 'strategic', 'approach', 'management', 'the', 'way', 'done', 'today']\n",
      "the error rate is:  0.1\n",
      "the error rate is:  0.0\n",
      "classification error ['yay', 'you', 'both', 'doing', 'fine', 'working', 'mba', 'design', 'strategy', 'cca', 'top', 'art', 'school', 'new', 'program', 'focusing', 'more', 'right', 'brained', 'creative', 'and', 'strategic', 'approach', 'management', 'the', 'way', 'done', 'today']\n",
      "the error rate is:  0.1\n",
      "classification error ['yay', 'you', 'both', 'doing', 'fine', 'working', 'mba', 'design', 'strategy', 'cca', 'top', 'art', 'school', 'new', 'program', 'focusing', 'more', 'right', 'brained', 'creative', 'and', 'strategic', 'approach', 'management', 'the', 'way', 'done', 'today']\n",
      "the error rate is:  0.1\n",
      "the error rate is:  0.0\n",
      "classification error ['benoit', 'mandelbrot', '1924', '2010', 'benoit', 'mandelbrot', '1924', '2010', 'wilmott', 'team', 'benoit', 'mandelbrot', 'the', 'mathematician', 'the', 'father', 'fractal', 'mathematics', 'and', 'advocate', 'more', 'sophisticated', 'modelling', 'quantitative', 'finance', 'died', '14th', 'october', '2010', 'aged', 'wilmott', 'magazine', 'has', 'often', 'featured', 'mandelbrot', 'his', 'ideas', 'and', 'the', 'work', 'others', 'inspired', 'his', 'fundamental', 'insights', 'you', 'must', 'logged', 'view', 'these', 'articles', 'from', 'past', 'issues', 'wilmott', 'magazine']\n",
      "the error rate is:  0.1\n",
      "the error rate is:  0.0\n",
      "the error rate is:  0.0\n",
      "classification error ['oem', 'adobe', 'microsoft', 'softwares', 'fast', 'order', 'and', 'download', 'microsoft', 'office', 'professional', 'plus', '2007', '2010', '129', 'microsoft', 'windows', 'ultimate', '119', 'adobe', 'photoshop', 'cs5', 'extended', 'adobe', 'acrobat', 'pro', 'extended', 'windows', 'professional', 'thousand', 'more', 'titles']\n",
      "the error rate is:  0.1\n",
      "classification error ['experience', 'with', 'biggerpenis', 'today', 'grow', 'inches', 'more', 'the', 'safest', 'most', 'effective', 'methods', 'of_penisen1argement', 'save', 'your', 'time', 'and', 'money', 'bettererections', 'with', 'effective', 'ma1eenhancement', 'products', 'ma1eenhancement', 'supplement', 'trusted', 'millions', 'buy', 'today']\n",
      "the error rate is:  0.1\n",
      "the error rate is:  0.0\n",
      "classification error ['linkedin', 'kerry', 'haloney', 'requested', 'add', 'you', 'connection', 'linkedin', 'peter', 'like', 'add', 'you', 'professional', 'network', 'linkedin', 'kerry', 'haloney']\n",
      "classification error ['home', 'based', 'business', 'opportunity', 'knocking', 'your', 'door', 'don', 'rude', 'and', 'let', 'this', 'chance', 'you', 'can', 'earn', 'great', 'income', 'and', 'find', 'your', 'financial', 'life', 'transformed', 'learn', 'more', 'here', 'your', 'success', 'work', 'from', 'home', 'finder', 'experts']\n",
      "the error rate is:  0.2\n",
      "classification error ['scifinance', 'now', 'automatically', 'generates', 'gpu', 'enabled', 'pricing', 'risk', 'model', 'source', 'code', 'that', 'runs', '300x', 'faster', 'than', 'serial', 'code', 'using', 'new', 'nvidia', 'fermi', 'class', 'tesla', 'series', 'gpu', 'scifinance', 'derivatives', 'pricing', 'and', 'risk', 'model', 'development', 'tool', 'that', 'automatically', 'generates', 'and', 'gpu', 'enabled', 'source', 'code', 'from', 'concise', 'high', 'level', 'model', 'specifications', 'parallel', 'computing', 'cuda', 'programming', 'expertise', 'required', 'scifinance', 'automatic', 'gpu', 'enabled', 'monte', 'carlo', 'pricing', 'model', 'source', 'code', 'generation', 'capabilities', 'have', 'been', 'significantly', 'extended', 'the', 'latest', 'release', 'this', 'includes']\n",
      "the error rate is:  0.1\n",
      "classification error ['yeah', 'ready', 'may', 'not', 'here', 'because', 'jar', 'jar', 'has', 'plane', 'tickets', 'germany', 'for']\n",
      "the error rate is:  0.1\n",
      "classification error ['yay', 'you', 'both', 'doing', 'fine', 'working', 'mba', 'design', 'strategy', 'cca', 'top', 'art', 'school', 'new', 'program', 'focusing', 'more', 'right', 'brained', 'creative', 'and', 'strategic', 'approach', 'management', 'the', 'way', 'done', 'today']\n",
      "classification error ['home', 'based', 'business', 'opportunity', 'knocking', 'your', 'door', 'don', 'rude', 'and', 'let', 'this', 'chance', 'you', 'can', 'earn', 'great', 'income', 'and', 'find', 'your', 'financial', 'life', 'transformed', 'learn', 'more', 'here', 'your', 'success', 'work', 'from', 'home', 'finder', 'experts']\n",
      "the error rate is:  0.2\n",
      "the error rate is:  0.0\n",
      "the error rate is:  0.0\n",
      "the error rate is:  0.0\n",
      "the error rate is:  0.0\n",
      "the error rate is:  0.0\n",
      "classification error ['scifinance', 'now', 'automatically', 'generates', 'gpu', 'enabled', 'pricing', 'risk', 'model', 'source', 'code', 'that', 'runs', '300x', 'faster', 'than', 'serial', 'code', 'using', 'new', 'nvidia', 'fermi', 'class', 'tesla', 'series', 'gpu', 'scifinance', 'derivatives', 'pricing', 'and', 'risk', 'model', 'development', 'tool', 'that', 'automatically', 'generates', 'and', 'gpu', 'enabled', 'source', 'code', 'from', 'concise', 'high', 'level', 'model', 'specifications', 'parallel', 'computing', 'cuda', 'programming', 'expertise', 'required', 'scifinance', 'automatic', 'gpu', 'enabled', 'monte', 'carlo', 'pricing', 'model', 'source', 'code', 'generation', 'capabilities', 'have', 'been', 'significantly', 'extended', 'the', 'latest', 'release', 'this', 'includes']\n",
      "the error rate is:  0.1\n",
      "classification error ['yay', 'you', 'both', 'doing', 'fine', 'working', 'mba', 'design', 'strategy', 'cca', 'top', 'art', 'school', 'new', 'program', 'focusing', 'more', 'right', 'brained', 'creative', 'and', 'strategic', 'approach', 'management', 'the', 'way', 'done', 'today']\n",
      "the error rate is:  0.1\n",
      "classification error ['oem', 'adobe', 'microsoft', 'softwares', 'fast', 'order', 'and', 'download', 'microsoft', 'office', 'professional', 'plus', '2007', '2010', '129', 'microsoft', 'windows', 'ultimate', '119', 'adobe', 'photoshop', 'cs5', 'extended', 'adobe', 'acrobat', 'pro', 'extended', 'windows', 'professional', 'thousand', 'more', 'titles']\n",
      "the error rate is:  0.1\n",
      "classification error ['oem', 'adobe', 'microsoft', 'softwares', 'fast', 'order', 'and', 'download', 'microsoft', 'office', 'professional', 'plus', '2007', '2010', '129', 'microsoft', 'windows', 'ultimate', '119', 'adobe', 'photoshop', 'cs5', 'extended', 'adobe', 'acrobat', 'pro', 'extended', 'windows', 'professional', 'thousand', 'more', 'titles']\n",
      "the error rate is:  0.1\n",
      "classification error ['experience', 'with', 'biggerpenis', 'today', 'grow', 'inches', 'more', 'the', 'safest', 'most', 'effective', 'methods', 'of_penisen1argement', 'save', 'your', 'time', 'and', 'money', 'bettererections', 'with', 'effective', 'ma1eenhancement', 'products', 'ma1eenhancement', 'supplement', 'trusted', 'millions', 'buy', 'today']\n",
      "the error rate is:  0.1\n",
      "classification error ['scifinance', 'now', 'automatically', 'generates', 'gpu', 'enabled', 'pricing', 'risk', 'model', 'source', 'code', 'that', 'runs', '300x', 'faster', 'than', 'serial', 'code', 'using', 'new', 'nvidia', 'fermi', 'class', 'tesla', 'series', 'gpu', 'scifinance', 'derivatives', 'pricing', 'and', 'risk', 'model', 'development', 'tool', 'that', 'automatically', 'generates', 'and', 'gpu', 'enabled', 'source', 'code', 'from', 'concise', 'high', 'level', 'model', 'specifications', 'parallel', 'computing', 'cuda', 'programming', 'expertise', 'required', 'scifinance', 'automatic', 'gpu', 'enabled', 'monte', 'carlo', 'pricing', 'model', 'source', 'code', 'generation', 'capabilities', 'have', 'been', 'significantly', 'extended', 'the', 'latest', 'release', 'this', 'includes']\n",
      "the error rate is:  0.1\n",
      "classification error ['oem', 'adobe', 'microsoft', 'softwares', 'fast', 'order', 'and', 'download', 'microsoft', 'office', 'professional', 'plus', '2007', '2010', '129', 'microsoft', 'windows', 'ultimate', '119', 'adobe', 'photoshop', 'cs5', 'extended', 'adobe', 'acrobat', 'pro', 'extended', 'windows', 'professional', 'thousand', 'more', 'titles']\n",
      "the error rate is:  0.1\n",
      "the error rate is:  0.0\n",
      "classification error ['benoit', 'mandelbrot', '1924', '2010', 'benoit', 'mandelbrot', '1924', '2010', 'wilmott', 'team', 'benoit', 'mandelbrot', 'the', 'mathematician', 'the', 'father', 'fractal', 'mathematics', 'and', 'advocate', 'more', 'sophisticated', 'modelling', 'quantitative', 'finance', 'died', '14th', 'october', '2010', 'aged', 'wilmott', 'magazine', 'has', 'often', 'featured', 'mandelbrot', 'his', 'ideas', 'and', 'the', 'work', 'others', 'inspired', 'his', 'fundamental', 'insights', 'you', 'must', 'logged', 'view', 'these', 'articles', 'from', 'past', 'issues', 'wilmott', 'magazine']\n",
      "the error rate is:  0.1\n",
      "classification error ['ryan', 'whybrew', 'commented', 'your', 'status', 'ryan', 'wrote', 'turd', 'ferguson', 'butt', 'horn']\n",
      "the error rate is:  0.1\n",
      "classification error ['yay', 'you', 'both', 'doing', 'fine', 'working', 'mba', 'design', 'strategy', 'cca', 'top', 'art', 'school', 'new', 'program', 'focusing', 'more', 'right', 'brained', 'creative', 'and', 'strategic', 'approach', 'management', 'the', 'way', 'done', 'today']\n",
      "the error rate is:  0.1\n",
      "classification error ['yeah', 'ready', 'may', 'not', 'here', 'because', 'jar', 'jar', 'has', 'plane', 'tickets', 'germany', 'for']\n",
      "the error rate is:  0.1\n",
      "classification error ['home', 'based', 'business', 'opportunity', 'knocking', 'your', 'door', 'don', 'rude', 'and', 'let', 'this', 'chance', 'you', 'can', 'earn', 'great', 'income', 'and', 'find', 'your', 'financial', 'life', 'transformed', 'learn', 'more', 'here', 'your', 'success', 'work', 'from', 'home', 'finder', 'experts']\n",
      "classification error ['yeah', 'ready', 'may', 'not', 'here', 'because', 'jar', 'jar', 'has', 'plane', 'tickets', 'germany', 'for']\n",
      "the error rate is:  0.2\n",
      "classification error ['yeah', 'ready', 'may', 'not', 'here', 'because', 'jar', 'jar', 'has', 'plane', 'tickets', 'germany', 'for']\n",
      "classification error ['yay', 'you', 'both', 'doing', 'fine', 'working', 'mba', 'design', 'strategy', 'cca', 'top', 'art', 'school', 'new', 'program', 'focusing', 'more', 'right', 'brained', 'creative', 'and', 'strategic', 'approach', 'management', 'the', 'way', 'done', 'today']\n",
      "the error rate is:  0.2\n",
      "classification error ['home', 'based', 'business', 'opportunity', 'knocking', 'your', 'door', 'don', 'rude', 'and', 'let', 'this', 'chance', 'you', 'can', 'earn', 'great', 'income', 'and', 'find', 'your', 'financial', 'life', 'transformed', 'learn', 'more', 'here', 'your', 'success', 'work', 'from', 'home', 'finder', 'experts']\n",
      "classification error ['benoit', 'mandelbrot', '1924', '2010', 'benoit', 'mandelbrot', '1924', '2010', 'wilmott', 'team', 'benoit', 'mandelbrot', 'the', 'mathematician', 'the', 'father', 'fractal', 'mathematics', 'and', 'advocate', 'more', 'sophisticated', 'modelling', 'quantitative', 'finance', 'died', '14th', 'october', '2010', 'aged', 'wilmott', 'magazine', 'has', 'often', 'featured', 'mandelbrot', 'his', 'ideas', 'and', 'the', 'work', 'others', 'inspired', 'his', 'fundamental', 'insights', 'you', 'must', 'logged', 'view', 'these', 'articles', 'from', 'past', 'issues', 'wilmott', 'magazine']\n",
      "the error rate is:  0.2\n",
      "classification error ['benoit', 'mandelbrot', '1924', '2010', 'benoit', 'mandelbrot', '1924', '2010', 'wilmott', 'team', 'benoit', 'mandelbrot', 'the', 'mathematician', 'the', 'father', 'fractal', 'mathematics', 'and', 'advocate', 'more', 'sophisticated', 'modelling', 'quantitative', 'finance', 'died', '14th', 'october', '2010', 'aged', 'wilmott', 'magazine', 'has', 'often', 'featured', 'mandelbrot', 'his', 'ideas', 'and', 'the', 'work', 'others', 'inspired', 'his', 'fundamental', 'insights', 'you', 'must', 'logged', 'view', 'these', 'articles', 'from', 'past', 'issues', 'wilmott', 'magazine']\n",
      "classification error ['home', 'based', 'business', 'opportunity', 'knocking', 'your', 'door', 'don', 'rude', 'and', 'let', 'this', 'chance', 'you', 'can', 'earn', 'great', 'income', 'and', 'find', 'your', 'financial', 'life', 'transformed', 'learn', 'more', 'here', 'your', 'success', 'work', 'from', 'home', 'finder', 'experts']\n",
      "classification error ['yeah', 'ready', 'may', 'not', 'here', 'because', 'jar', 'jar', 'has', 'plane', 'tickets', 'germany', 'for']\n",
      "the error rate is:  0.3\n"
     ]
    },
    {
     "name": "stdout",
     "output_type": "stream",
     "text": [
      "classification error ['scifinance', 'now', 'automatically', 'generates', 'gpu', 'enabled', 'pricing', 'risk', 'model', 'source', 'code', 'that', 'runs', '300x', 'faster', 'than', 'serial', 'code', 'using', 'new', 'nvidia', 'fermi', 'class', 'tesla', 'series', 'gpu', 'scifinance', 'derivatives', 'pricing', 'and', 'risk', 'model', 'development', 'tool', 'that', 'automatically', 'generates', 'and', 'gpu', 'enabled', 'source', 'code', 'from', 'concise', 'high', 'level', 'model', 'specifications', 'parallel', 'computing', 'cuda', 'programming', 'expertise', 'required', 'scifinance', 'automatic', 'gpu', 'enabled', 'monte', 'carlo', 'pricing', 'model', 'source', 'code', 'generation', 'capabilities', 'have', 'been', 'significantly', 'extended', 'the', 'latest', 'release', 'this', 'includes']\n",
      "the error rate is:  0.1\n",
      "classification error ['yeah', 'ready', 'may', 'not', 'here', 'because', 'jar', 'jar', 'has', 'plane', 'tickets', 'germany', 'for']\n",
      "the error rate is:  0.1\n",
      "classification error ['benoit', 'mandelbrot', '1924', '2010', 'benoit', 'mandelbrot', '1924', '2010', 'wilmott', 'team', 'benoit', 'mandelbrot', 'the', 'mathematician', 'the', 'father', 'fractal', 'mathematics', 'and', 'advocate', 'more', 'sophisticated', 'modelling', 'quantitative', 'finance', 'died', '14th', 'october', '2010', 'aged', 'wilmott', 'magazine', 'has', 'often', 'featured', 'mandelbrot', 'his', 'ideas', 'and', 'the', 'work', 'others', 'inspired', 'his', 'fundamental', 'insights', 'you', 'must', 'logged', 'view', 'these', 'articles', 'from', 'past', 'issues', 'wilmott', 'magazine']\n",
      "the error rate is:  0.1\n",
      "classification error ['benoit', 'mandelbrot', '1924', '2010', 'benoit', 'mandelbrot', '1924', '2010', 'wilmott', 'team', 'benoit', 'mandelbrot', 'the', 'mathematician', 'the', 'father', 'fractal', 'mathematics', 'and', 'advocate', 'more', 'sophisticated', 'modelling', 'quantitative', 'finance', 'died', '14th', 'october', '2010', 'aged', 'wilmott', 'magazine', 'has', 'often', 'featured', 'mandelbrot', 'his', 'ideas', 'and', 'the', 'work', 'others', 'inspired', 'his', 'fundamental', 'insights', 'you', 'must', 'logged', 'view', 'these', 'articles', 'from', 'past', 'issues', 'wilmott', 'magazine']\n",
      "the error rate is:  0.1\n",
      "classification error ['yay', 'you', 'both', 'doing', 'fine', 'working', 'mba', 'design', 'strategy', 'cca', 'top', 'art', 'school', 'new', 'program', 'focusing', 'more', 'right', 'brained', 'creative', 'and', 'strategic', 'approach', 'management', 'the', 'way', 'done', 'today']\n",
      "classification error ['scifinance', 'now', 'automatically', 'generates', 'gpu', 'enabled', 'pricing', 'risk', 'model', 'source', 'code', 'that', 'runs', '300x', 'faster', 'than', 'serial', 'code', 'using', 'new', 'nvidia', 'fermi', 'class', 'tesla', 'series', 'gpu', 'scifinance', 'derivatives', 'pricing', 'and', 'risk', 'model', 'development', 'tool', 'that', 'automatically', 'generates', 'and', 'gpu', 'enabled', 'source', 'code', 'from', 'concise', 'high', 'level', 'model', 'specifications', 'parallel', 'computing', 'cuda', 'programming', 'expertise', 'required', 'scifinance', 'automatic', 'gpu', 'enabled', 'monte', 'carlo', 'pricing', 'model', 'source', 'code', 'generation', 'capabilities', 'have', 'been', 'significantly', 'extended', 'the', 'latest', 'release', 'this', 'includes']\n",
      "classification error ['home', 'based', 'business', 'opportunity', 'knocking', 'your', 'door', 'don', 'rude', 'and', 'let', 'this', 'chance', 'you', 'can', 'earn', 'great', 'income', 'and', 'find', 'your', 'financial', 'life', 'transformed', 'learn', 'more', 'here', 'your', 'success', 'work', 'from', 'home', 'finder', 'experts']\n",
      "the error rate is:  0.3\n",
      "classification error ['scifinance', 'now', 'automatically', 'generates', 'gpu', 'enabled', 'pricing', 'risk', 'model', 'source', 'code', 'that', 'runs', '300x', 'faster', 'than', 'serial', 'code', 'using', 'new', 'nvidia', 'fermi', 'class', 'tesla', 'series', 'gpu', 'scifinance', 'derivatives', 'pricing', 'and', 'risk', 'model', 'development', 'tool', 'that', 'automatically', 'generates', 'and', 'gpu', 'enabled', 'source', 'code', 'from', 'concise', 'high', 'level', 'model', 'specifications', 'parallel', 'computing', 'cuda', 'programming', 'expertise', 'required', 'scifinance', 'automatic', 'gpu', 'enabled', 'monte', 'carlo', 'pricing', 'model', 'source', 'code', 'generation', 'capabilities', 'have', 'been', 'significantly', 'extended', 'the', 'latest', 'release', 'this', 'includes']\n",
      "the error rate is:  0.1\n",
      "the error rate is:  0.0\n",
      "the error rate is:  0.0\n",
      "classification error ['home', 'based', 'business', 'opportunity', 'knocking', 'your', 'door', 'don', 'rude', 'and', 'let', 'this', 'chance', 'you', 'can', 'earn', 'great', 'income', 'and', 'find', 'your', 'financial', 'life', 'transformed', 'learn', 'more', 'here', 'your', 'success', 'work', 'from', 'home', 'finder', 'experts']\n",
      "classification error ['yay', 'you', 'both', 'doing', 'fine', 'working', 'mba', 'design', 'strategy', 'cca', 'top', 'art', 'school', 'new', 'program', 'focusing', 'more', 'right', 'brained', 'creative', 'and', 'strategic', 'approach', 'management', 'the', 'way', 'done', 'today']\n",
      "the error rate is:  0.2\n",
      "classification error ['scifinance', 'now', 'automatically', 'generates', 'gpu', 'enabled', 'pricing', 'risk', 'model', 'source', 'code', 'that', 'runs', '300x', 'faster', 'than', 'serial', 'code', 'using', 'new', 'nvidia', 'fermi', 'class', 'tesla', 'series', 'gpu', 'scifinance', 'derivatives', 'pricing', 'and', 'risk', 'model', 'development', 'tool', 'that', 'automatically', 'generates', 'and', 'gpu', 'enabled', 'source', 'code', 'from', 'concise', 'high', 'level', 'model', 'specifications', 'parallel', 'computing', 'cuda', 'programming', 'expertise', 'required', 'scifinance', 'automatic', 'gpu', 'enabled', 'monte', 'carlo', 'pricing', 'model', 'source', 'code', 'generation', 'capabilities', 'have', 'been', 'significantly', 'extended', 'the', 'latest', 'release', 'this', 'includes']\n",
      "the error rate is:  0.1\n",
      "the error rate is:  0.0\n",
      "the error rate is:  0.0\n",
      "classification error ['home', 'based', 'business', 'opportunity', 'knocking', 'your', 'door', 'don', 'rude', 'and', 'let', 'this', 'chance', 'you', 'can', 'earn', 'great', 'income', 'and', 'find', 'your', 'financial', 'life', 'transformed', 'learn', 'more', 'here', 'your', 'success', 'work', 'from', 'home', 'finder', 'experts']\n",
      "the error rate is:  0.1\n",
      "classification error ['home', 'based', 'business', 'opportunity', 'knocking', 'your', 'door', 'don', 'rude', 'and', 'let', 'this', 'chance', 'you', 'can', 'earn', 'great', 'income', 'and', 'find', 'your', 'financial', 'life', 'transformed', 'learn', 'more', 'here', 'your', 'success', 'work', 'from', 'home', 'finder', 'experts']\n",
      "the error rate is:  0.1\n",
      "the error rate is:  0.0\n",
      "the error rate is:  0.0\n",
      "the error rate is:  0.0\n",
      "the error rate is:  0.0\n",
      "classification error ['home', 'based', 'business', 'opportunity', 'knocking', 'your', 'door', 'don', 'rude', 'and', 'let', 'this', 'chance', 'you', 'can', 'earn', 'great', 'income', 'and', 'find', 'your', 'financial', 'life', 'transformed', 'learn', 'more', 'here', 'your', 'success', 'work', 'from', 'home', 'finder', 'experts']\n",
      "the error rate is:  0.1\n",
      "the error rate is:  0.0\n",
      "the error rate is:  0.0\n",
      "classification error ['yay', 'you', 'both', 'doing', 'fine', 'working', 'mba', 'design', 'strategy', 'cca', 'top', 'art', 'school', 'new', 'program', 'focusing', 'more', 'right', 'brained', 'creative', 'and', 'strategic', 'approach', 'management', 'the', 'way', 'done', 'today']\n",
      "the error rate is:  0.1\n",
      "the error rate is:  0.0\n",
      "classification error ['home', 'based', 'business', 'opportunity', 'knocking', 'your', 'door', 'don', 'rude', 'and', 'let', 'this', 'chance', 'you', 'can', 'earn', 'great', 'income', 'and', 'find', 'your', 'financial', 'life', 'transformed', 'learn', 'more', 'here', 'your', 'success', 'work', 'from', 'home', 'finder', 'experts']\n",
      "the error rate is:  0.1\n",
      "the error rate is:  0.0\n",
      "the error rate is:  0.0\n",
      "classification error ['yay', 'you', 'both', 'doing', 'fine', 'working', 'mba', 'design', 'strategy', 'cca', 'top', 'art', 'school', 'new', 'program', 'focusing', 'more', 'right', 'brained', 'creative', 'and', 'strategic', 'approach', 'management', 'the', 'way', 'done', 'today']\n",
      "the error rate is:  0.1\n",
      "the error rate is:  0.0\n",
      "the error rate is:  0.0\n"
     ]
    },
    {
     "name": "stdout",
     "output_type": "stream",
     "text": [
      "classification error ['yeah', 'ready', 'may', 'not', 'here', 'because', 'jar', 'jar', 'has', 'plane', 'tickets', 'germany', 'for']\n",
      "the error rate is:  0.1\n",
      "the error rate is:  0.0\n",
      "classification error ['yay', 'you', 'both', 'doing', 'fine', 'working', 'mba', 'design', 'strategy', 'cca', 'top', 'art', 'school', 'new', 'program', 'focusing', 'more', 'right', 'brained', 'creative', 'and', 'strategic', 'approach', 'management', 'the', 'way', 'done', 'today']\n",
      "the error rate is:  0.1\n",
      "classification error ['benoit', 'mandelbrot', '1924', '2010', 'benoit', 'mandelbrot', '1924', '2010', 'wilmott', 'team', 'benoit', 'mandelbrot', 'the', 'mathematician', 'the', 'father', 'fractal', 'mathematics', 'and', 'advocate', 'more', 'sophisticated', 'modelling', 'quantitative', 'finance', 'died', '14th', 'october', '2010', 'aged', 'wilmott', 'magazine', 'has', 'often', 'featured', 'mandelbrot', 'his', 'ideas', 'and', 'the', 'work', 'others', 'inspired', 'his', 'fundamental', 'insights', 'you', 'must', 'logged', 'view', 'these', 'articles', 'from', 'past', 'issues', 'wilmott', 'magazine']\n",
      "the error rate is:  0.1\n",
      "classification error ['yay', 'you', 'both', 'doing', 'fine', 'working', 'mba', 'design', 'strategy', 'cca', 'top', 'art', 'school', 'new', 'program', 'focusing', 'more', 'right', 'brained', 'creative', 'and', 'strategic', 'approach', 'management', 'the', 'way', 'done', 'today']\n",
      "classification error ['yeah', 'ready', 'may', 'not', 'here', 'because', 'jar', 'jar', 'has', 'plane', 'tickets', 'germany', 'for']\n",
      "the error rate is:  0.2\n",
      "the error rate is:  0.0\n",
      "classification error ['home', 'based', 'business', 'opportunity', 'knocking', 'your', 'door', 'don', 'rude', 'and', 'let', 'this', 'chance', 'you', 'can', 'earn', 'great', 'income', 'and', 'find', 'your', 'financial', 'life', 'transformed', 'learn', 'more', 'here', 'your', 'success', 'work', 'from', 'home', 'finder', 'experts']\n",
      "classification error ['yay', 'you', 'both', 'doing', 'fine', 'working', 'mba', 'design', 'strategy', 'cca', 'top', 'art', 'school', 'new', 'program', 'focusing', 'more', 'right', 'brained', 'creative', 'and', 'strategic', 'approach', 'management', 'the', 'way', 'done', 'today']\n",
      "classification error ['yeah', 'ready', 'may', 'not', 'here', 'because', 'jar', 'jar', 'has', 'plane', 'tickets', 'germany', 'for']\n",
      "the error rate is:  0.3\n",
      "classification error ['experience', 'with', 'biggerpenis', 'today', 'grow', 'inches', 'more', 'the', 'safest', 'most', 'effective', 'methods', 'of_penisen1argement', 'save', 'your', 'time', 'and', 'money', 'bettererections', 'with', 'effective', 'ma1eenhancement', 'products', 'ma1eenhancement', 'supplement', 'trusted', 'millions', 'buy', 'today']\n",
      "the error rate is:  0.1\n",
      "the error rate is:  0.0\n",
      "classification error ['home', 'based', 'business', 'opportunity', 'knocking', 'your', 'door', 'don', 'rude', 'and', 'let', 'this', 'chance', 'you', 'can', 'earn', 'great', 'income', 'and', 'find', 'your', 'financial', 'life', 'transformed', 'learn', 'more', 'here', 'your', 'success', 'work', 'from', 'home', 'finder', 'experts']\n",
      "classification error ['yeah', 'ready', 'may', 'not', 'here', 'because', 'jar', 'jar', 'has', 'plane', 'tickets', 'germany', 'for']\n",
      "the error rate is:  0.2\n",
      "classification error ['home', 'based', 'business', 'opportunity', 'knocking', 'your', 'door', 'don', 'rude', 'and', 'let', 'this', 'chance', 'you', 'can', 'earn', 'great', 'income', 'and', 'find', 'your', 'financial', 'life', 'transformed', 'learn', 'more', 'here', 'your', 'success', 'work', 'from', 'home', 'finder', 'experts']\n",
      "the error rate is:  0.1\n",
      "classification error ['benoit', 'mandelbrot', '1924', '2010', 'benoit', 'mandelbrot', '1924', '2010', 'wilmott', 'team', 'benoit', 'mandelbrot', 'the', 'mathematician', 'the', 'father', 'fractal', 'mathematics', 'and', 'advocate', 'more', 'sophisticated', 'modelling', 'quantitative', 'finance', 'died', '14th', 'october', '2010', 'aged', 'wilmott', 'magazine', 'has', 'often', 'featured', 'mandelbrot', 'his', 'ideas', 'and', 'the', 'work', 'others', 'inspired', 'his', 'fundamental', 'insights', 'you', 'must', 'logged', 'view', 'these', 'articles', 'from', 'past', 'issues', 'wilmott', 'magazine']\n",
      "the error rate is:  0.1\n",
      "the error rate is:  0.0\n",
      "classification error ['oem', 'adobe', 'microsoft', 'softwares', 'fast', 'order', 'and', 'download', 'microsoft', 'office', 'professional', 'plus', '2007', '2010', '129', 'microsoft', 'windows', 'ultimate', '119', 'adobe', 'photoshop', 'cs5', 'extended', 'adobe', 'acrobat', 'pro', 'extended', 'windows', 'professional', 'thousand', 'more', 'titles']\n",
      "the error rate is:  0.1\n",
      "classification error ['benoit', 'mandelbrot', '1924', '2010', 'benoit', 'mandelbrot', '1924', '2010', 'wilmott', 'team', 'benoit', 'mandelbrot', 'the', 'mathematician', 'the', 'father', 'fractal', 'mathematics', 'and', 'advocate', 'more', 'sophisticated', 'modelling', 'quantitative', 'finance', 'died', '14th', 'october', '2010', 'aged', 'wilmott', 'magazine', 'has', 'often', 'featured', 'mandelbrot', 'his', 'ideas', 'and', 'the', 'work', 'others', 'inspired', 'his', 'fundamental', 'insights', 'you', 'must', 'logged', 'view', 'these', 'articles', 'from', 'past', 'issues', 'wilmott', 'magazine']\n",
      "the error rate is:  0.1\n",
      "classification error ['yeah', 'ready', 'may', 'not', 'here', 'because', 'jar', 'jar', 'has', 'plane', 'tickets', 'germany', 'for']\n",
      "the error rate is:  0.1\n",
      "the error rate is:  0.0\n",
      "classification error ['yay', 'you', 'both', 'doing', 'fine', 'working', 'mba', 'design', 'strategy', 'cca', 'top', 'art', 'school', 'new', 'program', 'focusing', 'more', 'right', 'brained', 'creative', 'and', 'strategic', 'approach', 'management', 'the', 'way', 'done', 'today']\n",
      "the error rate is:  0.1\n",
      "classification error ['scifinance', 'now', 'automatically', 'generates', 'gpu', 'enabled', 'pricing', 'risk', 'model', 'source', 'code', 'that', 'runs', '300x', 'faster', 'than', 'serial', 'code', 'using', 'new', 'nvidia', 'fermi', 'class', 'tesla', 'series', 'gpu', 'scifinance', 'derivatives', 'pricing', 'and', 'risk', 'model', 'development', 'tool', 'that', 'automatically', 'generates', 'and', 'gpu', 'enabled', 'source', 'code', 'from', 'concise', 'high', 'level', 'model', 'specifications', 'parallel', 'computing', 'cuda', 'programming', 'expertise', 'required', 'scifinance', 'automatic', 'gpu', 'enabled', 'monte', 'carlo', 'pricing', 'model', 'source', 'code', 'generation', 'capabilities', 'have', 'been', 'significantly', 'extended', 'the', 'latest', 'release', 'this', 'includes']\n",
      "the error rate is:  0.1\n",
      "the error rate is:  0.0\n",
      "classification error ['home', 'based', 'business', 'opportunity', 'knocking', 'your', 'door', 'don', 'rude', 'and', 'let', 'this', 'chance', 'you', 'can', 'earn', 'great', 'income', 'and', 'find', 'your', 'financial', 'life', 'transformed', 'learn', 'more', 'here', 'your', 'success', 'work', 'from', 'home', 'finder', 'experts']\n",
      "the error rate is:  0.1\n",
      "the error rate is:  0.0\n",
      "the error rate is:  0.0\n",
      "the error rate is:  0.0\n",
      "classification error ['experience', 'with', 'biggerpenis', 'today', 'grow', 'inches', 'more', 'the', 'safest', 'most', 'effective', 'methods', 'of_penisen1argement', 'save', 'your', 'time', 'and', 'money', 'bettererections', 'with', 'effective', 'ma1eenhancement', 'products', 'ma1eenhancement', 'supplement', 'trusted', 'millions', 'buy', 'today']\n",
      "the error rate is:  0.1\n",
      "the error rate is:  0.0\n",
      "the error rate is:  0.0\n",
      "classification error ['home', 'based', 'business', 'opportunity', 'knocking', 'your', 'door', 'don', 'rude', 'and', 'let', 'this', 'chance', 'you', 'can', 'earn', 'great', 'income', 'and', 'find', 'your', 'financial', 'life', 'transformed', 'learn', 'more', 'here', 'your', 'success', 'work', 'from', 'home', 'finder', 'experts']\n",
      "classification error ['yeah', 'ready', 'may', 'not', 'here', 'because', 'jar', 'jar', 'has', 'plane', 'tickets', 'germany', 'for']\n",
      "the error rate is:  0.2\n",
      "classification error ['yeah', 'ready', 'may', 'not', 'here', 'because', 'jar', 'jar', 'has', 'plane', 'tickets', 'germany', 'for']\n",
      "the error rate is:  0.1\n",
      "classification error ['yeah', 'ready', 'may', 'not', 'here', 'because', 'jar', 'jar', 'has', 'plane', 'tickets', 'germany', 'for']\n",
      "the error rate is:  0.1\n",
      "the error rate is:  0.0\n"
     ]
    },
    {
     "name": "stdout",
     "output_type": "stream",
     "text": [
      "the error rate is:  0.0\n",
      "the error rate is:  0.0\n",
      "classification error ['oem', 'adobe', 'microsoft', 'softwares', 'fast', 'order', 'and', 'download', 'microsoft', 'office', 'professional', 'plus', '2007', '2010', '129', 'microsoft', 'windows', 'ultimate', '119', 'adobe', 'photoshop', 'cs5', 'extended', 'adobe', 'acrobat', 'pro', 'extended', 'windows', 'professional', 'thousand', 'more', 'titles']\n",
      "the error rate is:  0.1\n",
      "the error rate is:  0.0\n",
      "classification error ['home', 'based', 'business', 'opportunity', 'knocking', 'your', 'door', 'don', 'rude', 'and', 'let', 'this', 'chance', 'you', 'can', 'earn', 'great', 'income', 'and', 'find', 'your', 'financial', 'life', 'transformed', 'learn', 'more', 'here', 'your', 'success', 'work', 'from', 'home', 'finder', 'experts']\n",
      "classification error ['yeah', 'ready', 'may', 'not', 'here', 'because', 'jar', 'jar', 'has', 'plane', 'tickets', 'germany', 'for']\n",
      "the error rate is:  0.2\n",
      "the error rate is:  0.0\n",
      "classification error ['scifinance', 'now', 'automatically', 'generates', 'gpu', 'enabled', 'pricing', 'risk', 'model', 'source', 'code', 'that', 'runs', '300x', 'faster', 'than', 'serial', 'code', 'using', 'new', 'nvidia', 'fermi', 'class', 'tesla', 'series', 'gpu', 'scifinance', 'derivatives', 'pricing', 'and', 'risk', 'model', 'development', 'tool', 'that', 'automatically', 'generates', 'and', 'gpu', 'enabled', 'source', 'code', 'from', 'concise', 'high', 'level', 'model', 'specifications', 'parallel', 'computing', 'cuda', 'programming', 'expertise', 'required', 'scifinance', 'automatic', 'gpu', 'enabled', 'monte', 'carlo', 'pricing', 'model', 'source', 'code', 'generation', 'capabilities', 'have', 'been', 'significantly', 'extended', 'the', 'latest', 'release', 'this', 'includes']\n",
      "the error rate is:  0.1\n",
      "classification error ['scifinance', 'now', 'automatically', 'generates', 'gpu', 'enabled', 'pricing', 'risk', 'model', 'source', 'code', 'that', 'runs', '300x', 'faster', 'than', 'serial', 'code', 'using', 'new', 'nvidia', 'fermi', 'class', 'tesla', 'series', 'gpu', 'scifinance', 'derivatives', 'pricing', 'and', 'risk', 'model', 'development', 'tool', 'that', 'automatically', 'generates', 'and', 'gpu', 'enabled', 'source', 'code', 'from', 'concise', 'high', 'level', 'model', 'specifications', 'parallel', 'computing', 'cuda', 'programming', 'expertise', 'required', 'scifinance', 'automatic', 'gpu', 'enabled', 'monte', 'carlo', 'pricing', 'model', 'source', 'code', 'generation', 'capabilities', 'have', 'been', 'significantly', 'extended', 'the', 'latest', 'release', 'this', 'includes']\n",
      "classification error ['home', 'based', 'business', 'opportunity', 'knocking', 'your', 'door', 'don', 'rude', 'and', 'let', 'this', 'chance', 'you', 'can', 'earn', 'great', 'income', 'and', 'find', 'your', 'financial', 'life', 'transformed', 'learn', 'more', 'here', 'your', 'success', 'work', 'from', 'home', 'finder', 'experts']\n",
      "the error rate is:  0.2\n",
      "classification error ['home', 'based', 'business', 'opportunity', 'knocking', 'your', 'door', 'don', 'rude', 'and', 'let', 'this', 'chance', 'you', 'can', 'earn', 'great', 'income', 'and', 'find', 'your', 'financial', 'life', 'transformed', 'learn', 'more', 'here', 'your', 'success', 'work', 'from', 'home', 'finder', 'experts']\n",
      "classification error ['yay', 'you', 'both', 'doing', 'fine', 'working', 'mba', 'design', 'strategy', 'cca', 'top', 'art', 'school', 'new', 'program', 'focusing', 'more', 'right', 'brained', 'creative', 'and', 'strategic', 'approach', 'management', 'the', 'way', 'done', 'today']\n",
      "the error rate is:  0.2\n",
      "classification error ['experience', 'with', 'biggerpenis', 'today', 'grow', 'inches', 'more', 'the', 'safest', 'most', 'effective', 'methods', 'of_penisen1argement', 'save', 'your', 'time', 'and', 'money', 'bettererections', 'with', 'effective', 'ma1eenhancement', 'products', 'ma1eenhancement', 'supplement', 'trusted', 'millions', 'buy', 'today']\n",
      "the error rate is:  0.1\n",
      "classification error ['yay', 'you', 'both', 'doing', 'fine', 'working', 'mba', 'design', 'strategy', 'cca', 'top', 'art', 'school', 'new', 'program', 'focusing', 'more', 'right', 'brained', 'creative', 'and', 'strategic', 'approach', 'management', 'the', 'way', 'done', 'today']\n",
      "the error rate is:  0.1\n",
      "classification error ['benoit', 'mandelbrot', '1924', '2010', 'benoit', 'mandelbrot', '1924', '2010', 'wilmott', 'team', 'benoit', 'mandelbrot', 'the', 'mathematician', 'the', 'father', 'fractal', 'mathematics', 'and', 'advocate', 'more', 'sophisticated', 'modelling', 'quantitative', 'finance', 'died', '14th', 'october', '2010', 'aged', 'wilmott', 'magazine', 'has', 'often', 'featured', 'mandelbrot', 'his', 'ideas', 'and', 'the', 'work', 'others', 'inspired', 'his', 'fundamental', 'insights', 'you', 'must', 'logged', 'view', 'these', 'articles', 'from', 'past', 'issues', 'wilmott', 'magazine']\n",
      "the error rate is:  0.1\n",
      "the error rate is:  0.0\n",
      "the error rate is:  0.0\n",
      "classification error ['ryan', 'whybrew', 'commented', 'your', 'status', 'ryan', 'wrote', 'turd', 'ferguson', 'butt', 'horn']\n",
      "the error rate is:  0.1\n",
      "the error rate is:  0.0\n",
      "classification error ['home', 'based', 'business', 'opportunity', 'knocking', 'your', 'door', 'don', 'rude', 'and', 'let', 'this', 'chance', 'you', 'can', 'earn', 'great', 'income', 'and', 'find', 'your', 'financial', 'life', 'transformed', 'learn', 'more', 'here', 'your', 'success', 'work', 'from', 'home', 'finder', 'experts']\n",
      "the error rate is:  0.1\n",
      "classification error ['home', 'based', 'business', 'opportunity', 'knocking', 'your', 'door', 'don', 'rude', 'and', 'let', 'this', 'chance', 'you', 'can', 'earn', 'great', 'income', 'and', 'find', 'your', 'financial', 'life', 'transformed', 'learn', 'more', 'here', 'your', 'success', 'work', 'from', 'home', 'finder', 'experts']\n",
      "the error rate is:  0.1\n",
      "classification error ['home', 'based', 'business', 'opportunity', 'knocking', 'your', 'door', 'don', 'rude', 'and', 'let', 'this', 'chance', 'you', 'can', 'earn', 'great', 'income', 'and', 'find', 'your', 'financial', 'life', 'transformed', 'learn', 'more', 'here', 'your', 'success', 'work', 'from', 'home', 'finder', 'experts']\n",
      "the error rate is:  0.1\n",
      "classification error ['home', 'based', 'business', 'opportunity', 'knocking', 'your', 'door', 'don', 'rude', 'and', 'let', 'this', 'chance', 'you', 'can', 'earn', 'great', 'income', 'and', 'find', 'your', 'financial', 'life', 'transformed', 'learn', 'more', 'here', 'your', 'success', 'work', 'from', 'home', 'finder', 'experts']\n",
      "the error rate is:  0.1\n",
      "classification error ['yay', 'you', 'both', 'doing', 'fine', 'working', 'mba', 'design', 'strategy', 'cca', 'top', 'art', 'school', 'new', 'program', 'focusing', 'more', 'right', 'brained', 'creative', 'and', 'strategic', 'approach', 'management', 'the', 'way', 'done', 'today']\n",
      "classification error ['home', 'based', 'business', 'opportunity', 'knocking', 'your', 'door', 'don', 'rude', 'and', 'let', 'this', 'chance', 'you', 'can', 'earn', 'great', 'income', 'and', 'find', 'your', 'financial', 'life', 'transformed', 'learn', 'more', 'here', 'your', 'success', 'work', 'from', 'home', 'finder', 'experts']\n",
      "the error rate is:  0.2\n",
      "the error rate is:  0.0\n",
      "classification error ['home', 'based', 'business', 'opportunity', 'knocking', 'your', 'door', 'don', 'rude', 'and', 'let', 'this', 'chance', 'you', 'can', 'earn', 'great', 'income', 'and', 'find', 'your', 'financial', 'life', 'transformed', 'learn', 'more', 'here', 'your', 'success', 'work', 'from', 'home', 'finder', 'experts']\n",
      "the error rate is:  0.1\n",
      "the error rate is:  0.0\n",
      "classification error ['home', 'based', 'business', 'opportunity', 'knocking', 'your', 'door', 'don', 'rude', 'and', 'let', 'this', 'chance', 'you', 'can', 'earn', 'great', 'income', 'and', 'find', 'your', 'financial', 'life', 'transformed', 'learn', 'more', 'here', 'your', 'success', 'work', 'from', 'home', 'finder', 'experts']\n",
      "the error rate is:  0.1\n",
      "classification error ['home', 'based', 'business', 'opportunity', 'knocking', 'your', 'door', 'don', 'rude', 'and', 'let', 'this', 'chance', 'you', 'can', 'earn', 'great', 'income', 'and', 'find', 'your', 'financial', 'life', 'transformed', 'learn', 'more', 'here', 'your', 'success', 'work', 'from', 'home', 'finder', 'experts']\n",
      "the error rate is:  0.1\n",
      "classification error ['yay', 'you', 'both', 'doing', 'fine', 'working', 'mba', 'design', 'strategy', 'cca', 'top', 'art', 'school', 'new', 'program', 'focusing', 'more', 'right', 'brained', 'creative', 'and', 'strategic', 'approach', 'management', 'the', 'way', 'done', 'today']\n"
     ]
    },
    {
     "name": "stdout",
     "output_type": "stream",
     "text": [
      "the error rate is:  0.1\n",
      "classification error ['home', 'based', 'business', 'opportunity', 'knocking', 'your', 'door', 'don', 'rude', 'and', 'let', 'this', 'chance', 'you', 'can', 'earn', 'great', 'income', 'and', 'find', 'your', 'financial', 'life', 'transformed', 'learn', 'more', 'here', 'your', 'success', 'work', 'from', 'home', 'finder', 'experts']\n",
      "the error rate is:  0.1\n",
      "classification error ['home', 'based', 'business', 'opportunity', 'knocking', 'your', 'door', 'don', 'rude', 'and', 'let', 'this', 'chance', 'you', 'can', 'earn', 'great', 'income', 'and', 'find', 'your', 'financial', 'life', 'transformed', 'learn', 'more', 'here', 'your', 'success', 'work', 'from', 'home', 'finder', 'experts']\n",
      "classification error ['yeah', 'ready', 'may', 'not', 'here', 'because', 'jar', 'jar', 'has', 'plane', 'tickets', 'germany', 'for']\n",
      "the error rate is:  0.2\n",
      "the error rate is:  0.0\n",
      "classification error ['home', 'based', 'business', 'opportunity', 'knocking', 'your', 'door', 'don', 'rude', 'and', 'let', 'this', 'chance', 'you', 'can', 'earn', 'great', 'income', 'and', 'find', 'your', 'financial', 'life', 'transformed', 'learn', 'more', 'here', 'your', 'success', 'work', 'from', 'home', 'finder', 'experts']\n",
      "the error rate is:  0.1\n",
      "the error rate is:  0.0\n",
      "the error rate is:  0.0\n",
      "the error rate is:  0.0\n",
      "the error rate is:  0.0\n",
      "the error rate is:  0.0\n",
      "classification error ['home', 'based', 'business', 'opportunity', 'knocking', 'your', 'door', 'don', 'rude', 'and', 'let', 'this', 'chance', 'you', 'can', 'earn', 'great', 'income', 'and', 'find', 'your', 'financial', 'life', 'transformed', 'learn', 'more', 'here', 'your', 'success', 'work', 'from', 'home', 'finder', 'experts']\n",
      "the error rate is:  0.1\n",
      "classification error ['yay', 'you', 'both', 'doing', 'fine', 'working', 'mba', 'design', 'strategy', 'cca', 'top', 'art', 'school', 'new', 'program', 'focusing', 'more', 'right', 'brained', 'creative', 'and', 'strategic', 'approach', 'management', 'the', 'way', 'done', 'today']\n",
      "the error rate is:  0.1\n",
      "classification error ['oem', 'adobe', 'microsoft', 'softwares', 'fast', 'order', 'and', 'download', 'microsoft', 'office', 'professional', 'plus', '2007', '2010', '129', 'microsoft', 'windows', 'ultimate', '119', 'adobe', 'photoshop', 'cs5', 'extended', 'adobe', 'acrobat', 'pro', 'extended', 'windows', 'professional', 'thousand', 'more', 'titles']\n",
      "classification error ['home', 'based', 'business', 'opportunity', 'knocking', 'your', 'door', 'don', 'rude', 'and', 'let', 'this', 'chance', 'you', 'can', 'earn', 'great', 'income', 'and', 'find', 'your', 'financial', 'life', 'transformed', 'learn', 'more', 'here', 'your', 'success', 'work', 'from', 'home', 'finder', 'experts']\n",
      "the error rate is:  0.2\n",
      "the error rate is:  0.0\n",
      "the error rate is:  0.0\n",
      "classification error ['home', 'based', 'business', 'opportunity', 'knocking', 'your', 'door', 'don', 'rude', 'and', 'let', 'this', 'chance', 'you', 'can', 'earn', 'great', 'income', 'and', 'find', 'your', 'financial', 'life', 'transformed', 'learn', 'more', 'here', 'your', 'success', 'work', 'from', 'home', 'finder', 'experts']\n",
      "the error rate is:  0.1\n",
      "the error rate is:  0.0\n",
      "classification error ['home', 'based', 'business', 'opportunity', 'knocking', 'your', 'door', 'don', 'rude', 'and', 'let', 'this', 'chance', 'you', 'can', 'earn', 'great', 'income', 'and', 'find', 'your', 'financial', 'life', 'transformed', 'learn', 'more', 'here', 'your', 'success', 'work', 'from', 'home', 'finder', 'experts']\n",
      "the error rate is:  0.1\n",
      "the error rate is:  0.0\n",
      "the error rate is:  0.0\n",
      "classification error ['yay', 'you', 'both', 'doing', 'fine', 'working', 'mba', 'design', 'strategy', 'cca', 'top', 'art', 'school', 'new', 'program', 'focusing', 'more', 'right', 'brained', 'creative', 'and', 'strategic', 'approach', 'management', 'the', 'way', 'done', 'today']\n",
      "the error rate is:  0.1\n",
      "classification error ['yay', 'you', 'both', 'doing', 'fine', 'working', 'mba', 'design', 'strategy', 'cca', 'top', 'art', 'school', 'new', 'program', 'focusing', 'more', 'right', 'brained', 'creative', 'and', 'strategic', 'approach', 'management', 'the', 'way', 'done', 'today']\n",
      "the error rate is:  0.1\n",
      "classification error ['home', 'based', 'business', 'opportunity', 'knocking', 'your', 'door', 'don', 'rude', 'and', 'let', 'this', 'chance', 'you', 'can', 'earn', 'great', 'income', 'and', 'find', 'your', 'financial', 'life', 'transformed', 'learn', 'more', 'here', 'your', 'success', 'work', 'from', 'home', 'finder', 'experts']\n",
      "the error rate is:  0.1\n",
      "the error rate is:  0.0\n",
      "classification error ['home', 'based', 'business', 'opportunity', 'knocking', 'your', 'door', 'don', 'rude', 'and', 'let', 'this', 'chance', 'you', 'can', 'earn', 'great', 'income', 'and', 'find', 'your', 'financial', 'life', 'transformed', 'learn', 'more', 'here', 'your', 'success', 'work', 'from', 'home', 'finder', 'experts']\n",
      "the error rate is:  0.1\n",
      "the error rate is:  0.0\n",
      "classification error ['scifinance', 'now', 'automatically', 'generates', 'gpu', 'enabled', 'pricing', 'risk', 'model', 'source', 'code', 'that', 'runs', '300x', 'faster', 'than', 'serial', 'code', 'using', 'new', 'nvidia', 'fermi', 'class', 'tesla', 'series', 'gpu', 'scifinance', 'derivatives', 'pricing', 'and', 'risk', 'model', 'development', 'tool', 'that', 'automatically', 'generates', 'and', 'gpu', 'enabled', 'source', 'code', 'from', 'concise', 'high', 'level', 'model', 'specifications', 'parallel', 'computing', 'cuda', 'programming', 'expertise', 'required', 'scifinance', 'automatic', 'gpu', 'enabled', 'monte', 'carlo', 'pricing', 'model', 'source', 'code', 'generation', 'capabilities', 'have', 'been', 'significantly', 'extended', 'the', 'latest', 'release', 'this', 'includes']\n",
      "the error rate is:  0.1\n",
      "the error rate is:  0.0\n",
      "the error rate is:  0.0\n",
      "classification error ['scifinance', 'now', 'automatically', 'generates', 'gpu', 'enabled', 'pricing', 'risk', 'model', 'source', 'code', 'that', 'runs', '300x', 'faster', 'than', 'serial', 'code', 'using', 'new', 'nvidia', 'fermi', 'class', 'tesla', 'series', 'gpu', 'scifinance', 'derivatives', 'pricing', 'and', 'risk', 'model', 'development', 'tool', 'that', 'automatically', 'generates', 'and', 'gpu', 'enabled', 'source', 'code', 'from', 'concise', 'high', 'level', 'model', 'specifications', 'parallel', 'computing', 'cuda', 'programming', 'expertise', 'required', 'scifinance', 'automatic', 'gpu', 'enabled', 'monte', 'carlo', 'pricing', 'model', 'source', 'code', 'generation', 'capabilities', 'have', 'been', 'significantly', 'extended', 'the', 'latest', 'release', 'this', 'includes']\n",
      "classification error ['home', 'based', 'business', 'opportunity', 'knocking', 'your', 'door', 'don', 'rude', 'and', 'let', 'this', 'chance', 'you', 'can', 'earn', 'great', 'income', 'and', 'find', 'your', 'financial', 'life', 'transformed', 'learn', 'more', 'here', 'your', 'success', 'work', 'from', 'home', 'finder', 'experts']\n",
      "the error rate is:  0.2\n",
      "classification error ['oem', 'adobe', 'microsoft', 'softwares', 'fast', 'order', 'and', 'download', 'microsoft', 'office', 'professional', 'plus', '2007', '2010', '129', 'microsoft', 'windows', 'ultimate', '119', 'adobe', 'photoshop', 'cs5', 'extended', 'adobe', 'acrobat', 'pro', 'extended', 'windows', 'professional', 'thousand', 'more', 'titles']\n",
      "the error rate is:  0.1\n",
      "classification error ['scifinance', 'now', 'automatically', 'generates', 'gpu', 'enabled', 'pricing', 'risk', 'model', 'source', 'code', 'that', 'runs', '300x', 'faster', 'than', 'serial', 'code', 'using', 'new', 'nvidia', 'fermi', 'class', 'tesla', 'series', 'gpu', 'scifinance', 'derivatives', 'pricing', 'and', 'risk', 'model', 'development', 'tool', 'that', 'automatically', 'generates', 'and', 'gpu', 'enabled', 'source', 'code', 'from', 'concise', 'high', 'level', 'model', 'specifications', 'parallel', 'computing', 'cuda', 'programming', 'expertise', 'required', 'scifinance', 'automatic', 'gpu', 'enabled', 'monte', 'carlo', 'pricing', 'model', 'source', 'code', 'generation', 'capabilities', 'have', 'been', 'significantly', 'extended', 'the', 'latest', 'release', 'this', 'includes']\n",
      "the error rate is:  0.1\n",
      "classification error ['scifinance', 'now', 'automatically', 'generates', 'gpu', 'enabled', 'pricing', 'risk', 'model', 'source', 'code', 'that', 'runs', '300x', 'faster', 'than', 'serial', 'code', 'using', 'new', 'nvidia', 'fermi', 'class', 'tesla', 'series', 'gpu', 'scifinance', 'derivatives', 'pricing', 'and', 'risk', 'model', 'development', 'tool', 'that', 'automatically', 'generates', 'and', 'gpu', 'enabled', 'source', 'code', 'from', 'concise', 'high', 'level', 'model', 'specifications', 'parallel', 'computing', 'cuda', 'programming', 'expertise', 'required', 'scifinance', 'automatic', 'gpu', 'enabled', 'monte', 'carlo', 'pricing', 'model', 'source', 'code', 'generation', 'capabilities', 'have', 'been', 'significantly', 'extended', 'the', 'latest', 'release', 'this', 'includes']\n",
      "classification error ['benoit', 'mandelbrot', '1924', '2010', 'benoit', 'mandelbrot', '1924', '2010', 'wilmott', 'team', 'benoit', 'mandelbrot', 'the', 'mathematician', 'the', 'father', 'fractal', 'mathematics', 'and', 'advocate', 'more', 'sophisticated', 'modelling', 'quantitative', 'finance', 'died', '14th', 'october', '2010', 'aged', 'wilmott', 'magazine', 'has', 'often', 'featured', 'mandelbrot', 'his', 'ideas', 'and', 'the', 'work', 'others', 'inspired', 'his', 'fundamental', 'insights', 'you', 'must', 'logged', 'view', 'these', 'articles', 'from', 'past', 'issues', 'wilmott', 'magazine']\n",
      "the error rate is:  0.2\n",
      "classification error ['home', 'based', 'business', 'opportunity', 'knocking', 'your', 'door', 'don', 'rude', 'and', 'let', 'this', 'chance', 'you', 'can', 'earn', 'great', 'income', 'and', 'find', 'your', 'financial', 'life', 'transformed', 'learn', 'more', 'here', 'your', 'success', 'work', 'from', 'home', 'finder', 'experts']\n",
      "the error rate is:  0.1\n",
      "classification error ['scifinance', 'now', 'automatically', 'generates', 'gpu', 'enabled', 'pricing', 'risk', 'model', 'source', 'code', 'that', 'runs', '300x', 'faster', 'than', 'serial', 'code', 'using', 'new', 'nvidia', 'fermi', 'class', 'tesla', 'series', 'gpu', 'scifinance', 'derivatives', 'pricing', 'and', 'risk', 'model', 'development', 'tool', 'that', 'automatically', 'generates', 'and', 'gpu', 'enabled', 'source', 'code', 'from', 'concise', 'high', 'level', 'model', 'specifications', 'parallel', 'computing', 'cuda', 'programming', 'expertise', 'required', 'scifinance', 'automatic', 'gpu', 'enabled', 'monte', 'carlo', 'pricing', 'model', 'source', 'code', 'generation', 'capabilities', 'have', 'been', 'significantly', 'extended', 'the', 'latest', 'release', 'this', 'includes']\n",
      "the error rate is:  0.1\n"
     ]
    },
    {
     "name": "stdout",
     "output_type": "stream",
     "text": [
      "classification error ['oem', 'adobe', 'microsoft', 'softwares', 'fast', 'order', 'and', 'download', 'microsoft', 'office', 'professional', 'plus', '2007', '2010', '129', 'microsoft', 'windows', 'ultimate', '119', 'adobe', 'photoshop', 'cs5', 'extended', 'adobe', 'acrobat', 'pro', 'extended', 'windows', 'professional', 'thousand', 'more', 'titles']\n",
      "the error rate is:  0.1\n",
      "the error rate is:  0.0\n",
      "classification error ['yeah', 'ready', 'may', 'not', 'here', 'because', 'jar', 'jar', 'has', 'plane', 'tickets', 'germany', 'for']\n",
      "the error rate is:  0.1\n",
      "the error rate is:  0.0\n",
      "classification error ['yay', 'you', 'both', 'doing', 'fine', 'working', 'mba', 'design', 'strategy', 'cca', 'top', 'art', 'school', 'new', 'program', 'focusing', 'more', 'right', 'brained', 'creative', 'and', 'strategic', 'approach', 'management', 'the', 'way', 'done', 'today']\n",
      "the error rate is:  0.1\n",
      "classification error ['buyviagra', '25mg', '50mg', '100mg', 'brandviagra', 'femaleviagra', 'from', 'per', 'pill', 'viagranoprescription', 'needed', 'from', 'certified', 'canadian', 'pharmacy', 'buy', 'here', 'accept', 'visa', 'amex', 'check', 'worldwide', 'delivery']\n",
      "the error rate is:  0.1\n",
      "classification error ['benoit', 'mandelbrot', '1924', '2010', 'benoit', 'mandelbrot', '1924', '2010', 'wilmott', 'team', 'benoit', 'mandelbrot', 'the', 'mathematician', 'the', 'father', 'fractal', 'mathematics', 'and', 'advocate', 'more', 'sophisticated', 'modelling', 'quantitative', 'finance', 'died', '14th', 'october', '2010', 'aged', 'wilmott', 'magazine', 'has', 'often', 'featured', 'mandelbrot', 'his', 'ideas', 'and', 'the', 'work', 'others', 'inspired', 'his', 'fundamental', 'insights', 'you', 'must', 'logged', 'view', 'these', 'articles', 'from', 'past', 'issues', 'wilmott', 'magazine']\n",
      "the error rate is:  0.1\n",
      "classification error ['yeah', 'ready', 'may', 'not', 'here', 'because', 'jar', 'jar', 'has', 'plane', 'tickets', 'germany', 'for']\n",
      "the error rate is:  0.1\n",
      "the error rate is:  0.0\n",
      "the error rate is:  0.0\n",
      "classification error ['home', 'based', 'business', 'opportunity', 'knocking', 'your', 'door', 'don', 'rude', 'and', 'let', 'this', 'chance', 'you', 'can', 'earn', 'great', 'income', 'and', 'find', 'your', 'financial', 'life', 'transformed', 'learn', 'more', 'here', 'your', 'success', 'work', 'from', 'home', 'finder', 'experts']\n",
      "classification error ['scifinance', 'now', 'automatically', 'generates', 'gpu', 'enabled', 'pricing', 'risk', 'model', 'source', 'code', 'that', 'runs', '300x', 'faster', 'than', 'serial', 'code', 'using', 'new', 'nvidia', 'fermi', 'class', 'tesla', 'series', 'gpu', 'scifinance', 'derivatives', 'pricing', 'and', 'risk', 'model', 'development', 'tool', 'that', 'automatically', 'generates', 'and', 'gpu', 'enabled', 'source', 'code', 'from', 'concise', 'high', 'level', 'model', 'specifications', 'parallel', 'computing', 'cuda', 'programming', 'expertise', 'required', 'scifinance', 'automatic', 'gpu', 'enabled', 'monte', 'carlo', 'pricing', 'model', 'source', 'code', 'generation', 'capabilities', 'have', 'been', 'significantly', 'extended', 'the', 'latest', 'release', 'this', 'includes']\n",
      "the error rate is:  0.2\n",
      "the error rate is:  0.0\n",
      "classification error ['home', 'based', 'business', 'opportunity', 'knocking', 'your', 'door', 'don', 'rude', 'and', 'let', 'this', 'chance', 'you', 'can', 'earn', 'great', 'income', 'and', 'find', 'your', 'financial', 'life', 'transformed', 'learn', 'more', 'here', 'your', 'success', 'work', 'from', 'home', 'finder', 'experts']\n",
      "classification error ['oem', 'adobe', 'microsoft', 'softwares', 'fast', 'order', 'and', 'download', 'microsoft', 'office', 'professional', 'plus', '2007', '2010', '129', 'microsoft', 'windows', 'ultimate', '119', 'adobe', 'photoshop', 'cs5', 'extended', 'adobe', 'acrobat', 'pro', 'extended', 'windows', 'professional', 'thousand', 'more', 'titles']\n",
      "the error rate is:  0.2\n",
      "the error rate is:  0.0\n",
      "the error rate is:  0.0\n",
      "classification error ['benoit', 'mandelbrot', '1924', '2010', 'benoit', 'mandelbrot', '1924', '2010', 'wilmott', 'team', 'benoit', 'mandelbrot', 'the', 'mathematician', 'the', 'father', 'fractal', 'mathematics', 'and', 'advocate', 'more', 'sophisticated', 'modelling', 'quantitative', 'finance', 'died', '14th', 'october', '2010', 'aged', 'wilmott', 'magazine', 'has', 'often', 'featured', 'mandelbrot', 'his', 'ideas', 'and', 'the', 'work', 'others', 'inspired', 'his', 'fundamental', 'insights', 'you', 'must', 'logged', 'view', 'these', 'articles', 'from', 'past', 'issues', 'wilmott', 'magazine']\n",
      "the error rate is:  0.1\n",
      "the error rate is:  0.0\n",
      "the error rate is:  0.0\n",
      "classification error ['scifinance', 'now', 'automatically', 'generates', 'gpu', 'enabled', 'pricing', 'risk', 'model', 'source', 'code', 'that', 'runs', '300x', 'faster', 'than', 'serial', 'code', 'using', 'new', 'nvidia', 'fermi', 'class', 'tesla', 'series', 'gpu', 'scifinance', 'derivatives', 'pricing', 'and', 'risk', 'model', 'development', 'tool', 'that', 'automatically', 'generates', 'and', 'gpu', 'enabled', 'source', 'code', 'from', 'concise', 'high', 'level', 'model', 'specifications', 'parallel', 'computing', 'cuda', 'programming', 'expertise', 'required', 'scifinance', 'automatic', 'gpu', 'enabled', 'monte', 'carlo', 'pricing', 'model', 'source', 'code', 'generation', 'capabilities', 'have', 'been', 'significantly', 'extended', 'the', 'latest', 'release', 'this', 'includes']\n",
      "the error rate is:  0.1\n",
      "the error rate is:  0.0\n",
      "the error rate is:  0.0\n",
      "classification error ['home', 'based', 'business', 'opportunity', 'knocking', 'your', 'door', 'don', 'rude', 'and', 'let', 'this', 'chance', 'you', 'can', 'earn', 'great', 'income', 'and', 'find', 'your', 'financial', 'life', 'transformed', 'learn', 'more', 'here', 'your', 'success', 'work', 'from', 'home', 'finder', 'experts']\n",
      "the error rate is:  0.1\n",
      "the error rate is:  0.0\n",
      "the error rate is:  0.0\n",
      "classification error ['scifinance', 'now', 'automatically', 'generates', 'gpu', 'enabled', 'pricing', 'risk', 'model', 'source', 'code', 'that', 'runs', '300x', 'faster', 'than', 'serial', 'code', 'using', 'new', 'nvidia', 'fermi', 'class', 'tesla', 'series', 'gpu', 'scifinance', 'derivatives', 'pricing', 'and', 'risk', 'model', 'development', 'tool', 'that', 'automatically', 'generates', 'and', 'gpu', 'enabled', 'source', 'code', 'from', 'concise', 'high', 'level', 'model', 'specifications', 'parallel', 'computing', 'cuda', 'programming', 'expertise', 'required', 'scifinance', 'automatic', 'gpu', 'enabled', 'monte', 'carlo', 'pricing', 'model', 'source', 'code', 'generation', 'capabilities', 'have', 'been', 'significantly', 'extended', 'the', 'latest', 'release', 'this', 'includes']\n",
      "the error rate is:  0.1\n",
      "the error rate is:  0.0\n",
      "the error rate is:  0.0\n",
      "the error rate is:  0.0\n",
      "the error rate is:  0.0\n",
      "classification error ['home', 'based', 'business', 'opportunity', 'knocking', 'your', 'door', 'don', 'rude', 'and', 'let', 'this', 'chance', 'you', 'can', 'earn', 'great', 'income', 'and', 'find', 'your', 'financial', 'life', 'transformed', 'learn', 'more', 'here', 'your', 'success', 'work', 'from', 'home', 'finder', 'experts']\n",
      "the error rate is:  0.1\n",
      "classification error ['home', 'based', 'business', 'opportunity', 'knocking', 'your', 'door', 'don', 'rude', 'and', 'let', 'this', 'chance', 'you', 'can', 'earn', 'great', 'income', 'and', 'find', 'your', 'financial', 'life', 'transformed', 'learn', 'more', 'here', 'your', 'success', 'work', 'from', 'home', 'finder', 'experts']\n",
      "the error rate is:  0.1\n",
      "the error rate is:  0.0\n",
      "the error rate is:  0.0\n",
      "the error rate is:  0.0\n",
      "classification error ['benoit', 'mandelbrot', '1924', '2010', 'benoit', 'mandelbrot', '1924', '2010', 'wilmott', 'team', 'benoit', 'mandelbrot', 'the', 'mathematician', 'the', 'father', 'fractal', 'mathematics', 'and', 'advocate', 'more', 'sophisticated', 'modelling', 'quantitative', 'finance', 'died', '14th', 'october', '2010', 'aged', 'wilmott', 'magazine', 'has', 'often', 'featured', 'mandelbrot', 'his', 'ideas', 'and', 'the', 'work', 'others', 'inspired', 'his', 'fundamental', 'insights', 'you', 'must', 'logged', 'view', 'these', 'articles', 'from', 'past', 'issues', 'wilmott', 'magazine']\n",
      "the error rate is:  0.1\n",
      "classification error ['scifinance', 'now', 'automatically', 'generates', 'gpu', 'enabled', 'pricing', 'risk', 'model', 'source', 'code', 'that', 'runs', '300x', 'faster', 'than', 'serial', 'code', 'using', 'new', 'nvidia', 'fermi', 'class', 'tesla', 'series', 'gpu', 'scifinance', 'derivatives', 'pricing', 'and', 'risk', 'model', 'development', 'tool', 'that', 'automatically', 'generates', 'and', 'gpu', 'enabled', 'source', 'code', 'from', 'concise', 'high', 'level', 'model', 'specifications', 'parallel', 'computing', 'cuda', 'programming', 'expertise', 'required', 'scifinance', 'automatic', 'gpu', 'enabled', 'monte', 'carlo', 'pricing', 'model', 'source', 'code', 'generation', 'capabilities', 'have', 'been', 'significantly', 'extended', 'the', 'latest', 'release', 'this', 'includes']\n",
      "classification error ['benoit', 'mandelbrot', '1924', '2010', 'benoit', 'mandelbrot', '1924', '2010', 'wilmott', 'team', 'benoit', 'mandelbrot', 'the', 'mathematician', 'the', 'father', 'fractal', 'mathematics', 'and', 'advocate', 'more', 'sophisticated', 'modelling', 'quantitative', 'finance', 'died', '14th', 'october', '2010', 'aged', 'wilmott', 'magazine', 'has', 'often', 'featured', 'mandelbrot', 'his', 'ideas', 'and', 'the', 'work', 'others', 'inspired', 'his', 'fundamental', 'insights', 'you', 'must', 'logged', 'view', 'these', 'articles', 'from', 'past', 'issues', 'wilmott', 'magazine']\n",
      "the error rate is:  0.2\n",
      "classification error ['yay', 'you', 'both', 'doing', 'fine', 'working', 'mba', 'design', 'strategy', 'cca', 'top', 'art', 'school', 'new', 'program', 'focusing', 'more', 'right', 'brained', 'creative', 'and', 'strategic', 'approach', 'management', 'the', 'way', 'done', 'today']\n",
      "classification error ['yeah', 'ready', 'may', 'not', 'here', 'because', 'jar', 'jar', 'has', 'plane', 'tickets', 'germany', 'for']\n",
      "the error rate is:  0.2\n",
      "the error rate is:  0.0\n"
     ]
    },
    {
     "name": "stdout",
     "output_type": "stream",
     "text": [
      "the error rate is:  0.0\n",
      "the error rate is:  0.0\n",
      "the error rate is:  0.0\n",
      "the error rate is:  0.0\n",
      "classification error ['home', 'based', 'business', 'opportunity', 'knocking', 'your', 'door', 'don', 'rude', 'and', 'let', 'this', 'chance', 'you', 'can', 'earn', 'great', 'income', 'and', 'find', 'your', 'financial', 'life', 'transformed', 'learn', 'more', 'here', 'your', 'success', 'work', 'from', 'home', 'finder', 'experts']\n",
      "the error rate is:  0.1\n",
      "classification error ['scifinance', 'now', 'automatically', 'generates', 'gpu', 'enabled', 'pricing', 'risk', 'model', 'source', 'code', 'that', 'runs', '300x', 'faster', 'than', 'serial', 'code', 'using', 'new', 'nvidia', 'fermi', 'class', 'tesla', 'series', 'gpu', 'scifinance', 'derivatives', 'pricing', 'and', 'risk', 'model', 'development', 'tool', 'that', 'automatically', 'generates', 'and', 'gpu', 'enabled', 'source', 'code', 'from', 'concise', 'high', 'level', 'model', 'specifications', 'parallel', 'computing', 'cuda', 'programming', 'expertise', 'required', 'scifinance', 'automatic', 'gpu', 'enabled', 'monte', 'carlo', 'pricing', 'model', 'source', 'code', 'generation', 'capabilities', 'have', 'been', 'significantly', 'extended', 'the', 'latest', 'release', 'this', 'includes']\n",
      "the error rate is:  0.1\n",
      "the error rate is:  0.0\n",
      "the error rate is:  0.0\n",
      "classification error ['yay', 'you', 'both', 'doing', 'fine', 'working', 'mba', 'design', 'strategy', 'cca', 'top', 'art', 'school', 'new', 'program', 'focusing', 'more', 'right', 'brained', 'creative', 'and', 'strategic', 'approach', 'management', 'the', 'way', 'done', 'today']\n",
      "classification error ['ryan', 'whybrew', 'commented', 'your', 'status', 'ryan', 'wrote', 'turd', 'ferguson', 'butt', 'horn']\n",
      "the error rate is:  0.2\n",
      "the error rate is:  0.0\n",
      "the error rate is:  0.0\n",
      "the error rate is:  0.0\n",
      "the error rate is:  0.0\n",
      "classification error ['ryan', 'whybrew', 'commented', 'your', 'status', 'ryan', 'wrote', 'turd', 'ferguson', 'butt', 'horn']\n",
      "classification error ['scifinance', 'now', 'automatically', 'generates', 'gpu', 'enabled', 'pricing', 'risk', 'model', 'source', 'code', 'that', 'runs', '300x', 'faster', 'than', 'serial', 'code', 'using', 'new', 'nvidia', 'fermi', 'class', 'tesla', 'series', 'gpu', 'scifinance', 'derivatives', 'pricing', 'and', 'risk', 'model', 'development', 'tool', 'that', 'automatically', 'generates', 'and', 'gpu', 'enabled', 'source', 'code', 'from', 'concise', 'high', 'level', 'model', 'specifications', 'parallel', 'computing', 'cuda', 'programming', 'expertise', 'required', 'scifinance', 'automatic', 'gpu', 'enabled', 'monte', 'carlo', 'pricing', 'model', 'source', 'code', 'generation', 'capabilities', 'have', 'been', 'significantly', 'extended', 'the', 'latest', 'release', 'this', 'includes']\n",
      "the error rate is:  0.2\n",
      "classification error ['yeah', 'ready', 'may', 'not', 'here', 'because', 'jar', 'jar', 'has', 'plane', 'tickets', 'germany', 'for']\n",
      "the error rate is:  0.1\n",
      "the error rate is:  0.0\n",
      "classification error ['yeah', 'ready', 'may', 'not', 'here', 'because', 'jar', 'jar', 'has', 'plane', 'tickets', 'germany', 'for']\n",
      "classification error ['home', 'based', 'business', 'opportunity', 'knocking', 'your', 'door', 'don', 'rude', 'and', 'let', 'this', 'chance', 'you', 'can', 'earn', 'great', 'income', 'and', 'find', 'your', 'financial', 'life', 'transformed', 'learn', 'more', 'here', 'your', 'success', 'work', 'from', 'home', 'finder', 'experts']\n",
      "the error rate is:  0.2\n",
      "the error rate is:  0.0\n",
      "the error rate is:  0.0\n",
      "classification error ['yeah', 'ready', 'may', 'not', 'here', 'because', 'jar', 'jar', 'has', 'plane', 'tickets', 'germany', 'for']\n",
      "classification error ['home', 'based', 'business', 'opportunity', 'knocking', 'your', 'door', 'don', 'rude', 'and', 'let', 'this', 'chance', 'you', 'can', 'earn', 'great', 'income', 'and', 'find', 'your', 'financial', 'life', 'transformed', 'learn', 'more', 'here', 'your', 'success', 'work', 'from', 'home', 'finder', 'experts']\n",
      "the error rate is:  0.2\n",
      "classification error ['experience', 'with', 'biggerpenis', 'today', 'grow', 'inches', 'more', 'the', 'safest', 'most', 'effective', 'methods', 'of_penisen1argement', 'save', 'your', 'time', 'and', 'money', 'bettererections', 'with', 'effective', 'ma1eenhancement', 'products', 'ma1eenhancement', 'supplement', 'trusted', 'millions', 'buy', 'today']\n",
      "classification error ['oem', 'adobe', 'microsoft', 'softwares', 'fast', 'order', 'and', 'download', 'microsoft', 'office', 'professional', 'plus', '2007', '2010', '129', 'microsoft', 'windows', 'ultimate', '119', 'adobe', 'photoshop', 'cs5', 'extended', 'adobe', 'acrobat', 'pro', 'extended', 'windows', 'professional', 'thousand', 'more', 'titles']\n",
      "the error rate is:  0.2\n",
      "the error rate is:  0.0\n",
      "classification error ['home', 'based', 'business', 'opportunity', 'knocking', 'your', 'door', 'don', 'rude', 'and', 'let', 'this', 'chance', 'you', 'can', 'earn', 'great', 'income', 'and', 'find', 'your', 'financial', 'life', 'transformed', 'learn', 'more', 'here', 'your', 'success', 'work', 'from', 'home', 'finder', 'experts']\n",
      "the error rate is:  0.1\n",
      "classification error ['yay', 'you', 'both', 'doing', 'fine', 'working', 'mba', 'design', 'strategy', 'cca', 'top', 'art', 'school', 'new', 'program', 'focusing', 'more', 'right', 'brained', 'creative', 'and', 'strategic', 'approach', 'management', 'the', 'way', 'done', 'today']\n",
      "the error rate is:  0.1\n",
      "classification error ['benoit', 'mandelbrot', '1924', '2010', 'benoit', 'mandelbrot', '1924', '2010', 'wilmott', 'team', 'benoit', 'mandelbrot', 'the', 'mathematician', 'the', 'father', 'fractal', 'mathematics', 'and', 'advocate', 'more', 'sophisticated', 'modelling', 'quantitative', 'finance', 'died', '14th', 'october', '2010', 'aged', 'wilmott', 'magazine', 'has', 'often', 'featured', 'mandelbrot', 'his', 'ideas', 'and', 'the', 'work', 'others', 'inspired', 'his', 'fundamental', 'insights', 'you', 'must', 'logged', 'view', 'these', 'articles', 'from', 'past', 'issues', 'wilmott', 'magazine']\n",
      "the error rate is:  0.1\n",
      "the error rate is:  0.0\n",
      "classification error ['scifinance', 'now', 'automatically', 'generates', 'gpu', 'enabled', 'pricing', 'risk', 'model', 'source', 'code', 'that', 'runs', '300x', 'faster', 'than', 'serial', 'code', 'using', 'new', 'nvidia', 'fermi', 'class', 'tesla', 'series', 'gpu', 'scifinance', 'derivatives', 'pricing', 'and', 'risk', 'model', 'development', 'tool', 'that', 'automatically', 'generates', 'and', 'gpu', 'enabled', 'source', 'code', 'from', 'concise', 'high', 'level', 'model', 'specifications', 'parallel', 'computing', 'cuda', 'programming', 'expertise', 'required', 'scifinance', 'automatic', 'gpu', 'enabled', 'monte', 'carlo', 'pricing', 'model', 'source', 'code', 'generation', 'capabilities', 'have', 'been', 'significantly', 'extended', 'the', 'latest', 'release', 'this', 'includes']\n",
      "classification error ['home', 'based', 'business', 'opportunity', 'knocking', 'your', 'door', 'don', 'rude', 'and', 'let', 'this', 'chance', 'you', 'can', 'earn', 'great', 'income', 'and', 'find', 'your', 'financial', 'life', 'transformed', 'learn', 'more', 'here', 'your', 'success', 'work', 'from', 'home', 'finder', 'experts']\n",
      "the error rate is:  0.2\n",
      "classification error ['benoit', 'mandelbrot', '1924', '2010', 'benoit', 'mandelbrot', '1924', '2010', 'wilmott', 'team', 'benoit', 'mandelbrot', 'the', 'mathematician', 'the', 'father', 'fractal', 'mathematics', 'and', 'advocate', 'more', 'sophisticated', 'modelling', 'quantitative', 'finance', 'died', '14th', 'october', '2010', 'aged', 'wilmott', 'magazine', 'has', 'often', 'featured', 'mandelbrot', 'his', 'ideas', 'and', 'the', 'work', 'others', 'inspired', 'his', 'fundamental', 'insights', 'you', 'must', 'logged', 'view', 'these', 'articles', 'from', 'past', 'issues', 'wilmott', 'magazine']\n",
      "classification error ['home', 'based', 'business', 'opportunity', 'knocking', 'your', 'door', 'don', 'rude', 'and', 'let', 'this', 'chance', 'you', 'can', 'earn', 'great', 'income', 'and', 'find', 'your', 'financial', 'life', 'transformed', 'learn', 'more', 'here', 'your', 'success', 'work', 'from', 'home', 'finder', 'experts']\n",
      "the error rate is:  0.2\n",
      "classification error ['home', 'based', 'business', 'opportunity', 'knocking', 'your', 'door', 'don', 'rude', 'and', 'let', 'this', 'chance', 'you', 'can', 'earn', 'great', 'income', 'and', 'find', 'your', 'financial', 'life', 'transformed', 'learn', 'more', 'here', 'your', 'success', 'work', 'from', 'home', 'finder', 'experts']\n",
      "the error rate is:  0.1\n"
     ]
    },
    {
     "name": "stdout",
     "output_type": "stream",
     "text": [
      "the error rate is:  0.0\n",
      "the error rate is:  0.0\n",
      "the error rate is:  0.0\n",
      "the error rate is:  0.0\n",
      "the error rate is:  0.0\n",
      "classification error ['oem', 'adobe', 'microsoft', 'softwares', 'fast', 'order', 'and', 'download', 'microsoft', 'office', 'professional', 'plus', '2007', '2010', '129', 'microsoft', 'windows', 'ultimate', '119', 'adobe', 'photoshop', 'cs5', 'extended', 'adobe', 'acrobat', 'pro', 'extended', 'windows', 'professional', 'thousand', 'more', 'titles']\n",
      "the error rate is:  0.1\n",
      "classification error ['home', 'based', 'business', 'opportunity', 'knocking', 'your', 'door', 'don', 'rude', 'and', 'let', 'this', 'chance', 'you', 'can', 'earn', 'great', 'income', 'and', 'find', 'your', 'financial', 'life', 'transformed', 'learn', 'more', 'here', 'your', 'success', 'work', 'from', 'home', 'finder', 'experts']\n",
      "classification error ['yeah', 'ready', 'may', 'not', 'here', 'because', 'jar', 'jar', 'has', 'plane', 'tickets', 'germany', 'for']\n",
      "the error rate is:  0.2\n",
      "the error rate is:  0.0\n",
      "classification error ['yay', 'you', 'both', 'doing', 'fine', 'working', 'mba', 'design', 'strategy', 'cca', 'top', 'art', 'school', 'new', 'program', 'focusing', 'more', 'right', 'brained', 'creative', 'and', 'strategic', 'approach', 'management', 'the', 'way', 'done', 'today']\n",
      "classification error ['home', 'based', 'business', 'opportunity', 'knocking', 'your', 'door', 'don', 'rude', 'and', 'let', 'this', 'chance', 'you', 'can', 'earn', 'great', 'income', 'and', 'find', 'your', 'financial', 'life', 'transformed', 'learn', 'more', 'here', 'your', 'success', 'work', 'from', 'home', 'finder', 'experts']\n",
      "the error rate is:  0.2\n",
      "the error rate is:  0.0\n",
      "the error rate is:  0.0\n",
      "classification error ['oem', 'adobe', 'microsoft', 'softwares', 'fast', 'order', 'and', 'download', 'microsoft', 'office', 'professional', 'plus', '2007', '2010', '129', 'microsoft', 'windows', 'ultimate', '119', 'adobe', 'photoshop', 'cs5', 'extended', 'adobe', 'acrobat', 'pro', 'extended', 'windows', 'professional', 'thousand', 'more', 'titles']\n",
      "classification error ['home', 'based', 'business', 'opportunity', 'knocking', 'your', 'door', 'don', 'rude', 'and', 'let', 'this', 'chance', 'you', 'can', 'earn', 'great', 'income', 'and', 'find', 'your', 'financial', 'life', 'transformed', 'learn', 'more', 'here', 'your', 'success', 'work', 'from', 'home', 'finder', 'experts']\n",
      "the error rate is:  0.2\n",
      "classification error ['scifinance', 'now', 'automatically', 'generates', 'gpu', 'enabled', 'pricing', 'risk', 'model', 'source', 'code', 'that', 'runs', '300x', 'faster', 'than', 'serial', 'code', 'using', 'new', 'nvidia', 'fermi', 'class', 'tesla', 'series', 'gpu', 'scifinance', 'derivatives', 'pricing', 'and', 'risk', 'model', 'development', 'tool', 'that', 'automatically', 'generates', 'and', 'gpu', 'enabled', 'source', 'code', 'from', 'concise', 'high', 'level', 'model', 'specifications', 'parallel', 'computing', 'cuda', 'programming', 'expertise', 'required', 'scifinance', 'automatic', 'gpu', 'enabled', 'monte', 'carlo', 'pricing', 'model', 'source', 'code', 'generation', 'capabilities', 'have', 'been', 'significantly', 'extended', 'the', 'latest', 'release', 'this', 'includes']\n",
      "classification error ['benoit', 'mandelbrot', '1924', '2010', 'benoit', 'mandelbrot', '1924', '2010', 'wilmott', 'team', 'benoit', 'mandelbrot', 'the', 'mathematician', 'the', 'father', 'fractal', 'mathematics', 'and', 'advocate', 'more', 'sophisticated', 'modelling', 'quantitative', 'finance', 'died', '14th', 'october', '2010', 'aged', 'wilmott', 'magazine', 'has', 'often', 'featured', 'mandelbrot', 'his', 'ideas', 'and', 'the', 'work', 'others', 'inspired', 'his', 'fundamental', 'insights', 'you', 'must', 'logged', 'view', 'these', 'articles', 'from', 'past', 'issues', 'wilmott', 'magazine']\n",
      "classification error ['home', 'based', 'business', 'opportunity', 'knocking', 'your', 'door', 'don', 'rude', 'and', 'let', 'this', 'chance', 'you', 'can', 'earn', 'great', 'income', 'and', 'find', 'your', 'financial', 'life', 'transformed', 'learn', 'more', 'here', 'your', 'success', 'work', 'from', 'home', 'finder', 'experts']\n",
      "the error rate is:  0.3\n",
      "classification error ['linkedin', 'kerry', 'haloney', 'requested', 'add', 'you', 'connection', 'linkedin', 'peter', 'like', 'add', 'you', 'professional', 'network', 'linkedin', 'kerry', 'haloney']\n",
      "classification error ['benoit', 'mandelbrot', '1924', '2010', 'benoit', 'mandelbrot', '1924', '2010', 'wilmott', 'team', 'benoit', 'mandelbrot', 'the', 'mathematician', 'the', 'father', 'fractal', 'mathematics', 'and', 'advocate', 'more', 'sophisticated', 'modelling', 'quantitative', 'finance', 'died', '14th', 'october', '2010', 'aged', 'wilmott', 'magazine', 'has', 'often', 'featured', 'mandelbrot', 'his', 'ideas', 'and', 'the', 'work', 'others', 'inspired', 'his', 'fundamental', 'insights', 'you', 'must', 'logged', 'view', 'these', 'articles', 'from', 'past', 'issues', 'wilmott', 'magazine']\n",
      "the error rate is:  0.2\n",
      "the error rate is:  0.0\n",
      "the error rate is:  0.0\n",
      "classification error ['scifinance', 'now', 'automatically', 'generates', 'gpu', 'enabled', 'pricing', 'risk', 'model', 'source', 'code', 'that', 'runs', '300x', 'faster', 'than', 'serial', 'code', 'using', 'new', 'nvidia', 'fermi', 'class', 'tesla', 'series', 'gpu', 'scifinance', 'derivatives', 'pricing', 'and', 'risk', 'model', 'development', 'tool', 'that', 'automatically', 'generates', 'and', 'gpu', 'enabled', 'source', 'code', 'from', 'concise', 'high', 'level', 'model', 'specifications', 'parallel', 'computing', 'cuda', 'programming', 'expertise', 'required', 'scifinance', 'automatic', 'gpu', 'enabled', 'monte', 'carlo', 'pricing', 'model', 'source', 'code', 'generation', 'capabilities', 'have', 'been', 'significantly', 'extended', 'the', 'latest', 'release', 'this', 'includes']\n",
      "the error rate is:  0.1\n",
      "the error rate is:  0.0\n",
      "the error rate is:  0.0\n",
      "classification error ['benoit', 'mandelbrot', '1924', '2010', 'benoit', 'mandelbrot', '1924', '2010', 'wilmott', 'team', 'benoit', 'mandelbrot', 'the', 'mathematician', 'the', 'father', 'fractal', 'mathematics', 'and', 'advocate', 'more', 'sophisticated', 'modelling', 'quantitative', 'finance', 'died', '14th', 'october', '2010', 'aged', 'wilmott', 'magazine', 'has', 'often', 'featured', 'mandelbrot', 'his', 'ideas', 'and', 'the', 'work', 'others', 'inspired', 'his', 'fundamental', 'insights', 'you', 'must', 'logged', 'view', 'these', 'articles', 'from', 'past', 'issues', 'wilmott', 'magazine']\n",
      "the error rate is:  0.1\n",
      "the error rate is:  0.0\n",
      "classification error ['scifinance', 'now', 'automatically', 'generates', 'gpu', 'enabled', 'pricing', 'risk', 'model', 'source', 'code', 'that', 'runs', '300x', 'faster', 'than', 'serial', 'code', 'using', 'new', 'nvidia', 'fermi', 'class', 'tesla', 'series', 'gpu', 'scifinance', 'derivatives', 'pricing', 'and', 'risk', 'model', 'development', 'tool', 'that', 'automatically', 'generates', 'and', 'gpu', 'enabled', 'source', 'code', 'from', 'concise', 'high', 'level', 'model', 'specifications', 'parallel', 'computing', 'cuda', 'programming', 'expertise', 'required', 'scifinance', 'automatic', 'gpu', 'enabled', 'monte', 'carlo', 'pricing', 'model', 'source', 'code', 'generation', 'capabilities', 'have', 'been', 'significantly', 'extended', 'the', 'latest', 'release', 'this', 'includes']\n",
      "classification error ['yay', 'you', 'both', 'doing', 'fine', 'working', 'mba', 'design', 'strategy', 'cca', 'top', 'art', 'school', 'new', 'program', 'focusing', 'more', 'right', 'brained', 'creative', 'and', 'strategic', 'approach', 'management', 'the', 'way', 'done', 'today']\n",
      "the error rate is:  0.2\n",
      "classification error ['yay', 'you', 'both', 'doing', 'fine', 'working', 'mba', 'design', 'strategy', 'cca', 'top', 'art', 'school', 'new', 'program', 'focusing', 'more', 'right', 'brained', 'creative', 'and', 'strategic', 'approach', 'management', 'the', 'way', 'done', 'today']\n",
      "the error rate is:  0.1\n",
      "classification error ['oem', 'adobe', 'microsoft', 'softwares', 'fast', 'order', 'and', 'download', 'microsoft', 'office', 'professional', 'plus', '2007', '2010', '129', 'microsoft', 'windows', 'ultimate', '119', 'adobe', 'photoshop', 'cs5', 'extended', 'adobe', 'acrobat', 'pro', 'extended', 'windows', 'professional', 'thousand', 'more', 'titles']\n",
      "the error rate is:  0.1\n",
      "classification error ['yay', 'you', 'both', 'doing', 'fine', 'working', 'mba', 'design', 'strategy', 'cca', 'top', 'art', 'school', 'new', 'program', 'focusing', 'more', 'right', 'brained', 'creative', 'and', 'strategic', 'approach', 'management', 'the', 'way', 'done', 'today']\n",
      "the error rate is:  0.1\n",
      "the error rate is:  0.0\n"
     ]
    },
    {
     "name": "stdout",
     "output_type": "stream",
     "text": [
      "classification error ['home', 'based', 'business', 'opportunity', 'knocking', 'your', 'door', 'don', 'rude', 'and', 'let', 'this', 'chance', 'you', 'can', 'earn', 'great', 'income', 'and', 'find', 'your', 'financial', 'life', 'transformed', 'learn', 'more', 'here', 'your', 'success', 'work', 'from', 'home', 'finder', 'experts']\n",
      "the error rate is:  0.1\n",
      "the error rate is:  0.0\n",
      "the error rate is:  0.0\n",
      "the error rate is:  0.0\n",
      "the error rate is:  0.0\n",
      "the error rate is:  0.0\n",
      "classification error ['home', 'based', 'business', 'opportunity', 'knocking', 'your', 'door', 'don', 'rude', 'and', 'let', 'this', 'chance', 'you', 'can', 'earn', 'great', 'income', 'and', 'find', 'your', 'financial', 'life', 'transformed', 'learn', 'more', 'here', 'your', 'success', 'work', 'from', 'home', 'finder', 'experts']\n",
      "classification error ['benoit', 'mandelbrot', '1924', '2010', 'benoit', 'mandelbrot', '1924', '2010', 'wilmott', 'team', 'benoit', 'mandelbrot', 'the', 'mathematician', 'the', 'father', 'fractal', 'mathematics', 'and', 'advocate', 'more', 'sophisticated', 'modelling', 'quantitative', 'finance', 'died', '14th', 'october', '2010', 'aged', 'wilmott', 'magazine', 'has', 'often', 'featured', 'mandelbrot', 'his', 'ideas', 'and', 'the', 'work', 'others', 'inspired', 'his', 'fundamental', 'insights', 'you', 'must', 'logged', 'view', 'these', 'articles', 'from', 'past', 'issues', 'wilmott', 'magazine']\n",
      "the error rate is:  0.2\n",
      "classification error ['oem', 'adobe', 'microsoft', 'softwares', 'fast', 'order', 'and', 'download', 'microsoft', 'office', 'professional', 'plus', '2007', '2010', '129', 'microsoft', 'windows', 'ultimate', '119', 'adobe', 'photoshop', 'cs5', 'extended', 'adobe', 'acrobat', 'pro', 'extended', 'windows', 'professional', 'thousand', 'more', 'titles']\n",
      "the error rate is:  0.1\n",
      "classification error ['benoit', 'mandelbrot', '1924', '2010', 'benoit', 'mandelbrot', '1924', '2010', 'wilmott', 'team', 'benoit', 'mandelbrot', 'the', 'mathematician', 'the', 'father', 'fractal', 'mathematics', 'and', 'advocate', 'more', 'sophisticated', 'modelling', 'quantitative', 'finance', 'died', '14th', 'october', '2010', 'aged', 'wilmott', 'magazine', 'has', 'often', 'featured', 'mandelbrot', 'his', 'ideas', 'and', 'the', 'work', 'others', 'inspired', 'his', 'fundamental', 'insights', 'you', 'must', 'logged', 'view', 'these', 'articles', 'from', 'past', 'issues', 'wilmott', 'magazine']\n",
      "the error rate is:  0.1\n",
      "classification error ['home', 'based', 'business', 'opportunity', 'knocking', 'your', 'door', 'don', 'rude', 'and', 'let', 'this', 'chance', 'you', 'can', 'earn', 'great', 'income', 'and', 'find', 'your', 'financial', 'life', 'transformed', 'learn', 'more', 'here', 'your', 'success', 'work', 'from', 'home', 'finder', 'experts']\n",
      "the error rate is:  0.1\n",
      "the error rate is:  0.0\n",
      "classification error ['home', 'based', 'business', 'opportunity', 'knocking', 'your', 'door', 'don', 'rude', 'and', 'let', 'this', 'chance', 'you', 'can', 'earn', 'great', 'income', 'and', 'find', 'your', 'financial', 'life', 'transformed', 'learn', 'more', 'here', 'your', 'success', 'work', 'from', 'home', 'finder', 'experts']\n",
      "the error rate is:  0.1\n",
      "classification error ['home', 'based', 'business', 'opportunity', 'knocking', 'your', 'door', 'don', 'rude', 'and', 'let', 'this', 'chance', 'you', 'can', 'earn', 'great', 'income', 'and', 'find', 'your', 'financial', 'life', 'transformed', 'learn', 'more', 'here', 'your', 'success', 'work', 'from', 'home', 'finder', 'experts']\n",
      "classification error ['benoit', 'mandelbrot', '1924', '2010', 'benoit', 'mandelbrot', '1924', '2010', 'wilmott', 'team', 'benoit', 'mandelbrot', 'the', 'mathematician', 'the', 'father', 'fractal', 'mathematics', 'and', 'advocate', 'more', 'sophisticated', 'modelling', 'quantitative', 'finance', 'died', '14th', 'october', '2010', 'aged', 'wilmott', 'magazine', 'has', 'often', 'featured', 'mandelbrot', 'his', 'ideas', 'and', 'the', 'work', 'others', 'inspired', 'his', 'fundamental', 'insights', 'you', 'must', 'logged', 'view', 'these', 'articles', 'from', 'past', 'issues', 'wilmott', 'magazine']\n",
      "the error rate is:  0.2\n",
      "the error rate is:  0.0\n",
      "classification error ['yeah', 'ready', 'may', 'not', 'here', 'because', 'jar', 'jar', 'has', 'plane', 'tickets', 'germany', 'for']\n",
      "the error rate is:  0.1\n",
      "the error rate is:  0.0\n",
      "classification error ['benoit', 'mandelbrot', '1924', '2010', 'benoit', 'mandelbrot', '1924', '2010', 'wilmott', 'team', 'benoit', 'mandelbrot', 'the', 'mathematician', 'the', 'father', 'fractal', 'mathematics', 'and', 'advocate', 'more', 'sophisticated', 'modelling', 'quantitative', 'finance', 'died', '14th', 'october', '2010', 'aged', 'wilmott', 'magazine', 'has', 'often', 'featured', 'mandelbrot', 'his', 'ideas', 'and', 'the', 'work', 'others', 'inspired', 'his', 'fundamental', 'insights', 'you', 'must', 'logged', 'view', 'these', 'articles', 'from', 'past', 'issues', 'wilmott', 'magazine']\n",
      "the error rate is:  0.1\n",
      "the error rate is:  0.0\n",
      "the error rate is:  0.0\n",
      "classification error ['linkedin', 'kerry', 'haloney', 'requested', 'add', 'you', 'connection', 'linkedin', 'peter', 'like', 'add', 'you', 'professional', 'network', 'linkedin', 'kerry', 'haloney']\n",
      "the error rate is:  0.1\n",
      "the error rate is:  0.0\n",
      "classification error ['yeah', 'ready', 'may', 'not', 'here', 'because', 'jar', 'jar', 'has', 'plane', 'tickets', 'germany', 'for']\n",
      "the error rate is:  0.1\n",
      "classification error ['yeah', 'ready', 'may', 'not', 'here', 'because', 'jar', 'jar', 'has', 'plane', 'tickets', 'germany', 'for']\n",
      "the error rate is:  0.1\n",
      "classification error ['scifinance', 'now', 'automatically', 'generates', 'gpu', 'enabled', 'pricing', 'risk', 'model', 'source', 'code', 'that', 'runs', '300x', 'faster', 'than', 'serial', 'code', 'using', 'new', 'nvidia', 'fermi', 'class', 'tesla', 'series', 'gpu', 'scifinance', 'derivatives', 'pricing', 'and', 'risk', 'model', 'development', 'tool', 'that', 'automatically', 'generates', 'and', 'gpu', 'enabled', 'source', 'code', 'from', 'concise', 'high', 'level', 'model', 'specifications', 'parallel', 'computing', 'cuda', 'programming', 'expertise', 'required', 'scifinance', 'automatic', 'gpu', 'enabled', 'monte', 'carlo', 'pricing', 'model', 'source', 'code', 'generation', 'capabilities', 'have', 'been', 'significantly', 'extended', 'the', 'latest', 'release', 'this', 'includes']\n",
      "the error rate is:  0.1\n",
      "the error rate is:  0.0\n",
      "classification error ['home', 'based', 'business', 'opportunity', 'knocking', 'your', 'door', 'don', 'rude', 'and', 'let', 'this', 'chance', 'you', 'can', 'earn', 'great', 'income', 'and', 'find', 'your', 'financial', 'life', 'transformed', 'learn', 'more', 'here', 'your', 'success', 'work', 'from', 'home', 'finder', 'experts']\n",
      "the error rate is:  0.1\n",
      "classification error ['yeah', 'ready', 'may', 'not', 'here', 'because', 'jar', 'jar', 'has', 'plane', 'tickets', 'germany', 'for']\n",
      "classification error ['home', 'based', 'business', 'opportunity', 'knocking', 'your', 'door', 'don', 'rude', 'and', 'let', 'this', 'chance', 'you', 'can', 'earn', 'great', 'income', 'and', 'find', 'your', 'financial', 'life', 'transformed', 'learn', 'more', 'here', 'your', 'success', 'work', 'from', 'home', 'finder', 'experts']\n",
      "the error rate is:  0.2\n",
      "the error rate is:  0.0\n",
      "the error rate is:  0.0\n",
      "the error rate is:  0.0\n",
      "classification error ['experience', 'with', 'biggerpenis', 'today', 'grow', 'inches', 'more', 'the', 'safest', 'most', 'effective', 'methods', 'of_penisen1argement', 'save', 'your', 'time', 'and', 'money', 'bettererections', 'with', 'effective', 'ma1eenhancement', 'products', 'ma1eenhancement', 'supplement', 'trusted', 'millions', 'buy', 'today']\n",
      "the error rate is:  0.1\n",
      "classification error ['oem', 'adobe', 'microsoft', 'softwares', 'fast', 'order', 'and', 'download', 'microsoft', 'office', 'professional', 'plus', '2007', '2010', '129', 'microsoft', 'windows', 'ultimate', '119', 'adobe', 'photoshop', 'cs5', 'extended', 'adobe', 'acrobat', 'pro', 'extended', 'windows', 'professional', 'thousand', 'more', 'titles']\n",
      "the error rate is:  0.1\n",
      "classification error ['scifinance', 'now', 'automatically', 'generates', 'gpu', 'enabled', 'pricing', 'risk', 'model', 'source', 'code', 'that', 'runs', '300x', 'faster', 'than', 'serial', 'code', 'using', 'new', 'nvidia', 'fermi', 'class', 'tesla', 'series', 'gpu', 'scifinance', 'derivatives', 'pricing', 'and', 'risk', 'model', 'development', 'tool', 'that', 'automatically', 'generates', 'and', 'gpu', 'enabled', 'source', 'code', 'from', 'concise', 'high', 'level', 'model', 'specifications', 'parallel', 'computing', 'cuda', 'programming', 'expertise', 'required', 'scifinance', 'automatic', 'gpu', 'enabled', 'monte', 'carlo', 'pricing', 'model', 'source', 'code', 'generation', 'capabilities', 'have', 'been', 'significantly', 'extended', 'the', 'latest', 'release', 'this', 'includes']\n"
     ]
    },
    {
     "name": "stdout",
     "output_type": "stream",
     "text": [
      "classification error ['yeah', 'ready', 'may', 'not', 'here', 'because', 'jar', 'jar', 'has', 'plane', 'tickets', 'germany', 'for']\n",
      "the error rate is:  0.2\n",
      "classification error ['yay', 'you', 'both', 'doing', 'fine', 'working', 'mba', 'design', 'strategy', 'cca', 'top', 'art', 'school', 'new', 'program', 'focusing', 'more', 'right', 'brained', 'creative', 'and', 'strategic', 'approach', 'management', 'the', 'way', 'done', 'today']\n",
      "classification error ['yeah', 'ready', 'may', 'not', 'here', 'because', 'jar', 'jar', 'has', 'plane', 'tickets', 'germany', 'for']\n",
      "the error rate is:  0.2\n",
      "classification error ['benoit', 'mandelbrot', '1924', '2010', 'benoit', 'mandelbrot', '1924', '2010', 'wilmott', 'team', 'benoit', 'mandelbrot', 'the', 'mathematician', 'the', 'father', 'fractal', 'mathematics', 'and', 'advocate', 'more', 'sophisticated', 'modelling', 'quantitative', 'finance', 'died', '14th', 'october', '2010', 'aged', 'wilmott', 'magazine', 'has', 'often', 'featured', 'mandelbrot', 'his', 'ideas', 'and', 'the', 'work', 'others', 'inspired', 'his', 'fundamental', 'insights', 'you', 'must', 'logged', 'view', 'these', 'articles', 'from', 'past', 'issues', 'wilmott', 'magazine']\n",
      "the error rate is:  0.1\n",
      "classification error ['scifinance', 'now', 'automatically', 'generates', 'gpu', 'enabled', 'pricing', 'risk', 'model', 'source', 'code', 'that', 'runs', '300x', 'faster', 'than', 'serial', 'code', 'using', 'new', 'nvidia', 'fermi', 'class', 'tesla', 'series', 'gpu', 'scifinance', 'derivatives', 'pricing', 'and', 'risk', 'model', 'development', 'tool', 'that', 'automatically', 'generates', 'and', 'gpu', 'enabled', 'source', 'code', 'from', 'concise', 'high', 'level', 'model', 'specifications', 'parallel', 'computing', 'cuda', 'programming', 'expertise', 'required', 'scifinance', 'automatic', 'gpu', 'enabled', 'monte', 'carlo', 'pricing', 'model', 'source', 'code', 'generation', 'capabilities', 'have', 'been', 'significantly', 'extended', 'the', 'latest', 'release', 'this', 'includes']\n",
      "the error rate is:  0.1\n",
      "the error rate is:  0.0\n",
      "classification error ['scifinance', 'now', 'automatically', 'generates', 'gpu', 'enabled', 'pricing', 'risk', 'model', 'source', 'code', 'that', 'runs', '300x', 'faster', 'than', 'serial', 'code', 'using', 'new', 'nvidia', 'fermi', 'class', 'tesla', 'series', 'gpu', 'scifinance', 'derivatives', 'pricing', 'and', 'risk', 'model', 'development', 'tool', 'that', 'automatically', 'generates', 'and', 'gpu', 'enabled', 'source', 'code', 'from', 'concise', 'high', 'level', 'model', 'specifications', 'parallel', 'computing', 'cuda', 'programming', 'expertise', 'required', 'scifinance', 'automatic', 'gpu', 'enabled', 'monte', 'carlo', 'pricing', 'model', 'source', 'code', 'generation', 'capabilities', 'have', 'been', 'significantly', 'extended', 'the', 'latest', 'release', 'this', 'includes']\n",
      "the error rate is:  0.1\n",
      "classification error ['scifinance', 'now', 'automatically', 'generates', 'gpu', 'enabled', 'pricing', 'risk', 'model', 'source', 'code', 'that', 'runs', '300x', 'faster', 'than', 'serial', 'code', 'using', 'new', 'nvidia', 'fermi', 'class', 'tesla', 'series', 'gpu', 'scifinance', 'derivatives', 'pricing', 'and', 'risk', 'model', 'development', 'tool', 'that', 'automatically', 'generates', 'and', 'gpu', 'enabled', 'source', 'code', 'from', 'concise', 'high', 'level', 'model', 'specifications', 'parallel', 'computing', 'cuda', 'programming', 'expertise', 'required', 'scifinance', 'automatic', 'gpu', 'enabled', 'monte', 'carlo', 'pricing', 'model', 'source', 'code', 'generation', 'capabilities', 'have', 'been', 'significantly', 'extended', 'the', 'latest', 'release', 'this', 'includes']\n",
      "the error rate is:  0.1\n",
      "classification error ['oem', 'adobe', 'microsoft', 'softwares', 'fast', 'order', 'and', 'download', 'microsoft', 'office', 'professional', 'plus', '2007', '2010', '129', 'microsoft', 'windows', 'ultimate', '119', 'adobe', 'photoshop', 'cs5', 'extended', 'adobe', 'acrobat', 'pro', 'extended', 'windows', 'professional', 'thousand', 'more', 'titles']\n",
      "the error rate is:  0.1\n",
      "classification error ['oem', 'adobe', 'microsoft', 'softwares', 'fast', 'order', 'and', 'download', 'microsoft', 'office', 'professional', 'plus', '2007', '2010', '129', 'microsoft', 'windows', 'ultimate', '119', 'adobe', 'photoshop', 'cs5', 'extended', 'adobe', 'acrobat', 'pro', 'extended', 'windows', 'professional', 'thousand', 'more', 'titles']\n",
      "the error rate is:  0.1\n",
      "the error rate is:  0.0\n",
      "the error rate is:  0.0\n",
      "classification error ['yay', 'you', 'both', 'doing', 'fine', 'working', 'mba', 'design', 'strategy', 'cca', 'top', 'art', 'school', 'new', 'program', 'focusing', 'more', 'right', 'brained', 'creative', 'and', 'strategic', 'approach', 'management', 'the', 'way', 'done', 'today']\n",
      "the error rate is:  0.1\n",
      "classification error ['benoit', 'mandelbrot', '1924', '2010', 'benoit', 'mandelbrot', '1924', '2010', 'wilmott', 'team', 'benoit', 'mandelbrot', 'the', 'mathematician', 'the', 'father', 'fractal', 'mathematics', 'and', 'advocate', 'more', 'sophisticated', 'modelling', 'quantitative', 'finance', 'died', '14th', 'october', '2010', 'aged', 'wilmott', 'magazine', 'has', 'often', 'featured', 'mandelbrot', 'his', 'ideas', 'and', 'the', 'work', 'others', 'inspired', 'his', 'fundamental', 'insights', 'you', 'must', 'logged', 'view', 'these', 'articles', 'from', 'past', 'issues', 'wilmott', 'magazine']\n",
      "the error rate is:  0.1\n",
      "the error rate is:  0.0\n",
      "the error rate is:  0.0\n",
      "classification error ['home', 'based', 'business', 'opportunity', 'knocking', 'your', 'door', 'don', 'rude', 'and', 'let', 'this', 'chance', 'you', 'can', 'earn', 'great', 'income', 'and', 'find', 'your', 'financial', 'life', 'transformed', 'learn', 'more', 'here', 'your', 'success', 'work', 'from', 'home', 'finder', 'experts']\n",
      "classification error ['yay', 'you', 'both', 'doing', 'fine', 'working', 'mba', 'design', 'strategy', 'cca', 'top', 'art', 'school', 'new', 'program', 'focusing', 'more', 'right', 'brained', 'creative', 'and', 'strategic', 'approach', 'management', 'the', 'way', 'done', 'today']\n",
      "the error rate is:  0.2\n",
      "classification error ['home', 'based', 'business', 'opportunity', 'knocking', 'your', 'door', 'don', 'rude', 'and', 'let', 'this', 'chance', 'you', 'can', 'earn', 'great', 'income', 'and', 'find', 'your', 'financial', 'life', 'transformed', 'learn', 'more', 'here', 'your', 'success', 'work', 'from', 'home', 'finder', 'experts']\n",
      "the error rate is:  0.1\n",
      "classification error ['benoit', 'mandelbrot', '1924', '2010', 'benoit', 'mandelbrot', '1924', '2010', 'wilmott', 'team', 'benoit', 'mandelbrot', 'the', 'mathematician', 'the', 'father', 'fractal', 'mathematics', 'and', 'advocate', 'more', 'sophisticated', 'modelling', 'quantitative', 'finance', 'died', '14th', 'october', '2010', 'aged', 'wilmott', 'magazine', 'has', 'often', 'featured', 'mandelbrot', 'his', 'ideas', 'and', 'the', 'work', 'others', 'inspired', 'his', 'fundamental', 'insights', 'you', 'must', 'logged', 'view', 'these', 'articles', 'from', 'past', 'issues', 'wilmott', 'magazine']\n",
      "classification error ['scifinance', 'now', 'automatically', 'generates', 'gpu', 'enabled', 'pricing', 'risk', 'model', 'source', 'code', 'that', 'runs', '300x', 'faster', 'than', 'serial', 'code', 'using', 'new', 'nvidia', 'fermi', 'class', 'tesla', 'series', 'gpu', 'scifinance', 'derivatives', 'pricing', 'and', 'risk', 'model', 'development', 'tool', 'that', 'automatically', 'generates', 'and', 'gpu', 'enabled', 'source', 'code', 'from', 'concise', 'high', 'level', 'model', 'specifications', 'parallel', 'computing', 'cuda', 'programming', 'expertise', 'required', 'scifinance', 'automatic', 'gpu', 'enabled', 'monte', 'carlo', 'pricing', 'model', 'source', 'code', 'generation', 'capabilities', 'have', 'been', 'significantly', 'extended', 'the', 'latest', 'release', 'this', 'includes']\n",
      "the error rate is:  0.2\n",
      "classification error ['benoit', 'mandelbrot', '1924', '2010', 'benoit', 'mandelbrot', '1924', '2010', 'wilmott', 'team', 'benoit', 'mandelbrot', 'the', 'mathematician', 'the', 'father', 'fractal', 'mathematics', 'and', 'advocate', 'more', 'sophisticated', 'modelling', 'quantitative', 'finance', 'died', '14th', 'october', '2010', 'aged', 'wilmott', 'magazine', 'has', 'often', 'featured', 'mandelbrot', 'his', 'ideas', 'and', 'the', 'work', 'others', 'inspired', 'his', 'fundamental', 'insights', 'you', 'must', 'logged', 'view', 'these', 'articles', 'from', 'past', 'issues', 'wilmott', 'magazine']\n",
      "the error rate is:  0.1\n",
      "classification error ['experience', 'with', 'biggerpenis', 'today', 'grow', 'inches', 'more', 'the', 'safest', 'most', 'effective', 'methods', 'of_penisen1argement', 'save', 'your', 'time', 'and', 'money', 'bettererections', 'with', 'effective', 'ma1eenhancement', 'products', 'ma1eenhancement', 'supplement', 'trusted', 'millions', 'buy', 'today']\n",
      "the error rate is:  0.1\n",
      "the error rate is:  0.0\n"
     ]
    },
    {
     "name": "stdout",
     "output_type": "stream",
     "text": [
      "classification error ['scifinance', 'now', 'automatically', 'generates', 'gpu', 'enabled', 'pricing', 'risk', 'model', 'source', 'code', 'that', 'runs', '300x', 'faster', 'than', 'serial', 'code', 'using', 'new', 'nvidia', 'fermi', 'class', 'tesla', 'series', 'gpu', 'scifinance', 'derivatives', 'pricing', 'and', 'risk', 'model', 'development', 'tool', 'that', 'automatically', 'generates', 'and', 'gpu', 'enabled', 'source', 'code', 'from', 'concise', 'high', 'level', 'model', 'specifications', 'parallel', 'computing', 'cuda', 'programming', 'expertise', 'required', 'scifinance', 'automatic', 'gpu', 'enabled', 'monte', 'carlo', 'pricing', 'model', 'source', 'code', 'generation', 'capabilities', 'have', 'been', 'significantly', 'extended', 'the', 'latest', 'release', 'this', 'includes']\n",
      "the error rate is:  0.1\n"
     ]
    }
   ],
   "source": [
    "for i in range(500):\n",
    "    spamTest()\n"
   ]
  },
  {
   "cell_type": "code",
   "execution_count": 37,
   "metadata": {},
   "outputs": [
    {
     "data": {
      "text/plain": [
       "<module 'numpy' from 'c:\\programdata\\anaconda3\\envs\\py2.7\\lib\\site-packages\\numpy\\__init__.pyc'>"
      ]
     },
     "metadata": {},
     "output_type": "display_data"
    },
    {
     "data": {
      "text/plain": [
       "{'bozo': 0,\n",
       " 'encoding': u'utf-8',\n",
       " 'entries': [{'dc_source': u'https://sfbay.craigslist.org/sfc/stp/d/staying-at-grand-wailea-maui/6362392714.html',\n",
       "   'dc_type': u'text',\n",
       "   'enc_enclosure': {'resource': u'https://images.craigslist.org/00s0s_iN6svFZNi9j_300x300.jpg',\n",
       "    'type': u'image/jpeg'},\n",
       "   'id': u'https://sfbay.craigslist.org/sfc/stp/d/staying-at-grand-wailea-maui/6362392714.html',\n",
       "   'language': u'en-us',\n",
       "   'link': u'https://sfbay.craigslist.org/sfc/stp/d/staying-at-grand-wailea-maui/6362392714.html',\n",
       "   'links': [{'href': u'https://sfbay.craigslist.org/sfc/stp/d/staying-at-grand-wailea-maui/6362392714.html',\n",
       "     'rel': u'alternate',\n",
       "     'type': u'text/html'}],\n",
       "   'published': u'2017-10-29T07:15:06-07:00',\n",
       "   'published_parsed': time.struct_time(tm_year=2017, tm_mon=10, tm_mday=29, tm_hour=14, tm_min=15, tm_sec=6, tm_wday=6, tm_yday=302, tm_isdst=0),\n",
       "   'rights': u'copyright 2017 craiglist',\n",
       "   'rights_detail': {'base': u'https://sfbay.craigslist.org/search/stp?format=rss',\n",
       "    'language': None,\n",
       "    'type': u'text/plain',\n",
       "    'value': u'copyright 2017 craiglist'},\n",
       "   'summary': u'Hello! \\nI will be lecturing at a medical conference at the Grand Wailea from Nov 11th-16th. I am from the East Coast and would love to hang out with a fun, social, intelligent, witty, HWP/attractive woman (Is that too much to ask for??) \\nI have those ...',\n",
       "   'summary_detail': {'base': u'https://sfbay.craigslist.org/search/stp?format=rss',\n",
       "    'language': None,\n",
       "    'type': u'text/html',\n",
       "    'value': u'Hello! \\nI will be lecturing at a medical conference at the Grand Wailea from Nov 11th-16th. I am from the East Coast and would love to hang out with a fun, social, intelligent, witty, HWP/attractive woman (Is that too much to ask for??) \\nI have those ...'},\n",
       "   'title': u'Staying at Grand Wailea/Maui In November! - m4w (nob hill)',\n",
       "   'title_detail': {'base': u'https://sfbay.craigslist.org/search/stp?format=rss',\n",
       "    'language': None,\n",
       "    'type': u'text/plain',\n",
       "    'value': u'Staying at Grand Wailea/Maui In November! - m4w (nob hill)'},\n",
       "   'updated': u'2017-10-29T07:15:06-07:00',\n",
       "   'updated_parsed': time.struct_time(tm_year=2017, tm_mon=10, tm_mday=29, tm_hour=14, tm_min=15, tm_sec=6, tm_wday=6, tm_yday=302, tm_isdst=0)},\n",
       "  {'dc_source': u'https://sfbay.craigslist.org/nby/stp/d/looking-for-someone-in/6362078757.html',\n",
       "   'dc_type': u'text',\n",
       "   'id': u'https://sfbay.craigslist.org/nby/stp/d/looking-for-someone-in/6362078757.html',\n",
       "   'language': u'en-us',\n",
       "   'link': u'https://sfbay.craigslist.org/nby/stp/d/looking-for-someone-in/6362078757.html',\n",
       "   'links': [{'href': u'https://sfbay.craigslist.org/nby/stp/d/looking-for-someone-in/6362078757.html',\n",
       "     'rel': u'alternate',\n",
       "     'type': u'text/html'}],\n",
       "   'published': u'2017-10-29T07:05:22-07:00',\n",
       "   'published_parsed': time.struct_time(tm_year=2017, tm_mon=10, tm_mday=29, tm_hour=14, tm_min=5, tm_sec=22, tm_wday=6, tm_yday=302, tm_isdst=0),\n",
       "   'rights': u'copyright 2017 craiglist',\n",
       "   'rights_detail': {'base': u'https://sfbay.craigslist.org/search/stp?format=rss',\n",
       "    'language': None,\n",
       "    'type': u'text/plain',\n",
       "    'value': u'copyright 2017 craiglist'},\n",
       "   'summary': u'Thats has a golf cart or traylor that wants to trade for companionship caregiving. Etc. Tbis would be for long term. Exploring new things would also be nice. Lets chat over coffee. Thanks',\n",
       "   'summary_detail': {'base': u'https://sfbay.craigslist.org/search/stp?format=rss',\n",
       "    'language': None,\n",
       "    'type': u'text/html',\n",
       "    'value': u'Thats has a golf cart or traylor that wants to trade for companionship caregiving. Etc. Tbis would be for long term. Exploring new things would also be nice. Lets chat over coffee. Thanks'},\n",
       "   'title': u'Looking for someone in oakmont - m4m (santa rosa)',\n",
       "   'title_detail': {'base': u'https://sfbay.craigslist.org/search/stp?format=rss',\n",
       "    'language': None,\n",
       "    'type': u'text/plain',\n",
       "    'value': u'Looking for someone in oakmont - m4m (santa rosa)'},\n",
       "   'updated': u'2017-10-29T07:05:22-07:00',\n",
       "   'updated_parsed': time.struct_time(tm_year=2017, tm_mon=10, tm_mday=29, tm_hour=14, tm_min=5, tm_sec=22, tm_wday=6, tm_yday=302, tm_isdst=0)},\n",
       "  {'dc_source': u'https://sfbay.craigslist.org/nby/stp/d/marin-masasge-trade-m4w/6332341747.html',\n",
       "   'dc_type': u'text',\n",
       "   'id': u'https://sfbay.craigslist.org/nby/stp/d/marin-masasge-trade-m4w/6332341747.html',\n",
       "   'language': u'en-us',\n",
       "   'link': u'https://sfbay.craigslist.org/nby/stp/d/marin-masasge-trade-m4w/6332341747.html',\n",
       "   'links': [{'href': u'https://sfbay.craigslist.org/nby/stp/d/marin-masasge-trade-m4w/6332341747.html',\n",
       "     'rel': u'alternate',\n",
       "     'type': u'text/html'}],\n",
       "   'published': u'2017-10-29T06:31:23-07:00',\n",
       "   'published_parsed': time.struct_time(tm_year=2017, tm_mon=10, tm_mday=29, tm_hour=13, tm_min=31, tm_sec=23, tm_wday=6, tm_yday=302, tm_isdst=0),\n",
       "   'rights': u'copyright 2017 craiglist',\n",
       "   'rights_detail': {'base': u'https://sfbay.craigslist.org/search/stp?format=rss',\n",
       "    'language': None,\n",
       "    'type': u'text/plain',\n",
       "    'value': u'copyright 2017 craiglist'},\n",
       "   'summary': u\"I'm looking for someone like me that has decent massage skills , maybe a bit of training and is willing to trade massage . \\nI am as well pretty decent massage skills , (took a massage course in the east bay years ago , but still manage to keep my bas ...\",\n",
       "   'summary_detail': {'base': u'https://sfbay.craigslist.org/search/stp?format=rss',\n",
       "    'language': None,\n",
       "    'type': u'text/html',\n",
       "    'value': u\"I'm looking for someone like me that has decent massage skills , maybe a bit of training and is willing to trade massage . \\nI am as well pretty decent massage skills , (took a massage course in the east bay years ago , but still manage to keep my bas ...\"},\n",
       "   'title': u'Marin _ masasge trade - m4w',\n",
       "   'title_detail': {'base': u'https://sfbay.craigslist.org/search/stp?format=rss',\n",
       "    'language': None,\n",
       "    'type': u'text/plain',\n",
       "    'value': u'Marin _ masasge trade - m4w'},\n",
       "   'updated': u'2017-10-29T06:31:23-07:00',\n",
       "   'updated_parsed': time.struct_time(tm_year=2017, tm_mon=10, tm_mday=29, tm_hour=13, tm_min=31, tm_sec=23, tm_wday=6, tm_yday=302, tm_isdst=0)},\n",
       "  {'dc_source': u'https://sfbay.craigslist.org/eby/stp/d/looking-for-chat-friend-m4w/6341342261.html',\n",
       "   'dc_type': u'text',\n",
       "   'id': u'https://sfbay.craigslist.org/eby/stp/d/looking-for-chat-friend-m4w/6341342261.html',\n",
       "   'language': u'en-us',\n",
       "   'link': u'https://sfbay.craigslist.org/eby/stp/d/looking-for-chat-friend-m4w/6341342261.html',\n",
       "   'links': [{'href': u'https://sfbay.craigslist.org/eby/stp/d/looking-for-chat-friend-m4w/6341342261.html',\n",
       "     'rel': u'alternate',\n",
       "     'type': u'text/html'}],\n",
       "   'published': u'2017-10-29T06:29:29-07:00',\n",
       "   'published_parsed': time.struct_time(tm_year=2017, tm_mon=10, tm_mday=29, tm_hour=13, tm_min=29, tm_sec=29, tm_wday=6, tm_yday=302, tm_isdst=0),\n",
       "   'rights': u'copyright 2017 craiglist',\n",
       "   'rights_detail': {'base': u'https://sfbay.craigslist.org/search/stp?format=rss',\n",
       "    'language': None,\n",
       "    'type': u'text/plain',\n",
       "    'value': u'copyright 2017 craiglist'},\n",
       "   'summary': u\"Hello there. I am looking for some fun, and interesting chat on a long term basis. I have a lot of spare time these days, and I would love to spend some of it getting to know you, and tell you all about myself as well. I live in Pittsburg. I'm 48, 6' ...\",\n",
       "   'summary_detail': {'base': u'https://sfbay.craigslist.org/search/stp?format=rss',\n",
       "    'language': None,\n",
       "    'type': u'text/html',\n",
       "    'value': u\"Hello there. I am looking for some fun, and interesting chat on a long term basis. I have a lot of spare time these days, and I would love to spend some of it getting to know you, and tell you all about myself as well. I live in Pittsburg. I'm 48, 6' ...\"},\n",
       "   'title': u'Looking for a Chat friend - m4w (pittsburg / antioch)',\n",
       "   'title_detail': {'base': u'https://sfbay.craigslist.org/search/stp?format=rss',\n",
       "    'language': None,\n",
       "    'type': u'text/plain',\n",
       "    'value': u'Looking for a Chat friend - m4w (pittsburg / antioch)'},\n",
       "   'updated': u'2017-10-29T06:29:29-07:00',\n",
       "   'updated_parsed': time.struct_time(tm_year=2017, tm_mon=10, tm_mday=29, tm_hour=13, tm_min=29, tm_sec=29, tm_wday=6, tm_yday=302, tm_isdst=0)},\n",
       "  {'dc_source': u'https://sfbay.craigslist.org/sby/stp/d/wanted-to-postfor-old/6365461111.html',\n",
       "   'dc_type': u'text',\n",
       "   'id': u'https://sfbay.craigslist.org/sby/stp/d/wanted-to-postfor-old/6365461111.html',\n",
       "   'language': u'en-us',\n",
       "   'link': u'https://sfbay.craigslist.org/sby/stp/d/wanted-to-postfor-old/6365461111.html',\n",
       "   'links': [{'href': u'https://sfbay.craigslist.org/sby/stp/d/wanted-to-postfor-old/6365461111.html',\n",
       "     'rel': u'alternate',\n",
       "     'type': u'text/html'}],\n",
       "   'published': u'2017-10-29T06:23:58-07:00',\n",
       "   'published_parsed': time.struct_time(tm_year=2017, tm_mon=10, tm_mday=29, tm_hour=13, tm_min=23, tm_sec=58, tm_wday=6, tm_yday=302, tm_isdst=0),\n",
       "   'rights': u'copyright 2017 craiglist',\n",
       "   'rights_detail': {'base': u'https://sfbay.craigslist.org/search/stp?format=rss',\n",
       "    'language': None,\n",
       "    'type': u'text/plain',\n",
       "    'value': u'copyright 2017 craiglist'},\n",
       "   'summary': u\"I used to post here..and I used to be able to meet decent people if not FWB..at least maybe a friend. Not any longer though..I've been conditioned not to even think of this or any other place to look for any sort of human kinship. Which is fine, beca ...\",\n",
       "   'summary_detail': {'base': u'https://sfbay.craigslist.org/search/stp?format=rss',\n",
       "    'language': None,\n",
       "    'type': u'text/html',\n",
       "    'value': u\"I used to post here..and I used to be able to meet decent people if not FWB..at least maybe a friend. Not any longer though..I've been conditioned not to even think of this or any other place to look for any sort of human kinship. Which is fine, beca ...\"},\n",
       "   'title': u'Wanted to post..for old memories - m4w (Yesteryear)',\n",
       "   'title_detail': {'base': u'https://sfbay.craigslist.org/search/stp?format=rss',\n",
       "    'language': None,\n",
       "    'type': u'text/plain',\n",
       "    'value': u'Wanted to post..for old memories - m4w (Yesteryear)'},\n",
       "   'updated': u'2017-10-29T06:23:58-07:00',\n",
       "   'updated_parsed': time.struct_time(tm_year=2017, tm_mon=10, tm_mday=29, tm_hour=13, tm_min=23, tm_sec=58, tm_wday=6, tm_yday=302, tm_isdst=0)},\n",
       "  {'dc_source': u'https://sfbay.craigslist.org/nby/stp/d/join-me-in-hawaii-seeking/6365460098.html',\n",
       "   'dc_type': u'text',\n",
       "   'id': u'https://sfbay.craigslist.org/nby/stp/d/join-me-in-hawaii-seeking/6365460098.html',\n",
       "   'language': u'en-us',\n",
       "   'link': u'https://sfbay.craigslist.org/nby/stp/d/join-me-in-hawaii-seeking/6365460098.html',\n",
       "   'links': [{'href': u'https://sfbay.craigslist.org/nby/stp/d/join-me-in-hawaii-seeking/6365460098.html',\n",
       "     'rel': u'alternate',\n",
       "     'type': u'text/html'}],\n",
       "   'published': u'2017-10-29T06:22:45-07:00',\n",
       "   'published_parsed': time.struct_time(tm_year=2017, tm_mon=10, tm_mday=29, tm_hour=13, tm_min=22, tm_sec=45, tm_wday=6, tm_yday=302, tm_isdst=0),\n",
       "   'rights': u'copyright 2017 craiglist',\n",
       "   'rights_detail': {'base': u'https://sfbay.craigslist.org/search/stp?format=rss',\n",
       "    'language': None,\n",
       "    'type': u'text/plain',\n",
       "    'value': u'copyright 2017 craiglist'},\n",
       "   'summary': u'Yes, strictly platonic. I will be in HI for a week on business mid-December and would love to have someone join me for daily workouts, being active, and evening meals. \\nYou know it is right for you if you workout six times a week as is and are comfor ...',\n",
       "   'summary_detail': {'base': u'https://sfbay.craigslist.org/search/stp?format=rss',\n",
       "    'language': None,\n",
       "    'type': u'text/html',\n",
       "    'value': u'Yes, strictly platonic. I will be in HI for a week on business mid-December and would love to have someone join me for daily workouts, being active, and evening meals. \\nYou know it is right for you if you workout six times a week as is and are comfor ...'},\n",
       "   'title': u'join me in hawaii - seeking athletic female for active week - m4w (marin/sf)',\n",
       "   'title_detail': {'base': u'https://sfbay.craigslist.org/search/stp?format=rss',\n",
       "    'language': None,\n",
       "    'type': u'text/plain',\n",
       "    'value': u'join me in hawaii - seeking athletic female for active week - m4w (marin/sf)'},\n",
       "   'updated': u'2017-10-29T06:22:45-07:00',\n",
       "   'updated_parsed': time.struct_time(tm_year=2017, tm_mon=10, tm_mday=29, tm_hour=13, tm_min=22, tm_sec=45, tm_wday=6, tm_yday=302, tm_isdst=0)},\n",
       "  {'dc_source': u'https://sfbay.craigslist.org/scz/stp/d/new-friends-m4w/6365439106.html',\n",
       "   'dc_type': u'text',\n",
       "   'id': u'https://sfbay.craigslist.org/scz/stp/d/new-friends-m4w/6365439106.html',\n",
       "   'language': u'en-us',\n",
       "   'link': u'https://sfbay.craigslist.org/scz/stp/d/new-friends-m4w/6365439106.html',\n",
       "   'links': [{'href': u'https://sfbay.craigslist.org/scz/stp/d/new-friends-m4w/6365439106.html',\n",
       "     'rel': u'alternate',\n",
       "     'type': u'text/html'}],\n",
       "   'published': u'2017-10-29T05:54:29-07:00',\n",
       "   'published_parsed': time.struct_time(tm_year=2017, tm_mon=10, tm_mday=29, tm_hour=12, tm_min=54, tm_sec=29, tm_wday=6, tm_yday=302, tm_isdst=0),\n",
       "   'rights': u'copyright 2017 craiglist',\n",
       "   'rights_detail': {'base': u'https://sfbay.craigslist.org/search/stp?format=rss',\n",
       "    'language': None,\n",
       "    'type': u'text/plain',\n",
       "    'value': u'copyright 2017 craiglist'},\n",
       "   'summary': u\"Looking for new friends to chat with. Married and would like to find someone else in the same situation. Open to others as well. Just new people to chat with. Let's chat today. Open to meeting up as well down the road.\",\n",
       "   'summary_detail': {'base': u'https://sfbay.craigslist.org/search/stp?format=rss',\n",
       "    'language': None,\n",
       "    'type': u'text/html',\n",
       "    'value': u\"Looking for new friends to chat with. Married and would like to find someone else in the same situation. Open to others as well. Just new people to chat with. Let's chat today. Open to meeting up as well down the road.\"},\n",
       "   'title': u'New Friends? - m4w (scotts valley)',\n",
       "   'title_detail': {'base': u'https://sfbay.craigslist.org/search/stp?format=rss',\n",
       "    'language': None,\n",
       "    'type': u'text/plain',\n",
       "    'value': u'New Friends? - m4w (scotts valley)'},\n",
       "   'updated': u'2017-10-29T05:54:29-07:00',\n",
       "   'updated_parsed': time.struct_time(tm_year=2017, tm_mon=10, tm_mday=29, tm_hour=12, tm_min=54, tm_sec=29, tm_wday=6, tm_yday=302, tm_isdst=0)},\n",
       "  {'dc_source': u'https://sfbay.craigslist.org/sby/stp/d/professional-cuddler-m4m/6365439012.html',\n",
       "   'dc_type': u'text',\n",
       "   'enc_enclosure': {'resource': u'https://images.craigslist.org/00k0k_bgnqaTNyADT_300x300.jpg',\n",
       "    'type': u'image/jpeg'},\n",
       "   'id': u'https://sfbay.craigslist.org/sby/stp/d/professional-cuddler-m4m/6365439012.html',\n",
       "   'language': u'en-us',\n",
       "   'link': u'https://sfbay.craigslist.org/sby/stp/d/professional-cuddler-m4m/6365439012.html',\n",
       "   'links': [{'href': u'https://sfbay.craigslist.org/sby/stp/d/professional-cuddler-m4m/6365439012.html',\n",
       "     'rel': u'alternate',\n",
       "     'type': u'text/html'}],\n",
       "   'published': u'2017-10-29T05:54:20-07:00',\n",
       "   'published_parsed': time.struct_time(tm_year=2017, tm_mon=10, tm_mday=29, tm_hour=12, tm_min=54, tm_sec=20, tm_wday=6, tm_yday=302, tm_isdst=0),\n",
       "   'rights': u'copyright 2017 craiglist',\n",
       "   'rights_detail': {'base': u'https://sfbay.craigslist.org/search/stp?format=rss',\n",
       "    'language': None,\n",
       "    'type': u'text/plain',\n",
       "    'value': u'copyright 2017 craiglist'},\n",
       "   'summary': u'Enjoy the comfort of a guy .. \\nLet me lay with you and be close to you .. \\nClean cut Latino male. \\n34 good looks 5.7 140 \\nPics avail . \\nI am Avail to host or come to your home . \\n60 in or 80 out \\nLooking forward to hearing from you .',\n",
       "   'summary_detail': {'base': u'https://sfbay.craigslist.org/search/stp?format=rss',\n",
       "    'language': None,\n",
       "    'type': u'text/html',\n",
       "    'value': u'Enjoy the comfort of a guy .. \\nLet me lay with you and be close to you .. \\nClean cut Latino male. \\n34 good looks 5.7 140 \\nPics avail . \\nI am Avail to host or come to your home . \\n60 in or 80 out \\nLooking forward to hearing from you .'},\n",
       "   'title': u'Professional cuddler - m4m (los gatos)',\n",
       "   'title_detail': {'base': u'https://sfbay.craigslist.org/search/stp?format=rss',\n",
       "    'language': None,\n",
       "    'type': u'text/plain',\n",
       "    'value': u'Professional cuddler - m4m (los gatos)'},\n",
       "   'updated': u'2017-10-29T05:54:20-07:00',\n",
       "   'updated_parsed': time.struct_time(tm_year=2017, tm_mon=10, tm_mday=29, tm_hour=12, tm_min=54, tm_sec=20, tm_wday=6, tm_yday=302, tm_isdst=0)},\n",
       "  {'dc_source': u'https://sfbay.craigslist.org/scz/stp/d/bored-in-your-current/6365438977.html',\n",
       "   'dc_type': u'text',\n",
       "   'id': u'https://sfbay.craigslist.org/scz/stp/d/bored-in-your-current/6365438977.html',\n",
       "   'language': u'en-us',\n",
       "   'link': u'https://sfbay.craigslist.org/scz/stp/d/bored-in-your-current/6365438977.html',\n",
       "   'links': [{'href': u'https://sfbay.craigslist.org/scz/stp/d/bored-in-your-current/6365438977.html',\n",
       "     'rel': u'alternate',\n",
       "     'type': u'text/html'}],\n",
       "   'published': u'2017-10-29T05:54:17-07:00',\n",
       "   'published_parsed': time.struct_time(tm_year=2017, tm_mon=10, tm_mday=29, tm_hour=12, tm_min=54, tm_sec=17, tm_wday=6, tm_yday=302, tm_isdst=0),\n",
       "   'rights': u'copyright 2017 craiglist',\n",
       "   'rights_detail': {'base': u'https://sfbay.craigslist.org/search/stp?format=rss',\n",
       "    'language': None,\n",
       "    'type': u'text/plain',\n",
       "    'value': u'copyright 2017 craiglist'},\n",
       "   'summary': u\"Looking for someone like myself in a relationship and bored. Like to go to the movies, walks on west cliff, coffee, lunch, open to whatever else. Looking for mainly new friends and activity partners. That's why this is in the platonic section. Not lo ...\",\n",
       "   'summary_detail': {'base': u'https://sfbay.craigslist.org/search/stp?format=rss',\n",
       "    'language': None,\n",
       "    'type': u'text/html',\n",
       "    'value': u\"Looking for someone like myself in a relationship and bored. Like to go to the movies, walks on west cliff, coffee, lunch, open to whatever else. Looking for mainly new friends and activity partners. That's why this is in the platonic section. Not lo ...\"},\n",
       "   'title': u'Bored in your current relationship? Me too. - m4w (santa cruz)',\n",
       "   'title_detail': {'base': u'https://sfbay.craigslist.org/search/stp?format=rss',\n",
       "    'language': None,\n",
       "    'type': u'text/plain',\n",
       "    'value': u'Bored in your current relationship? Me too. - m4w (santa cruz)'},\n",
       "   'updated': u'2017-10-29T05:54:17-07:00',\n",
       "   'updated_parsed': time.struct_time(tm_year=2017, tm_mon=10, tm_mday=29, tm_hour=12, tm_min=54, tm_sec=17, tm_wday=6, tm_yday=302, tm_isdst=0)},\n",
       "  {'dc_source': u'https://sfbay.craigslist.org/eby/stp/d/connection-and-care-w4m/6365384916.html',\n",
       "   'dc_type': u'text',\n",
       "   'id': u'https://sfbay.craigslist.org/eby/stp/d/connection-and-care-w4m/6365384916.html',\n",
       "   'language': u'en-us',\n",
       "   'link': u'https://sfbay.craigslist.org/eby/stp/d/connection-and-care-w4m/6365384916.html',\n",
       "   'links': [{'href': u'https://sfbay.craigslist.org/eby/stp/d/connection-and-care-w4m/6365384916.html',\n",
       "     'rel': u'alternate',\n",
       "     'type': u'text/html'}],\n",
       "   'published': u'2017-10-29T04:03:00-07:00',\n",
       "   'published_parsed': time.struct_time(tm_year=2017, tm_mon=10, tm_mday=29, tm_hour=11, tm_min=3, tm_sec=0, tm_wday=6, tm_yday=302, tm_isdst=0),\n",
       "   'rights': u'copyright 2017 craiglist',\n",
       "   'rights_detail': {'base': u'https://sfbay.craigslist.org/search/stp?format=rss',\n",
       "    'language': None,\n",
       "    'type': u'text/plain',\n",
       "    'value': u'copyright 2017 craiglist'},\n",
       "   'summary': u'Know that feeling of just wanting someone to care that you exist? That your presence is valued and cherished? That you matter in this world? I just want to feel that.',\n",
       "   'summary_detail': {'base': u'https://sfbay.craigslist.org/search/stp?format=rss',\n",
       "    'language': None,\n",
       "    'type': u'text/html',\n",
       "    'value': u'Know that feeling of just wanting someone to care that you exist? That your presence is valued and cherished? That you matter in this world? I just want to feel that.'},\n",
       "   'title': u'Connection and care - w4m (fremont / union city / newark)',\n",
       "   'title_detail': {'base': u'https://sfbay.craigslist.org/search/stp?format=rss',\n",
       "    'language': None,\n",
       "    'type': u'text/plain',\n",
       "    'value': u'Connection and care - w4m (fremont / union city / newark)'},\n",
       "   'updated': u'2017-10-29T04:03:00-07:00',\n",
       "   'updated_parsed': time.struct_time(tm_year=2017, tm_mon=10, tm_mday=29, tm_hour=11, tm_min=3, tm_sec=0, tm_wday=6, tm_yday=302, tm_isdst=0)},\n",
       "  {'dc_source': u'https://sfbay.craigslist.org/eby/stp/d/pen-pals-m4w/6365379324.html',\n",
       "   'dc_type': u'text',\n",
       "   'id': u'https://sfbay.craigslist.org/eby/stp/d/pen-pals-m4w/6365379324.html',\n",
       "   'language': u'en-us',\n",
       "   'link': u'https://sfbay.craigslist.org/eby/stp/d/pen-pals-m4w/6365379324.html',\n",
       "   'links': [{'href': u'https://sfbay.craigslist.org/eby/stp/d/pen-pals-m4w/6365379324.html',\n",
       "     'rel': u'alternate',\n",
       "     'type': u'text/html'}],\n",
       "   'published': u'2017-10-29T03:44:56-07:00',\n",
       "   'published_parsed': time.struct_time(tm_year=2017, tm_mon=10, tm_mday=29, tm_hour=10, tm_min=44, tm_sec=56, tm_wday=6, tm_yday=302, tm_isdst=0),\n",
       "   'rights': u'copyright 2017 craiglist',\n",
       "   'rights_detail': {'base': u'https://sfbay.craigslist.org/search/stp?format=rss',\n",
       "    'language': None,\n",
       "    'type': u'text/plain',\n",
       "    'value': u'copyright 2017 craiglist'},\n",
       "   'summary': u'I\\'m looking to talk with a, preferably, single lady around me age (31) about life, everyday going-ons and anything else really. I\\'m an educated, self-reliant, empathetic, discreet, bashful (the iron of the described adjectives combined with \"bashful\" ...',\n",
       "   'summary_detail': {'base': u'https://sfbay.craigslist.org/search/stp?format=rss',\n",
       "    'language': None,\n",
       "    'type': u'text/html',\n",
       "    'value': u'I\\'m looking to talk with a, preferably, single lady around me age (31) about life, everyday going-ons and anything else really. I\\'m an educated, self-reliant, empathetic, discreet, bashful (the iron of the described adjectives combined with \"bashful\" ...'},\n",
       "   'title': u'Pen pals - m4w (oakland downtown)',\n",
       "   'title_detail': {'base': u'https://sfbay.craigslist.org/search/stp?format=rss',\n",
       "    'language': None,\n",
       "    'type': u'text/plain',\n",
       "    'value': u'Pen pals - m4w (oakland downtown)'},\n",
       "   'updated': u'2017-10-29T03:44:56-07:00',\n",
       "   'updated_parsed': time.struct_time(tm_year=2017, tm_mon=10, tm_mday=29, tm_hour=10, tm_min=44, tm_sec=56, tm_wday=6, tm_yday=302, tm_isdst=0)},\n",
       "  {'dc_source': u'https://sfbay.craigslist.org/sby/stp/d/road-trip-sunday-m4w/6365377898.html',\n",
       "   'dc_type': u'text',\n",
       "   'id': u'https://sfbay.craigslist.org/sby/stp/d/road-trip-sunday-m4w/6365377898.html',\n",
       "   'language': u'en-us',\n",
       "   'link': u'https://sfbay.craigslist.org/sby/stp/d/road-trip-sunday-m4w/6365377898.html',\n",
       "   'links': [{'href': u'https://sfbay.craigslist.org/sby/stp/d/road-trip-sunday-m4w/6365377898.html',\n",
       "     'rel': u'alternate',\n",
       "     'type': u'text/html'}],\n",
       "   'published': u'2017-10-29T03:39:46-07:00',\n",
       "   'published_parsed': time.struct_time(tm_year=2017, tm_mon=10, tm_mday=29, tm_hour=10, tm_min=39, tm_sec=46, tm_wday=6, tm_yday=302, tm_isdst=0),\n",
       "   'rights': u'copyright 2017 craiglist',\n",
       "   'rights_detail': {'base': u'https://sfbay.craigslist.org/search/stp?format=rss',\n",
       "    'language': None,\n",
       "    'type': u'text/plain',\n",
       "    'value': u'copyright 2017 craiglist'},\n",
       "   'summary': u'Here on biz trip and would love a company to a fun day \\nany ideas ? \\nI am 39yo friendly, smart and good looking guy :)',\n",
       "   'summary_detail': {'base': u'https://sfbay.craigslist.org/search/stp?format=rss',\n",
       "    'language': None,\n",
       "    'type': u'text/html',\n",
       "    'value': u'Here on biz trip and would love a company to a fun day \\nany ideas ? \\nI am 39yo friendly, smart and good looking guy :)'},\n",
       "   'title': u'Road Trip Sunday - m4w (sunnyvale)',\n",
       "   'title_detail': {'base': u'https://sfbay.craigslist.org/search/stp?format=rss',\n",
       "    'language': None,\n",
       "    'type': u'text/plain',\n",
       "    'value': u'Road Trip Sunday - m4w (sunnyvale)'},\n",
       "   'updated': u'2017-10-29T03:39:46-07:00',\n",
       "   'updated_parsed': time.struct_time(tm_year=2017, tm_mon=10, tm_mday=29, tm_hour=10, tm_min=39, tm_sec=46, tm_wday=6, tm_yday=302, tm_isdst=0)},\n",
       "  {'dc_source': u'https://sfbay.craigslist.org/sfc/stp/d/let-me-buy-you-dinner-and/6365372883.html',\n",
       "   'dc_type': u'text',\n",
       "   'enc_enclosure': {'resource': u'https://images.craigslist.org/00a0a_dOVqkyNoE7P_300x300.jpg',\n",
       "    'type': u'image/jpeg'},\n",
       "   'id': u'https://sfbay.craigslist.org/sfc/stp/d/let-me-buy-you-dinner-and/6365372883.html',\n",
       "   'language': u'en-us',\n",
       "   'link': u'https://sfbay.craigslist.org/sfc/stp/d/let-me-buy-you-dinner-and/6365372883.html',\n",
       "   'links': [{'href': u'https://sfbay.craigslist.org/sfc/stp/d/let-me-buy-you-dinner-and/6365372883.html',\n",
       "     'rel': u'alternate',\n",
       "     'type': u'text/html'}],\n",
       "   'published': u'2017-10-29T03:20:55-07:00',\n",
       "   'published_parsed': time.struct_time(tm_year=2017, tm_mon=10, tm_mday=29, tm_hour=10, tm_min=20, tm_sec=55, tm_wday=6, tm_yday=302, tm_isdst=0),\n",
       "   'rights': u'copyright 2017 craiglist',\n",
       "   'rights_detail': {'base': u'https://sfbay.craigslist.org/search/stp?format=rss',\n",
       "    'language': None,\n",
       "    'type': u'text/plain',\n",
       "    'value': u'copyright 2017 craiglist'},\n",
       "   'summary': u\"Hello! I'm a 42 year old man searching for a good woman in her 30s. I'd like to buy you dinner and drinks. Good conversation, some laughs, and hopefully a nice connection. \\nEmail me your picture. Lets chat : ) \\n-David K.\",\n",
       "   'summary_detail': {'base': u'https://sfbay.craigslist.org/search/stp?format=rss',\n",
       "    'language': None,\n",
       "    'type': u'text/html',\n",
       "    'value': u\"Hello! I'm a 42 year old man searching for a good woman in her 30s. I'd like to buy you dinner and drinks. Good conversation, some laughs, and hopefully a nice connection. \\nEmail me your picture. Lets chat : ) \\n-David K.\"},\n",
       "   'title': u'Let me buy you dinner and drinks. - m4w (lower pac hts)',\n",
       "   'title_detail': {'base': u'https://sfbay.craigslist.org/search/stp?format=rss',\n",
       "    'language': None,\n",
       "    'type': u'text/plain',\n",
       "    'value': u'Let me buy you dinner and drinks. - m4w (lower pac hts)'},\n",
       "   'updated': u'2017-10-29T03:20:55-07:00',\n",
       "   'updated_parsed': time.struct_time(tm_year=2017, tm_mon=10, tm_mday=29, tm_hour=10, tm_min=20, tm_sec=55, tm_wday=6, tm_yday=302, tm_isdst=0)},\n",
       "  {'dc_source': u'https://sfbay.craigslist.org/eby/stp/d/edging-m4m/6365362227.html',\n",
       "   'dc_type': u'text',\n",
       "   'id': u'https://sfbay.craigslist.org/eby/stp/d/edging-m4m/6365362227.html',\n",
       "   'language': u'en-us',\n",
       "   'link': u'https://sfbay.craigslist.org/eby/stp/d/edging-m4m/6365362227.html',\n",
       "   'links': [{'href': u'https://sfbay.craigslist.org/eby/stp/d/edging-m4m/6365362227.html',\n",
       "     'rel': u'alternate',\n",
       "     'type': u'text/html'}],\n",
       "   'published': u'2017-10-29T02:36:28-07:00',\n",
       "   'published_parsed': time.struct_time(tm_year=2017, tm_mon=10, tm_mday=29, tm_hour=9, tm_min=36, tm_sec=28, tm_wday=6, tm_yday=302, tm_isdst=0),\n",
       "   'rights': u'copyright 2017 craiglist',\n",
       "   'rights_detail': {'base': u'https://sfbay.craigslist.org/search/stp?format=rss',\n",
       "    'language': None,\n",
       "    'type': u'text/plain',\n",
       "    'value': u'copyright 2017 craiglist'},\n",
       "   'summary': u\"Hey guys, I'm 30 straight DL bi guy that is looking for a guy younger or close to my age that is into giving me a hang job edging me till I build up a fat load. I am open to more but want to find someone that loves to stroke. Hit me up I have a nice  ...\",\n",
       "   'summary_detail': {'base': u'https://sfbay.craigslist.org/search/stp?format=rss',\n",
       "    'language': None,\n",
       "    'type': u'text/html',\n",
       "    'value': u\"Hey guys, I'm 30 straight DL bi guy that is looking for a guy younger or close to my age that is into giving me a hang job edging me till I build up a fat load. I am open to more but want to find someone that loves to stroke. Hit me up I have a nice  ...\"},\n",
       "   'title': u'Edging - m4m (concord / pleasant hill / martinez)',\n",
       "   'title_detail': {'base': u'https://sfbay.craigslist.org/search/stp?format=rss',\n",
       "    'language': None,\n",
       "    'type': u'text/plain',\n",
       "    'value': u'Edging - m4m (concord / pleasant hill / martinez)'},\n",
       "   'updated': u'2017-10-29T02:36:28-07:00',\n",
       "   'updated_parsed': time.struct_time(tm_year=2017, tm_mon=10, tm_mday=29, tm_hour=9, tm_min=36, tm_sec=28, tm_wday=6, tm_yday=302, tm_isdst=0)},\n",
       "  {'dc_source': u'https://sfbay.craigslist.org/eby/stp/d/snap-streak-m4w/6365362149.html',\n",
       "   'dc_type': u'text',\n",
       "   'enc_enclosure': {'resource': u'https://images.craigslist.org/00f0f_1aMCEALEIxd_300x300.jpg',\n",
       "    'type': u'image/jpeg'},\n",
       "   'id': u'https://sfbay.craigslist.org/eby/stp/d/snap-streak-m4w/6365362149.html',\n",
       "   'language': u'en-us',\n",
       "   'link': u'https://sfbay.craigslist.org/eby/stp/d/snap-streak-m4w/6365362149.html',\n",
       "   'links': [{'href': u'https://sfbay.craigslist.org/eby/stp/d/snap-streak-m4w/6365362149.html',\n",
       "     'rel': u'alternate',\n",
       "     'type': u'text/html'}],\n",
       "   'published': u'2017-10-29T02:36:08-07:00',\n",
       "   'published_parsed': time.struct_time(tm_year=2017, tm_mon=10, tm_mday=29, tm_hour=9, tm_min=36, tm_sec=8, tm_wday=6, tm_yday=302, tm_isdst=0),\n",
       "   'rights': u'copyright 2017 craiglist',\n",
       "   'rights_detail': {'base': u'https://sfbay.craigslist.org/search/stp?format=rss',\n",
       "    'language': None,\n",
       "    'type': u'text/plain',\n",
       "    'value': u'copyright 2017 craiglist'},\n",
       "   'summary': u\"Let's start a snap streak!!! If you don't know what a snap streak is, please Google it (duh) Don't be lame!\",\n",
       "   'summary_detail': {'base': u'https://sfbay.craigslist.org/search/stp?format=rss',\n",
       "    'language': None,\n",
       "    'type': u'text/html',\n",
       "    'value': u\"Let's start a snap streak!!! If you don't know what a snap streak is, please Google it (duh) Don't be lame!\"},\n",
       "   'title': u'Snap Streak - m4w (richmond / point / annex)',\n",
       "   'title_detail': {'base': u'https://sfbay.craigslist.org/search/stp?format=rss',\n",
       "    'language': None,\n",
       "    'type': u'text/plain',\n",
       "    'value': u'Snap Streak - m4w (richmond / point / annex)'},\n",
       "   'updated': u'2017-10-29T02:36:08-07:00',\n",
       "   'updated_parsed': time.struct_time(tm_year=2017, tm_mon=10, tm_mday=29, tm_hour=9, tm_min=36, tm_sec=8, tm_wday=6, tm_yday=302, tm_isdst=0)},\n",
       "  {'dc_source': u'https://sfbay.craigslist.org/sfc/stp/d/seek-part-time-assistant-home/6360038481.html',\n",
       "   'dc_type': u'text',\n",
       "   'id': u'https://sfbay.craigslist.org/sfc/stp/d/seek-part-time-assistant-home/6360038481.html',\n",
       "   'language': u'en-us',\n",
       "   'link': u'https://sfbay.craigslist.org/sfc/stp/d/seek-part-time-assistant-home/6360038481.html',\n",
       "   'links': [{'href': u'https://sfbay.craigslist.org/sfc/stp/d/seek-part-time-assistant-home/6360038481.html',\n",
       "     'rel': u'alternate',\n",
       "     'type': u'text/html'}],\n",
       "   'published': u'2017-10-29T01:18:15-07:00',\n",
       "   'published_parsed': time.struct_time(tm_year=2017, tm_mon=10, tm_mday=29, tm_hour=8, tm_min=18, tm_sec=15, tm_wday=6, tm_yday=302, tm_isdst=0),\n",
       "   'rights': u'copyright 2017 craiglist',\n",
       "   'rights_detail': {'base': u'https://sfbay.craigslist.org/search/stp?format=rss',\n",
       "    'language': None,\n",
       "    'type': u'text/plain',\n",
       "    'value': u'copyright 2017 craiglist'},\n",
       "   'summary': u'Sincere senior wm, Looking for responsible, trustworthy part-time assistant for home (primarily) and office. Student, student type or recent grad is good, but others welcome. (at least 18 or over ) Nonstudent is also ok. Welcome person of any ethnic  ...',\n",
       "   'summary_detail': {'base': u'https://sfbay.craigslist.org/search/stp?format=rss',\n",
       "    'language': None,\n",
       "    'type': u'text/html',\n",
       "    'value': u'Sincere senior wm, Looking for responsible, trustworthy part-time assistant for home (primarily) and office. Student, student type or recent grad is good, but others welcome. (at least 18 or over ) Nonstudent is also ok. Welcome person of any ethnic  ...'},\n",
       "   'title': u'Seek part-time Assistant Home/Office - m4m (near 35th and Balboa)',\n",
       "   'title_detail': {'base': u'https://sfbay.craigslist.org/search/stp?format=rss',\n",
       "    'language': None,\n",
       "    'type': u'text/plain',\n",
       "    'value': u'Seek part-time Assistant Home/Office - m4m (near 35th and Balboa)'},\n",
       "   'updated': u'2017-10-29T01:18:15-07:00',\n",
       "   'updated_parsed': time.struct_time(tm_year=2017, tm_mon=10, tm_mday=29, tm_hour=8, tm_min=18, tm_sec=15, tm_wday=6, tm_yday=302, tm_isdst=0)},\n",
       "  {'dc_source': u'https://sfbay.craigslist.org/nby/stp/d/text-friend-m4w/6365341728.html',\n",
       "   'dc_type': u'text',\n",
       "   'id': u'https://sfbay.craigslist.org/nby/stp/d/text-friend-m4w/6365341728.html',\n",
       "   'language': u'en-us',\n",
       "   'link': u'https://sfbay.craigslist.org/nby/stp/d/text-friend-m4w/6365341728.html',\n",
       "   'links': [{'href': u'https://sfbay.craigslist.org/nby/stp/d/text-friend-m4w/6365341728.html',\n",
       "     'rel': u'alternate',\n",
       "     'type': u'text/html'}],\n",
       "   'published': u'2017-10-29T01:06:02-07:00',\n",
       "   'published_parsed': time.struct_time(tm_year=2017, tm_mon=10, tm_mday=29, tm_hour=8, tm_min=6, tm_sec=2, tm_wday=6, tm_yday=302, tm_isdst=0),\n",
       "   'rights': u'copyright 2017 craiglist',\n",
       "   'rights_detail': {'base': u'https://sfbay.craigslist.org/search/stp?format=rss',\n",
       "    'language': None,\n",
       "    'type': u'text/plain',\n",
       "    'value': u'copyright 2017 craiglist'},\n",
       "   'summary': u\"Going through a rough time. I'm just looking to talk with someone. I'm a good listener and I have things to say too. Text and email friend to start. Maybe talk on the phone later. I'm from out of area and definitely not looking to change your situati ...\",\n",
       "   'summary_detail': {'base': u'https://sfbay.craigslist.org/search/stp?format=rss',\n",
       "    'language': None,\n",
       "    'type': u'text/html',\n",
       "    'value': u\"Going through a rough time. I'm just looking to talk with someone. I'm a good listener and I have things to say too. Text and email friend to start. Maybe talk on the phone later. I'm from out of area and definitely not looking to change your situati ...\"},\n",
       "   'title': u'Text friend - m4w (Out of area)',\n",
       "   'title_detail': {'base': u'https://sfbay.craigslist.org/search/stp?format=rss',\n",
       "    'language': None,\n",
       "    'type': u'text/plain',\n",
       "    'value': u'Text friend - m4w (Out of area)'},\n",
       "   'updated': u'2017-10-29T01:06:02-07:00',\n",
       "   'updated_parsed': time.struct_time(tm_year=2017, tm_mon=10, tm_mday=29, tm_hour=8, tm_min=6, tm_sec=2, tm_wday=6, tm_yday=302, tm_isdst=0)},\n",
       "  {'dc_source': u'https://sfbay.craigslist.org/sby/stp/d/loner-looking-for-same-w4m/6365341033.html',\n",
       "   'dc_type': u'text',\n",
       "   'id': u'https://sfbay.craigslist.org/sby/stp/d/loner-looking-for-same-w4m/6365341033.html',\n",
       "   'language': u'en-us',\n",
       "   'link': u'https://sfbay.craigslist.org/sby/stp/d/loner-looking-for-same-w4m/6365341033.html',\n",
       "   'links': [{'href': u'https://sfbay.craigslist.org/sby/stp/d/loner-looking-for-same-w4m/6365341033.html',\n",
       "     'rel': u'alternate',\n",
       "     'type': u'text/html'}],\n",
       "   'published': u'2017-10-29T01:03:15-07:00',\n",
       "   'published_parsed': time.struct_time(tm_year=2017, tm_mon=10, tm_mday=29, tm_hour=8, tm_min=3, tm_sec=15, tm_wday=6, tm_yday=302, tm_isdst=0),\n",
       "   'rights': u'copyright 2017 craiglist',\n",
       "   'rights_detail': {'base': u'https://sfbay.craigslist.org/search/stp?format=rss',\n",
       "    'language': None,\n",
       "    'type': u'text/plain',\n",
       "    'value': u'copyright 2017 craiglist'},\n",
       "   'summary': u\"I enjoy my time alone but there are nights where it would be nice to have a friend to go eat or see a movie with. I don't like to do much else as I am a simple person. So we won't be going to the night clubs. \\nI am single and I am not looking to get  ...\",\n",
       "   'summary_detail': {'base': u'https://sfbay.craigslist.org/search/stp?format=rss',\n",
       "    'language': None,\n",
       "    'type': u'text/html',\n",
       "    'value': u\"I enjoy my time alone but there are nights where it would be nice to have a friend to go eat or see a movie with. I don't like to do much else as I am a simple person. So we won't be going to the night clubs. \\nI am single and I am not looking to get  ...\"},\n",
       "   'title': u'Loner looking for same - w4m (san jose north)',\n",
       "   'title_detail': {'base': u'https://sfbay.craigslist.org/search/stp?format=rss',\n",
       "    'language': None,\n",
       "    'type': u'text/plain',\n",
       "    'value': u'Loner looking for same - w4m (san jose north)'},\n",
       "   'updated': u'2017-10-29T01:03:15-07:00',\n",
       "   'updated_parsed': time.struct_time(tm_year=2017, tm_mon=10, tm_mday=29, tm_hour=8, tm_min=3, tm_sec=15, tm_wday=6, tm_yday=302, tm_isdst=0)},\n",
       "  {'dc_source': u'https://sfbay.craigslist.org/eby/stp/d/30-year-old-married-for/6365327140.html',\n",
       "   'dc_type': u'text',\n",
       "   'id': u'https://sfbay.craigslist.org/eby/stp/d/30-year-old-married-for/6365327140.html',\n",
       "   'language': u'en-us',\n",
       "   'link': u'https://sfbay.craigslist.org/eby/stp/d/30-year-old-married-for/6365327140.html',\n",
       "   'links': [{'href': u'https://sfbay.craigslist.org/eby/stp/d/30-year-old-married-for/6365327140.html',\n",
       "     'rel': u'alternate',\n",
       "     'type': u'text/html'}],\n",
       "   'published': u'2017-10-29T00:45:15-07:00',\n",
       "   'published_parsed': time.struct_time(tm_year=2017, tm_mon=10, tm_mday=29, tm_hour=7, tm_min=45, tm_sec=15, tm_wday=6, tm_yday=302, tm_isdst=0),\n",
       "   'rights': u'copyright 2017 craiglist',\n",
       "   'rights_detail': {'base': u'https://sfbay.craigslist.org/search/stp?format=rss',\n",
       "    'language': None,\n",
       "    'type': u'text/plain',\n",
       "    'value': u'copyright 2017 craiglist'},\n",
       "   'summary': u'Im a masculine married guy that likes sports and 420. But want a smooth/ fem bud to hang with whenever. Trying to be super low key and DL for sure . Local is best but im open to hearing from anyhody, send pics if you like Lets start a convo and plan  ...',\n",
       "   'summary_detail': {'base': u'https://sfbay.craigslist.org/search/stp?format=rss',\n",
       "    'language': None,\n",
       "    'type': u'text/html',\n",
       "    'value': u'Im a masculine married guy that likes sports and 420. But want a smooth/ fem bud to hang with whenever. Trying to be super low key and DL for sure . Local is best but im open to hearing from anyhody, send pics if you like Lets start a convo and plan  ...'},\n",
       "   'title': u'30 year old married for a secret bud that I can sneak around with - m4m (hayward / castro valley)',\n",
       "   'title_detail': {'base': u'https://sfbay.craigslist.org/search/stp?format=rss',\n",
       "    'language': None,\n",
       "    'type': u'text/plain',\n",
       "    'value': u'30 year old married for a secret bud that I can sneak around with - m4m (hayward / castro valley)'},\n",
       "   'updated': u'2017-10-29T00:45:15-07:00',\n",
       "   'updated_parsed': time.struct_time(tm_year=2017, tm_mon=10, tm_mday=29, tm_hour=7, tm_min=45, tm_sec=15, tm_wday=6, tm_yday=302, tm_isdst=0)},\n",
       "  {'dc_source': u'https://sfbay.craigslist.org/eby/stp/d/indian-lady-working-close-by/6347604786.html',\n",
       "   'dc_type': u'text',\n",
       "   'id': u'https://sfbay.craigslist.org/eby/stp/d/indian-lady-working-close-by/6347604786.html',\n",
       "   'language': u'en-us',\n",
       "   'link': u'https://sfbay.craigslist.org/eby/stp/d/indian-lady-working-close-by/6347604786.html',\n",
       "   'links': [{'href': u'https://sfbay.craigslist.org/eby/stp/d/indian-lady-working-close-by/6347604786.html',\n",
       "     'rel': u'alternate',\n",
       "     'type': u'text/html'}],\n",
       "   'published': u'2017-10-29T00:43:06-07:00',\n",
       "   'published_parsed': time.struct_time(tm_year=2017, tm_mon=10, tm_mday=29, tm_hour=7, tm_min=43, tm_sec=6, tm_wday=6, tm_yday=302, tm_isdst=0),\n",
       "   'rights': u'copyright 2017 craiglist',\n",
       "   'rights_detail': {'base': u'https://sfbay.craigslist.org/search/stp?format=rss',\n",
       "    'language': None,\n",
       "    'type': u'text/plain',\n",
       "    'value': u'copyright 2017 craiglist'},\n",
       "   'summary': u'I am friendly indian male who recently joined a job on Market Street at SF downtown. \\nI was wondering if there is any Indian lady who takes BART to SF downtown from Fremont or Union city between 8.15 AM to 8.45 AM in the morning. It would be nice to  ...',\n",
       "   'summary_detail': {'base': u'https://sfbay.craigslist.org/search/stp?format=rss',\n",
       "    'language': None,\n",
       "    'type': u'text/html',\n",
       "    'value': u'I am friendly indian male who recently joined a job on Market Street at SF downtown. \\nI was wondering if there is any Indian lady who takes BART to SF downtown from Fremont or Union city between 8.15 AM to 8.45 AM in the morning. It would be nice to  ...'},\n",
       "   'title': u'Indian lady working close by Embarcadero/Montgomery? Take BART? - m4w (fremont / union city / newark)',\n",
       "   'title_detail': {'base': u'https://sfbay.craigslist.org/search/stp?format=rss',\n",
       "    'language': None,\n",
       "    'type': u'text/plain',\n",
       "    'value': u'Indian lady working close by Embarcadero/Montgomery? Take BART? - m4w (fremont / union city / newark)'},\n",
       "   'updated': u'2017-10-29T00:43:06-07:00',\n",
       "   'updated_parsed': time.struct_time(tm_year=2017, tm_mon=10, tm_mday=29, tm_hour=7, tm_min=43, tm_sec=6, tm_wday=6, tm_yday=302, tm_isdst=0)},\n",
       "  {'dc_source': u'https://sfbay.craigslist.org/sfc/stp/d/whats-boy-like-me-doing-in/6365336036.html',\n",
       "   'dc_type': u'text',\n",
       "   'id': u'https://sfbay.craigslist.org/sfc/stp/d/whats-boy-like-me-doing-in/6365336036.html',\n",
       "   'language': u'en-us',\n",
       "   'link': u'https://sfbay.craigslist.org/sfc/stp/d/whats-boy-like-me-doing-in/6365336036.html',\n",
       "   'links': [{'href': u'https://sfbay.craigslist.org/sfc/stp/d/whats-boy-like-me-doing-in/6365336036.html',\n",
       "     'rel': u'alternate',\n",
       "     'type': u'text/html'}],\n",
       "   'published': u'2017-10-29T00:43:01-07:00',\n",
       "   'published_parsed': time.struct_time(tm_year=2017, tm_mon=10, tm_mday=29, tm_hour=7, tm_min=43, tm_sec=1, tm_wday=6, tm_yday=302, tm_isdst=0),\n",
       "   'rights': u'copyright 2017 craiglist',\n",
       "   'rights_detail': {'base': u'https://sfbay.craigslist.org/search/stp?format=rss',\n",
       "    'language': None,\n",
       "    'type': u'text/plain',\n",
       "    'value': u'copyright 2017 craiglist'},\n",
       "   'summary': u\"What am I doing on Craigslist? That seems to be the question everyone asks each other at some point. \\nWell I'm a bit lonely and started working in The City recently. I haven't gotten to know anyone yet. I'd just like a friend to meet up with once in  ...\",\n",
       "   'summary_detail': {'base': u'https://sfbay.craigslist.org/search/stp?format=rss',\n",
       "    'language': None,\n",
       "    'type': u'text/html',\n",
       "    'value': u\"What am I doing on Craigslist? That seems to be the question everyone asks each other at some point. \\nWell I'm a bit lonely and started working in The City recently. I haven't gotten to know anyone yet. I'd just like a friend to meet up with once in  ...\"},\n",
       "   'title': u\"What's a Boy Like Me Doing in a Place Like This? - m4w (financial district)\",\n",
       "   'title_detail': {'base': u'https://sfbay.craigslist.org/search/stp?format=rss',\n",
       "    'language': None,\n",
       "    'type': u'text/plain',\n",
       "    'value': u\"What's a Boy Like Me Doing in a Place Like This? - m4w (financial district)\"},\n",
       "   'updated': u'2017-10-29T00:43:01-07:00',\n",
       "   'updated_parsed': time.struct_time(tm_year=2017, tm_mon=10, tm_mday=29, tm_hour=7, tm_min=43, tm_sec=1, tm_wday=6, tm_yday=302, tm_isdst=0)},\n",
       "  {'dc_source': u'https://sfbay.craigslist.org/eby/stp/d/any-desi-woman-uses-skype-kik/6358515355.html',\n",
       "   'dc_type': u'text',\n",
       "   'id': u'https://sfbay.craigslist.org/eby/stp/d/any-desi-woman-uses-skype-kik/6358515355.html',\n",
       "   'language': u'en-us',\n",
       "   'link': u'https://sfbay.craigslist.org/eby/stp/d/any-desi-woman-uses-skype-kik/6358515355.html',\n",
       "   'links': [{'href': u'https://sfbay.craigslist.org/eby/stp/d/any-desi-woman-uses-skype-kik/6358515355.html',\n",
       "     'rel': u'alternate',\n",
       "     'type': u'text/html'}],\n",
       "   'published': u'2017-10-29T00:42:57-07:00',\n",
       "   'published_parsed': time.struct_time(tm_year=2017, tm_mon=10, tm_mday=29, tm_hour=7, tm_min=42, tm_sec=57, tm_wday=6, tm_yday=302, tm_isdst=0),\n",
       "   'rights': u'copyright 2017 craiglist',\n",
       "   'rights_detail': {'base': u'https://sfbay.craigslist.org/search/stp?format=rss',\n",
       "    'language': None,\n",
       "    'type': u'text/plain',\n",
       "    'value': u'copyright 2017 craiglist'},\n",
       "   'summary': u'I am an friendly Indian male looking to chat or talk to an indian lady who uses kik, Skype or hangouts. It would be nice to have someone to chat with about our day to day lives and movies, music, intimate things and in the process make a good friend. ...',\n",
       "   'summary_detail': {'base': u'https://sfbay.craigslist.org/search/stp?format=rss',\n",
       "    'language': None,\n",
       "    'type': u'text/html',\n",
       "    'value': u'I am an friendly Indian male looking to chat or talk to an indian lady who uses kik, Skype or hangouts. It would be nice to have someone to chat with about our day to day lives and movies, music, intimate things and in the process make a good friend. ...'},\n",
       "   'title': u'Any Desi woman uses skype kik or Hangouts? - m4w (fremont / union city / newark)',\n",
       "   'title_detail': {'base': u'https://sfbay.craigslist.org/search/stp?format=rss',\n",
       "    'language': None,\n",
       "    'type': u'text/plain',\n",
       "    'value': u'Any Desi woman uses skype kik or Hangouts? - m4w (fremont / union city / newark)'},\n",
       "   'updated': u'2017-10-29T00:42:57-07:00',\n",
       "   'updated_parsed': time.struct_time(tm_year=2017, tm_mon=10, tm_mday=29, tm_hour=7, tm_min=42, tm_sec=57, tm_wday=6, tm_yday=302, tm_isdst=0)},\n",
       "  {'dc_source': u'https://sfbay.craigslist.org/eby/stp/d/working-indian-female-in/6335991780.html',\n",
       "   'dc_type': u'text',\n",
       "   'id': u'https://sfbay.craigslist.org/eby/stp/d/working-indian-female-in/6335991780.html',\n",
       "   'language': u'en-us',\n",
       "   'link': u'https://sfbay.craigslist.org/eby/stp/d/working-indian-female-in/6335991780.html',\n",
       "   'links': [{'href': u'https://sfbay.craigslist.org/eby/stp/d/working-indian-female-in/6335991780.html',\n",
       "     'rel': u'alternate',\n",
       "     'type': u'text/html'}],\n",
       "   'published': u'2017-10-29T00:42:53-07:00',\n",
       "   'published_parsed': time.struct_time(tm_year=2017, tm_mon=10, tm_mday=29, tm_hour=7, tm_min=42, tm_sec=53, tm_wday=6, tm_yday=302, tm_isdst=0),\n",
       "   'rights': u'copyright 2017 craiglist',\n",
       "   'rights_detail': {'base': u'https://sfbay.craigslist.org/search/stp?format=rss',\n",
       "    'language': None,\n",
       "    'type': u'text/plain',\n",
       "    'value': u'copyright 2017 craiglist'},\n",
       "   'summary': u\"It's common feeling among men and women that sometimes we need a friend or a companion to talk about our daily activities and work and need a special friend to talk those secret things that we cannot talk with husband/wife or even with closest boyfri ...\",\n",
       "   'summary_detail': {'base': u'https://sfbay.craigslist.org/search/stp?format=rss',\n",
       "    'language': None,\n",
       "    'type': u'text/html',\n",
       "    'value': u\"It's common feeling among men and women that sometimes we need a friend or a companion to talk about our daily activities and work and need a special friend to talk those secret things that we cannot talk with husband/wife or even with closest boyfri ...\"},\n",
       "   'title': u'Working Indian female in Bayarea who needs special companion or friend - m4w (danville / san ramon)',\n",
       "   'title_detail': {'base': u'https://sfbay.craigslist.org/search/stp?format=rss',\n",
       "    'language': None,\n",
       "    'type': u'text/plain',\n",
       "    'value': u'Working Indian female in Bayarea who needs special companion or friend - m4w (danville / san ramon)'},\n",
       "   'updated': u'2017-10-29T00:42:53-07:00',\n",
       "   'updated_parsed': time.struct_time(tm_year=2017, tm_mon=10, tm_mday=29, tm_hour=7, tm_min=42, tm_sec=53, tm_wday=6, tm_yday=302, tm_isdst=0)},\n",
       "  {'dc_source': u'https://sfbay.craigslist.org/eby/stp/d/indian-lady-on-dependent-visa/6342426681.html',\n",
       "   'dc_type': u'text',\n",
       "   'id': u'https://sfbay.craigslist.org/eby/stp/d/indian-lady-on-dependent-visa/6342426681.html',\n",
       "   'language': u'en-us',\n",
       "   'link': u'https://sfbay.craigslist.org/eby/stp/d/indian-lady-on-dependent-visa/6342426681.html',\n",
       "   'links': [{'href': u'https://sfbay.craigslist.org/eby/stp/d/indian-lady-on-dependent-visa/6342426681.html',\n",
       "     'rel': u'alternate',\n",
       "     'type': u'text/html'}],\n",
       "   'published': u'2017-10-29T00:41:27-07:00',\n",
       "   'published_parsed': time.struct_time(tm_year=2017, tm_mon=10, tm_mday=29, tm_hour=7, tm_min=41, tm_sec=27, tm_wday=6, tm_yday=302, tm_isdst=0),\n",
       "   'rights': u'copyright 2017 craiglist',\n",
       "   'rights_detail': {'base': u'https://sfbay.craigslist.org/search/stp?format=rss',\n",
       "    'language': None,\n",
       "    'type': u'text/plain',\n",
       "    'value': u'copyright 2017 craiglist'},\n",
       "   'summary': u'I am indian male ooking for an Indian female who is in the Bay area on dependent visa and who is bored and lonely at home. Would you like to have a discreet friend with whom you can talk about anything without being judged? Maybe you have nothing to  ...',\n",
       "   'summary_detail': {'base': u'https://sfbay.craigslist.org/search/stp?format=rss',\n",
       "    'language': None,\n",
       "    'type': u'text/html',\n",
       "    'value': u'I am indian male ooking for an Indian female who is in the Bay area on dependent visa and who is bored and lonely at home. Would you like to have a discreet friend with whom you can talk about anything without being judged? Maybe you have nothing to  ...'},\n",
       "   'title': u'Indian lady on dependent visa who want a friend? - - m4w (fremont / union city / newark)',\n",
       "   'title_detail': {'base': u'https://sfbay.craigslist.org/search/stp?format=rss',\n",
       "    'language': None,\n",
       "    'type': u'text/plain',\n",
       "    'value': u'Indian lady on dependent visa who want a friend? - - m4w (fremont / union city / newark)'},\n",
       "   'updated': u'2017-10-29T00:41:27-07:00',\n",
       "   'updated_parsed': time.struct_time(tm_year=2017, tm_mon=10, tm_mday=29, tm_hour=7, tm_min=41, tm_sec=27, tm_wday=6, tm_yday=302, tm_isdst=0)},\n",
       "  {'dc_source': u'https://sfbay.craigslist.org/eby/stp/d/are-you-separated-or-divorced/6335991646.html',\n",
       "   'dc_type': u'text',\n",
       "   'id': u'https://sfbay.craigslist.org/eby/stp/d/are-you-separated-or-divorced/6335991646.html',\n",
       "   'language': u'en-us',\n",
       "   'link': u'https://sfbay.craigslist.org/eby/stp/d/are-you-separated-or-divorced/6335991646.html',\n",
       "   'links': [{'href': u'https://sfbay.craigslist.org/eby/stp/d/are-you-separated-or-divorced/6335991646.html',\n",
       "     'rel': u'alternate',\n",
       "     'type': u'text/html'}],\n",
       "   'published': u'2017-10-29T00:41:20-07:00',\n",
       "   'published_parsed': time.struct_time(tm_year=2017, tm_mon=10, tm_mday=29, tm_hour=7, tm_min=41, tm_sec=20, tm_wday=6, tm_yday=302, tm_isdst=0),\n",
       "   'rights': u'copyright 2017 craiglist',\n",
       "   'rights_detail': {'base': u'https://sfbay.craigslist.org/search/stp?format=rss',\n",
       "    'language': None,\n",
       "    'type': u'text/plain',\n",
       "    'value': u'copyright 2017 craiglist'},\n",
       "   'summary': u'I am here on craigslist looking for separated/divorced indian female. I am separated indian male and i wanted to get in touch with a Desi woman in the same situation. \\nThe reason i am looking for an indian female is we both can relate to each other a ...',\n",
       "   'summary_detail': {'base': u'https://sfbay.craigslist.org/search/stp?format=rss',\n",
       "    'language': None,\n",
       "    'type': u'text/html',\n",
       "    'value': u'I am here on craigslist looking for separated/divorced indian female. I am separated indian male and i wanted to get in touch with a Desi woman in the same situation. \\nThe reason i am looking for an indian female is we both can relate to each other a ...'},\n",
       "   'title': u'Are you separated or divorced indian female in bay area? - m4w (fremont / union city / newark)',\n",
       "   'title_detail': {'base': u'https://sfbay.craigslist.org/search/stp?format=rss',\n",
       "    'language': None,\n",
       "    'type': u'text/plain',\n",
       "    'value': u'Are you separated or divorced indian female in bay area? - m4w (fremont / union city / newark)'},\n",
       "   'updated': u'2017-10-29T00:41:20-07:00',\n",
       "   'updated_parsed': time.struct_time(tm_year=2017, tm_mon=10, tm_mday=29, tm_hour=7, tm_min=41, tm_sec=20, tm_wday=6, tm_yday=302, tm_isdst=0)}],\n",
       " 'feed': {'author': u'robot@craigslist.org',\n",
       "  'author_detail': {'email': u'robot@craigslist.org'},\n",
       "  'authors': [{'email': u'robot@craigslist.org'}],\n",
       "  'dc_source': u'https://sfbay.craigslist.org/search/stp?format=rss',\n",
       "  'dc_type': u'Collection',\n",
       "  'entries': u'',\n",
       "  'language': u'en-us',\n",
       "  'link': u'https://sfbay.craigslist.org/search/stp',\n",
       "  'links': [{'href': u'https://sfbay.craigslist.org/search/stp',\n",
       "    'rel': u'alternate',\n",
       "    'type': u'text/html'}],\n",
       "  'publisher': u'robot@craigslist.org',\n",
       "  'publisher_detail': {'email': u'robot@craigslist.org'},\n",
       "  'rdf_li': {'rdf:resource': u'https://sfbay.craigslist.org/eby/stp/d/are-you-separated-or-divorced/6335991646.html'},\n",
       "  'rdf_seq': u'',\n",
       "  'rights': u'copyright 2017 craiglist',\n",
       "  'rights_detail': {'base': u'https://sfbay.craigslist.org/search/stp?format=rss',\n",
       "   'language': None,\n",
       "   'type': u'text/plain',\n",
       "   'value': u'copyright 2017 craiglist'},\n",
       "  'subtitle': u'',\n",
       "  'subtitle_detail': {'base': u'https://sfbay.craigslist.org/search/stp?format=rss',\n",
       "   'language': None,\n",
       "   'type': u'text/html',\n",
       "   'value': u''},\n",
       "  'sy_updatebase': u'2017-10-29T08:29:50-07:00',\n",
       "  'sy_updatefrequency': u'6',\n",
       "  'sy_updateperiod': u'hourly',\n",
       "  'title': u'craigslist SF bay area | strictly platonic search',\n",
       "  'title_detail': {'base': u'https://sfbay.craigslist.org/search/stp?format=rss',\n",
       "   'language': None,\n",
       "   'type': u'text/plain',\n",
       "   'value': u'craigslist SF bay area | strictly platonic search'}},\n",
       " 'headers': {'cache-control': 'max-age=900, public',\n",
       "  'content-encoding': 'gzip',\n",
       "  'content-length': '5718',\n",
       "  'content-type': 'application/rss+xml; charset=utf-8',\n",
       "  'date': 'Sun, 29 Oct 2017 15:29:50 GMT',\n",
       "  'expires': 'Sun, 29 Oct 2017 15:44:50 GMT',\n",
       "  'last-modified': 'Sun, 29 Oct 2017 15:29:50 GMT',\n",
       "  'server': 'Apache',\n",
       "  'strict-transport-security': 'max-age=86400',\n",
       "  'vary': 'Accept-Encoding',\n",
       "  'x-frame-options': 'SAMEORIGIN'},\n",
       " 'href': u'https://sfbay.craigslist.org/search/stp?format=rss',\n",
       " 'namespaces': {'': u'http://purl.org/rss/1.0/',\n",
       "  'admin': u'http://webns.net/mvcb/',\n",
       "  'content': u'http://purl.org/rss/1.0/modules/content/',\n",
       "  'dc': u'http://purl.org/dc/elements/1.1/',\n",
       "  'dcterms': u'http://purl.org/dc/terms/',\n",
       "  u'enc': u'http://purl.oclc.org/net/rss_2.0/enc#',\n",
       "  'ev': u'http://purl.org/rss/1.0/modules/event/',\n",
       "  'rdf': u'http://www.w3.org/1999/02/22-rdf-syntax-ns#',\n",
       "  'sy': u'http://purl.org/rss/1.0/modules/syndication/',\n",
       "  'taxo': u'http://purl.org/rss/1.0/modules/taxonomy/'},\n",
       " 'status': 301,\n",
       " 'updated': 'Sun, 29 Oct 2017 15:29:50 GMT',\n",
       " 'updated_parsed': time.struct_time(tm_year=2017, tm_mon=10, tm_mday=29, tm_hour=15, tm_min=29, tm_sec=50, tm_wday=6, tm_yday=302, tm_isdst=0),\n",
       " 'version': u'rss10'}"
      ]
     },
     "metadata": {},
     "output_type": "display_data"
    }
   ],
   "source": [
    "'''\n",
    "使用朴素贝叶斯分类器从个人广告中获取区域倾向\n",
    "'''\n",
    "import feedparser\n",
    "ny = feedparser.parse(\"http://newyork.craigslist.org/stp/index.rss\")\n",
    "sf = feedparser.parse(\"http://sfbay.craigslist.org/stp/index.rss\")\n",
    "display(np)\n",
    "display(sf)\n",
    "'''\n",
    "计算词频\n",
    "'''\n",
    "def calcMostFreq(vocabList,fullText):\n",
    "    import operator\n",
    "    freqDict = {}\n",
    "    for token in vocabList:\n",
    "        freqDict[token]=fullText.count(token)\n",
    "    sortedFreq = sorted(freqDict.iteritems(), key=operator.itemgetter(1), reverse=True) \n",
    "    return sortedFreq[:30]       \n",
    "\n",
    "def localWords(feed1,feed0):\n",
    "    import feedparser\n",
    "    docList=[]; classList = []; fullText =[]\n",
    "    minLen = min(len(feed1['entries']),len(feed0['entries']))\n",
    "    for i in range(minLen):\n",
    "        wordList = textParse(feed1['entries'][i]['summary'])\n",
    "        docList.append(wordList)\n",
    "        fullText.extend(wordList)\n",
    "        classList.append(1) #NY is class 1\n",
    "        wordList = textParse(feed0['entries'][i]['summary'])\n",
    "        docList.append(wordList)\n",
    "        fullText.extend(wordList)\n",
    "        classList.append(0)\n",
    "    vocabList = createVocabList(docList)#create vocabulary\n",
    "    top30Words = calcMostFreq(vocabList,fullText)   #remove top 30 words\n",
    "    for pairW in top30Words:\n",
    "        if pairW[0] in vocabList: vocabList.remove(pairW[0])\n",
    "    trainingSet = range(2*minLen); testSet=[]           #create test set\n",
    "    for i in range(20):\n",
    "        randIndex = int(np.random.uniform(0,len(trainingSet)))\n",
    "        testSet.append(trainingSet[randIndex])\n",
    "        del(trainingSet[randIndex])  \n",
    "    trainMat=[]; trainClasses = []\n",
    "    for docIndex in trainingSet:#train the classifier (get probs) trainNB0\n",
    "        trainMat.append(bagOfWords2VecMN(vocabList, docList[docIndex]))\n",
    "        trainClasses.append(classList[docIndex])\n",
    "    p0V,p1V,pSpam = trainNB(np.array(trainMat),np.array(trainClasses))\n",
    "    errorCount = 0\n",
    "    for docIndex in testSet:        #classify the remaining items\n",
    "        wordVector = bagOfWords2VecMN(vocabList, docList[docIndex])\n",
    "        if classifyNB(np.array(wordVector),p0V,p1V,pSpam) != classList[docIndex]:\n",
    "            errorCount += 1\n",
    "    print 'the error rate is: ',float(errorCount)/len(testSet)\n",
    "    return vocabList,p0V,p1V\n",
    "\n",
    "def getTopWords(ny,sf):\n",
    "    import operator\n",
    "    vocabList,p0V,p1V=localWords(ny,sf)\n",
    "    topNY=[]; topSF=[]\n",
    "    for i in range(len(p0V)):\n",
    "        if p0V[i] > -6.0 : topSF.append((vocabList[i],p0V[i]))\n",
    "        if p1V[i] > -6.0 : topNY.append((vocabList[i],p1V[i]))\n",
    "    sortedSF = sorted(topSF, key=lambda pair: pair[1], reverse=True)\n",
    "    print \"SF**SF**SF**SF**SF**SF**SF**SF**SF**SF**SF**SF**SF**SF**SF**SF**\"\n",
    "    for item in sortedSF:\n",
    "        print item[0]\n",
    "    sortedNY = sorted(topNY, key=lambda pair: pair[1], reverse=True)\n",
    "    print \"NY**NY**NY**NY**NY**NY**NY**NY**NY**NY**NY**NY**NY**NY**NY**NY**\"\n",
    "    for item in sortedNY:\n",
    "        print item[0]"
   ]
  },
  {
   "cell_type": "code",
   "execution_count": 38,
   "metadata": {},
   "outputs": [
    {
     "name": "stdout",
     "output_type": "stream",
     "text": [
      "the error rate is:  0.15\n"
     ]
    },
    {
     "data": {
      "text/plain": [
       "([u'all',\n",
       "  u'people',\n",
       "  u'hanging',\n",
       "  u'situati',\n",
       "  u'apartment',\n",
       "  u'young',\n",
       "  u'send',\n",
       "  u'masculine',\n",
       "  u'friendly',\n",
       "  u'activities',\n",
       "  u'very',\n",
       "  u'fat',\n",
       "  u'minded',\n",
       "  u'cool',\n",
       "  u'skills',\n",
       "  u'joined',\n",
       "  u'sane',\n",
       "  u'enjoy',\n",
       "  u'lecturing',\n",
       "  u'sigh',\n",
       "  u'boots',\n",
       "  u'street',\n",
       "  u'casual',\n",
       "  u'depression',\n",
       "  u'drinks',\n",
       "  u'39yo',\n",
       "  u'what',\n",
       "  u'giving',\n",
       "  u'section',\n",
       "  u'current',\n",
       "  u'new',\n",
       "  u'body',\n",
       "  u'outgoing',\n",
       "  u'desires',\n",
       "  u'never',\n",
       "  u'here',\n",
       "  u'hours',\n",
       "  u'explore',\n",
       "  u'others',\n",
       "  u'active',\n",
       "  u'sexy',\n",
       "  u'100',\n",
       "  u'beca',\n",
       "  u'change',\n",
       "  u'fantasies',\n",
       "  u'great',\n",
       "  u'healthy',\n",
       "  u'fwb',\n",
       "  u'pics',\n",
       "  u'adjectives',\n",
       "  u'weekday',\n",
       "  u'smoke',\n",
       "  u'social',\n",
       "  u'usually',\n",
       "  u'makes',\n",
       "  u'massage',\n",
       "  u'thats',\n",
       "  u'love',\n",
       "  u'manage',\n",
       "  u'pantyhose',\n",
       "  u'from',\n",
       "  u'takes',\n",
       "  u'fem',\n",
       "  u'sports',\n",
       "  u'cherished',\n",
       "  u'music',\n",
       "  u'wondering',\n",
       "  u'oils',\n",
       "  u'type',\n",
       "  u'tell',\n",
       "  u'today',\n",
       "  u'more',\n",
       "  u'sort',\n",
       "  u'knows',\n",
       "  u'relax',\n",
       "  u'started',\n",
       "  u'share',\n",
       "  u'company',\n",
       "  u'downtown',\n",
       "  u'phone',\n",
       "  u'adult',\n",
       "  u'excellent',\n",
       "  u'women',\n",
       "  u'valued',\n",
       "  u'join',\n",
       "  u'divorced',\n",
       "  u'work',\n",
       "  u'movies',\n",
       "  u'cuddle',\n",
       "  u'can',\n",
       "  u'meet',\n",
       "  u'male',\n",
       "  u'streak',\n",
       "  u'corrupted',\n",
       "  u'give',\n",
       "  u'process',\n",
       "  u'december',\n",
       "  u'slim',\n",
       "  u'laughs',\n",
       "  u'stroke',\n",
       "  u'breathing',\n",
       "  u'something',\n",
       "  u'want',\n",
       "  u'sense',\n",
       "  u'keep',\n",
       "  u'preferably',\n",
       "  u'needs',\n",
       "  u'lame',\n",
       "  u'six',\n",
       "  u'till',\n",
       "  u'hot',\n",
       "  u'intelligent',\n",
       "  u'laundry',\n",
       "  u'140',\n",
       "  u'may',\n",
       "  u'advice',\n",
       "  u'lay',\n",
       "  u'ethnic',\n",
       "  u'gasp',\n",
       "  u'guys',\n",
       "  u'man',\n",
       "  u'whenever',\n",
       "  u'cannot',\n",
       "  u'boyfri',\n",
       "  u'comfort',\n",
       "  u'office',\n",
       "  u'over',\n",
       "  u'mainly',\n",
       "  u'years',\n",
       "  u'course',\n",
       "  u'through',\n",
       "  u'looks',\n",
       "  u'hell',\n",
       "  u'still',\n",
       "  u'its',\n",
       "  u'before',\n",
       "  u'perfect',\n",
       "  u'pens',\n",
       "  u'thank',\n",
       "  u'fit',\n",
       "  u'interesting',\n",
       "  u'late',\n",
       "  u'willing',\n",
       "  u'edging',\n",
       "  u'then',\n",
       "  u'coffee',\n",
       "  u'evening',\n",
       "  u'motivated',\n",
       "  u'seeking',\n",
       "  u'moms',\n",
       "  u'workout',\n",
       "  u'bashful',\n",
       "  u'lunch',\n",
       "  u'anyhody',\n",
       "  u'they',\n",
       "  u'front',\n",
       "  u'nov',\n",
       "  u'hearing',\n",
       "  u'day',\n",
       "  u'term',\n",
       "  u'servant',\n",
       "  u'ooking',\n",
       "  u'40s',\n",
       "  u'each',\n",
       "  u'mean',\n",
       "  u'unwind',\n",
       "  u'everyone',\n",
       "  u'primarily',\n",
       "  u'weight',\n",
       "  u'doing',\n",
       "  u'hard',\n",
       "  u'year',\n",
       "  u'our',\n",
       "  u'girl',\n",
       "  u'bay',\n",
       "  u'special',\n",
       "  u'really',\n",
       "  u'acting',\n",
       "  u'hsv2',\n",
       "  u'hangouts',\n",
       "  u'got',\n",
       "  u'shows',\n",
       "  u'ass',\n",
       "  u'intersex',\n",
       "  u'cart',\n",
       "  u'quite',\n",
       "  u'reason',\n",
       "  u'imagine',\n",
       "  u'ask',\n",
       "  u'wanted',\n",
       "  u'care',\n",
       "  u'training',\n",
       "  u'grad',\n",
       "  u'days',\n",
       "  u'desi',\n",
       "  u'times',\n",
       "  u'conversation',\n",
       "  u'place',\n",
       "  u'isn',\n",
       "  u'think',\n",
       "  u'platonic',\n",
       "  u'feel',\n",
       "  u'relate',\n",
       "  u'scene',\n",
       "  u'yourself',\n",
       "  u'feet',\n",
       "  u'hook',\n",
       "  u'ons',\n",
       "  u'open',\n",
       "  u'city',\n",
       "  u'jet',\n",
       "  u'script',\n",
       "  u'bite',\n",
       "  u'girls',\n",
       "  u'least',\n",
       "  u'anyone',\n",
       "  u'too',\n",
       "  u'white',\n",
       "  u'listen',\n",
       "  u'exploring',\n",
       "  u'eyes',\n",
       "  u'lot',\n",
       "  u'relationship',\n",
       "  u'park',\n",
       "  u'took',\n",
       "  u'part',\n",
       "  u'intereste',\n",
       "  u'than',\n",
       "  u'anxiety',\n",
       "  u'gotten',\n",
       "  u'impersonal',\n",
       "  u'matter',\n",
       "  u'iron',\n",
       "  u'feeling',\n",
       "  u'20s',\n",
       "  u'phobia',\n",
       "  u'say',\n",
       "  u'buy',\n",
       "  u'need',\n",
       "  u'nights',\n",
       "  u'dishes',\n",
       "  u'self',\n",
       "  u'responsible',\n",
       "  u'able',\n",
       "  u'ideas',\n",
       "  u'note',\n",
       "  u'also',\n",
       "  u'without',\n",
       "  u'build',\n",
       "  u'which',\n",
       "  u'finding',\n",
       "  u'wanting',\n",
       "  u'latino',\n",
       "  u'blue',\n",
       "  u'play',\n",
       "  u'sure',\n",
       "  u'though',\n",
       "  u'brooklyn',\n",
       "  u'regular',\n",
       "  u'experiences',\n",
       "  u'plan',\n",
       "  u'tall',\n",
       "  u'nothing',\n",
       "  u'why',\n",
       "  u'queens',\n",
       "  u'understands',\n",
       "  u'don',\n",
       "  u'medical',\n",
       "  u'later',\n",
       "  u'definitely',\n",
       "  u'clean',\n",
       "  u'stockings',\n",
       "  u'senior',\n",
       "  u'came',\n",
       "  u'golf',\n",
       "  u'somewhat',\n",
       "  u'text',\n",
       "  u'grandmas',\n",
       "  u'earth',\n",
       "  u'tempted',\n",
       "  u'fine',\n",
       "  u'find',\n",
       "  u'one',\n",
       "  u'partners',\n",
       "  u'busy',\n",
       "  u'reliant',\n",
       "  u'haven',\n",
       "  u'going',\n",
       "  u'black',\n",
       "  u'judged',\n",
       "  u'pretty',\n",
       "  u'local',\n",
       "  u'personality',\n",
       "  u'hit',\n",
       "  u'get',\n",
       "  u'dependent',\n",
       "  u'assistant',\n",
       "  u'between',\n",
       "  u'coast',\n",
       "  u'listener',\n",
       "  u'caregiving',\n",
       "  u'fetish',\n",
       "  u'trade',\n",
       "  u'workouts',\n",
       "  u'bas',\n",
       "  u'married',\n",
       "  u'morning',\n",
       "  u'common',\n",
       "  u'activity',\n",
       "  u'grab',\n",
       "  u'where',\n",
       "  u'16th',\n",
       "  u'husband',\n",
       "  u'bart',\n",
       "  u'attached',\n",
       "  u'see',\n",
       "  u'college',\n",
       "  u'close',\n",
       "  u'11th',\n",
       "  u'best',\n",
       "  u'midtown',\n",
       "  u'movie',\n",
       "  u'currently',\n",
       "  u'please',\n",
       "  u'won',\n",
       "  u'hopefully',\n",
       "  u'encounters',\n",
       "  u'email',\n",
       "  u'available',\n",
       "  u'men',\n",
       "  u'recently',\n",
       "  u'loves',\n",
       "  u'missing',\n",
       "  u'attention',\n",
       "  u'job',\n",
       "  u'spare',\n",
       "  u'wear',\n",
       "  u'key',\n",
       "  u'come',\n",
       "  u'david',\n",
       "  u'both',\n",
       "  u'secrets',\n",
       "  u'etc',\n",
       "  u'connection',\n",
       "  u'load',\n",
       "  u'vent',\n",
       "  u'point',\n",
       "  u'simple',\n",
       "  u'whatever',\n",
       "  u'height',\n",
       "  u'dimensional',\n",
       "  u'alone',\n",
       "  u'hygiene',\n",
       "  u'likes',\n",
       "  u'along',\n",
       "  u'conference',\n",
       "  u'lifes',\n",
       "  u'companionship',\n",
       "  u'asks',\n",
       "  u'basis',\n",
       "  u'union',\n",
       "  u'decent',\n",
       "  u'been',\n",
       "  u'whom',\n",
       "  u'secret',\n",
       "  u'much',\n",
       "  u'combined',\n",
       "  u'confessions',\n",
       "  u'meeting',\n",
       "  u'wants',\n",
       "  u'life',\n",
       "  u'educated',\n",
       "  u'gay',\n",
       "  u'togethers',\n",
       "  u'reimburse',\n",
       "  u'exposed',\n",
       "  u'comfor',\n",
       "  u'else',\n",
       "  u'lives',\n",
       "  u'catch',\n",
       "  u'convo',\n",
       "  u'thing',\n",
       "  u'those',\n",
       "  u'honest',\n",
       "  u'myself',\n",
       "  u'east',\n",
       "  u'look',\n",
       "  u'these',\n",
       "  u'might',\n",
       "  u'straight',\n",
       "  u'harder',\n",
       "  u'will',\n",
       "  u'while',\n",
       "  u'neat',\n",
       "  u'fun',\n",
       "  u'situation',\n",
       "  u'nonstudent',\n",
       "  u'wouldn',\n",
       "  u'sincere',\n",
       "  u'them',\n",
       "  u'conditioned',\n",
       "  u'skype',\n",
       "  u'looki',\n",
       "  u'everyday',\n",
       "  u'shirt',\n",
       "  u'things',\n",
       "  u'make',\n",
       "  u'same',\n",
       "  u'craigslist',\n",
       "  u'grand',\n",
       "  u'european',\n",
       "  u'week',\n",
       "  u'used',\n",
       "  u'closest',\n",
       "  u'drink',\n",
       "  u'hang',\n",
       "  u'companion',\n",
       "  u'kik',\n",
       "  u'afraid',\n",
       "  u'uses',\n",
       "  u'student',\n",
       "  u'recent',\n",
       "  u'older',\n",
       "  u'well',\n",
       "  u'person',\n",
       "  u'contact',\n",
       "  u'mother',\n",
       "  u'thc',\n",
       "  u'spend',\n",
       "  u'kinship',\n",
       "  u'among',\n",
       "  u'being',\n",
       "  u'mid',\n",
       "  u'shape',\n",
       "  u'identify',\n",
       "  u'thanks',\n",
       "  u'human',\n",
       "  u'touch',\n",
       "  u'yes',\n",
       "  u'yet',\n",
       "  u'vape',\n",
       "  u'cut',\n",
       "  u'ads',\n",
       "  u'thinking',\n",
       "  u'seems',\n",
       "  u'sometimes',\n",
       "  u'lets',\n",
       "  u'other',\n",
       "  u'attractive',\n",
       "  u'easy',\n",
       "  u'snap',\n",
       "  u'has',\n",
       "  u'smart',\n",
       "  u'around',\n",
       "  u'lacking',\n",
       "  u'read',\n",
       "  u'fremont',\n",
       "  u'early',\n",
       "  u'discreet',\n",
       "  u'biz',\n",
       "  u'birth',\n",
       "  u'judge',\n",
       "  u'world',\n",
       "  u'bit',\n",
       "  u'walk',\n",
       "  u'lady',\n",
       "  u'lost',\n",
       "  u'175lb',\n",
       "  u'night',\n",
       "  u'nice',\n",
       "  u'therapeutic',\n",
       "  u'google',\n",
       "  u'old',\n",
       "  u'often',\n",
       "  u'pittsburg',\n",
       "  u'30s',\n",
       "  u'some',\n",
       "  u'searching',\n",
       "  u'hair',\n",
       "  u'born',\n",
       "  u'clubs',\n",
       "  u'home',\n",
       "  u'happens',\n",
       "  u'humor',\n",
       "  u'mood',\n",
       "  u'daytime',\n",
       "  u'conservative',\n",
       "  u'witty',\n",
       "  u'passion',\n",
       "  u'market',\n",
       "  u'420',\n",
       "  u'duh',\n",
       "  u'knew',\n",
       "  u'patient',\n",
       "  u'business',\n",
       "  u'intimate',\n",
       "  u'pressure',\n",
       "  u'host',\n",
       "  u'described',\n",
       "  u'post',\n",
       "  u'super',\n",
       "  u'gained',\n",
       "  u'working',\n",
       "  u'anything',\n",
       "  u'getting',\n",
       "  u'trustworthy',\n",
       "  u'dinner',\n",
       "  u'visa',\n",
       "  u'west',\n",
       "  u'road',\n",
       "  u'raised',\n",
       "  u'presence',\n",
       "  u'into',\n",
       "  u'down',\n",
       "  u'entrepreneur',\n",
       "  u'right',\n",
       "  u'female',\n",
       "  u'empathetic',\n",
       "  u'wailea',\n",
       "  u'her',\n",
       "  u'area',\n",
       "  u'strictly',\n",
       "  u'there',\n",
       "  u'question',\n",
       "  u'live',\n",
       "  u'long',\n",
       "  u'avail',\n",
       "  u'start',\n",
       "  u'lonely',\n",
       "  u'low',\n",
       "  u'way',\n",
       "  u'forward',\n",
       "  u'bored',\n",
       "  u'was',\n",
       "  u'assumes',\n",
       "  u'mornings',\n",
       "  u'motherly',\n",
       "  u'back',\n",
       "  u'feminine',\n",
       "  u'trying',\n",
       "  u'eat',\n",
       "  u'bud',\n",
       "  u'handsome',\n",
       "  u'smooth',\n",
       "  u'mature',\n",
       "  u'even',\n",
       "  u'separated',\n",
       "  u'phil',\n",
       "  u'pic',\n",
       "  u'package',\n",
       "  u'imagination',\n",
       "  u'single',\n",
       "  u'exist',\n",
       "  u'daily',\n",
       "  u'chat',\n",
       "  u'walks',\n",
       "  u'traylor',\n",
       "  u'trip',\n",
       "  u'again',\n",
       "  u'reality',\n",
       "  u'interested',\n",
       "  u'unbalanced',\n",
       "  u'picture',\n",
       "  u'hey',\n",
       "  u'welcome',\n",
       "  u'tbis',\n",
       "  u'stay',\n",
       "  u'caribbean',\n",
       "  u'friends',\n",
       "  u'meals',\n",
       "  u'hwp',\n",
       "  u'cliff',\n",
       "  u'ago',\n",
       "  u'younger',\n",
       "  u'longer',\n",
       "  u'wife',\n",
       "  u'age',\n",
       "  u'together',\n",
       "  u'hello',\n",
       "  u'rough',\n",
       "  u'status',\n",
       "  u'lying',\n",
       "  u'time',\n",
       "  u'intimacy',\n",
       "  u'having',\n",
       "  u'once'],\n",
       " array([-4.93087033, -4.52540522, -5.62401751, -4.93087033, -5.62401751,\n",
       "        -5.62401751, -4.93087033, -4.93087033, -4.93087033, -5.62401751,\n",
       "        -5.62401751, -4.93087033, -5.62401751, -5.62401751, -5.62401751,\n",
       "        -5.62401751, -5.62401751, -5.62401751, -4.93087033, -5.62401751,\n",
       "        -5.62401751, -5.62401751, -5.62401751, -5.62401751, -5.62401751,\n",
       "        -5.62401751, -4.93087033, -4.93087033, -4.93087033, -5.62401751,\n",
       "        -4.23772315, -5.62401751, -5.62401751, -5.62401751, -5.62401751,\n",
       "        -4.93087033, -5.62401751, -5.62401751, -4.52540522, -4.93087033,\n",
       "        -5.62401751, -5.62401751, -4.93087033, -4.93087033, -5.62401751,\n",
       "        -5.62401751, -5.62401751, -4.93087033, -4.93087033, -5.62401751,\n",
       "        -5.62401751, -5.62401751, -4.93087033, -5.62401751, -5.62401751,\n",
       "        -5.62401751, -5.62401751, -4.23772315, -5.62401751, -5.62401751,\n",
       "        -4.01457959, -5.62401751, -4.93087033, -4.93087033, -5.62401751,\n",
       "        -4.93087033, -5.62401751, -5.62401751, -4.93087033, -4.93087033,\n",
       "        -4.93087033, -4.93087033, -4.93087033, -5.62401751, -5.62401751,\n",
       "        -4.93087033, -5.62401751, -5.62401751, -5.62401751, -4.93087033,\n",
       "        -5.62401751, -5.62401751, -5.62401751, -5.62401751, -4.93087033,\n",
       "        -5.62401751, -5.62401751, -4.52540522, -5.62401751, -5.62401751,\n",
       "        -4.52540522, -4.93087033, -5.62401751, -5.62401751, -5.62401751,\n",
       "        -4.93087033, -4.93087033, -5.62401751, -5.62401751, -4.93087033,\n",
       "        -5.62401751, -5.62401751, -4.52540522, -5.62401751, -5.62401751,\n",
       "        -5.62401751, -5.62401751, -5.62401751, -4.93087033, -4.93087033,\n",
       "        -5.62401751, -4.93087033, -5.62401751, -5.62401751, -5.62401751,\n",
       "        -5.62401751, -5.62401751, -4.93087033, -5.62401751, -4.93087033,\n",
       "        -5.62401751, -4.93087033, -5.62401751, -5.62401751, -5.62401751,\n",
       "        -4.93087033, -4.93087033, -4.93087033, -5.62401751, -5.62401751,\n",
       "        -4.93087033, -5.62401751, -5.62401751, -5.62401751, -5.62401751,\n",
       "        -5.62401751, -5.62401751, -5.62401751, -5.62401751, -5.62401751,\n",
       "        -4.93087033, -5.62401751, -5.62401751, -4.93087033, -5.62401751,\n",
       "        -4.93087033, -4.93087033, -5.62401751, -5.62401751, -5.62401751,\n",
       "        -4.93087033, -5.62401751, -4.93087033, -4.93087033, -5.62401751,\n",
       "        -5.62401751, -4.93087033, -4.93087033, -4.52540522, -4.93087033,\n",
       "        -5.62401751, -5.62401751, -5.62401751, -4.93087033, -5.62401751,\n",
       "        -5.62401751, -4.93087033, -4.93087033, -5.62401751, -4.93087033,\n",
       "        -5.62401751, -5.62401751, -4.93087033, -5.62401751, -5.62401751,\n",
       "        -5.62401751, -5.62401751, -5.62401751, -5.62401751, -4.93087033,\n",
       "        -5.62401751, -5.62401751, -5.62401751, -5.62401751, -5.62401751,\n",
       "        -5.62401751, -5.62401751, -5.62401751, -4.93087033, -5.62401751,\n",
       "        -5.62401751, -5.62401751, -4.93087033, -4.93087033, -5.62401751,\n",
       "        -4.93087033, -5.62401751, -4.93087033, -5.62401751, -4.93087033,\n",
       "        -4.52540522, -5.62401751, -5.62401751, -5.62401751, -5.62401751,\n",
       "        -5.62401751, -5.62401751, -5.62401751, -3.83225804, -4.93087033,\n",
       "        -5.62401751, -5.62401751, -5.62401751, -5.62401751, -4.52540522,\n",
       "        -4.93087033, -4.52540522, -5.62401751, -5.62401751, -5.62401751,\n",
       "        -5.62401751, -4.93087033, -4.93087033, -5.62401751, -5.62401751,\n",
       "        -4.93087033, -5.62401751, -5.62401751, -5.62401751, -4.93087033,\n",
       "        -5.62401751, -5.62401751, -5.62401751, -5.62401751, -5.62401751,\n",
       "        -5.62401751, -4.93087033, -5.62401751, -5.62401751, -5.62401751,\n",
       "        -5.62401751, -5.62401751, -4.93087033, -4.93087033, -5.62401751,\n",
       "        -5.62401751, -4.93087033, -5.62401751, -4.93087033, -4.93087033,\n",
       "        -5.62401751, -5.62401751, -5.62401751, -5.62401751, -5.62401751,\n",
       "        -4.93087033, -4.93087033, -5.62401751, -5.62401751, -5.62401751,\n",
       "        -4.93087033, -5.62401751, -5.62401751, -4.93087033, -5.62401751,\n",
       "        -5.62401751, -5.62401751, -4.93087033, -4.93087033, -4.93087033,\n",
       "        -5.62401751, -5.62401751, -4.93087033, -5.62401751, -5.62401751,\n",
       "        -5.62401751, -4.93087033, -5.62401751, -5.62401751, -5.62401751,\n",
       "        -4.93087033, -4.52540522, -5.62401751, -4.93087033, -5.62401751,\n",
       "        -5.62401751, -4.93087033, -4.93087033, -5.62401751, -5.62401751,\n",
       "        -5.62401751, -4.93087033, -5.62401751, -4.93087033, -5.62401751,\n",
       "        -5.62401751, -4.93087033, -5.62401751, -4.93087033, -4.93087033,\n",
       "        -5.62401751, -5.62401751, -5.62401751, -4.93087033, -5.62401751,\n",
       "        -4.52540522, -5.62401751, -5.62401751, -4.93087033, -5.62401751,\n",
       "        -5.62401751, -4.93087033, -5.62401751, -5.62401751, -5.62401751,\n",
       "        -5.62401751, -5.62401751, -4.93087033, -4.93087033, -4.93087033,\n",
       "        -5.62401751, -5.62401751, -5.62401751, -5.62401751, -5.62401751,\n",
       "        -5.62401751, -5.62401751, -4.93087033, -5.62401751, -5.62401751,\n",
       "        -4.93087033, -4.93087033, -5.62401751, -5.62401751, -4.93087033,\n",
       "        -4.93087033, -5.62401751, -4.93087033, -5.62401751, -5.62401751,\n",
       "        -5.62401751, -5.62401751, -5.62401751, -5.62401751, -4.93087033,\n",
       "        -5.62401751, -4.93087033, -5.62401751, -4.93087033, -5.62401751,\n",
       "        -5.62401751, -5.62401751, -5.62401751, -4.93087033, -5.62401751,\n",
       "        -4.93087033, -5.62401751, -5.62401751, -4.93087033, -4.93087033,\n",
       "        -5.62401751, -4.93087033, -4.93087033, -5.62401751, -5.62401751,\n",
       "        -4.93087033, -5.62401751, -5.62401751, -4.93087033, -5.62401751,\n",
       "        -5.62401751, -5.62401751, -5.62401751, -5.62401751, -5.62401751,\n",
       "        -5.62401751, -4.93087033, -4.52540522, -4.93087033, -5.62401751,\n",
       "        -4.93087033, -5.62401751, -4.93087033, -5.62401751, -4.52540522,\n",
       "        -4.93087033, -4.93087033, -4.93087033, -5.62401751, -4.93087033,\n",
       "        -5.62401751, -4.52540522, -5.62401751, -5.62401751, -4.52540522,\n",
       "        -4.93087033, -4.93087033, -5.62401751, -4.93087033, -5.62401751,\n",
       "        -4.93087033, -4.93087033, -5.62401751, -5.62401751, -5.62401751,\n",
       "        -4.52540522, -4.93087033, -4.93087033, -4.93087033, -4.93087033,\n",
       "        -5.62401751, -4.52540522, -4.52540522, -5.62401751, -5.62401751,\n",
       "        -4.23772315, -5.62401751, -4.93087033, -5.62401751, -4.93087033,\n",
       "        -4.52540522, -4.93087033, -5.62401751, -4.01457959, -4.93087033,\n",
       "        -5.62401751, -5.62401751, -5.62401751, -4.93087033, -4.93087033,\n",
       "        -5.62401751, -4.93087033, -4.93087033, -5.62401751, -5.62401751,\n",
       "        -5.62401751, -4.93087033, -5.62401751, -4.93087033, -4.93087033,\n",
       "        -5.62401751, -5.62401751, -5.62401751, -5.62401751, -4.93087033,\n",
       "        -5.62401751, -4.93087033, -4.52540522, -4.93087033, -5.62401751,\n",
       "        -5.62401751, -5.62401751, -5.62401751, -5.62401751, -5.62401751,\n",
       "        -5.62401751, -5.62401751, -5.62401751, -5.62401751, -5.62401751,\n",
       "        -5.62401751, -5.62401751, -5.62401751, -4.93087033, -5.62401751,\n",
       "        -4.93087033, -5.62401751, -5.62401751, -5.62401751, -4.52540522,\n",
       "        -5.62401751, -5.62401751, -5.62401751, -5.62401751, -4.93087033,\n",
       "        -5.62401751, -4.23772315, -5.62401751, -5.62401751, -5.62401751,\n",
       "        -5.62401751, -4.93087033, -5.62401751, -5.62401751, -5.62401751,\n",
       "        -5.62401751, -5.62401751, -4.93087033, -5.62401751, -5.62401751,\n",
       "        -4.93087033, -5.62401751, -5.62401751, -5.62401751, -4.93087033,\n",
       "        -4.93087033, -5.62401751, -5.62401751, -5.62401751, -4.93087033,\n",
       "        -4.93087033, -5.62401751, -4.93087033, -5.62401751, -4.93087033,\n",
       "        -4.93087033, -5.62401751, -5.62401751, -4.93087033, -4.93087033,\n",
       "        -5.62401751, -5.62401751, -4.93087033, -4.93087033, -5.62401751,\n",
       "        -4.93087033, -5.62401751, -5.62401751, -4.93087033, -5.62401751,\n",
       "        -4.93087033, -4.93087033, -4.93087033, -4.93087033, -4.93087033,\n",
       "        -4.93087033, -5.62401751, -4.52540522, -4.93087033, -4.93087033,\n",
       "        -5.62401751, -5.62401751, -4.93087033, -5.62401751, -5.62401751,\n",
       "        -5.62401751, -5.62401751, -5.62401751, -5.62401751, -4.93087033,\n",
       "        -5.62401751, -4.93087033, -5.62401751, -4.93087033, -5.62401751,\n",
       "        -4.93087033, -5.62401751, -5.62401751, -5.62401751, -5.62401751,\n",
       "        -5.62401751, -5.62401751, -5.62401751, -4.93087033, -3.67810736,\n",
       "        -4.93087033, -5.62401751, -5.62401751, -5.62401751, -5.62401751,\n",
       "        -5.62401751, -5.62401751, -5.62401751, -4.93087033, -4.52540522,\n",
       "        -5.62401751, -5.62401751, -5.62401751, -4.52540522, -4.93087033,\n",
       "        -4.93087033, -4.93087033, -5.62401751, -4.93087033, -4.93087033,\n",
       "        -5.62401751, -4.93087033, -5.62401751, -4.52540522, -4.93087033,\n",
       "        -5.62401751, -5.62401751, -4.23772315, -5.62401751, -5.62401751,\n",
       "        -4.93087033]),\n",
       " array([-4.82831374, -4.54063166, -5.23377885, -5.92692603, -4.54063166,\n",
       "        -5.23377885, -4.54063166, -5.92692603, -4.31748811, -5.92692603,\n",
       "        -4.31748811, -5.92692603, -4.31748811, -5.23377885, -5.92692603,\n",
       "        -5.92692603, -5.23377885, -4.82831374, -5.92692603, -5.92692603,\n",
       "        -5.23377885, -5.92692603, -5.23377885, -5.23377885, -5.23377885,\n",
       "        -5.92692603, -4.54063166, -5.92692603, -5.92692603, -5.23377885,\n",
       "        -5.92692603, -5.23377885, -5.23377885, -4.82831374, -5.92692603,\n",
       "        -5.92692603, -5.23377885, -5.23377885, -5.92692603, -5.92692603,\n",
       "        -5.23377885, -5.23377885, -5.92692603, -5.92692603, -5.23377885,\n",
       "        -4.54063166, -5.23377885, -5.92692603, -5.92692603, -5.92692603,\n",
       "        -5.23377885, -4.82831374, -5.23377885, -5.23377885, -5.23377885,\n",
       "        -4.54063166, -5.92692603, -5.23377885, -5.92692603, -4.82831374,\n",
       "        -5.92692603, -5.92692603, -5.92692603, -5.92692603, -5.92692603,\n",
       "        -5.92692603, -5.92692603, -5.23377885, -5.92692603, -4.31748811,\n",
       "        -5.23377885, -5.23377885, -5.92692603, -5.23377885, -5.23377885,\n",
       "        -5.92692603, -4.54063166, -5.92692603, -5.92692603, -5.92692603,\n",
       "        -5.23377885, -4.82831374, -5.92692603, -5.92692603, -5.92692603,\n",
       "        -5.92692603, -4.82831374, -5.92692603, -4.82831374, -4.31748811,\n",
       "        -4.82831374, -5.23377885, -5.92692603, -5.92692603, -4.54063166,\n",
       "        -5.92692603, -5.92692603, -5.23377885, -5.92692603, -5.92692603,\n",
       "        -5.23377885, -5.23377885, -4.54063166, -5.23377885, -5.92692603,\n",
       "        -5.23377885, -5.23377885, -5.92692603, -5.92692603, -5.92692603,\n",
       "        -5.23377885, -5.92692603, -5.23377885, -5.92692603, -5.23377885,\n",
       "        -5.92692603, -5.92692603, -5.92692603, -5.23377885, -5.92692603,\n",
       "        -4.82831374, -5.92692603, -5.92692603, -5.92692603, -5.92692603,\n",
       "        -5.92692603, -5.92692603, -5.92692603, -5.92692603, -5.92692603,\n",
       "        -5.23377885, -5.92692603, -5.23377885, -5.92692603, -5.23377885,\n",
       "        -5.92692603, -5.92692603, -5.23377885, -5.23377885, -5.23377885,\n",
       "        -5.23377885, -5.92692603, -5.92692603, -5.92692603, -5.23377885,\n",
       "        -5.23377885, -5.92692603, -5.92692603, -4.54063166, -5.23377885,\n",
       "        -5.92692603, -5.92692603, -5.92692603, -5.92692603, -5.23377885,\n",
       "        -5.23377885, -5.92692603, -5.92692603, -5.92692603, -5.23377885,\n",
       "        -5.23377885, -5.92692603, -5.23377885, -5.92692603, -5.23377885,\n",
       "        -5.23377885, -5.23377885, -5.92692603, -5.92692603, -5.92692603,\n",
       "        -4.82831374, -5.92692603, -5.92692603, -4.54063166, -5.92692603,\n",
       "        -5.92692603, -5.92692603, -5.23377885, -5.92692603, -5.92692603,\n",
       "        -5.92692603, -5.23377885, -5.23377885, -5.23377885, -5.92692603,\n",
       "        -5.23377885, -5.92692603, -5.23377885, -5.92692603, -5.92692603,\n",
       "        -5.92692603, -5.92692603, -5.92692603, -5.92692603, -5.92692603,\n",
       "        -5.92692603, -5.23377885, -5.92692603, -5.23377885, -5.92692603,\n",
       "        -5.92692603, -5.92692603, -5.92692603, -5.23377885, -5.23377885,\n",
       "        -5.23377885, -5.23377885, -5.92692603, -4.54063166, -5.92692603,\n",
       "        -5.23377885, -5.23377885, -5.23377885, -5.23377885, -5.92692603,\n",
       "        -5.23377885, -5.92692603, -5.23377885, -5.92692603, -5.92692603,\n",
       "        -5.23377885, -5.92692603, -5.23377885, -5.23377885, -5.92692603,\n",
       "        -5.23377885, -4.82831374, -5.23377885, -5.23377885, -5.92692603,\n",
       "        -5.23377885, -5.92692603, -5.92692603, -5.92692603, -5.23377885,\n",
       "        -5.23377885, -5.92692603, -5.92692603, -4.54063166, -5.92692603,\n",
       "        -5.23377885, -5.23377885, -5.92692603, -5.92692603, -5.92692603,\n",
       "        -5.23377885, -5.23377885, -5.92692603, -5.92692603, -5.23377885,\n",
       "        -5.23377885, -5.92692603, -5.92692603, -5.23377885, -5.23377885,\n",
       "        -5.92692603, -5.92692603, -5.23377885, -5.23377885, -5.23377885,\n",
       "        -5.92692603, -5.23377885, -5.92692603, -5.92692603, -5.23377885,\n",
       "        -5.23377885, -4.82831374, -5.92692603, -5.92692603, -5.92692603,\n",
       "        -4.31748811, -4.82831374, -5.92692603, -5.23377885, -5.92692603,\n",
       "        -5.92692603, -5.92692603, -5.23377885, -5.23377885, -5.23377885,\n",
       "        -5.92692603, -5.23377885, -4.54063166, -5.92692603, -5.23377885,\n",
       "        -5.92692603, -5.92692603, -5.92692603, -5.23377885, -5.23377885,\n",
       "        -5.23377885, -5.92692603, -4.82831374, -5.92692603, -4.54063166,\n",
       "        -5.92692603, -5.92692603, -5.92692603, -5.92692603, -5.92692603,\n",
       "        -5.92692603, -5.23377885, -5.92692603, -5.92692603, -5.92692603,\n",
       "        -4.82831374, -5.23377885, -5.92692603, -5.92692603, -5.23377885,\n",
       "        -5.92692603, -5.92692603, -5.92692603, -5.92692603, -5.23377885,\n",
       "        -5.23377885, -5.92692603, -5.92692603, -5.92692603, -5.23377885,\n",
       "        -5.23377885, -5.23377885, -5.23377885, -5.92692603, -5.92692603,\n",
       "        -5.92692603, -5.23377885, -5.92692603, -5.23377885, -5.92692603,\n",
       "        -5.92692603, -5.23377885, -5.23377885, -5.23377885, -5.92692603,\n",
       "        -5.92692603, -4.82831374, -5.92692603, -5.92692603, -5.92692603,\n",
       "        -5.92692603, -5.23377885, -5.92692603, -5.92692603, -5.92692603,\n",
       "        -5.92692603, -5.92692603, -5.23377885, -5.23377885, -5.23377885,\n",
       "        -5.23377885, -5.92692603, -4.82831374, -4.82831374, -5.23377885,\n",
       "        -5.92692603, -5.23377885, -5.92692603, -5.92692603, -5.92692603,\n",
       "        -5.92692603, -5.92692603, -4.82831374, -5.92692603, -5.23377885,\n",
       "        -5.92692603, -5.92692603, -5.23377885, -5.92692603, -5.92692603,\n",
       "        -4.82831374, -5.92692603, -5.23377885, -5.23377885, -5.23377885,\n",
       "        -5.23377885, -5.92692603, -5.92692603, -5.92692603, -5.23377885,\n",
       "        -5.92692603, -5.23377885, -5.92692603, -4.82831374, -5.92692603,\n",
       "        -5.92692603, -4.82831374, -5.23377885, -4.82831374, -5.92692603,\n",
       "        -5.23377885, -4.82831374, -5.23377885, -5.23377885, -4.13516656,\n",
       "        -5.23377885, -5.92692603, -5.23377885, -5.92692603, -5.23377885,\n",
       "        -5.92692603, -5.92692603, -5.92692603, -5.92692603, -5.23377885,\n",
       "        -4.54063166, -4.82831374, -5.23377885, -4.82831374, -5.92692603,\n",
       "        -5.23377885, -5.92692603, -5.92692603, -5.92692603, -4.54063166,\n",
       "        -4.54063166, -5.92692603, -5.92692603, -5.23377885, -5.92692603,\n",
       "        -5.92692603, -5.92692603, -5.92692603, -4.82831374, -5.23377885,\n",
       "        -5.23377885, -5.92692603, -5.23377885, -5.92692603, -5.92692603,\n",
       "        -5.23377885, -4.82831374, -5.23377885, -5.92692603, -5.23377885,\n",
       "        -5.23377885, -5.92692603, -5.92692603, -5.23377885, -5.92692603,\n",
       "        -5.23377885, -5.23377885, -5.23377885, -5.23377885, -5.92692603,\n",
       "        -5.92692603, -5.23377885, -5.23377885, -4.82831374, -5.23377885,\n",
       "        -5.92692603, -5.23377885, -5.92692603, -5.92692603, -5.23377885,\n",
       "        -5.23377885, -5.92692603, -5.92692603, -5.23377885, -5.92692603,\n",
       "        -5.92692603, -5.23377885, -5.92692603, -5.92692603, -5.23377885,\n",
       "        -5.23377885, -5.92692603, -5.23377885, -5.92692603, -5.23377885,\n",
       "        -5.23377885, -5.92692603, -5.92692603, -5.23377885, -5.92692603,\n",
       "        -5.92692603, -4.82831374, -5.92692603, -5.23377885, -5.23377885,\n",
       "        -5.92692603, -5.23377885, -4.82831374, -5.23377885, -5.23377885,\n",
       "        -5.23377885, -5.23377885, -5.92692603, -5.23377885, -5.92692603,\n",
       "        -5.92692603, -5.92692603, -5.92692603, -5.23377885, -5.92692603,\n",
       "        -5.92692603, -5.23377885, -5.92692603, -5.92692603, -5.92692603,\n",
       "        -5.92692603, -5.92692603, -5.92692603, -5.23377885, -5.92692603,\n",
       "        -5.92692603, -5.23377885, -5.92692603, -5.92692603, -5.92692603,\n",
       "        -5.23377885, -5.92692603, -5.92692603, -5.23377885, -5.23377885,\n",
       "        -5.92692603, -5.23377885, -5.92692603, -5.92692603, -5.92692603,\n",
       "        -5.92692603, -5.92692603, -5.23377885, -5.92692603, -5.23377885,\n",
       "        -4.82831374, -5.92692603, -5.92692603, -5.23377885, -5.92692603,\n",
       "        -5.92692603, -5.92692603, -5.92692603, -4.82831374, -5.23377885,\n",
       "        -5.92692603, -5.92692603, -5.92692603, -5.23377885, -5.92692603,\n",
       "        -5.23377885, -5.92692603, -4.82831374, -5.92692603, -5.23377885,\n",
       "        -5.92692603, -5.92692603, -5.92692603, -4.54063166, -5.23377885,\n",
       "        -5.23377885, -4.54063166, -5.92692603, -5.92692603, -5.92692603,\n",
       "        -5.92692603, -5.92692603, -5.92692603, -5.92692603, -5.23377885,\n",
       "        -4.82831374, -5.92692603, -5.92692603, -5.23377885, -5.92692603,\n",
       "        -5.92692603, -5.23377885, -5.92692603, -4.82831374, -5.92692603,\n",
       "        -5.92692603, -5.92692603, -5.92692603, -5.92692603, -5.92692603,\n",
       "        -5.92692603, -5.23377885, -5.23377885, -5.23377885, -5.92692603,\n",
       "        -5.23377885, -5.23377885, -5.23377885, -5.23377885, -5.23377885,\n",
       "        -5.23377885]))"
      ]
     },
     "execution_count": 38,
     "metadata": {},
     "output_type": "execute_result"
    }
   ],
   "source": [
    "localWords(ny,sf)"
   ]
  },
  {
   "cell_type": "code",
   "execution_count": 39,
   "metadata": {},
   "outputs": [
    {
     "name": "stdout",
     "output_type": "stream",
     "text": [
      "the error rate is:  0.5\n",
      "SF**SF**SF**SF**SF**SF**SF**SF**SF**SF**SF**SF**SF**SF**SF**SF**\n",
      "nice\n",
      "from\n",
      "male\n",
      "things\n",
      "chat\n",
      "going\n",
      "else\n",
      "lady\n",
      "home\n",
      "time\n",
      "friendly\n",
      "enjoy\n",
      "new\n",
      "downtown\n",
      "movies\n",
      "want\n",
      "over\n",
      "coffee\n",
      "bashful\n",
      "day\n",
      "our\n",
      "open\n",
      "city\n",
      "too\n",
      "feeling\n",
      "need\n",
      "also\n",
      "close\n",
      "email\n",
      "recently\n",
      "job\n",
      "much\n",
      "those\n",
      "hang\n",
      "student\n",
      "person\n",
      "lets\n",
      "discreet\n",
      "some\n",
      "anything\n",
      "area\n",
      "there\n",
      "avail\n",
      "lonely\n",
      "bored\n",
      "single\n",
      "welcome\n",
      "age\n",
      "hello\n",
      "situati\n",
      "activities\n",
      "fat\n",
      "joined\n",
      "lecturing\n",
      "street\n",
      "drinks\n",
      "what\n",
      "giving\n",
      "section\n",
      "others\n",
      "change\n",
      "pics\n",
      "adjectives\n",
      "social\n",
      "thats\n",
      "love\n",
      "takes\n",
      "cherished\n",
      "music\n",
      "wondering\n",
      "type\n",
      "more\n",
      "started\n",
      "phone\n",
      "women\n",
      "valued\n",
      "work\n",
      "can\n",
      "meet\n",
      "process\n",
      "laughs\n",
      "stroke\n",
      "preferably\n",
      "till\n",
      "intelligent\n",
      "140\n",
      "lay\n",
      "ethnic\n",
      "guys\n",
      "man\n",
      "cannot\n",
      "boyfri\n",
      "comfort\n",
      "office\n",
      "mainly\n",
      "through\n",
      "looks\n",
      "edging\n",
      "lunch\n",
      "nov\n",
      "hearing\n",
      "term\n",
      "ooking\n",
      "each\n",
      "everyone\n",
      "primarily\n",
      "doing\n",
      "year\n",
      "bay\n",
      "special\n",
      "really\n",
      "hangouts\n",
      "cart\n",
      "ask\n",
      "care\n",
      "grad\n",
      "conversation\n",
      "platonic\n",
      "feel\n",
      "ons\n",
      "least\n",
      "anyone\n",
      "exploring\n",
      "relationship\n",
      "part\n",
      "gotten\n",
      "matter\n",
      "iron\n",
      "say\n",
      "buy\n",
      "nights\n",
      "self\n",
      "responsible\n",
      "without\n",
      "build\n",
      "wanting\n",
      "latino\n",
      "nothing\n",
      "why\n",
      "don\n",
      "medical\n",
      "later\n",
      "definitely\n",
      "clean\n",
      "senior\n",
      "golf\n",
      "text\n",
      "find\n",
      "partners\n",
      "reliant\n",
      "haven\n",
      "judged\n",
      "hit\n",
      "get\n",
      "dependent\n",
      "assistant\n",
      "between\n",
      "coast\n",
      "listener\n",
      "caregiving\n",
      "trade\n",
      "morning\n",
      "common\n",
      "activity\n",
      "where\n",
      "16th\n",
      "husband\n",
      "bart\n",
      "see\n",
      "11th\n",
      "movie\n",
      "won\n",
      "hopefully\n",
      "men\n",
      "loves\n",
      "come\n",
      "david\n",
      "etc\n",
      "connection\n",
      "load\n",
      "point\n",
      "simple\n",
      "whatever\n",
      "alone\n",
      "conference\n",
      "companionship\n",
      "asks\n",
      "union\n",
      "whom\n",
      "secret\n",
      "combined\n",
      "wants\n",
      "life\n",
      "educated\n",
      "lives\n",
      "myself\n",
      "east\n",
      "straight\n",
      "will\n",
      "fun\n",
      "nonstudent\n",
      "sincere\n",
      "skype\n",
      "everyday\n",
      "make\n",
      "craigslist\n",
      "grand\n",
      "closest\n",
      "companion\n",
      "kik\n",
      "uses\n",
      "recent\n",
      "well\n",
      "among\n",
      "being\n",
      "thanks\n",
      "yet\n",
      "cut\n",
      "seems\n",
      "sometimes\n",
      "other\n",
      "attractive\n",
      "has\n",
      "around\n",
      "fremont\n",
      "world\n",
      "bit\n",
      "night\n",
      "old\n",
      "30s\n",
      "searching\n",
      "clubs\n",
      "witty\n",
      "market\n",
      "intimate\n",
      "host\n",
      "described\n",
      "working\n",
      "trustworthy\n",
      "dinner\n",
      "visa\n",
      "west\n",
      "presence\n",
      "into\n",
      "female\n",
      "empathetic\n",
      "wailea\n",
      "her\n",
      "question\n",
      "long\n",
      "start\n",
      "forward\n",
      "was\n",
      "eat\n",
      "even\n",
      "exist\n",
      "daily\n",
      "walks\n",
      "traylor\n",
      "picture\n",
      "hey\n",
      "tbis\n",
      "friends\n",
      "hwp\n",
      "cliff\n",
      "younger\n",
      "wife\n",
      "rough\n",
      "once\n",
      "all\n",
      "people\n",
      "hanging\n",
      "apartment\n",
      "young\n",
      "send\n",
      "masculine\n",
      "very\n",
      "minded\n",
      "cool\n",
      "skills\n",
      "sane\n",
      "sigh\n",
      "boots\n",
      "casual\n",
      "depression\n",
      "39yo\n",
      "current\n",
      "body\n",
      "outgoing\n",
      "desires\n",
      "never\n",
      "here\n",
      "hours\n",
      "explore\n",
      "active\n",
      "sexy\n",
      "100\n",
      "beca\n",
      "fantasies\n",
      "great\n",
      "healthy\n",
      "fwb\n",
      "weekday\n",
      "smoke\n",
      "usually\n",
      "makes\n",
      "massage\n",
      "manage\n",
      "pantyhose\n",
      "fem\n",
      "sports\n",
      "oils\n",
      "tell\n",
      "today\n",
      "sort\n",
      "knows\n",
      "relax\n",
      "share\n",
      "company\n",
      "adult\n",
      "excellent\n",
      "join\n",
      "divorced\n",
      "cuddle\n",
      "streak\n",
      "corrupted\n",
      "give\n",
      "december\n",
      "slim\n",
      "breathing\n",
      "something\n",
      "sense\n",
      "keep\n",
      "needs\n",
      "lame\n",
      "six\n",
      "hot\n",
      "laundry\n",
      "may\n",
      "advice\n",
      "gasp\n",
      "whenever\n",
      "years\n",
      "course\n",
      "hell\n",
      "still\n",
      "its\n",
      "before\n",
      "perfect\n",
      "pens\n",
      "thank\n",
      "fit\n",
      "interesting\n",
      "late\n",
      "willing\n",
      "then\n",
      "evening\n",
      "motivated\n",
      "seeking\n",
      "moms\n",
      "workout\n",
      "anyhody\n",
      "they\n",
      "front\n",
      "servant\n",
      "40s\n",
      "mean\n",
      "unwind\n",
      "weight\n",
      "hard\n",
      "girl\n",
      "acting\n",
      "hsv2\n",
      "got\n",
      "shows\n",
      "ass\n",
      "intersex\n",
      "quite\n",
      "reason\n",
      "imagine\n",
      "wanted\n",
      "training\n",
      "days\n",
      "desi\n",
      "times\n",
      "place\n",
      "isn\n",
      "think\n",
      "relate\n",
      "scene\n",
      "yourself\n",
      "feet\n",
      "hook\n",
      "jet\n",
      "script\n",
      "bite\n",
      "girls\n",
      "white\n",
      "listen\n",
      "eyes\n",
      "lot\n",
      "park\n",
      "took\n",
      "intereste\n",
      "than\n",
      "anxiety\n",
      "impersonal\n",
      "20s\n",
      "phobia\n",
      "dishes\n",
      "able\n",
      "ideas\n",
      "note\n",
      "which\n",
      "finding\n",
      "blue\n",
      "play\n",
      "sure\n",
      "though\n",
      "brooklyn\n",
      "regular\n",
      "experiences\n",
      "plan\n",
      "tall\n",
      "queens\n",
      "understands\n",
      "stockings\n",
      "came\n",
      "somewhat\n",
      "grandmas\n",
      "earth\n",
      "tempted\n",
      "fine\n",
      "one\n",
      "busy\n",
      "black\n",
      "pretty\n",
      "local\n",
      "personality\n",
      "fetish\n",
      "workouts\n",
      "bas\n",
      "married\n",
      "grab\n",
      "attached\n",
      "college\n",
      "best\n",
      "midtown\n",
      "currently\n",
      "please\n",
      "encounters\n",
      "available\n",
      "missing\n",
      "attention\n",
      "spare\n",
      "wear\n",
      "key\n",
      "both\n",
      "secrets\n",
      "vent\n",
      "height\n",
      "dimensional\n",
      "hygiene\n",
      "likes\n",
      "along\n",
      "lifes\n",
      "basis\n",
      "decent\n",
      "been\n",
      "confessions\n",
      "meeting\n",
      "gay\n",
      "togethers\n",
      "reimburse\n",
      "exposed\n",
      "comfor\n",
      "catch\n",
      "convo\n",
      "thing\n",
      "honest\n",
      "look\n",
      "these\n",
      "might\n",
      "harder\n",
      "while\n",
      "neat\n",
      "situation\n",
      "wouldn\n",
      "them\n",
      "conditioned\n",
      "looki\n",
      "shirt\n",
      "same\n",
      "european\n",
      "week\n",
      "used\n",
      "drink\n",
      "afraid\n",
      "older\n",
      "contact\n",
      "mother\n",
      "thc\n",
      "spend\n",
      "kinship\n",
      "mid\n",
      "shape\n",
      "identify\n",
      "human\n",
      "touch\n",
      "yes\n",
      "vape\n",
      "ads\n",
      "thinking\n",
      "easy\n",
      "snap\n",
      "smart\n",
      "lacking\n",
      "read\n",
      "early\n",
      "biz\n",
      "birth\n",
      "judge\n",
      "walk\n",
      "lost\n",
      "175lb\n",
      "therapeutic\n",
      "google\n",
      "often\n",
      "pittsburg\n",
      "hair\n",
      "born\n",
      "happens\n",
      "humor\n",
      "mood\n",
      "daytime\n",
      "conservative\n",
      "passion\n",
      "420\n",
      "duh\n",
      "knew\n",
      "patient\n",
      "business\n",
      "pressure\n",
      "post\n",
      "super\n",
      "gained\n",
      "getting\n",
      "road\n",
      "raised\n",
      "down\n",
      "entrepreneur\n",
      "right\n",
      "strictly\n",
      "live\n",
      "low\n",
      "way\n",
      "assumes\n",
      "mornings\n",
      "motherly\n",
      "back\n",
      "feminine\n",
      "trying\n",
      "bud\n",
      "handsome\n",
      "smooth\n",
      "mature\n",
      "separated\n",
      "phil\n",
      "pic\n",
      "package\n",
      "imagination\n",
      "trip\n",
      "again\n",
      "reality\n",
      "interested\n",
      "unbalanced\n",
      "stay\n",
      "caribbean\n",
      "meals\n",
      "ago\n",
      "longer\n",
      "together\n",
      "status\n",
      "lying\n",
      "intimacy\n",
      "having\n",
      "NY**NY**NY**NY**NY**NY**NY**NY**NY**NY**NY**NY**NY**NY**NY**NY**\n",
      "need\n",
      "send\n",
      "very\n",
      "what\n",
      "great\n",
      "can\n",
      "seeking\n",
      "one\n",
      "craigslist\n",
      "hang\n",
      "pic\n",
      "people\n",
      "enjoy\n",
      "tell\n",
      "share\n",
      "give\n",
      "hard\n",
      "girl\n",
      "20s\n",
      "married\n",
      "life\n",
      "might\n",
      "will\n",
      "fun\n",
      "make\n",
      "mother\n",
      "attractive\n",
      "some\n",
      "happens\n",
      "there\n",
      "was\n",
      "single\n",
      "interested\n",
      "hey\n",
      "friends\n",
      "hello\n",
      "all\n",
      "hanging\n",
      "apartment\n",
      "young\n",
      "minded\n",
      "cool\n",
      "sigh\n",
      "boots\n",
      "casual\n",
      "depression\n",
      "drinks\n",
      "body\n",
      "outgoing\n",
      "desires\n",
      "never\n",
      "here\n",
      "sexy\n",
      "100\n",
      "smoke\n",
      "social\n",
      "usually\n",
      "makes\n",
      "massage\n",
      "love\n",
      "from\n",
      "oils\n",
      "today\n",
      "knows\n",
      "adult\n",
      "work\n",
      "meet\n",
      "male\n",
      "corrupted\n",
      "slim\n",
      "breathing\n",
      "something\n",
      "want\n",
      "sense\n",
      "preferably\n",
      "needs\n",
      "hot\n",
      "laundry\n",
      "may\n",
      "advice\n",
      "gasp\n",
      "man\n",
      "hell\n",
      "its\n",
      "perfect\n",
      "pens\n",
      "thank\n",
      "fit\n",
      "interesting\n",
      "late\n",
      "then\n",
      "they\n",
      "term\n",
      "servant\n",
      "40s\n",
      "mean\n",
      "everyone\n",
      "acting\n",
      "hsv2\n",
      "got\n",
      "shows\n",
      "ass\n",
      "intersex\n",
      "quite\n",
      "imagine\n",
      "ask\n",
      "conversation\n",
      "isn\n",
      "feel\n",
      "scene\n",
      "yourself\n",
      "feet\n",
      "hook\n",
      "open\n",
      "jet\n",
      "script\n",
      "bite\n",
      "anyone\n",
      "too\n",
      "white\n",
      "listen\n",
      "eyes\n",
      "part\n",
      "than\n",
      "anxiety\n",
      "impersonal\n",
      "phobia\n",
      "dishes\n",
      "self\n",
      "note\n",
      "also\n",
      "which\n",
      "finding\n",
      "blue\n",
      "sure\n",
      "brooklyn\n",
      "regular\n",
      "experiences\n",
      "understands\n",
      "don\n",
      "clean\n",
      "came\n",
      "somewhat\n",
      "find\n",
      "busy\n",
      "black\n",
      "pretty\n",
      "get\n",
      "fetish\n",
      "morning\n",
      "grab\n",
      "see\n",
      "college\n",
      "best\n",
      "midtown\n",
      "movie\n",
      "encounters\n",
      "available\n",
      "loves\n",
      "attention\n",
      "vent\n",
      "whatever\n",
      "height\n",
      "dimensional\n",
      "along\n",
      "been\n",
      "secret\n",
      "much\n",
      "gay\n",
      "reimburse\n",
      "catch\n",
      "thing\n",
      "honest\n",
      "look\n",
      "harder\n",
      "while\n",
      "neat\n",
      "them\n",
      "looki\n",
      "shirt\n",
      "european\n",
      "drink\n",
      "student\n",
      "older\n",
      "person\n",
      "contact\n",
      "thc\n",
      "being\n",
      "mid\n",
      "identify\n",
      "thanks\n",
      "yes\n",
      "vape\n",
      "ads\n",
      "thinking\n",
      "lets\n",
      "easy\n",
      "has\n",
      "read\n",
      "birth\n",
      "judge\n",
      "bit\n",
      "lady\n",
      "175lb\n",
      "nice\n",
      "often\n",
      "hair\n",
      "born\n",
      "humor\n",
      "mood\n",
      "knew\n",
      "patient\n",
      "pressure\n",
      "dinner\n",
      "raised\n",
      "entrepreneur\n",
      "female\n",
      "long\n",
      "way\n",
      "assumes\n",
      "motherly\n",
      "feminine\n",
      "trying\n",
      "eat\n",
      "mature\n",
      "phil\n",
      "package\n",
      "again\n",
      "reality\n",
      "unbalanced\n",
      "caribbean\n",
      "age\n",
      "together\n",
      "status\n",
      "lying\n",
      "having\n",
      "once\n",
      "situati\n",
      "masculine\n",
      "friendly\n",
      "activities\n",
      "fat\n",
      "skills\n",
      "joined\n",
      "sane\n",
      "lecturing\n",
      "street\n",
      "39yo\n",
      "giving\n",
      "section\n",
      "current\n",
      "new\n",
      "hours\n",
      "explore\n",
      "others\n",
      "active\n",
      "beca\n",
      "change\n",
      "fantasies\n",
      "healthy\n",
      "fwb\n",
      "pics\n",
      "adjectives\n",
      "weekday\n",
      "thats\n",
      "manage\n",
      "pantyhose\n",
      "takes\n",
      "fem\n",
      "sports\n",
      "cherished\n",
      "music\n",
      "wondering\n",
      "type\n",
      "more\n",
      "sort\n",
      "relax\n",
      "started\n",
      "company\n",
      "downtown\n",
      "phone\n",
      "excellent\n",
      "women\n",
      "valued\n",
      "join\n",
      "divorced\n",
      "movies\n",
      "cuddle\n",
      "streak\n",
      "process\n",
      "december\n",
      "laughs\n",
      "stroke\n",
      "keep\n",
      "lame\n",
      "six\n",
      "till\n",
      "intelligent\n",
      "140\n",
      "lay\n",
      "ethnic\n",
      "guys\n",
      "whenever\n",
      "cannot\n",
      "boyfri\n",
      "comfort\n",
      "office\n",
      "over\n",
      "mainly\n",
      "years\n",
      "course\n",
      "through\n",
      "looks\n",
      "still\n",
      "before\n",
      "willing\n",
      "edging\n",
      "coffee\n",
      "evening\n",
      "motivated\n",
      "moms\n",
      "workout\n",
      "bashful\n",
      "lunch\n",
      "anyhody\n",
      "front\n",
      "nov\n",
      "hearing\n",
      "day\n",
      "ooking\n",
      "each\n",
      "unwind\n",
      "primarily\n",
      "weight\n",
      "doing\n",
      "year\n",
      "our\n",
      "bay\n",
      "special\n",
      "really\n",
      "hangouts\n",
      "cart\n",
      "reason\n",
      "wanted\n",
      "care\n",
      "training\n",
      "grad\n",
      "days\n",
      "desi\n",
      "times\n",
      "place\n",
      "think\n",
      "platonic\n",
      "relate\n",
      "ons\n",
      "city\n",
      "girls\n",
      "least\n",
      "exploring\n",
      "lot\n",
      "relationship\n",
      "park\n",
      "took\n",
      "intereste\n",
      "gotten\n",
      "matter\n",
      "iron\n",
      "feeling\n",
      "say\n",
      "buy\n",
      "nights\n",
      "responsible\n",
      "able\n",
      "ideas\n",
      "without\n",
      "build\n",
      "wanting\n",
      "latino\n",
      "play\n",
      "though\n",
      "plan\n",
      "tall\n",
      "nothing\n",
      "why\n",
      "queens\n",
      "medical\n",
      "later\n",
      "definitely\n",
      "stockings\n",
      "senior\n",
      "golf\n",
      "text\n",
      "grandmas\n",
      "earth\n",
      "tempted\n",
      "fine\n",
      "partners\n",
      "reliant\n",
      "haven\n",
      "going\n",
      "judged\n",
      "local\n",
      "personality\n",
      "hit\n",
      "dependent\n",
      "assistant\n",
      "between\n",
      "coast\n",
      "listener\n",
      "caregiving\n",
      "trade\n",
      "workouts\n",
      "bas\n",
      "common\n",
      "activity\n",
      "where\n",
      "16th\n",
      "husband\n",
      "bart\n",
      "attached\n",
      "close\n",
      "11th\n",
      "currently\n",
      "please\n",
      "won\n",
      "hopefully\n",
      "email\n",
      "men\n",
      "recently\n",
      "missing\n",
      "job\n",
      "spare\n",
      "wear\n",
      "key\n",
      "come\n",
      "david\n",
      "both\n",
      "secrets\n",
      "etc\n",
      "connection\n",
      "load\n",
      "point\n",
      "simple\n",
      "alone\n",
      "hygiene\n",
      "likes\n",
      "conference\n",
      "lifes\n",
      "companionship\n",
      "asks\n",
      "basis\n",
      "union\n",
      "decent\n",
      "whom\n",
      "combined\n",
      "confessions\n",
      "meeting\n",
      "wants\n",
      "educated\n",
      "togethers\n",
      "exposed\n",
      "comfor\n",
      "else\n",
      "lives\n",
      "convo\n",
      "those\n",
      "myself\n",
      "east\n",
      "these\n",
      "straight\n",
      "situation\n",
      "nonstudent\n",
      "wouldn\n",
      "sincere\n",
      "conditioned\n",
      "skype\n",
      "everyday\n",
      "things\n",
      "same\n",
      "grand\n",
      "week\n",
      "used\n",
      "closest\n",
      "companion\n",
      "kik\n",
      "afraid\n",
      "uses\n",
      "recent\n",
      "well\n",
      "spend\n",
      "kinship\n",
      "among\n",
      "shape\n",
      "human\n",
      "touch\n",
      "yet\n",
      "cut\n",
      "seems\n",
      "sometimes\n",
      "other\n",
      "snap\n",
      "smart\n",
      "around\n",
      "lacking\n",
      "fremont\n",
      "early\n",
      "discreet\n",
      "biz\n",
      "world\n",
      "walk\n",
      "lost\n",
      "night\n",
      "therapeutic\n",
      "google\n",
      "old\n",
      "pittsburg\n",
      "30s\n",
      "searching\n",
      "clubs\n",
      "home\n",
      "daytime\n",
      "conservative\n",
      "witty\n",
      "passion\n",
      "market\n",
      "420\n",
      "duh\n",
      "business\n",
      "intimate\n",
      "host\n",
      "described\n",
      "post\n",
      "super\n",
      "gained\n",
      "working\n",
      "anything\n",
      "getting\n",
      "trustworthy\n",
      "visa\n",
      "west\n",
      "road\n",
      "presence\n",
      "into\n",
      "down\n",
      "right\n",
      "empathetic\n",
      "wailea\n",
      "her\n",
      "area\n",
      "strictly\n",
      "question\n",
      "live\n",
      "avail\n",
      "start\n",
      "lonely\n",
      "low\n",
      "forward\n",
      "bored\n",
      "mornings\n",
      "back\n",
      "bud\n",
      "handsome\n",
      "smooth\n",
      "even\n",
      "separated\n",
      "imagination\n",
      "exist\n",
      "daily\n",
      "chat\n",
      "walks\n",
      "traylor\n",
      "trip\n",
      "picture\n",
      "welcome\n",
      "tbis\n",
      "stay\n",
      "meals\n",
      "hwp\n",
      "cliff\n",
      "ago\n",
      "younger\n",
      "longer\n",
      "wife\n",
      "rough\n",
      "time\n",
      "intimacy\n"
     ]
    }
   ],
   "source": [
    "getTopWords(ny,sf)"
   ]
  }
 ],
 "metadata": {
  "kernelspec": {
   "display_name": "Python 2",
   "language": "python",
   "name": "python2"
  },
  "language_info": {
   "codemirror_mode": {
    "name": "ipython",
    "version": 2
   },
   "file_extension": ".py",
   "mimetype": "text/x-python",
   "name": "python",
   "nbconvert_exporter": "python",
   "pygments_lexer": "ipython2",
   "version": "2.7.14"
  }
 },
 "nbformat": 4,
 "nbformat_minor": 2
}
